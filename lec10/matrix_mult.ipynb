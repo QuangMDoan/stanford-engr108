{
 "cells": [
  {
   "cell_type": "code",
   "execution_count": 4,
   "metadata": {},
   "outputs": [
    {
     "data": {
      "text/plain": [
       "2×2 Matrix{Float64}:\n",
       "  3.5  -4.5\n",
       " -1.0   1.0"
      ]
     },
     "metadata": {},
     "output_type": "display_data"
    }
   ],
   "source": [
    "A = [-1.5 3 2;\n",
    "     1 -1 0]\n",
    "\n",
    "B = [-1 -1;\n",
    "     0 -2;\n",
    "     1 0]\n",
    "\n",
    "A * B\n",
    "\n",
    "C = A*B"
   ]
  },
  {
   "cell_type": "markdown",
   "metadata": {},
   "source": [
    "# Gram matrix\n",
    "\n",
    "Gram matrix of matrix A is $ G = A^TA $\n",
    "\n",
    "- A^TA is symmetric\n",
    "- the (i,j) element: $ (A^TA)_{ij} $ is the dot product of columns $i$ and $j$ of $ A $\n",
    "  \n",
    "\\begin{align}\n",
    "    (A^TA)_{ij} = A_i^TA_j\n",
    "\\end{align}"
   ]
  },
  {
   "cell_type": "code",
   "execution_count": 12,
   "metadata": {},
   "outputs": [
    {
     "data": {
      "text/plain": [
       "10×3 Matrix{Float64}:\n",
       " -0.0875341    -0.96744   -0.693594\n",
       " -1.03982      -0.610822  -0.53691\n",
       " -1.57232       0.671983  -0.541305\n",
       " -0.767178      0.697486  -0.74712\n",
       " -0.620496     -0.439172   0.851933\n",
       " -1.76164      -2.23999   -0.579075\n",
       " -0.113357      0.785229   0.421156\n",
       "  0.523276     -0.459375   0.259775\n",
       "  0.623041      0.591101   1.61764\n",
       "  0.000424787   0.449586  -0.661391"
      ]
     },
     "metadata": {},
     "output_type": "display_data"
    }
   ],
   "source": [
    "A = randn(10, 3)"
   ]
  },
  {
   "cell_type": "code",
   "execution_count": 5,
   "metadata": {},
   "outputs": [
    {
     "data": {
      "text/plain": [
       "2×2 Matrix{Int64}:\n",
       " 10  14\n",
       " 14  20"
      ]
     },
     "metadata": {},
     "output_type": "display_data"
    }
   ],
   "source": [
    "using LinearAlgebra\n",
    "using VMLS\n",
    "G = A'*A"
   ]
  },
  {
   "cell_type": "code",
   "execution_count": 35,
   "metadata": {},
   "outputs": [
    {
     "name": "stdout",
     "output_type": "stream",
     "text": [
      "(8.836665689764988, 8.836665689764988, 8.83666568976499)\n"
     ]
    },
    {
     "data": {
      "text/plain": [
       "0.0"
      ]
     },
     "metadata": {},
     "output_type": "display_data"
    }
   ],
   "source": [
    "# G[i, i] is the inner product of column i with itself\n",
    "lhs = G[2, 2]\n",
    "\n",
    "rhs1 = A[:, 2]'*A[:, 2]\n",
    "rhs2 = norm(A[:, 2])^2\n",
    "\n",
    "println((lhs, rhs1, rhs2))\n",
    "norm(lhs - rhs1)"
   ]
  },
  {
   "cell_type": "code",
   "execution_count": 37,
   "metadata": {},
   "outputs": [
    {
     "name": "stdout",
     "output_type": "stream",
     "text": [
      "(3.385799459899099, 3.3857994598990993)\n"
     ]
    }
   ],
   "source": [
    "# G[i, j] is the dot product of column i with column j\n",
    "\n",
    "lhs = G[1, 2]\n",
    "rhs = A[:, 1]'*A[:, 2]\n",
    "println((lhs, rhs))"
   ]
  },
  {
   "cell_type": "markdown",
   "metadata": {},
   "source": [
    "# Composition of linear functions\n",
    "\n",
    "\\begin{align}   \n",
    "    \\Delta(x) = D_{n-1}(D_n(x))\n",
    "\\end{align}"
   ]
  },
  {
   "cell_type": "code",
   "execution_count": 40,
   "metadata": {},
   "outputs": [
    {
     "data": {
      "text/plain": [
       "D (generic function with 1 method)"
      ]
     },
     "metadata": {},
     "output_type": "display_data"
    }
   ],
   "source": [
    "# The diffence matrix Dn\n",
    "D(n) = [-eye(n-1) zeros(n-1)] + [zeros(n-1) eye(n-1)]"
   ]
  },
  {
   "cell_type": "code",
   "execution_count": 39,
   "metadata": {},
   "outputs": [
    {
     "data": {
      "text/plain": [
       "4×5 Matrix{Float64}:\n",
       " -1.0   1.0   0.0   0.0  0.0\n",
       "  0.0  -1.0   1.0   0.0  0.0\n",
       "  0.0   0.0  -1.0   1.0  0.0\n",
       "  0.0   0.0   0.0  -1.0  1.0"
      ]
     },
     "metadata": {},
     "output_type": "display_data"
    }
   ],
   "source": [
    "D(5)"
   ]
  },
  {
   "cell_type": "code",
   "execution_count": 42,
   "metadata": {},
   "outputs": [
    {
     "data": {
      "text/plain": [
       "Dn (generic function with 1 method)"
      ]
     },
     "metadata": {},
     "output_type": "display_data"
    }
   ],
   "source": [
    "Dn(x) = D(length(x))*x"
   ]
  },
  {
   "cell_type": "code",
   "execution_count": 43,
   "metadata": {},
   "outputs": [
    {
     "data": {
      "text/plain": [
       "4-element Vector{Float64}:\n",
       " 2.0\n",
       " 3.0\n",
       " 4.0\n",
       " 5.0"
      ]
     },
     "metadata": {},
     "output_type": "display_data"
    }
   ],
   "source": [
    "Dn([1, 3, 6, 10, 15])"
   ]
  },
  {
   "cell_type": "code",
   "execution_count": 49,
   "metadata": {},
   "outputs": [
    {
     "data": {
      "text/plain": [
       "delta (generic function with 1 method)"
      ]
     },
     "metadata": {},
     "output_type": "display_data"
    }
   ],
   "source": [
    "function delta(x)\n",
    "    n = length(x)\n",
    "    Dn = D(n)\n",
    "    Dn_1 = D(n-1)\n",
    "    deltamtx = Dn_1*Dn\n",
    "    return deltamtx *x\n",
    "end"
   ]
  },
  {
   "cell_type": "code",
   "execution_count": 50,
   "metadata": {},
   "outputs": [
    {
     "data": {
      "text/plain": [
       "3-element Vector{Float64}:\n",
       " 1.0\n",
       " 1.0\n",
       " 1.0"
      ]
     },
     "metadata": {},
     "output_type": "display_data"
    }
   ],
   "source": [
    "x = [1; 3; 6; 10; 15]\n",
    "\n",
    "Dn(Dn(x))"
   ]
  },
  {
   "cell_type": "code",
   "execution_count": 51,
   "metadata": {},
   "outputs": [
    {
     "data": {
      "text/plain": [
       "3-element Vector{Float64}:\n",
       " 1.0\n",
       " 1.0\n",
       " 1.0"
      ]
     },
     "metadata": {},
     "output_type": "display_data"
    }
   ],
   "source": [
    "delta(x)"
   ]
  },
  {
   "cell_type": "code",
   "execution_count": 16,
   "metadata": {},
   "outputs": [
    {
     "data": {
      "text/plain": [
       "2×2 Matrix{Int64}:\n",
       " 1  2\n",
       " 3  4"
      ]
     },
     "metadata": {},
     "output_type": "display_data"
    }
   ],
   "source": [
    "A = [1 2; 3 4]"
   ]
  },
  {
   "cell_type": "code",
   "execution_count": 22,
   "metadata": {},
   "outputs": [
    {
     "data": {
      "text/plain": [
       "gramschmit (generic function with 1 method)"
      ]
     },
     "metadata": {},
     "output_type": "display_data"
    }
   ],
   "source": [
    "using Printf\n",
    "function gramschmit(A) \n",
    "    k = size(A, 2)\n",
    "    Q = []\n",
    "    Rii = []\n",
    "\n",
    "    for i=1:k \n",
    "        qi_tilde = A[:, i]\n",
    "        for j = 1:i-1\n",
    "            qi_tilde = qi_tilde - (Q[j]'*A[:, i])*Q[j]\n",
    "        end\n",
    "\n",
    "        if norm(qi_tilde) < 1e-10\n",
    "            @printf(\"A[%d] is linearly dependent on A[1],...A[%d]\", i, i-1)\n",
    "            return (Q, Rii)\n",
    "        end\n",
    "\n",
    "        push!(Rii, norm(qi_tilde))\n",
    "        qi = qi_tilde/norm(qi_tilde)\n",
    "        push!(Q, qi)\n",
    "    end\n",
    "    return (Q, Rii)\n",
    "end"
   ]
  },
  {
   "cell_type": "code",
   "execution_count": 29,
   "metadata": {},
   "outputs": [
    {
     "name": "stdout",
     "output_type": "stream",
     "text": [
      "Any[3.1622776601683795, 0.6324555320336758]"
     ]
    },
    {
     "data": {
      "text/plain": [
       "2-element Vector{Any}:\n",
       " [0.31622776601683794, 0.9486832980505138]\n",
       " [0.9486832980505138, -0.3162277660168383]"
      ]
     },
     "metadata": {},
     "output_type": "display_data"
    }
   ],
   "source": [
    "Q, Rii = gramschmit(A)\n",
    "print(Rii)\n",
    "Q"
   ]
  },
  {
   "cell_type": "code",
   "execution_count": 30,
   "metadata": {},
   "outputs": [
    {
     "data": {
      "text/plain": [
       "0.6324555320336758"
      ]
     },
     "metadata": {},
     "output_type": "display_data"
    }
   ],
   "source": [
    "R12 = Q[1]'*A[:, 2]\n",
    "R11 = Rii[1] \n",
    "R22 = Rii[2]\n",
    "R = [R11 R12; 0 R22]"
   ]
  }
 ],
 "metadata": {
  "kernelspec": {
   "display_name": "Julia 1.10.4",
   "language": "julia",
   "name": "julia-1.10"
  },
  "language_info": {
   "file_extension": ".jl",
   "mimetype": "application/julia",
   "name": "julia",
   "version": "1.10.4"
  }
 },
 "nbformat": 4,
 "nbformat_minor": 2
}

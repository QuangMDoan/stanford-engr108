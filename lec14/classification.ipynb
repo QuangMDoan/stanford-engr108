{
 "cells": [
  {
   "cell_type": "markdown",
   "metadata": {},
   "source": [
    "# Least squares classification\n"
   ]
  },
  {
   "cell_type": "code",
   "execution_count": 45,
   "metadata": {},
   "outputs": [
    {
     "data": {
      "text/plain": [
       "tf2int (generic function with 1 method)"
      ]
     },
     "metadata": {},
     "output_type": "display_data"
    }
   ],
   "source": [
    "tf2int(b) = 2*b-1"
   ]
  },
  {
   "cell_type": "code",
   "execution_count": 46,
   "metadata": {},
   "outputs": [
    {
     "data": {
      "text/plain": [
       "1"
      ]
     },
     "metadata": {},
     "output_type": "display_data"
    }
   ],
   "source": [
    "tf2int(true)"
   ]
  },
  {
   "cell_type": "code",
   "execution_count": 47,
   "metadata": {},
   "outputs": [
    {
     "data": {
      "text/plain": [
       "-1"
      ]
     },
     "metadata": {},
     "output_type": "display_data"
    }
   ],
   "source": [
    "tf2int(false)"
   ]
  },
  {
   "cell_type": "code",
   "execution_count": 48,
   "metadata": {},
   "outputs": [
    {
     "data": {
      "text/plain": [
       "3-element Vector{Bool}:\n",
       " 1\n",
       " 0\n",
       " 0"
      ]
     },
     "metadata": {},
     "output_type": "display_data"
    }
   ],
   "source": [
    "b = [true, false, false]"
   ]
  },
  {
   "cell_type": "code",
   "execution_count": 49,
   "metadata": {},
   "outputs": [
    {
     "data": {
      "text/plain": [
       "3-element Vector{Int64}:\n",
       "  1\n",
       " -1\n",
       " -1"
      ]
     },
     "metadata": {},
     "output_type": "display_data"
    }
   ],
   "source": [
    "tf2int.(b)"
   ]
  },
  {
   "cell_type": "markdown",
   "metadata": {},
   "source": [
    "# Confusion matrix\n",
    "\n",
    "Evaluate the prediction errors\n",
    "\n",
    "Given a set of data $ y $ and predictions $\\hat{y}$\n",
    "\n",
    "- Both stored as arrays(vectors) of Boolean values, of length N\n",
    "- Count errors and correct predictions\n",
    "  "
   ]
  },
  {
   "cell_type": "code",
   "execution_count": 50,
   "metadata": {},
   "outputs": [
    {
     "data": {
      "text/plain": [
       "error_rate (generic function with 1 method)"
      ]
     },
     "metadata": {},
     "output_type": "display_data"
    }
   ],
   "source": [
    "Ntp(y, yhat) = sum((y .== true) .& (yhat .== true))\n",
    "Nfn(y, yhat) = sum((y .== true) .& (yhat .== false))\n",
    "Nfp(y, yhat) = sum((y .== false) .& (yhat .== true))\n",
    "Ntn(y, yhat) = sum((y .== false) .& (yhat .== false))\n",
    "confusion_matrix(y, yhat) = [Ntp(y, yhat) Nfn(y, yhat); Nfp(y, yhat) Ntn(y, yhat)]\n",
    "error_rate(y, yhat) = (Nfp(y, yhat)+Nfn(y, yhat))/length(y)"
   ]
  },
  {
   "cell_type": "code",
   "execution_count": 51,
   "metadata": {},
   "outputs": [
    {
     "data": {
      "text/plain": [
       "2×2 Matrix{Int64}:\n",
       " 1  1\n",
       " 0  1"
      ]
     },
     "metadata": {},
     "output_type": "display_data"
    }
   ],
   "source": [
    "y = [true true false]\n",
    "yhat = [false true false]\n",
    "Ntp(y, yhat)\n",
    "confusion_matrix(y, yhat)"
   ]
  },
  {
   "cell_type": "code",
   "execution_count": 52,
   "metadata": {},
   "outputs": [
    {
     "data": {
      "text/plain": [
       "2×2 Matrix{Int64}:\n",
       " 22  20\n",
       " 31  27"
      ]
     },
     "metadata": {},
     "output_type": "display_data"
    }
   ],
   "source": [
    "y = rand(Bool, 100); yhat = rand(Bool, 100);\n",
    "confusion_matrix(y, yhat)"
   ]
  },
  {
   "cell_type": "code",
   "execution_count": 53,
   "metadata": {},
   "outputs": [
    {
     "data": {
      "text/plain": [
       "0.51"
      ]
     },
     "metadata": {},
     "output_type": "display_data"
    }
   ],
   "source": [
    "error_rate(y, yhat)"
   ]
  },
  {
   "cell_type": "code",
   "execution_count": 54,
   "metadata": {},
   "outputs": [
    {
     "data": {
      "text/plain": [
       "fhat (generic function with 1 method)"
      ]
     },
     "metadata": {},
     "output_type": "display_data"
    }
   ],
   "source": [
    "ftilde(x, theta, v) = x'*theta + v \n",
    "fhat(x) = ftilde(x, theta, v) > 0"
   ]
  },
  {
   "cell_type": "markdown",
   "metadata": {},
   "source": [
    "# Iris flower classification\n",
    "\n",
    "The iris data set has **150 examples** of three types of iris flowers\n",
    "\n",
    "There are 50 examples of each class\n",
    "\n",
    "For each data point, four features are provided\n",
    "\n",
    "The following code reads in a dicitonary containing three 50 x 4 matrices \n",
    "\n",
    "- setosa\n",
    "- versicolor\n",
    "- virginica\n",
    "\n",
    "with the examples for each class, then computes a classifier that distinguishes **Iris Virginica** from the other two classes\n"
   ]
  },
  {
   "cell_type": "code",
   "execution_count": 55,
   "metadata": {},
   "outputs": [
    {
     "data": {
      "text/plain": [
       "150×4 Matrix{Float64}:\n",
       " 5.1  3.5  1.4  0.2\n",
       " 4.9  3.0  1.4  0.2\n",
       " 4.7  3.2  1.3  0.2\n",
       " 4.6  3.1  1.5  0.2\n",
       " 5.0  3.6  1.4  0.2\n",
       " 5.4  3.9  1.7  0.4\n",
       " 4.6  3.4  1.4  0.3\n",
       " 5.0  3.4  1.5  0.2\n",
       " 4.4  2.9  1.4  0.2\n",
       " 4.9  3.1  1.5  0.1\n",
       " ⋮              \n",
       " 6.9  3.1  5.1  2.3\n",
       " 5.8  2.7  5.1  1.9\n",
       " 6.8  3.2  5.9  2.3\n",
       " 6.7  3.3  5.7  2.5\n",
       " 6.7  3.0  5.2  2.3\n",
       " 6.3  2.5  5.0  1.9\n",
       " 6.5  3.0  5.2  2.0\n",
       " 6.2  3.4  5.4  2.3\n",
       " 5.9  3.0  5.1  1.8"
      ]
     },
     "metadata": {},
     "output_type": "display_data"
    }
   ],
   "source": [
    "using VMLS\n",
    "using LinearAlgebra\n",
    "\n",
    "D = iris_data()\n",
    "X = [D[\"setosa\"]; D[\"versicolor\"]; D[\"virginica\"]]"
   ]
  },
  {
   "cell_type": "code",
   "execution_count": 56,
   "metadata": {},
   "outputs": [
    {
     "data": {
      "text/plain": [
       "150-element BitVector:\n",
       " 0\n",
       " 0\n",
       " 0\n",
       " 0\n",
       " 0\n",
       " 0\n",
       " 0\n",
       " 0\n",
       " 0\n",
       " 0\n",
       " ⋮\n",
       " 1\n",
       " 1\n",
       " 1\n",
       " 1\n",
       " 1\n",
       " 1\n",
       " 1\n",
       " 1\n",
       " 1"
      ]
     },
     "metadata": {},
     "output_type": "display_data"
    }
   ],
   "source": [
    "# y[k] is true if virginica, false otherwise \n",
    "y = [zeros(100) .== ones(100); zeros(50) .== zeros(50)]"
   ]
  },
  {
   "cell_type": "code",
   "execution_count": 57,
   "metadata": {},
   "outputs": [
    {
     "data": {
      "text/plain": [
       "5-element Vector{Float64}:\n",
       " -2.3905637266512034\n",
       " -0.09175216910134672\n",
       "  0.4055367711191063\n",
       "  0.007975822012794512\n",
       "  1.103558649867573"
      ]
     },
     "metadata": {},
     "output_type": "display_data"
    }
   ],
   "source": [
    "A = [ones(150) X]\n",
    "theta = A \\ (2*y .- 1 )"
   ]
  },
  {
   "cell_type": "code",
   "execution_count": 58,
   "metadata": {},
   "outputs": [
    {
     "data": {
      "text/plain": [
       "2×2 Matrix{Int64}:\n",
       " 46   4\n",
       "  7  93"
      ]
     },
     "metadata": {},
     "output_type": "display_data"
    }
   ],
   "source": [
    "ytilde = A * theta \n",
    "yhat = ytilde .> 0\n",
    "C = confusion_matrix(y, yhat)"
   ]
  },
  {
   "cell_type": "code",
   "execution_count": 59,
   "metadata": {},
   "outputs": [
    {
     "data": {
      "text/plain": [
       "0.07333333333333333"
      ]
     },
     "metadata": {},
     "output_type": "display_data"
    }
   ],
   "source": [
    "errorRate = (C[1, 2] + C[2, 1]) / length(y)\n"
   ]
  },
  {
   "cell_type": "code",
   "execution_count": 60,
   "metadata": {},
   "outputs": [
    {
     "data": {
      "text/plain": [
       "0.07333333333333333"
      ]
     },
     "metadata": {},
     "output_type": "display_data"
    }
   ],
   "source": [
    "avg(y .!= yhat)"
   ]
  },
  {
   "cell_type": "markdown",
   "metadata": {},
   "source": [
    "# Least squares multi-class classifier\n",
    "\n",
    "A K class classifier (with regression model) can be expressed as\n",
    "\n",
    "\\begin{align}\n",
    "    \\hat{f}(x) = \\argmax_{k=1,2,...K}\\tilde{f}_{k}(x)  \\\\\n",
    "    where \\space \\tilde{f}_{k}(x) = x^T\\theta^{(k)} \n",
    "\\end{align}\n",
    "\n",
    "The n-vectors $\\theta^{(1)}, \\theta^{(2)},..., \\theta^{(K)},$ are the coefficients or parameters in the model\n",
    "\n",
    "**Express equations (1), (2) in matrix-vector notation**\n",
    "\n",
    "\\begin{align}\n",
    "    \\hat{f}{x^{(i)}} = \\argmax(x^{(i)})^T\\Theta\n",
    "\\end{align}\n",
    "\n",
    "where $ \\Theta = \\begin{bmatrix} \\theta^{(1)} & \\theta^{(2)} & \\dotsm & \\theta^{(k)} \\end{bmatrix} $ is the n x K matrix of model coefficients"
   ]
  },
  {
   "cell_type": "code",
   "execution_count": 65,
   "metadata": {},
   "outputs": [
    {
     "data": {
      "text/plain": [
       "row_argmax (generic function with 1 method)"
      ]
     },
     "metadata": {},
     "output_type": "display_data"
    }
   ],
   "source": [
    "# row_argmax(A) computes the index of the largest entry for each row\n",
    "row_argmax(A) = [argmax(A[i, :]) for i =1:size(A, 1)]"
   ]
  },
  {
   "cell_type": "code",
   "execution_count": 62,
   "metadata": {},
   "outputs": [
    {
     "data": {
      "text/plain": [
       "3×3 Matrix{Float64}:\n",
       " -0.856962  -1.23766    1.30344\n",
       " -1.19168    0.169778  -1.08716\n",
       " -0.149733  -0.481873   0.321372"
      ]
     },
     "metadata": {},
     "output_type": "display_data"
    }
   ],
   "source": [
    "A = randn(3,3)"
   ]
  },
  {
   "cell_type": "code",
   "execution_count": 63,
   "metadata": {},
   "outputs": [
    {
     "data": {
      "text/plain": [
       "3-element Vector{Int64}:\n",
       " 3\n",
       " 2\n",
       " 3"
      ]
     },
     "metadata": {},
     "output_type": "display_data"
    }
   ],
   "source": [
    "row_argmax(A)"
   ]
  },
  {
   "cell_type": "code",
   "execution_count": 66,
   "metadata": {},
   "outputs": [
    {
     "data": {
      "text/plain": [
       "fhat (generic function with 2 methods)"
      ]
     },
     "metadata": {},
     "output_type": "display_data"
    }
   ],
   "source": [
    "# find the N-vector of predictions\n",
    "fhat(X, theta) = row_argmax(X*theta)"
   ]
  },
  {
   "cell_type": "markdown",
   "metadata": {},
   "source": [
    "# Matrix least squares \n",
    "\n",
    "Use least squares to find the coefficient matrix \\Theta for a **multi-class classifier** with \n",
    "\n",
    "- n featuresand K classes\n",
    "- from a data set of N examples\n",
    "\n",
    "Data is given as an $N \\times n$ matrix **X** and an N-vector **y** \n",
    "\n",
    "- $ y^{(i)} is in {1, . . ., K} taht give the classes of examples\n",
    "\n",
    "The least squares objective can be expressed a matrix norm squared\n",
    "\n",
    "$\n",
    "|| X\\Theta - Y ||^2\n",
    "$\n",
    "\n",
    "where Y is the NxK matrix with\n",
    "\n",
    "$\n",
    "Y^{(i)}_j = \n",
    "\\begin{cases}\n",
    "1 & y^{(i)} = j\\\\\n",
    "-1 & y^{(i)} \\ne j\\\\\n",
    "\\end{cases}\n",
    "$\n",
    "\n",
    "In other words, the rows of **Y** describe the classes using one-hot encoding, converted from 0/1 to -1/+1 values. \n",
    "\n",
    "The least squares solution is given by $\\hat{\\Theta} = X^{\\dagger}Y$"
   ]
  },
  {
   "cell_type": "code",
   "execution_count": 10,
   "metadata": {},
   "outputs": [
    {
     "data": {
      "text/plain": [
       "6-element Vector{Int64}:\n",
       " 3\n",
       " 1\n",
       " 3\n",
       " 1\n",
       " 1\n",
       " 2"
      ]
     },
     "metadata": {},
     "output_type": "display_data"
    }
   ],
   "source": [
    "function one_hot(y, K=3)\n",
    "    N = length(y)\n",
    "    Y = zeros(N, K)\n",
    "    for j in 1:K # for each column j\n",
    "        Y[findall(y .== j), j] .= 1\n",
    "    end\n",
    "    return Y \n",
    "end\n",
    "K = 3\n",
    "y = rand(1:K, 6)"
   ]
  },
  {
   "cell_type": "code",
   "execution_count": 11,
   "metadata": {},
   "outputs": [
    {
     "data": {
      "text/plain": [
       "6×3 Matrix{Float64}:\n",
       " 0.0  0.0  1.0\n",
       " 1.0  0.0  0.0\n",
       " 0.0  0.0  1.0\n",
       " 1.0  0.0  0.0\n",
       " 1.0  0.0  0.0\n",
       " 0.0  1.0  0.0"
      ]
     },
     "metadata": {},
     "output_type": "display_data"
    }
   ],
   "source": [
    "one_hot(y)"
   ]
  },
  {
   "cell_type": "code",
   "execution_count": 13,
   "metadata": {},
   "outputs": [
    {
     "data": {
      "text/plain": [
       "multi_classifier (generic function with 1 method)"
      ]
     },
     "metadata": {},
     "output_type": "display_data"
    }
   ],
   "source": [
    "function multi_classifier(X, y, K) \n",
    "    N, n = size(X)\n",
    "    Y = 2*one_hot(y, K) .- 1\n",
    "    Theta = X \\ Y\n",
    "    yhat = row_argmax(X*Theta)\n",
    "    return Theta, yhat\n",
    "end"
   ]
  },
  {
   "cell_type": "markdown",
   "metadata": {},
   "source": [
    "# Iris flower classification \n",
    "\n",
    "We compute a 3-class classifier for the Iris flower data set. \n",
    "\n",
    "We split the data set of 150 examples into \n",
    "\n",
    "- a training set of 120 examples (40 per category)\n",
    "- and a test set of 30 (10 per category)\n",
    "\n",
    "The code calls the function we defined above"
   ]
  },
  {
   "cell_type": "code",
   "execution_count": 15,
   "metadata": {},
   "outputs": [
    {
     "name": "stderr",
     "output_type": "stream",
     "text": [
      "WARNING: using VMLS.one_hot in module Main conflicts with an existing identifier.\n"
     ]
    },
    {
     "data": {
      "text/plain": [
       "Dict{String, Matrix{Float64}} with 3 entries:\n",
       "  \"virginica\"  => [6.3 3.3 6.0 2.5; 5.8 2.7 5.1 1.9; … ; 6.2 3.4 5.4 2.3; 5.9 3…\n",
       "  \"setosa\"     => [5.1 3.5 1.4 0.2; 4.9 3.0 1.4 0.2; … ; 5.3 3.7 1.5 0.2; 5.0 3…\n",
       "  \"versicolor\" => [7.0 3.2 4.7 1.4; 6.4 3.2 4.5 1.5; … ; 5.1 2.5 3.0 1.1; 5.7 2…"
      ]
     },
     "metadata": {},
     "output_type": "display_data"
    }
   ],
   "source": [
    "using LinearAlgebra\n",
    "using VMLS\n",
    "D = iris_data()"
   ]
  },
  {
   "cell_type": "code",
   "execution_count": 29,
   "metadata": {},
   "outputs": [
    {
     "data": {
      "text/plain": [
       "confusion_matrix (generic function with 2 methods)"
      ]
     },
     "metadata": {},
     "output_type": "display_data"
    }
   ],
   "source": [
    "function confusion_matrix(y, yhat, K=3)\n",
    "    C = zeros(K, K)\n",
    "    for i = 1:K \n",
    "        for j = 1:K \n",
    "            C[i, j] = sum((y .== i) .& (yhat .== j))\n",
    "        end\n",
    "    end\n",
    "    return C\n",
    "end"
   ]
  },
  {
   "cell_type": "code",
   "execution_count": 49,
   "metadata": {},
   "outputs": [
    {
     "data": {
      "text/plain": [
       "(0.14166666666666672, 0.14166666666666672)"
      ]
     },
     "metadata": {},
     "output_type": "display_data"
    }
   ],
   "source": [
    "setosa = D[\"setosa\"]\n",
    "versicolor = D[\"versicolor\"]\n",
    "virginica = D[\"virginica\"]\n",
    "\n",
    "using Random\n",
    "I1 = Random.randperm(50)\n",
    "I2 = Random.randperm(50)\n",
    "I3 = Random.randperm(50)\n",
    "\n",
    "Train1 = setosa[I1[1:40], :]\n",
    "Train2 = versicolor[I2[1:40], :]\n",
    "Train3 = virginica[I3[1:40], :]\n",
    "\n",
    "XTrain = [Train1; Train2; Train3]\n",
    "XTrain = [ones(120) XTrain]\n",
    "\n",
    "yTrain = [ones(40); 2*ones(40); 3*ones(40)]\n",
    "Theta, yhat = multi_classifier(XTrain, yTrain, 3)\n",
    "\n",
    "train_confusion = confusion_matrix(yTrain, yhat)\n",
    "\n",
    "function error_rate(C)\n",
    "    return 1 - sum(diag(C))/sum(C)\n",
    "end\n",
    "\n",
    "function error_rate(y, yhat)\n",
    "    return 1 - sum(y .== yhat) / length(y)\n",
    "end\n",
    "\n",
    "error_rate(train_confusion), error_rate(yTrain, yhat)"
   ]
  },
  {
   "cell_type": "code",
   "execution_count": 59,
   "metadata": {},
   "outputs": [
    {
     "data": {
      "text/plain": [
       "30-element Vector{Int64}:\n",
       " 1\n",
       " 1\n",
       " 1\n",
       " 1\n",
       " 1\n",
       " 1\n",
       " 1\n",
       " 1\n",
       " 2\n",
       " 1\n",
       " ⋮\n",
       " 3\n",
       " 3\n",
       " 3\n",
       " 3\n",
       " 3\n",
       " 3\n",
       " 3\n",
       " 2\n",
       " 3"
      ]
     },
     "metadata": {},
     "output_type": "display_data"
    }
   ],
   "source": [
    "Test1 = setosa[I1[41:50], :]\n",
    "Test2 = versicolor[I2[41:50], :]\n",
    "Test3 = virginica[I3[41:50], :]\n",
    "\n",
    "XTest = [Test1; Test2; Test3]\n",
    "XTest = [ones(30) XTest]\n",
    "\n",
    "yTest = [ones(10); 2*ones(10); 3*ones(10)]\n",
    "ytestHat = row_argmax(XTest*Theta )\n"
   ]
  },
  {
   "cell_type": "code",
   "execution_count": 64,
   "metadata": {},
   "outputs": [
    {
     "data": {
      "text/plain": [
       "0.16666666666666663"
      ]
     },
     "metadata": {},
     "output_type": "display_data"
    }
   ],
   "source": [
    "Ctest = confusion_matrix(yTest, ytestHat)\n",
    "error_rate(Ctest)"
   ]
  },
  {
   "cell_type": "code",
   "execution_count": 66,
   "metadata": {},
   "outputs": [
    {
     "data": {
      "text/plain": [
       "3×3 Matrix{Float64}:\n",
       " 9.0  1.0  0.0\n",
       " 0.0  7.0  3.0\n",
       " 0.0  1.0  9.0"
      ]
     },
     "metadata": {},
     "output_type": "display_data"
    }
   ],
   "source": [
    "Ctest = confusion_matrix(yTest, ytestHat)"
   ]
  }
 ],
 "metadata": {
  "kernelspec": {
   "display_name": "Julia 1.10.4",
   "language": "julia",
   "name": "julia-1.10"
  },
  "language_info": {
   "file_extension": ".jl",
   "mimetype": "application/julia",
   "name": "julia",
   "version": "1.10.4"
  }
 },
 "nbformat": 4,
 "nbformat_minor": 2
}

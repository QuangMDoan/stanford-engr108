{
 "cells": [
  {
   "cell_type": "markdown",
   "metadata": {},
   "source": [
    "# Taylor Approximation #\n",
    "\n",
    "Given $ f(x) = x_1 + e^{x_2 - x_1} $\n",
    "\n",
    "And  $ f([1, 1]) = 1 + e^{1 - 1} = 2$\n",
    "\n",
    "Use Taylor approximation to compute $ f([0.9, 1.1]) $"
   ]
  },
  {
   "cell_type": "code",
   "execution_count": 1,
   "metadata": {},
   "outputs": [
    {
     "name": "stdout",
     "output_type": "stream",
     "text": [
      "f(x) = 2.121403 \n",
      "Taylor approximation of f(x) = 2.100000"
     ]
    }
   ],
   "source": [
    "f(x) = x[1] + exp(x[2] - x[1])\n",
    "grad_f(x) = [1-exp(x[2]-x[1]), exp(x[2]-x[1])]\n",
    "f_hat(x) = f(z) + grad_f(z)'*(x-z)\n",
    "x = [0.9, 1.1]\n",
    "z = [1.0, 1.0]\n",
    "\n",
    "using Printf\n",
    "@printf(\"f(x) = %f \\n\", f(x))\n",
    "@printf(\"Taylor approximation of f(x) = %f\", f_hat(x))"
   ]
  }
 ],
 "metadata": {
  "kernelspec": {
   "display_name": "Julia 1.10.4",
   "language": "julia",
   "name": "julia-1.10"
  },
  "language_info": {
   "file_extension": ".jl",
   "mimetype": "application/julia",
   "name": "julia",
   "version": "1.10.4"
  }
 },
 "nbformat": 4,
 "nbformat_minor": 2
}

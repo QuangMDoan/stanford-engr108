{
 "cells": [
  {
   "cell_type": "markdown",
   "metadata": {},
   "source": [
    "# Least Square"
   ]
  },
  {
   "cell_type": "code",
   "execution_count": 1,
   "metadata": {},
   "outputs": [],
   "source": [
    "using LinearAlgebra\n",
    "using VMLS "
   ]
  },
  {
   "cell_type": "code",
   "execution_count": 3,
   "metadata": {},
   "outputs": [
    {
     "data": {
      "text/plain": [
       "3-element Vector{Int64}:\n",
       "  1\n",
       "  0\n",
       " -1"
      ]
     },
     "metadata": {},
     "output_type": "display_data"
    }
   ],
   "source": [
    "A = [2 0; -1 1; 0 2]\n",
    "b = [1; 0; -1]"
   ]
  },
  {
   "cell_type": "code",
   "execution_count": 7,
   "metadata": {},
   "outputs": [
    {
     "data": {
      "text/plain": [
       "2×3 Matrix{Float64}:\n",
       " 0.416667   -0.166667  0.0833333\n",
       " 0.0833333   0.166667  0.416667"
      ]
     },
     "metadata": {},
     "output_type": "display_data"
    }
   ],
   "source": [
    "x = A\\b\n",
    "\n",
    "# compute the pseudo inverse\n",
    "Adagger = inv(A'*A)*A'"
   ]
  },
  {
   "cell_type": "code",
   "execution_count": 8,
   "metadata": {},
   "outputs": [
    {
     "data": {
      "text/plain": [
       "2-element Vector{Float64}:\n",
       "  0.33333333333333337\n",
       " -0.33333333333333337"
      ]
     },
     "metadata": {},
     "output_type": "display_data"
    }
   ],
   "source": [
    "x = Adagger*b"
   ]
  },
  {
   "cell_type": "code",
   "execution_count": 9,
   "metadata": {},
   "outputs": [
    {
     "data": {
      "text/plain": [
       "2×3 Matrix{Float64}:\n",
       " 0.416667   -0.166667  0.0833333\n",
       " 0.0833333   0.166667  0.416667"
      ]
     },
     "metadata": {},
     "output_type": "display_data"
    }
   ],
   "source": [
    "Adagger = pinv(A)"
   ]
  },
  {
   "cell_type": "code",
   "execution_count": 10,
   "metadata": {},
   "outputs": [
    {
     "data": {
      "text/plain": [
       "2-element Vector{Float64}:\n",
       "  0.3333333333333332\n",
       " -0.3333333333333334"
      ]
     },
     "metadata": {},
     "output_type": "display_data"
    }
   ],
   "source": [
    "x_hat = A \\ b"
   ]
  },
  {
   "cell_type": "code",
   "execution_count": 13,
   "metadata": {},
   "outputs": [
    {
     "data": {
      "text/plain": [
       "0.816496580927726"
      ]
     },
     "metadata": {},
     "output_type": "display_data"
    }
   ],
   "source": [
    "# How much A * xhat is close to b\n",
    "# Answer:\n",
    "# 1) compute the distance vector between A*xhat and b \n",
    "# 2) Compute the length or the norm of the distance vector\n",
    "using LinearAlgebra\n",
    "using VMLS\n",
    "\n",
    "# Compute the deviation (aka residual) vector\n",
    "rhat = A * x_hat - b\n",
    "distance = norm(rhat)"
   ]
  },
  {
   "cell_type": "code",
   "execution_count": 16,
   "metadata": {},
   "outputs": [
    {
     "name": "stdout",
     "output_type": "stream",
     "text": [
      "d = 1.618, distance = 0.816\n",
      "d = 3.616, distance = 0.816\n",
      "d = 3.688, distance = 0.816\n",
      "d = 1.662, distance = 0.816\n",
      "d = 5.563, distance = 0.816\n",
      "d = 2.869, distance = 0.816\n",
      "d = 1.134, distance = 0.816\n",
      "d = 3.709, distance = 0.816\n",
      "d = 1.659, distance = 0.816\n",
      "d = 2.608, distance = 0.816\n",
      "d = 2.093, distance = 0.816\n",
      "d = 3.209, distance = 0.816\n",
      "d = 1.885, distance = 0.816\n",
      "d = 3.608, distance = 0.816\n",
      "d = 3.530, distance = 0.816\n",
      "d = 4.930, distance = 0.816\n",
      "d = 5.530, distance = 0.816\n",
      "d = 2.959, distance = 0.816\n",
      "d = 3.710, distance = 0.816\n",
      "d = 1.211, distance = 0.816\n",
      "d = 2.263, distance = 0.816\n",
      "d = 1.323, distance = 0.816\n",
      "d = 2.278, distance = 0.816\n",
      "d = 6.161, distance = 0.816\n",
      "d = 2.275, distance = 0.816\n",
      "d = 7.128, distance = 0.816\n",
      "d = 1.698, distance = 0.816\n",
      "d = 3.568, distance = 0.816\n",
      "d = 1.706, distance = 0.816\n",
      "d = 3.142, distance = 0.816\n",
      "d = 4.939, distance = 0.816\n",
      "d = 3.007, distance = 0.816\n",
      "d = 2.766, distance = 0.816\n",
      "d = 3.461, distance = 0.816\n",
      "d = 1.676, distance = 0.816\n",
      "d = 3.661, distance = 0.816\n",
      "d = 1.341, distance = 0.816\n",
      "d = 3.279, distance = 0.816\n",
      "d = 1.390, distance = 0.816\n",
      "d = 2.897, distance = 0.816\n",
      "d = 2.971, distance = 0.816\n",
      "d = 4.917, distance = 0.816\n",
      "d = 5.178, distance = 0.816\n",
      "d = 3.347, distance = 0.816\n",
      "d = 2.958, distance = 0.816\n",
      "d = 3.033, distance = 0.816\n",
      "d = 3.172, distance = 0.816\n",
      "d = 2.509, distance = 0.816\n",
      "d = 1.652, distance = 0.816\n",
      "d = 2.325, distance = 0.816\n",
      "d = 3.120, distance = 0.816\n",
      "d = 1.857, distance = 0.816\n",
      "d = 4.328, distance = 0.816\n",
      "d = 1.104, distance = 0.816\n",
      "d = 1.965, distance = 0.816\n",
      "d = 3.744, distance = 0.816\n",
      "d = 4.347, distance = 0.816\n",
      "d = 0.962, distance = 0.816\n",
      "d = 4.861, distance = 0.816\n",
      "d = 3.432, distance = 0.816\n",
      "d = 2.857, distance = 0.816\n",
      "d = 2.314, distance = 0.816\n",
      "d = 3.471, distance = 0.816\n",
      "d = 6.137, distance = 0.816\n",
      "d = 5.952, distance = 0.816\n",
      "d = 5.570, distance = 0.816\n",
      "d = 2.980, distance = 0.816\n",
      "d = 2.631, distance = 0.816\n",
      "d = 4.862, distance = 0.816\n",
      "d = 2.186, distance = 0.816\n",
      "d = 4.614, distance = 0.816\n",
      "d = 1.543, distance = 0.816\n",
      "d = 4.582, distance = 0.816\n",
      "d = 3.276, distance = 0.816\n",
      "d = 1.762, distance = 0.816\n",
      "d = 3.245, distance = 0.816\n",
      "d = 3.563, distance = 0.816\n",
      "d = 1.647, distance = 0.816\n",
      "d = 3.301, distance = 0.816\n",
      "d = 0.871, distance = 0.816\n",
      "d = 6.148, distance = 0.816\n",
      "d = 2.922, distance = 0.816\n",
      "d = 3.791, distance = 0.816\n",
      "d = 2.348, distance = 0.816\n",
      "d = 5.084, distance = 0.816\n",
      "d = 3.881, distance = 0.816\n",
      "d = 2.533, distance = 0.816\n",
      "d = 4.470, distance = 0.816\n",
      "d = 3.277, distance = 0.816\n",
      "d = 2.231, distance = 0.816\n",
      "d = 2.738, distance = 0.816\n",
      "d = 2.584, distance = 0.816\n",
      "d = 2.289, distance = 0.816\n",
      "d = 2.922, distance = 0.816\n",
      "d = 1.819, distance = 0.816\n",
      "d = 1.210, distance = 0.816\n",
      "d = 3.369, distance = 0.816\n",
      "d = 3.515, distance = 0.816\n",
      "d = 3.579, distance = 0.816\n",
      "d = 1.173, distance = 0.816\n"
     ]
    }
   ],
   "source": [
    "using Printf\n",
    "for i = 1:100\n",
    "    x = randn(2)\n",
    "    r = A*x-b\n",
    "    d = norm(r)\n",
    "    \n",
    "    @printf(\"d = %.3f, distance = %.3f\\n\", d, distance)\n",
    "end"
   ]
  },
  {
   "cell_type": "markdown",
   "metadata": {},
   "source": [
    "# Least squares solution formula\n",
    "\n",
    "$\n",
    "\\hat{x} = A^{\\dagger}b = (A^TA)^{-}A^T*b\n",
    "$"
   ]
  },
  {
   "cell_type": "code",
   "execution_count": 17,
   "metadata": {},
   "outputs": [
    {
     "data": {
      "text/plain": [
       "3×2 Matrix{Int64}:\n",
       "  2  0\n",
       " -1  1\n",
       "  0  2"
      ]
     },
     "metadata": {},
     "output_type": "display_data"
    }
   ],
   "source": [
    "A"
   ]
  },
  {
   "cell_type": "code",
   "execution_count": 18,
   "metadata": {},
   "outputs": [
    {
     "data": {
      "text/plain": [
       "3-element Vector{Int64}:\n",
       "  1\n",
       "  0\n",
       " -1"
      ]
     },
     "metadata": {},
     "output_type": "display_data"
    }
   ],
   "source": [
    "b"
   ]
  },
  {
   "cell_type": "code",
   "execution_count": 21,
   "metadata": {},
   "outputs": [
    {
     "data": {
      "text/plain": [
       "2-element Vector{Float64}:\n",
       "  0.33333333333333337\n",
       " -0.33333333333333337"
      ]
     },
     "metadata": {},
     "output_type": "display_data"
    }
   ],
   "source": [
    "xhat = inv(A'A)A'b "
   ]
  },
  {
   "cell_type": "code",
   "execution_count": 22,
   "metadata": {},
   "outputs": [
    {
     "data": {
      "text/plain": [
       "2-element Vector{Float64}:\n",
       "  0.3333333333333333\n",
       " -0.3333333333333335"
      ]
     },
     "metadata": {},
     "output_type": "display_data"
    }
   ],
   "source": [
    "xhat = pinv(A)b"
   ]
  },
  {
   "cell_type": "markdown",
   "metadata": {},
   "source": [
    "# Illumination\n",
    "\n",
    "A set of **n** lamps illuminates an area of **m** regions\n",
    "\n",
    "- let $b_i$ denote the lighting level in region **i**\n",
    "- the m-vector **b** gives the illumination levels across all regions\n",
    "- let **x[i]** denote the power at which lamp **i** operates, i.e. the n-vector **x** gives the set of lamp powers\n",
    "\n",
    "Then vector **b** of illumination levels is a linear function of the lamp powers **x**\n",
    "\n",
    "$ b = A*x $\n",
    "\n",
    "for some m x n matrix A\n",
    "\n",
    "Consider **A**\n",
    "- $ A_{ij} $ is illumination in region **i** if lamp **j** is on with power 1, other lamps are off \n",
    "- $ A_{ij} $ is contribution of illumination from lamp **j** to region **i**\n",
    "- The column A_j gives the illumination pattern for lamp **j** across all regions\n",
    "  > We assume taht A has linearly independent columns, and therefore is tall.\n",
    "- The **ith** row of A gives the sensitivity of region **i** to the **n** lamp powers\n",
    "\n",
    "### **Goal**\n",
    "\n",
    "Find lamp powers $\\hat{x}$  that result in a desired illumination pattern $b = \\alpha\\bold{1}:$ uniform illumination with value $\\alpha$ across all **n** regions\n",
    "\n",
    "In other words, we seek $\\hat{x}$ so that $A\\hat{x} \\approx b$\n",
    "\n",
    "Use least squares to find $\\hat{x}$ that minimizes the sum square deviation from the desired illumination\n",
    "\n",
    "$ ||A\\hat{x} - b||^2 $\n",
    "\n",
    "This gives the lamp power levels\n",
    "\n",
    "$\\hat{x} = A^{\\dagger}b$\n",
    "\n"
   ]
  },
  {
   "cell_type": "code",
   "execution_count": 24,
   "metadata": {},
   "outputs": [
    {
     "data": {
      "text/plain": [
       "10×3 Matrix{Float64}:\n",
       "  4.1  20.4  4.0\n",
       " 14.1  21.3  3.5\n",
       " 22.6  17.1  6.0\n",
       "  5.5  12.3  4.0\n",
       " 12.2   9.7  4.0\n",
       " 15.3  13.8  6.0\n",
       " 21.3  10.5  5.5\n",
       "  3.9   3.3  5.0\n",
       " 13.1   4.3  5.0\n",
       " 20.3   4.2  4.5"
      ]
     },
     "metadata": {},
     "output_type": "display_data"
    }
   ],
   "source": [
    "# number of lamps\n",
    "n = 10\n",
    "\n",
    "lamps = [ # x, y positions of lamps and height above floor\n",
    "            4.1 20.4 4;\n",
    "            14.1 21.3 3.5;\n",
    "            22.6 17.1 6;\n",
    "            5.5 12.3 4.0;\n",
    "            12.2 9.7 4.0;\n",
    "            15.3 13.8 6;\n",
    "            21.3 10.5 5.5;\n",
    "            3.9 3.3 5.0;\n",
    "            13.1 4.3 5.0;\n",
    "            20.3 4.2 4.5 ]"
   ]
  },
  {
   "cell_type": "code",
   "execution_count": 33,
   "metadata": {},
   "outputs": [
    {
     "data": {
      "text/plain": [
       "64×1 Matrix{Float64}:\n",
       " 0.5\n",
       " 0.5\n",
       " 0.5\n",
       " 0.5\n",
       " 0.5\n",
       " 0.5\n",
       " 0.5\n",
       " 0.5\n",
       " 1.5\n",
       " 1.5\n",
       " ⋮\n",
       " 6.5\n",
       " 7.5\n",
       " 7.5\n",
       " 7.5\n",
       " 7.5\n",
       " 7.5\n",
       " 7.5\n",
       " 7.5\n",
       " 7.5"
      ]
     },
     "metadata": {},
     "output_type": "display_data"
    }
   ],
   "source": [
    "# reshape(collect(0.5:1:8) * ones(1, 8), 64, 1)\n",
    "reshape(ones(8, 1) * collect(0.5:1:8)', 64, 1)\n"
   ]
  },
  {
   "cell_type": "code",
   "execution_count": 36,
   "metadata": {},
   "outputs": [
    {
     "data": {
      "text/plain": [
       "625×2 Matrix{Float64}:\n",
       "  0.5   0.5\n",
       "  1.5   0.5\n",
       "  2.5   0.5\n",
       "  3.5   0.5\n",
       "  4.5   0.5\n",
       "  5.5   0.5\n",
       "  6.5   0.5\n",
       "  7.5   0.5\n",
       "  8.5   0.5\n",
       "  9.5   0.5\n",
       "  ⋮    \n",
       " 16.5  24.5\n",
       " 17.5  24.5\n",
       " 18.5  24.5\n",
       " 19.5  24.5\n",
       " 20.5  24.5\n",
       " 21.5  24.5\n",
       " 22.5  24.5\n",
       " 23.5  24.5\n",
       " 24.5  24.5"
      ]
     },
     "metadata": {},
     "output_type": "display_data"
    }
   ],
   "source": [
    "# grid size\n",
    "N = 25\n",
    "\n",
    "# number of regions\n",
    "m = N^2\n",
    "\n",
    "# Construct m x2 matrix with coordinates of region centers\n",
    "pixels = hcat(\n",
    "    reshape( collect(0.5: 1 : N) * ones(1, N), m, 1),\n",
    "    reshape( ones(N, 1) * collect(0.5: 1: N)', m, 1)\n",
    ")\n"
   ]
  },
  {
   "cell_type": "code",
   "execution_count": 39,
   "metadata": {},
   "outputs": [
    {
     "data": {
      "text/plain": [
       "625×10 Matrix{Float64}:\n",
       " 0.0245215  0.0165451  0.0130266  …  0.234705   0.0525778  0.0244634\n",
       " 0.0248846  0.0172632  0.0137703     0.269972   0.0598904  0.026901\n",
       " 0.0251367  0.0179842  0.0145631     0.299452   0.068649   0.0297079\n",
       " 0.0252708  0.0187006  0.0154071     0.315786   0.0791863  0.0329588\n",
       " 0.0252831  0.019404   0.0163038     0.313883   0.0918953  0.0367477\n",
       " 0.0251731  0.0200847  0.017254   …  0.294376   0.107211   0.0411927\n",
       " 0.0249442  0.020732   0.0182577     0.263155   0.125553   0.0464432\n",
       " 0.0246026  0.0213347  0.0193134     0.227531   0.147188   0.0526895\n",
       " 0.0241577  0.0218812  0.0204184     0.19298    0.171962   0.0601739\n",
       " 0.0236211  0.0223601  0.0215678     0.16232    0.198873   0.0692052\n",
       " ⋮                                ⋱                        \n",
       " 0.0558553  0.368882   0.0814325     0.0164576  0.0234389  0.0233245\n",
       " 0.0490697  0.306048   0.0892431     0.0158036  0.0230348  0.0236742\n",
       " 0.0433898  0.249006   0.0968757     0.0151555  0.0225463  0.0239242\n",
       " 0.0386003  0.20176    0.103825      0.0145179  0.0219851  0.0240679\n",
       " 0.0345327  0.164238   0.109498   …  0.0138946  0.0213631  0.0241013\n",
       " 0.0310544  0.134899   0.113308      0.0132886  0.0206929  0.0240235\n",
       " 0.0280608  0.111993   0.114806      0.0127022  0.0199864  0.0238367\n",
       " 0.0254684  0.0940092  0.113803      0.0121371  0.0192552  0.0235458\n",
       " 0.0232107  0.0797621  0.110426      0.0115943  0.0185096  0.0231586"
      ]
     },
     "metadata": {},
     "output_type": "display_data"
    }
   ],
   "source": [
    "# Matrix A maps lamp powers to pixel intensities\n",
    "# Matrix A maps lamp powers to region illumination\n",
    "# A is mxn matrix\n",
    "# A[i, j] is inversely proportional to the square distance from lamp j to pixel i \n",
    "\n",
    "A = zeros(m, n)\n",
    "for i=1:m\n",
    "    for j = 1:n\n",
    "        distance_vector = lamps[j, :] - [pixels[i, :]; 0]\n",
    "        A[i, j] = 1.0 / norm(distance_vector)^2\n",
    "    end\n",
    "end\n",
    "\n",
    "A = (m/sum(A))*A"
   ]
  },
  {
   "cell_type": "code",
   "execution_count": 40,
   "metadata": {},
   "outputs": [
    {
     "data": {
      "text/plain": [
       "10×1 Matrix{Float64}:\n",
       " 1.4621101798266414\n",
       " 0.7879743262131843\n",
       " 2.9664104724031883\n",
       " 0.7435804226879906\n",
       " 0.08317333038944939\n",
       " 0.21263944602371915\n",
       " 0.21218407925533114\n",
       " 2.0511481462520043\n",
       " 0.9076031545599363\n",
       " 1.472224642516008"
      ]
     },
     "metadata": {},
     "output_type": "display_data"
    }
   ],
   "source": [
    "b = ones(m, 1)\n",
    "xhat = A\\b"
   ]
  },
  {
   "cell_type": "code",
   "execution_count": 42,
   "metadata": {},
   "outputs": [
    {
     "data": {
      "text/plain": [
       "0.14039048134276055"
      ]
     },
     "metadata": {},
     "output_type": "display_data"
    }
   ],
   "source": [
    "r = A*xhat - b\n",
    "norm(r)/sqrt(m)"
   ]
  },
  {
   "cell_type": "code",
   "execution_count": 43,
   "metadata": {},
   "outputs": [
    {
     "data": {
      "image/png": "[encoded data removed]",
      "image/svg+xml": [
       "<?xml version=\"1.0\" encoding=\"utf-8\"?>\n",
       "<svg xmlns=\"http://www.w3.org/2000/svg\" xmlns:xlink=\"http://www.w3.org/1999/xlink\" width=\"600\" height=\"400\" viewBox=\"0 0 2400 1600\">\n",
       "<defs>\n",
       "  <clipPath id=\"clip970\">\n",
       "    <rect x=\"0\" y=\"0\" width=\"2400\" height=\"1600\"/>\n",
       "  </clipPath>\n",
       "</defs>\n",
       "<path clip-path=\"url(#clip970)\" d=\"M0 1600 L2400 1600 L2400 8.88178e-14 L0 8.88178e-14  Z\" fill=\"#ffffff\" fill-rule=\"evenodd\" fill-opacity=\"1\"/>\n",
       "<defs>\n",
       "  <clipPath id=\"clip971\">\n",
       "    <rect x=\"480\" y=\"0\" width=\"1681\" height=\"1600\"/>\n",
       "  </clipPath>\n",
       "</defs>\n",
       "<path clip-path=\"url(#clip970)\" d=\"M169.121 1486.45 L2352.76 1486.45 L2352.76 47.2441 L169.121 47.2441  Z\" fill=\"#ffffff\" fill-rule=\"evenodd\" fill-opacity=\"1\"/>\n",
       "<defs>\n",
       "  <clipPath id=\"clip972\">\n",
       "    <rect x=\"169\" y=\"47\" width=\"2185\" height=\"1440\"/>\n",
       "  </clipPath>\n",
       "</defs>\n",
       "<polyline clip-path=\"url(#clip972)\" style=\"stroke:#000000; stroke-linecap:round; stroke-linejoin:round; stroke-width:2; stroke-opacity:0.1; fill:none\" points=\"438.719,1486.45 438.719,47.2441 \"/>\n",
       "<polyline clip-path=\"url(#clip972)\" style=\"stroke:#000000; stroke-linecap:round; stroke-linejoin:round; stroke-width:2; stroke-opacity:0.1; fill:none\" points=\"737.708,1486.45 737.708,47.2441 \"/>\n",
       "<polyline clip-path=\"url(#clip972)\" style=\"stroke:#000000; stroke-linecap:round; stroke-linejoin:round; stroke-width:2; stroke-opacity:0.1; fill:none\" points=\"1036.7,1486.45 1036.7,47.2441 \"/>\n",
       "<polyline clip-path=\"url(#clip972)\" style=\"stroke:#000000; stroke-linecap:round; stroke-linejoin:round; stroke-width:2; stroke-opacity:0.1; fill:none\" points=\"1335.69,1486.45 1335.69,47.2441 \"/>\n",
       "<polyline clip-path=\"url(#clip972)\" style=\"stroke:#000000; stroke-linecap:round; stroke-linejoin:round; stroke-width:2; stroke-opacity:0.1; fill:none\" points=\"1634.67,1486.45 1634.67,47.2441 \"/>\n",
       "<polyline clip-path=\"url(#clip972)\" style=\"stroke:#000000; stroke-linecap:round; stroke-linejoin:round; stroke-width:2; stroke-opacity:0.1; fill:none\" points=\"1933.66,1486.45 1933.66,47.2441 \"/>\n",
       "<polyline clip-path=\"url(#clip972)\" style=\"stroke:#000000; stroke-linecap:round; stroke-linejoin:round; stroke-width:2; stroke-opacity:0.1; fill:none\" points=\"2232.65,1486.45 2232.65,47.2441 \"/>\n",
       "<polyline clip-path=\"url(#clip970)\" style=\"stroke:#000000; stroke-linecap:round; stroke-linejoin:round; stroke-width:4; stroke-opacity:1; fill:none\" points=\"169.121,1486.45 2352.76,1486.45 \"/>\n",
       "<polyline clip-path=\"url(#clip970)\" style=\"stroke:#000000; stroke-linecap:round; stroke-linejoin:round; stroke-width:4; stroke-opacity:1; fill:none\" points=\"438.719,1486.45 438.719,1467.55 \"/>\n",
       "<polyline clip-path=\"url(#clip970)\" style=\"stroke:#000000; stroke-linecap:round; stroke-linejoin:round; stroke-width:4; stroke-opacity:1; fill:none\" points=\"737.708,1486.45 737.708,1467.55 \"/>\n",
       "<polyline clip-path=\"url(#clip970)\" style=\"stroke:#000000; stroke-linecap:round; stroke-linejoin:round; stroke-width:4; stroke-opacity:1; fill:none\" points=\"1036.7,1486.45 1036.7,1467.55 \"/>\n",
       "<polyline clip-path=\"url(#clip970)\" style=\"stroke:#000000; stroke-linecap:round; stroke-linejoin:round; stroke-width:4; stroke-opacity:1; fill:none\" points=\"1335.69,1486.45 1335.69,1467.55 \"/>\n",
       "<polyline clip-path=\"url(#clip970)\" style=\"stroke:#000000; stroke-linecap:round; stroke-linejoin:round; stroke-width:4; stroke-opacity:1; fill:none\" points=\"1634.67,1486.45 1634.67,1467.55 \"/>\n",
       "<polyline clip-path=\"url(#clip970)\" style=\"stroke:#000000; stroke-linecap:round; stroke-linejoin:round; stroke-width:4; stroke-opacity:1; fill:none\" points=\"1933.66,1486.45 1933.66,1467.55 \"/>\n",
       "<polyline clip-path=\"url(#clip970)\" style=\"stroke:#000000; stroke-linecap:round; stroke-linejoin:round; stroke-width:4; stroke-opacity:1; fill:none\" points=\"2232.65,1486.45 2232.65,1467.55 \"/>\n",
       "<path clip-path=\"url(#clip970)\" d=\"M415.861 1517.37 Q412.25 1517.37 410.421 1520.93 Q408.615 1524.47 408.615 1531.6 Q408.615 1538.71 410.421 1542.27 Q412.25 1545.82 415.861 1545.82 Q419.495 1545.82 421.301 1542.27 Q423.129 1538.71 423.129 1531.6 Q423.129 1524.47 421.301 1520.93 Q419.495 1517.37 415.861 1517.37 M415.861 1513.66 Q421.671 1513.66 424.727 1518.27 Q427.805 1522.85 427.805 1531.6 Q427.805 1540.33 424.727 1544.94 Q421.671 1549.52 415.861 1549.52 Q410.051 1549.52 406.972 1544.94 Q403.916 1540.33 403.916 1531.6 Q403.916 1522.85 406.972 1518.27 Q410.051 1513.66 415.861 1513.66 Z\" fill=\"#000000\" fill-rule=\"nonzero\" fill-opacity=\"1\" /><path clip-path=\"url(#clip970)\" d=\"M436.023 1542.97 L440.907 1542.97 L440.907 1548.85 L436.023 1548.85 L436.023 1542.97 Z\" fill=\"#000000\" fill-rule=\"nonzero\" fill-opacity=\"1\" /><path clip-path=\"url(#clip970)\" d=\"M463.939 1518.36 L452.134 1536.81 L463.939 1536.81 L463.939 1518.36 M462.712 1514.29 L468.592 1514.29 L468.592 1536.81 L473.523 1536.81 L473.523 1540.7 L468.592 1540.7 L468.592 1548.85 L463.939 1548.85 L463.939 1540.7 L448.337 1540.7 L448.337 1536.19 L462.712 1514.29 Z\" fill=\"#000000\" fill-rule=\"nonzero\" fill-opacity=\"1\" /><path clip-path=\"url(#clip970)\" d=\"M715.012 1517.37 Q711.401 1517.37 709.572 1520.93 Q707.766 1524.47 707.766 1531.6 Q707.766 1538.71 709.572 1542.27 Q711.401 1545.82 715.012 1545.82 Q718.646 1545.82 720.451 1542.27 Q722.28 1538.71 722.28 1531.6 Q722.28 1524.47 720.451 1520.93 Q718.646 1517.37 715.012 1517.37 M715.012 1513.66 Q720.822 1513.66 723.877 1518.27 Q726.956 1522.85 726.956 1531.6 Q726.956 1540.33 723.877 1544.94 Q720.822 1549.52 715.012 1549.52 Q709.201 1549.52 706.123 1544.94 Q703.067 1540.33 703.067 1531.6 Q703.067 1522.85 706.123 1518.27 Q709.201 1513.66 715.012 1513.66 Z\" fill=\"#000000\" fill-rule=\"nonzero\" fill-opacity=\"1\" /><path clip-path=\"url(#clip970)\" d=\"M735.174 1542.97 L740.058 1542.97 L740.058 1548.85 L735.174 1548.85 L735.174 1542.97 Z\" fill=\"#000000\" fill-rule=\"nonzero\" fill-opacity=\"1\" /><path clip-path=\"url(#clip970)\" d=\"M760.822 1529.7 Q757.673 1529.7 755.822 1531.86 Q753.993 1534.01 753.993 1537.76 Q753.993 1541.49 755.822 1543.66 Q757.673 1545.82 760.822 1545.82 Q763.97 1545.82 765.798 1543.66 Q767.65 1541.49 767.65 1537.76 Q767.65 1534.01 765.798 1531.86 Q763.97 1529.7 760.822 1529.7 M770.104 1515.05 L770.104 1519.31 Q768.345 1518.48 766.539 1518.04 Q764.757 1517.6 762.997 1517.6 Q758.368 1517.6 755.914 1520.72 Q753.484 1523.85 753.136 1530.17 Q754.502 1528.15 756.562 1527.09 Q758.623 1526 761.099 1526 Q766.308 1526 769.317 1529.17 Q772.349 1532.32 772.349 1537.76 Q772.349 1543.08 769.201 1546.3 Q766.053 1549.52 760.822 1549.52 Q754.826 1549.52 751.655 1544.94 Q748.484 1540.33 748.484 1531.6 Q748.484 1523.41 752.373 1518.55 Q756.261 1513.66 762.812 1513.66 Q764.572 1513.66 766.354 1514.01 Q768.159 1514.36 770.104 1515.05 Z\" fill=\"#000000\" fill-rule=\"nonzero\" fill-opacity=\"1\" /><path clip-path=\"url(#clip970)\" d=\"M1014.13 1517.37 Q1010.52 1517.37 1008.69 1520.93 Q1006.88 1524.47 1006.88 1531.6 Q1006.88 1538.71 1008.69 1542.27 Q1010.52 1545.82 1014.13 1545.82 Q1017.76 1545.82 1019.57 1542.27 Q1021.4 1538.71 1021.4 1531.6 Q1021.4 1524.47 1019.57 1520.93 Q1017.76 1517.37 1014.13 1517.37 M1014.13 1513.66 Q1019.94 1513.66 1022.99 1518.27 Q1026.07 1522.85 1026.07 1531.6 Q1026.07 1540.33 1022.99 1544.94 Q1019.94 1549.52 1014.13 1549.52 Q1008.32 1549.52 1005.24 1544.94 Q1002.18 1540.33 1002.18 1531.6 Q1002.18 1522.85 1005.24 1518.27 Q1008.32 1513.66 1014.13 1513.66 Z\" fill=\"#000000\" fill-rule=\"nonzero\" fill-opacity=\"1\" /><path clip-path=\"url(#clip970)\" d=\"M1034.29 1542.97 L1039.17 1542.97 L1039.17 1548.85 L1034.29 1548.85 L1034.29 1542.97 Z\" fill=\"#000000\" fill-rule=\"nonzero\" fill-opacity=\"1\" /><path clip-path=\"url(#clip970)\" d=\"M1059.36 1532.44 Q1056.03 1532.44 1054.1 1534.22 Q1052.21 1536 1052.21 1539.13 Q1052.21 1542.25 1054.1 1544.03 Q1056.03 1545.82 1059.36 1545.82 Q1062.69 1545.82 1064.61 1544.03 Q1066.53 1542.23 1066.53 1539.13 Q1066.53 1536 1064.61 1534.22 Q1062.72 1532.44 1059.36 1532.44 M1054.68 1530.45 Q1051.67 1529.7 1049.98 1527.64 Q1048.32 1525.58 1048.32 1522.62 Q1048.32 1518.48 1051.26 1516.07 Q1054.22 1513.66 1059.36 1513.66 Q1064.52 1513.66 1067.46 1516.07 Q1070.4 1518.48 1070.4 1522.62 Q1070.4 1525.58 1068.71 1527.64 Q1067.04 1529.7 1064.06 1530.45 Q1067.44 1531.23 1069.31 1533.52 Q1071.21 1535.82 1071.21 1539.13 Q1071.21 1544.15 1068.13 1546.83 Q1065.08 1549.52 1059.36 1549.52 Q1053.64 1549.52 1050.56 1546.83 Q1047.51 1544.15 1047.51 1539.13 Q1047.51 1535.82 1049.41 1533.52 Q1051.3 1531.23 1054.68 1530.45 M1052.97 1523.06 Q1052.97 1525.75 1054.64 1527.25 Q1056.33 1528.76 1059.36 1528.76 Q1062.37 1528.76 1064.06 1527.25 Q1065.77 1525.75 1065.77 1523.06 Q1065.77 1520.38 1064.06 1518.87 Q1062.37 1517.37 1059.36 1517.37 Q1056.33 1517.37 1054.64 1518.87 Q1052.97 1520.38 1052.97 1523.06 Z\" fill=\"#000000\" fill-rule=\"nonzero\" fill-opacity=\"1\" /><path clip-path=\"url(#clip970)\" d=\"M1302.84 1544.91 L1310.48 1544.91 L1310.48 1518.55 L1302.17 1520.21 L1302.17 1515.95 L1310.43 1514.29 L1315.11 1514.29 L1315.11 1544.91 L1322.75 1544.91 L1322.75 1548.85 L1302.84 1548.85 L1302.84 1544.91 Z\" fill=\"#000000\" fill-rule=\"nonzero\" fill-opacity=\"1\" /><path clip-path=\"url(#clip970)\" d=\"M1332.19 1542.97 L1337.07 1542.97 L1337.07 1548.85 L1332.19 1548.85 L1332.19 1542.97 Z\" fill=\"#000000\" fill-rule=\"nonzero\" fill-opacity=\"1\" /><path clip-path=\"url(#clip970)\" d=\"M1357.26 1517.37 Q1353.65 1517.37 1351.82 1520.93 Q1350.01 1524.47 1350.01 1531.6 Q1350.01 1538.71 1351.82 1542.27 Q1353.65 1545.82 1357.26 1545.82 Q1360.89 1545.82 1362.7 1542.27 Q1364.53 1538.71 1364.53 1531.6 Q1364.53 1524.47 1362.7 1520.93 Q1360.89 1517.37 1357.26 1517.37 M1357.26 1513.66 Q1363.07 1513.66 1366.13 1518.27 Q1369.2 1522.85 1369.2 1531.6 Q1369.2 1540.33 1366.13 1544.94 Q1363.07 1549.52 1357.26 1549.52 Q1351.45 1549.52 1348.37 1544.94 Q1345.32 1540.33 1345.32 1531.6 Q1345.32 1522.85 1348.37 1518.27 Q1351.45 1513.66 1357.26 1513.66 Z\" fill=\"#000000\" fill-rule=\"nonzero\" fill-opacity=\"1\" /><path clip-path=\"url(#clip970)\" d=\"M1602.63 1544.91 L1610.26 1544.91 L1610.26 1518.55 L1601.95 1520.21 L1601.95 1515.95 L1610.22 1514.29 L1614.89 1514.29 L1614.89 1544.91 L1622.53 1544.91 L1622.53 1548.85 L1602.63 1548.85 L1602.63 1544.91 Z\" fill=\"#000000\" fill-rule=\"nonzero\" fill-opacity=\"1\" /><path clip-path=\"url(#clip970)\" d=\"M1631.98 1542.97 L1636.86 1542.97 L1636.86 1548.85 L1631.98 1548.85 L1631.98 1542.97 Z\" fill=\"#000000\" fill-rule=\"nonzero\" fill-opacity=\"1\" /><path clip-path=\"url(#clip970)\" d=\"M1651.07 1544.91 L1667.39 1544.91 L1667.39 1548.85 L1645.45 1548.85 L1645.45 1544.91 Q1648.11 1542.16 1652.7 1537.53 Q1657.3 1532.88 1658.48 1531.53 Q1660.73 1529.01 1661.61 1527.27 Q1662.51 1525.51 1662.51 1523.82 Q1662.51 1521.07 1660.57 1519.33 Q1658.64 1517.6 1655.54 1517.6 Q1653.34 1517.6 1650.89 1518.36 Q1648.46 1519.13 1645.68 1520.68 L1645.68 1515.95 Q1648.51 1514.82 1650.96 1514.24 Q1653.41 1513.66 1655.45 1513.66 Q1660.82 1513.66 1664.01 1516.35 Q1667.21 1519.03 1667.21 1523.52 Q1667.21 1525.65 1666.4 1527.57 Q1665.61 1529.47 1663.51 1532.07 Q1662.93 1532.74 1659.82 1535.95 Q1656.72 1539.15 1651.07 1544.91 Z\" fill=\"#000000\" fill-rule=\"nonzero\" fill-opacity=\"1\" /><path clip-path=\"url(#clip970)\" d=\"M1900.57 1544.91 L1908.21 1544.91 L1908.21 1518.55 L1899.9 1520.21 L1899.9 1515.95 L1908.17 1514.29 L1912.84 1514.29 L1912.84 1544.91 L1920.48 1544.91 L1920.48 1548.85 L1900.57 1548.85 L1900.57 1544.91 Z\" fill=\"#000000\" fill-rule=\"nonzero\" fill-opacity=\"1\" /><path clip-path=\"url(#clip970)\" d=\"M1929.92 1542.97 L1934.81 1542.97 L1934.81 1548.85 L1929.92 1548.85 L1929.92 1542.97 Z\" fill=\"#000000\" fill-rule=\"nonzero\" fill-opacity=\"1\" /><path clip-path=\"url(#clip970)\" d=\"M1957.84 1518.36 L1946.04 1536.81 L1957.84 1536.81 L1957.84 1518.36 M1956.61 1514.29 L1962.49 1514.29 L1962.49 1536.81 L1967.42 1536.81 L1967.42 1540.7 L1962.49 1540.7 L1962.49 1548.85 L1957.84 1548.85 L1957.84 1540.7 L1942.24 1540.7 L1942.24 1536.19 L1956.61 1514.29 Z\" fill=\"#000000\" fill-rule=\"nonzero\" fill-opacity=\"1\" /><path clip-path=\"url(#clip970)\" d=\"M2199.72 1544.91 L2207.36 1544.91 L2207.36 1518.55 L2199.05 1520.21 L2199.05 1515.95 L2207.32 1514.29 L2211.99 1514.29 L2211.99 1544.91 L2219.63 1544.91 L2219.63 1548.85 L2199.72 1548.85 L2199.72 1544.91 Z\" fill=\"#000000\" fill-rule=\"nonzero\" fill-opacity=\"1\" /><path clip-path=\"url(#clip970)\" d=\"M2229.08 1542.97 L2233.96 1542.97 L2233.96 1548.85 L2229.08 1548.85 L2229.08 1542.97 Z\" fill=\"#000000\" fill-rule=\"nonzero\" fill-opacity=\"1\" /><path clip-path=\"url(#clip970)\" d=\"M2254.72 1529.7 Q2251.58 1529.7 2249.72 1531.86 Q2247.9 1534.01 2247.9 1537.76 Q2247.9 1541.49 2249.72 1543.66 Q2251.58 1545.82 2254.72 1545.82 Q2257.87 1545.82 2259.7 1543.66 Q2261.55 1541.49 2261.55 1537.76 Q2261.55 1534.01 2259.7 1531.86 Q2257.87 1529.7 2254.72 1529.7 M2264.01 1515.05 L2264.01 1519.31 Q2262.25 1518.48 2260.44 1518.04 Q2258.66 1517.6 2256.9 1517.6 Q2252.27 1517.6 2249.82 1520.72 Q2247.39 1523.85 2247.04 1530.17 Q2248.4 1528.15 2250.46 1527.09 Q2252.52 1526 2255 1526 Q2260.21 1526 2263.22 1529.17 Q2266.25 1532.32 2266.25 1537.76 Q2266.25 1543.08 2263.1 1546.3 Q2259.96 1549.52 2254.72 1549.52 Q2248.73 1549.52 2245.56 1544.94 Q2242.39 1540.33 2242.39 1531.6 Q2242.39 1523.41 2246.27 1518.55 Q2250.16 1513.66 2256.71 1513.66 Q2258.47 1513.66 2260.26 1514.01 Q2262.06 1514.36 2264.01 1515.05 Z\" fill=\"#000000\" fill-rule=\"nonzero\" fill-opacity=\"1\" /><polyline clip-path=\"url(#clip972)\" style=\"stroke:#000000; stroke-linecap:round; stroke-linejoin:round; stroke-width:2; stroke-opacity:0.1; fill:none\" points=\"169.121,1486.45 2352.76,1486.45 \"/>\n",
       "<polyline clip-path=\"url(#clip972)\" style=\"stroke:#000000; stroke-linecap:round; stroke-linejoin:round; stroke-width:2; stroke-opacity:0.1; fill:none\" points=\"169.121,1006.71 2352.76,1006.71 \"/>\n",
       "<polyline clip-path=\"url(#clip972)\" style=\"stroke:#000000; stroke-linecap:round; stroke-linejoin:round; stroke-width:2; stroke-opacity:0.1; fill:none\" points=\"169.121,526.979 2352.76,526.979 \"/>\n",
       "<polyline clip-path=\"url(#clip972)\" style=\"stroke:#000000; stroke-linecap:round; stroke-linejoin:round; stroke-width:2; stroke-opacity:0.1; fill:none\" points=\"169.121,47.2441 2352.76,47.2441 \"/>\n",
       "<polyline clip-path=\"url(#clip970)\" style=\"stroke:#000000; stroke-linecap:round; stroke-linejoin:round; stroke-width:4; stroke-opacity:1; fill:none\" points=\"169.121,1486.45 169.121,47.2441 \"/>\n",
       "<polyline clip-path=\"url(#clip970)\" style=\"stroke:#000000; stroke-linecap:round; stroke-linejoin:round; stroke-width:4; stroke-opacity:1; fill:none\" points=\"169.121,1486.45 188.019,1486.45 \"/>\n",
       "<polyline clip-path=\"url(#clip970)\" style=\"stroke:#000000; stroke-linecap:round; stroke-linejoin:round; stroke-width:4; stroke-opacity:1; fill:none\" points=\"169.121,1006.71 188.019,1006.71 \"/>\n",
       "<polyline clip-path=\"url(#clip970)\" style=\"stroke:#000000; stroke-linecap:round; stroke-linejoin:round; stroke-width:4; stroke-opacity:1; fill:none\" points=\"169.121,526.979 188.019,526.979 \"/>\n",
       "<polyline clip-path=\"url(#clip970)\" style=\"stroke:#000000; stroke-linecap:round; stroke-linejoin:round; stroke-width:4; stroke-opacity:1; fill:none\" points=\"169.121,47.2441 188.019,47.2441 \"/>\n",
       "<path clip-path=\"url(#clip970)\" d=\"M121.177 1472.25 Q117.566 1472.25 115.737 1475.81 Q113.932 1479.35 113.932 1486.48 Q113.932 1493.59 115.737 1497.15 Q117.566 1500.7 121.177 1500.7 Q124.811 1500.7 126.617 1497.15 Q128.445 1493.59 128.445 1486.48 Q128.445 1479.35 126.617 1475.81 Q124.811 1472.25 121.177 1472.25 M121.177 1468.54 Q126.987 1468.54 130.043 1473.15 Q133.121 1477.73 133.121 1486.48 Q133.121 1495.21 130.043 1499.82 Q126.987 1504.4 121.177 1504.4 Q115.367 1504.4 112.288 1499.82 Q109.233 1495.21 109.233 1486.48 Q109.233 1477.73 112.288 1473.15 Q115.367 1468.54 121.177 1468.54 Z\" fill=\"#000000\" fill-rule=\"nonzero\" fill-opacity=\"1\" /><path clip-path=\"url(#clip970)\" d=\"M81.0614 989.433 L99.4178 989.433 L99.4178 993.368 L85.3438 993.368 L85.3438 1001.84 Q86.3623 1001.49 87.3808 1001.33 Q88.3993 1001.15 89.4178 1001.15 Q95.2049 1001.15 98.5845 1004.32 Q101.964 1007.49 101.964 1012.91 Q101.964 1018.48 98.4919 1021.59 Q95.0197 1024.66 88.7003 1024.66 Q86.5243 1024.66 84.2558 1024.29 Q82.0105 1023.92 79.6031 1023.18 L79.6031 1018.48 Q81.6864 1019.62 83.9086 1020.17 Q86.1308 1020.73 88.6077 1020.73 Q92.6123 1020.73 94.9502 1018.62 Q97.2882 1016.52 97.2882 1012.91 Q97.2882 1009.29 94.9502 1007.19 Q92.6123 1005.08 88.6077 1005.08 Q86.7327 1005.08 84.8577 1005.5 Q83.0058 1005.91 81.0614 1006.79 L81.0614 989.433 Z\" fill=\"#000000\" fill-rule=\"nonzero\" fill-opacity=\"1\" /><path clip-path=\"url(#clip970)\" d=\"M121.177 992.512 Q117.566 992.512 115.737 996.077 Q113.932 999.618 113.932 1006.75 Q113.932 1013.85 115.737 1017.42 Q117.566 1020.96 121.177 1020.96 Q124.811 1020.96 126.617 1017.42 Q128.445 1013.85 128.445 1006.75 Q128.445 999.618 126.617 996.077 Q124.811 992.512 121.177 992.512 M121.177 988.808 Q126.987 988.808 130.043 993.415 Q133.121 997.998 133.121 1006.75 Q133.121 1015.47 130.043 1020.08 Q126.987 1024.66 121.177 1024.66 Q115.367 1024.66 112.288 1020.08 Q109.233 1015.47 109.233 1006.75 Q109.233 997.998 112.288 993.415 Q115.367 988.808 121.177 988.808 Z\" fill=\"#000000\" fill-rule=\"nonzero\" fill-opacity=\"1\" /><path clip-path=\"url(#clip970)\" d=\"M51.6634 540.324 L59.3023 540.324 L59.3023 513.958 L50.9921 515.625 L50.9921 511.365 L59.256 509.699 L63.9319 509.699 L63.9319 540.324 L71.5707 540.324 L71.5707 544.259 L51.6634 544.259 L51.6634 540.324 Z\" fill=\"#000000\" fill-rule=\"nonzero\" fill-opacity=\"1\" /><path clip-path=\"url(#clip970)\" d=\"M91.0151 512.777 Q87.404 512.777 85.5753 516.342 Q83.7697 519.884 83.7697 527.013 Q83.7697 534.12 85.5753 537.685 Q87.404 541.226 91.0151 541.226 Q94.6493 541.226 96.4548 537.685 Q98.2835 534.12 98.2835 527.013 Q98.2835 519.884 96.4548 516.342 Q94.6493 512.777 91.0151 512.777 M91.0151 509.074 Q96.8252 509.074 99.8808 513.68 Q102.959 518.263 102.959 527.013 Q102.959 535.74 99.8808 540.347 Q96.8252 544.93 91.0151 544.93 Q85.2049 544.93 82.1262 540.347 Q79.0707 535.74 79.0707 527.013 Q79.0707 518.263 82.1262 513.68 Q85.2049 509.074 91.0151 509.074 Z\" fill=\"#000000\" fill-rule=\"nonzero\" fill-opacity=\"1\" /><path clip-path=\"url(#clip970)\" d=\"M121.177 512.777 Q117.566 512.777 115.737 516.342 Q113.932 519.884 113.932 527.013 Q113.932 534.12 115.737 537.685 Q117.566 541.226 121.177 541.226 Q124.811 541.226 126.617 537.685 Q128.445 534.12 128.445 527.013 Q128.445 519.884 126.617 516.342 Q124.811 512.777 121.177 512.777 M121.177 509.074 Q126.987 509.074 130.043 513.68 Q133.121 518.263 133.121 527.013 Q133.121 535.74 130.043 540.347 Q126.987 544.93 121.177 544.93 Q115.367 544.93 112.288 540.347 Q109.233 535.74 109.233 527.013 Q109.233 518.263 112.288 513.68 Q115.367 509.074 121.177 509.074 Z\" fill=\"#000000\" fill-rule=\"nonzero\" fill-opacity=\"1\" /><path clip-path=\"url(#clip970)\" d=\"M51.6634 60.5889 L59.3023 60.5889 L59.3023 34.2233 L50.9921 35.89 L50.9921 31.6308 L59.256 29.9641 L63.9319 29.9641 L63.9319 60.5889 L71.5707 60.5889 L71.5707 64.5241 L51.6634 64.5241 L51.6634 60.5889 Z\" fill=\"#000000\" fill-rule=\"nonzero\" fill-opacity=\"1\" /><path clip-path=\"url(#clip970)\" d=\"M81.0614 29.9641 L99.4178 29.9641 L99.4178 33.8993 L85.3438 33.8993 L85.3438 42.3714 Q86.3623 42.0242 87.3808 41.8622 Q88.3993 41.677 89.4178 41.677 Q95.2049 41.677 98.5845 44.8483 Q101.964 48.0196 101.964 53.4362 Q101.964 59.0149 98.4919 62.1167 Q95.0197 65.1954 88.7003 65.1954 Q86.5243 65.1954 84.2558 64.825 Q82.0105 64.4547 79.6031 63.7139 L79.6031 59.0149 Q81.6864 60.1491 83.9086 60.7047 Q86.1308 61.2602 88.6077 61.2602 Q92.6123 61.2602 94.9502 59.1538 Q97.2882 57.0473 97.2882 53.4362 Q97.2882 49.8251 94.9502 47.7186 Q92.6123 45.6122 88.6077 45.6122 Q86.7327 45.6122 84.8577 46.0288 Q83.0058 46.4455 81.0614 47.3251 L81.0614 29.9641 Z\" fill=\"#000000\" fill-rule=\"nonzero\" fill-opacity=\"1\" /><path clip-path=\"url(#clip970)\" d=\"M121.177 33.0428 Q117.566 33.0428 115.737 36.6076 Q113.932 40.1492 113.932 47.2788 Q113.932 54.3853 115.737 57.9501 Q117.566 61.4917 121.177 61.4917 Q124.811 61.4917 126.617 57.9501 Q128.445 54.3853 128.445 47.2788 Q128.445 40.1492 126.617 36.6076 Q124.811 33.0428 121.177 33.0428 M121.177 29.3391 Q126.987 29.3391 130.043 33.9456 Q133.121 38.5289 133.121 47.2788 Q133.121 56.0056 130.043 60.6121 Q126.987 65.1954 121.177 65.1954 Q115.367 65.1954 112.288 60.6121 Q109.233 56.0056 109.233 47.2788 Q109.233 38.5289 112.288 33.9456 Q115.367 29.3391 121.177 29.3391 Z\" fill=\"#000000\" fill-rule=\"nonzero\" fill-opacity=\"1\" /><path clip-path=\"url(#clip972)\" d=\"M289.225 1486.45 L289.225 1486.45 L363.972 1486.45 L363.972 1486.45 L289.225 1486.45 L289.225 1486.45  Z\" fill=\"#009af9\" fill-rule=\"evenodd\" fill-opacity=\"1\"/>\n",
       "<polyline clip-path=\"url(#clip972)\" style=\"stroke:#000000; stroke-linecap:round; stroke-linejoin:round; stroke-width:4; stroke-opacity:1; fill:none\" points=\"289.225,1486.45 289.225,1486.45 363.972,1486.45 289.225,1486.45 \"/>\n",
       "<path clip-path=\"url(#clip972)\" d=\"M363.972 1486.45 L363.972 1486.45 L438.719 1486.45 L438.719 1486.45 L363.972 1486.45 L363.972 1486.45  Z\" fill=\"#009af9\" fill-rule=\"evenodd\" fill-opacity=\"1\"/>\n",
       "<polyline clip-path=\"url(#clip972)\" style=\"stroke:#000000; stroke-linecap:round; stroke-linejoin:round; stroke-width:4; stroke-opacity:1; fill:none\" points=\"363.972,1486.45 363.972,1486.45 438.719,1486.45 363.972,1486.45 \"/>\n",
       "<path clip-path=\"url(#clip972)\" d=\"M438.719 1486.45 L438.719 1486.45 L513.467 1486.45 L513.467 1486.45 L438.719 1486.45 L438.719 1486.45  Z\" fill=\"#009af9\" fill-rule=\"evenodd\" fill-opacity=\"1\"/>\n",
       "<polyline clip-path=\"url(#clip972)\" style=\"stroke:#000000; stroke-linecap:round; stroke-linejoin:round; stroke-width:4; stroke-opacity:1; fill:none\" points=\"438.719,1486.45 438.719,1486.45 513.467,1486.45 438.719,1486.45 \"/>\n",
       "<path clip-path=\"url(#clip972)\" d=\"M513.467 1486.45 L513.467 1486.45 L588.214 1486.45 L588.214 1486.45 L513.467 1486.45 L513.467 1486.45  Z\" fill=\"#009af9\" fill-rule=\"evenodd\" fill-opacity=\"1\"/>\n",
       "<polyline clip-path=\"url(#clip972)\" style=\"stroke:#000000; stroke-linecap:round; stroke-linejoin:round; stroke-width:4; stroke-opacity:1; fill:none\" points=\"513.467,1486.45 513.467,1486.45 588.214,1486.45 513.467,1486.45 \"/>\n",
       "<path clip-path=\"url(#clip972)\" d=\"M588.214 1476.85 L588.214 1486.45 L662.961 1486.45 L662.961 1476.85 L588.214 1476.85 L588.214 1476.85  Z\" fill=\"#009af9\" fill-rule=\"evenodd\" fill-opacity=\"1\"/>\n",
       "<polyline clip-path=\"url(#clip972)\" style=\"stroke:#000000; stroke-linecap:round; stroke-linejoin:round; stroke-width:4; stroke-opacity:1; fill:none\" points=\"588.214,1476.85 588.214,1486.45 662.961,1486.45 662.961,1476.85 588.214,1476.85 \"/>\n",
       "<path clip-path=\"url(#clip972)\" d=\"M662.961 1448.07 L662.961 1486.45 L737.708 1486.45 L737.708 1448.07 L662.961 1448.07 L662.961 1448.07  Z\" fill=\"#009af9\" fill-rule=\"evenodd\" fill-opacity=\"1\"/>\n",
       "<polyline clip-path=\"url(#clip972)\" style=\"stroke:#000000; stroke-linecap:round; stroke-linejoin:round; stroke-width:4; stroke-opacity:1; fill:none\" points=\"662.961,1448.07 662.961,1486.45 737.708,1486.45 737.708,1448.07 662.961,1448.07 \"/>\n",
       "<path clip-path=\"url(#clip972)\" d=\"M737.708 1409.69 L737.708 1486.45 L812.455 1486.45 L812.455 1409.69 L737.708 1409.69 L737.708 1409.69  Z\" fill=\"#009af9\" fill-rule=\"evenodd\" fill-opacity=\"1\"/>\n",
       "<polyline clip-path=\"url(#clip972)\" style=\"stroke:#000000; stroke-linecap:round; stroke-linejoin:round; stroke-width:4; stroke-opacity:1; fill:none\" points=\"737.708,1409.69 737.708,1486.45 812.455,1486.45 812.455,1409.69 737.708,1409.69 \"/>\n",
       "<path clip-path=\"url(#clip972)\" d=\"M812.455 1419.29 L812.455 1486.45 L887.203 1486.45 L887.203 1419.29 L812.455 1419.29 L812.455 1419.29  Z\" fill=\"#009af9\" fill-rule=\"evenodd\" fill-opacity=\"1\"/>\n",
       "<polyline clip-path=\"url(#clip972)\" style=\"stroke:#000000; stroke-linecap:round; stroke-linejoin:round; stroke-width:4; stroke-opacity:1; fill:none\" points=\"812.455,1419.29 812.455,1486.45 887.203,1486.45 887.203,1419.29 812.455,1419.29 \"/>\n",
       "<path clip-path=\"url(#clip972)\" d=\"M887.203 1246.58 L887.203 1486.45 L961.95 1486.45 L961.95 1246.58 L887.203 1246.58 L887.203 1246.58  Z\" fill=\"#009af9\" fill-rule=\"evenodd\" fill-opacity=\"1\"/>\n",
       "<polyline clip-path=\"url(#clip972)\" style=\"stroke:#000000; stroke-linecap:round; stroke-linejoin:round; stroke-width:4; stroke-opacity:1; fill:none\" points=\"887.203,1246.58 887.203,1486.45 961.95,1486.45 961.95,1246.58 887.203,1246.58 \"/>\n",
       "<path clip-path=\"url(#clip972)\" d=\"M961.95 1150.63 L961.95 1486.45 L1036.7 1486.45 L1036.7 1150.63 L961.95 1150.63 L961.95 1150.63  Z\" fill=\"#009af9\" fill-rule=\"evenodd\" fill-opacity=\"1\"/>\n",
       "<polyline clip-path=\"url(#clip972)\" style=\"stroke:#000000; stroke-linecap:round; stroke-linejoin:round; stroke-width:4; stroke-opacity:1; fill:none\" points=\"961.95,1150.63 961.95,1486.45 1036.7,1486.45 1036.7,1150.63 961.95,1150.63 \"/>\n",
       "<path clip-path=\"url(#clip972)\" d=\"M1036.7 1198.61 L1036.7 1486.45 L1111.44 1486.45 L1111.44 1198.61 L1036.7 1198.61 L1036.7 1198.61  Z\" fill=\"#009af9\" fill-rule=\"evenodd\" fill-opacity=\"1\"/>\n",
       "<polyline clip-path=\"url(#clip972)\" style=\"stroke:#000000; stroke-linecap:round; stroke-linejoin:round; stroke-width:4; stroke-opacity:1; fill:none\" points=\"1036.7,1198.61 1036.7,1486.45 1111.44,1486.45 1111.44,1198.61 1036.7,1198.61 \"/>\n",
       "<path clip-path=\"url(#clip972)\" d=\"M1111.44 1083.47 L1111.44 1486.45 L1186.19 1486.45 L1186.19 1083.47 L1111.44 1083.47 L1111.44 1083.47  Z\" fill=\"#009af9\" fill-rule=\"evenodd\" fill-opacity=\"1\"/>\n",
       "<polyline clip-path=\"url(#clip972)\" style=\"stroke:#000000; stroke-linecap:round; stroke-linejoin:round; stroke-width:4; stroke-opacity:1; fill:none\" points=\"1111.44,1083.47 1111.44,1486.45 1186.19,1486.45 1186.19,1083.47 1111.44,1083.47 \"/>\n",
       "<path clip-path=\"url(#clip972)\" d=\"M1186.19 881.982 L1186.19 1486.45 L1260.94 1486.45 L1260.94 881.982 L1186.19 881.982 L1186.19 881.982  Z\" fill=\"#009af9\" fill-rule=\"evenodd\" fill-opacity=\"1\"/>\n",
       "<polyline clip-path=\"url(#clip972)\" style=\"stroke:#000000; stroke-linecap:round; stroke-linejoin:round; stroke-width:4; stroke-opacity:1; fill:none\" points=\"1186.19,881.982 1186.19,1486.45 1260.94,1486.45 1260.94,881.982 1186.19,881.982 \"/>\n",
       "<path clip-path=\"url(#clip972)\" d=\"M1260.94 450.221 L1260.94 1486.45 L1335.69 1486.45 L1335.69 450.221 L1260.94 450.221 L1260.94 450.221  Z\" fill=\"#009af9\" fill-rule=\"evenodd\" fill-opacity=\"1\"/>\n",
       "<polyline clip-path=\"url(#clip972)\" style=\"stroke:#000000; stroke-linecap:round; stroke-linejoin:round; stroke-width:4; stroke-opacity:1; fill:none\" points=\"1260.94,450.221 1260.94,1486.45 1335.69,1486.45 1335.69,450.221 1260.94,450.221 \"/>\n",
       "<path clip-path=\"url(#clip972)\" d=\"M1335.69 498.195 L1335.69 1486.45 L1410.43 1486.45 L1410.43 498.195 L1335.69 498.195 L1335.69 498.195  Z\" fill=\"#009af9\" fill-rule=\"evenodd\" fill-opacity=\"1\"/>\n",
       "<polyline clip-path=\"url(#clip972)\" style=\"stroke:#000000; stroke-linecap:round; stroke-linejoin:round; stroke-width:4; stroke-opacity:1; fill:none\" points=\"1335.69,498.195 1335.69,1486.45 1410.43,1486.45 1410.43,498.195 1335.69,498.195 \"/>\n",
       "<path clip-path=\"url(#clip972)\" d=\"M1410.43 584.547 L1410.43 1486.45 L1485.18 1486.45 L1485.18 584.547 L1410.43 584.547 L1410.43 584.547  Z\" fill=\"#009af9\" fill-rule=\"evenodd\" fill-opacity=\"1\"/>\n",
       "<polyline clip-path=\"url(#clip972)\" style=\"stroke:#000000; stroke-linecap:round; stroke-linejoin:round; stroke-width:4; stroke-opacity:1; fill:none\" points=\"1410.43,584.547 1410.43,1486.45 1485.18,1486.45 1485.18,584.547 1410.43,584.547 \"/>\n",
       "<path clip-path=\"url(#clip972)\" d=\"M1485.18 1045.09 L1485.18 1486.45 L1559.93 1486.45 L1559.93 1045.09 L1485.18 1045.09 L1485.18 1045.09  Z\" fill=\"#009af9\" fill-rule=\"evenodd\" fill-opacity=\"1\"/>\n",
       "<polyline clip-path=\"url(#clip972)\" style=\"stroke:#000000; stroke-linecap:round; stroke-linejoin:round; stroke-width:4; stroke-opacity:1; fill:none\" points=\"1485.18,1045.09 1485.18,1486.45 1559.93,1486.45 1559.93,1045.09 1485.18,1045.09 \"/>\n",
       "<path clip-path=\"url(#clip972)\" d=\"M1559.93 1179.42 L1559.93 1486.45 L1634.67 1486.45 L1634.67 1179.42 L1559.93 1179.42 L1559.93 1179.42  Z\" fill=\"#009af9\" fill-rule=\"evenodd\" fill-opacity=\"1\"/>\n",
       "<polyline clip-path=\"url(#clip972)\" style=\"stroke:#000000; stroke-linecap:round; stroke-linejoin:round; stroke-width:4; stroke-opacity:1; fill:none\" points=\"1559.93,1179.42 1559.93,1486.45 1634.67,1486.45 1634.67,1179.42 1559.93,1179.42 \"/>\n",
       "<path clip-path=\"url(#clip972)\" d=\"M1634.67 1284.96 L1634.67 1486.45 L1709.42 1486.45 L1709.42 1284.96 L1634.67 1284.96 L1634.67 1284.96  Z\" fill=\"#009af9\" fill-rule=\"evenodd\" fill-opacity=\"1\"/>\n",
       "<polyline clip-path=\"url(#clip972)\" style=\"stroke:#000000; stroke-linecap:round; stroke-linejoin:round; stroke-width:4; stroke-opacity:1; fill:none\" points=\"1634.67,1284.96 1634.67,1486.45 1709.42,1486.45 1709.42,1284.96 1634.67,1284.96 \"/>\n",
       "<path clip-path=\"url(#clip972)\" d=\"M1709.42 1448.07 L1709.42 1486.45 L1784.17 1486.45 L1784.17 1448.07 L1709.42 1448.07 L1709.42 1448.07  Z\" fill=\"#009af9\" fill-rule=\"evenodd\" fill-opacity=\"1\"/>\n",
       "<polyline clip-path=\"url(#clip972)\" style=\"stroke:#000000; stroke-linecap:round; stroke-linejoin:round; stroke-width:4; stroke-opacity:1; fill:none\" points=\"1709.42,1448.07 1709.42,1486.45 1784.17,1486.45 1784.17,1448.07 1709.42,1448.07 \"/>\n",
       "<path clip-path=\"url(#clip972)\" d=\"M1784.17 1467.26 L1784.17 1486.45 L1858.92 1486.45 L1858.92 1467.26 L1784.17 1467.26 L1784.17 1467.26  Z\" fill=\"#009af9\" fill-rule=\"evenodd\" fill-opacity=\"1\"/>\n",
       "<polyline clip-path=\"url(#clip972)\" style=\"stroke:#000000; stroke-linecap:round; stroke-linejoin:round; stroke-width:4; stroke-opacity:1; fill:none\" points=\"1784.17,1467.26 1784.17,1486.45 1858.92,1486.45 1858.92,1467.26 1784.17,1467.26 \"/>\n",
       "<path clip-path=\"url(#clip972)\" d=\"M1858.92 1486.45 L1858.92 1486.45 L1933.66 1486.45 L1933.66 1486.45 L1858.92 1486.45 L1858.92 1486.45  Z\" fill=\"#009af9\" fill-rule=\"evenodd\" fill-opacity=\"1\"/>\n",
       "<polyline clip-path=\"url(#clip972)\" style=\"stroke:#000000; stroke-linecap:round; stroke-linejoin:round; stroke-width:4; stroke-opacity:1; fill:none\" points=\"1858.92,1486.45 1858.92,1486.45 1933.66,1486.45 1858.92,1486.45 \"/>\n",
       "<path clip-path=\"url(#clip972)\" d=\"M1933.66 1486.45 L1933.66 1486.45 L2008.41 1486.45 L2008.41 1486.45 L1933.66 1486.45 L1933.66 1486.45  Z\" fill=\"#009af9\" fill-rule=\"evenodd\" fill-opacity=\"1\"/>\n",
       "<polyline clip-path=\"url(#clip972)\" style=\"stroke:#000000; stroke-linecap:round; stroke-linejoin:round; stroke-width:4; stroke-opacity:1; fill:none\" points=\"1933.66,1486.45 1933.66,1486.45 2008.41,1486.45 1933.66,1486.45 \"/>\n",
       "<path clip-path=\"url(#clip972)\" d=\"M2008.41 1486.45 L2008.41 1486.45 L2083.16 1486.45 L2083.16 1486.45 L2008.41 1486.45 L2008.41 1486.45  Z\" fill=\"#009af9\" fill-rule=\"evenodd\" fill-opacity=\"1\"/>\n",
       "<polyline clip-path=\"url(#clip972)\" style=\"stroke:#000000; stroke-linecap:round; stroke-linejoin:round; stroke-width:4; stroke-opacity:1; fill:none\" points=\"2008.41,1486.45 2008.41,1486.45 2083.16,1486.45 2008.41,1486.45 \"/>\n",
       "<path clip-path=\"url(#clip972)\" d=\"M2083.16 1486.45 L2083.16 1486.45 L2157.9 1486.45 L2157.9 1486.45 L2083.16 1486.45 L2083.16 1486.45  Z\" fill=\"#009af9\" fill-rule=\"evenodd\" fill-opacity=\"1\"/>\n",
       "<polyline clip-path=\"url(#clip972)\" style=\"stroke:#000000; stroke-linecap:round; stroke-linejoin:round; stroke-width:4; stroke-opacity:1; fill:none\" points=\"2083.16,1486.45 2083.16,1486.45 2157.9,1486.45 2083.16,1486.45 \"/>\n",
       "<path clip-path=\"url(#clip972)\" d=\"M2157.9 1486.45 L2157.9 1486.45 L2232.65 1486.45 L2232.65 1486.45 L2157.9 1486.45 L2157.9 1486.45  Z\" fill=\"#009af9\" fill-rule=\"evenodd\" fill-opacity=\"1\"/>\n",
       "<polyline clip-path=\"url(#clip972)\" style=\"stroke:#000000; stroke-linecap:round; stroke-linejoin:round; stroke-width:4; stroke-opacity:1; fill:none\" points=\"2157.9,1486.45 2157.9,1486.45 2232.65,1486.45 2157.9,1486.45 \"/>\n",
       "<circle clip-path=\"url(#clip972)\" style=\"fill:#009af9; stroke:none; fill-opacity:0\" cx=\"326.599\" cy=\"1486.45\" r=\"2\"/>\n",
       "<circle clip-path=\"url(#clip972)\" style=\"fill:#009af9; stroke:none; fill-opacity:0\" cx=\"401.346\" cy=\"1486.45\" r=\"2\"/>\n",
       "<circle clip-path=\"url(#clip972)\" style=\"fill:#009af9; stroke:none; fill-opacity:0\" cx=\"476.093\" cy=\"1486.45\" r=\"2\"/>\n",
       "<circle clip-path=\"url(#clip972)\" style=\"fill:#009af9; stroke:none; fill-opacity:0\" cx=\"550.84\" cy=\"1486.45\" r=\"2\"/>\n",
       "<circle clip-path=\"url(#clip972)\" style=\"fill:#009af9; stroke:none; fill-opacity:0\" cx=\"625.587\" cy=\"1476.85\" r=\"2\"/>\n",
       "<circle clip-path=\"url(#clip972)\" style=\"fill:#009af9; stroke:none; fill-opacity:0\" cx=\"700.335\" cy=\"1448.07\" r=\"2\"/>\n",
       "<circle clip-path=\"url(#clip972)\" style=\"fill:#009af9; stroke:none; fill-opacity:0\" cx=\"775.082\" cy=\"1409.69\" r=\"2\"/>\n",
       "<circle clip-path=\"url(#clip972)\" style=\"fill:#009af9; stroke:none; fill-opacity:0\" cx=\"849.829\" cy=\"1419.29\" r=\"2\"/>\n",
       "<circle clip-path=\"url(#clip972)\" style=\"fill:#009af9; stroke:none; fill-opacity:0\" cx=\"924.576\" cy=\"1246.58\" r=\"2\"/>\n",
       "<circle clip-path=\"url(#clip972)\" style=\"fill:#009af9; stroke:none; fill-opacity:0\" cx=\"999.323\" cy=\"1150.63\" r=\"2\"/>\n",
       "<circle clip-path=\"url(#clip972)\" style=\"fill:#009af9; stroke:none; fill-opacity:0\" cx=\"1074.07\" cy=\"1198.61\" r=\"2\"/>\n",
       "<circle clip-path=\"url(#clip972)\" style=\"fill:#009af9; stroke:none; fill-opacity:0\" cx=\"1148.82\" cy=\"1083.47\" r=\"2\"/>\n",
       "<circle clip-path=\"url(#clip972)\" style=\"fill:#009af9; stroke:none; fill-opacity:0\" cx=\"1223.57\" cy=\"881.982\" r=\"2\"/>\n",
       "<circle clip-path=\"url(#clip972)\" style=\"fill:#009af9; stroke:none; fill-opacity:0\" cx=\"1298.31\" cy=\"450.221\" r=\"2\"/>\n",
       "<circle clip-path=\"url(#clip972)\" style=\"fill:#009af9; stroke:none; fill-opacity:0\" cx=\"1373.06\" cy=\"498.195\" r=\"2\"/>\n",
       "<circle clip-path=\"url(#clip972)\" style=\"fill:#009af9; stroke:none; fill-opacity:0\" cx=\"1447.81\" cy=\"584.547\" r=\"2\"/>\n",
       "<circle clip-path=\"url(#clip972)\" style=\"fill:#009af9; stroke:none; fill-opacity:0\" cx=\"1522.55\" cy=\"1045.09\" r=\"2\"/>\n",
       "<circle clip-path=\"url(#clip972)\" style=\"fill:#009af9; stroke:none; fill-opacity:0\" cx=\"1597.3\" cy=\"1179.42\" r=\"2\"/>\n",
       "<circle clip-path=\"url(#clip972)\" style=\"fill:#009af9; stroke:none; fill-opacity:0\" cx=\"1672.05\" cy=\"1284.96\" r=\"2\"/>\n",
       "<circle clip-path=\"url(#clip972)\" style=\"fill:#009af9; stroke:none; fill-opacity:0\" cx=\"1746.8\" cy=\"1448.07\" r=\"2\"/>\n",
       "<circle clip-path=\"url(#clip972)\" style=\"fill:#009af9; stroke:none; fill-opacity:0\" cx=\"1821.54\" cy=\"1467.26\" r=\"2\"/>\n",
       "<circle clip-path=\"url(#clip972)\" style=\"fill:#009af9; stroke:none; fill-opacity:0\" cx=\"1896.29\" cy=\"1486.45\" r=\"2\"/>\n",
       "<circle clip-path=\"url(#clip972)\" style=\"fill:#009af9; stroke:none; fill-opacity:0\" cx=\"1971.04\" cy=\"1486.45\" r=\"2\"/>\n",
       "<circle clip-path=\"url(#clip972)\" style=\"fill:#009af9; stroke:none; fill-opacity:0\" cx=\"2045.78\" cy=\"1486.45\" r=\"2\"/>\n",
       "<circle clip-path=\"url(#clip972)\" style=\"fill:#009af9; stroke:none; fill-opacity:0\" cx=\"2120.53\" cy=\"1486.45\" r=\"2\"/>\n",
       "<circle clip-path=\"url(#clip972)\" style=\"fill:#009af9; stroke:none; fill-opacity:0\" cx=\"2195.28\" cy=\"1486.45\" r=\"2\"/>\n",
       "</svg>\n"
      ],
      "text/html": [
       "<?xml version=\"1.0\" encoding=\"utf-8\"?>\n",
       "<svg xmlns=\"http://www.w3.org/2000/svg\" xmlns:xlink=\"http://www.w3.org/1999/xlink\" width=\"600\" height=\"400\" viewBox=\"0 0 2400 1600\">\n",
       "<defs>\n",
       "  <clipPath id=\"clip020\">\n",
       "    <rect x=\"0\" y=\"0\" width=\"2400\" height=\"1600\"/>\n",
       "  </clipPath>\n",
       "</defs>\n",
       "<path clip-path=\"url(#clip020)\" d=\"M0 1600 L2400 1600 L2400 8.88178e-14 L0 8.88178e-14  Z\" fill=\"#ffffff\" fill-rule=\"evenodd\" fill-opacity=\"1\"/>\n",
       "<defs>\n",
       "  <clipPath id=\"clip021\">\n",
       "    <rect x=\"480\" y=\"0\" width=\"1681\" height=\"1600\"/>\n",
       "  </clipPath>\n",
       "</defs>\n",
       "<path clip-path=\"url(#clip020)\" d=\"M169.121 1486.45 L2352.76 1486.45 L2352.76 47.2441 L169.121 47.2441  Z\" fill=\"#ffffff\" fill-rule=\"evenodd\" fill-opacity=\"1\"/>\n",
       "<defs>\n",
       "  <clipPath id=\"clip022\">\n",
       "    <rect x=\"169\" y=\"47\" width=\"2185\" height=\"1440\"/>\n",
       "  </clipPath>\n",
       "</defs>\n",
       "<polyline clip-path=\"url(#clip022)\" style=\"stroke:#000000; stroke-linecap:round; stroke-linejoin:round; stroke-width:2; stroke-opacity:0.1; fill:none\" points=\"438.719,1486.45 438.719,47.2441 \"/>\n",
       "<polyline clip-path=\"url(#clip022)\" style=\"stroke:#000000; stroke-linecap:round; stroke-linejoin:round; stroke-width:2; stroke-opacity:0.1; fill:none\" points=\"737.708,1486.45 737.708,47.2441 \"/>\n",
       "<polyline clip-path=\"url(#clip022)\" style=\"stroke:#000000; stroke-linecap:round; stroke-linejoin:round; stroke-width:2; stroke-opacity:0.1; fill:none\" points=\"1036.7,1486.45 1036.7,47.2441 \"/>\n",
       "<polyline clip-path=\"url(#clip022)\" style=\"stroke:#000000; stroke-linecap:round; stroke-linejoin:round; stroke-width:2; stroke-opacity:0.1; fill:none\" points=\"1335.69,1486.45 1335.69,47.2441 \"/>\n",
       "<polyline clip-path=\"url(#clip022)\" style=\"stroke:#000000; stroke-linecap:round; stroke-linejoin:round; stroke-width:2; stroke-opacity:0.1; fill:none\" points=\"1634.67,1486.45 1634.67,47.2441 \"/>\n",
       "<polyline clip-path=\"url(#clip022)\" style=\"stroke:#000000; stroke-linecap:round; stroke-linejoin:round; stroke-width:2; stroke-opacity:0.1; fill:none\" points=\"1933.66,1486.45 1933.66,47.2441 \"/>\n",
       "<polyline clip-path=\"url(#clip022)\" style=\"stroke:#000000; stroke-linecap:round; stroke-linejoin:round; stroke-width:2; stroke-opacity:0.1; fill:none\" points=\"2232.65,1486.45 2232.65,47.2441 \"/>\n",
       "<polyline clip-path=\"url(#clip020)\" style=\"stroke:#000000; stroke-linecap:round; stroke-linejoin:round; stroke-width:4; stroke-opacity:1; fill:none\" points=\"169.121,1486.45 2352.76,1486.45 \"/>\n",
       "<polyline clip-path=\"url(#clip020)\" style=\"stroke:#000000; stroke-linecap:round; stroke-linejoin:round; stroke-width:4; stroke-opacity:1; fill:none\" points=\"438.719,1486.45 438.719,1467.55 \"/>\n",
       "<polyline clip-path=\"url(#clip020)\" style=\"stroke:#000000; stroke-linecap:round; stroke-linejoin:round; stroke-width:4; stroke-opacity:1; fill:none\" points=\"737.708,1486.45 737.708,1467.55 \"/>\n",
       "<polyline clip-path=\"url(#clip020)\" style=\"stroke:#000000; stroke-linecap:round; stroke-linejoin:round; stroke-width:4; stroke-opacity:1; fill:none\" points=\"1036.7,1486.45 1036.7,1467.55 \"/>\n",
       "<polyline clip-path=\"url(#clip020)\" style=\"stroke:#000000; stroke-linecap:round; stroke-linejoin:round; stroke-width:4; stroke-opacity:1; fill:none\" points=\"1335.69,1486.45 1335.69,1467.55 \"/>\n",
       "<polyline clip-path=\"url(#clip020)\" style=\"stroke:#000000; stroke-linecap:round; stroke-linejoin:round; stroke-width:4; stroke-opacity:1; fill:none\" points=\"1634.67,1486.45 1634.67,1467.55 \"/>\n",
       "<polyline clip-path=\"url(#clip020)\" style=\"stroke:#000000; stroke-linecap:round; stroke-linejoin:round; stroke-width:4; stroke-opacity:1; fill:none\" points=\"1933.66,1486.45 1933.66,1467.55 \"/>\n",
       "<polyline clip-path=\"url(#clip020)\" style=\"stroke:#000000; stroke-linecap:round; stroke-linejoin:round; stroke-width:4; stroke-opacity:1; fill:none\" points=\"2232.65,1486.45 2232.65,1467.55 \"/>\n",
       "<path clip-path=\"url(#clip020)\" d=\"M415.861 1517.37 Q412.25 1517.37 410.421 1520.93 Q408.615 1524.47 408.615 1531.6 Q408.615 1538.71 410.421 1542.27 Q412.25 1545.82 415.861 1545.82 Q419.495 1545.82 421.301 1542.27 Q423.129 1538.71 423.129 1531.6 Q423.129 1524.47 421.301 1520.93 Q419.495 1517.37 415.861 1517.37 M415.861 1513.66 Q421.671 1513.66 424.727 1518.27 Q427.805 1522.85 427.805 1531.6 Q427.805 1540.33 424.727 1544.94 Q421.671 1549.52 415.861 1549.52 Q410.051 1549.52 406.972 1544.94 Q403.916 1540.33 403.916 1531.6 Q403.916 1522.85 406.972 1518.27 Q410.051 1513.66 415.861 1513.66 Z\" fill=\"#000000\" fill-rule=\"nonzero\" fill-opacity=\"1\" /><path clip-path=\"url(#clip020)\" d=\"M436.023 1542.97 L440.907 1542.97 L440.907 1548.85 L436.023 1548.85 L436.023 1542.97 Z\" fill=\"#000000\" fill-rule=\"nonzero\" fill-opacity=\"1\" /><path clip-path=\"url(#clip020)\" d=\"M463.939 1518.36 L452.134 1536.81 L463.939 1536.81 L463.939 1518.36 M462.712 1514.29 L468.592 1514.29 L468.592 1536.81 L473.523 1536.81 L473.523 1540.7 L468.592 1540.7 L468.592 1548.85 L463.939 1548.85 L463.939 1540.7 L448.337 1540.7 L448.337 1536.19 L462.712 1514.29 Z\" fill=\"#000000\" fill-rule=\"nonzero\" fill-opacity=\"1\" /><path clip-path=\"url(#clip020)\" d=\"M715.012 1517.37 Q711.401 1517.37 709.572 1520.93 Q707.766 1524.47 707.766 1531.6 Q707.766 1538.71 709.572 1542.27 Q711.401 1545.82 715.012 1545.82 Q718.646 1545.82 720.451 1542.27 Q722.28 1538.71 722.28 1531.6 Q722.28 1524.47 720.451 1520.93 Q718.646 1517.37 715.012 1517.37 M715.012 1513.66 Q720.822 1513.66 723.877 1518.27 Q726.956 1522.85 726.956 1531.6 Q726.956 1540.33 723.877 1544.94 Q720.822 1549.52 715.012 1549.52 Q709.201 1549.52 706.123 1544.94 Q703.067 1540.33 703.067 1531.6 Q703.067 1522.85 706.123 1518.27 Q709.201 1513.66 715.012 1513.66 Z\" fill=\"#000000\" fill-rule=\"nonzero\" fill-opacity=\"1\" /><path clip-path=\"url(#clip020)\" d=\"M735.174 1542.97 L740.058 1542.97 L740.058 1548.85 L735.174 1548.85 L735.174 1542.97 Z\" fill=\"#000000\" fill-rule=\"nonzero\" fill-opacity=\"1\" /><path clip-path=\"url(#clip020)\" d=\"M760.822 1529.7 Q757.673 1529.7 755.822 1531.86 Q753.993 1534.01 753.993 1537.76 Q753.993 1541.49 755.822 1543.66 Q757.673 1545.82 760.822 1545.82 Q763.97 1545.82 765.798 1543.66 Q767.65 1541.49 767.65 1537.76 Q767.65 1534.01 765.798 1531.86 Q763.97 1529.7 760.822 1529.7 M770.104 1515.05 L770.104 1519.31 Q768.345 1518.48 766.539 1518.04 Q764.757 1517.6 762.997 1517.6 Q758.368 1517.6 755.914 1520.72 Q753.484 1523.85 753.136 1530.17 Q754.502 1528.15 756.562 1527.09 Q758.623 1526 761.099 1526 Q766.308 1526 769.317 1529.17 Q772.349 1532.32 772.349 1537.76 Q772.349 1543.08 769.201 1546.3 Q766.053 1549.52 760.822 1549.52 Q754.826 1549.52 751.655 1544.94 Q748.484 1540.33 748.484 1531.6 Q748.484 1523.41 752.373 1518.55 Q756.261 1513.66 762.812 1513.66 Q764.572 1513.66 766.354 1514.01 Q768.159 1514.36 770.104 1515.05 Z\" fill=\"#000000\" fill-rule=\"nonzero\" fill-opacity=\"1\" /><path clip-path=\"url(#clip020)\" d=\"M1014.13 1517.37 Q1010.52 1517.37 1008.69 1520.93 Q1006.88 1524.47 1006.88 1531.6 Q1006.88 1538.71 1008.69 1542.27 Q1010.52 1545.82 1014.13 1545.82 Q1017.76 1545.82 1019.57 1542.27 Q1021.4 1538.71 1021.4 1531.6 Q1021.4 1524.47 1019.57 1520.93 Q1017.76 1517.37 1014.13 1517.37 M1014.13 1513.66 Q1019.94 1513.66 1022.99 1518.27 Q1026.07 1522.85 1026.07 1531.6 Q1026.07 1540.33 1022.99 1544.94 Q1019.94 1549.52 1014.13 1549.52 Q1008.32 1549.52 1005.24 1544.94 Q1002.18 1540.33 1002.18 1531.6 Q1002.18 1522.85 1005.24 1518.27 Q1008.32 1513.66 1014.13 1513.66 Z\" fill=\"#000000\" fill-rule=\"nonzero\" fill-opacity=\"1\" /><path clip-path=\"url(#clip020)\" d=\"M1034.29 1542.97 L1039.17 1542.97 L1039.17 1548.85 L1034.29 1548.85 L1034.29 1542.97 Z\" fill=\"#000000\" fill-rule=\"nonzero\" fill-opacity=\"1\" /><path clip-path=\"url(#clip020)\" d=\"M1059.36 1532.44 Q1056.03 1532.44 1054.1 1534.22 Q1052.21 1536 1052.21 1539.13 Q1052.21 1542.25 1054.1 1544.03 Q1056.03 1545.82 1059.36 1545.82 Q1062.69 1545.82 1064.61 1544.03 Q1066.53 1542.23 1066.53 1539.13 Q1066.53 1536 1064.61 1534.22 Q1062.72 1532.44 1059.36 1532.44 M1054.68 1530.45 Q1051.67 1529.7 1049.98 1527.64 Q1048.32 1525.58 1048.32 1522.62 Q1048.32 1518.48 1051.26 1516.07 Q1054.22 1513.66 1059.36 1513.66 Q1064.52 1513.66 1067.46 1516.07 Q1070.4 1518.48 1070.4 1522.62 Q1070.4 1525.58 1068.71 1527.64 Q1067.04 1529.7 1064.06 1530.45 Q1067.44 1531.23 1069.31 1533.52 Q1071.21 1535.82 1071.21 1539.13 Q1071.21 1544.15 1068.13 1546.83 Q1065.08 1549.52 1059.36 1549.52 Q1053.64 1549.52 1050.56 1546.83 Q1047.51 1544.15 1047.51 1539.13 Q1047.51 1535.82 1049.41 1533.52 Q1051.3 1531.23 1054.68 1530.45 M1052.97 1523.06 Q1052.97 1525.75 1054.64 1527.25 Q1056.33 1528.76 1059.36 1528.76 Q1062.37 1528.76 1064.06 1527.25 Q1065.77 1525.75 1065.77 1523.06 Q1065.77 1520.38 1064.06 1518.87 Q1062.37 1517.37 1059.36 1517.37 Q1056.33 1517.37 1054.64 1518.87 Q1052.97 1520.38 1052.97 1523.06 Z\" fill=\"#000000\" fill-rule=\"nonzero\" fill-opacity=\"1\" /><path clip-path=\"url(#clip020)\" d=\"M1302.84 1544.91 L1310.48 1544.91 L1310.48 1518.55 L1302.17 1520.21 L1302.17 1515.95 L1310.43 1514.29 L1315.11 1514.29 L1315.11 1544.91 L1322.75 1544.91 L1322.75 1548.85 L1302.84 1548.85 L1302.84 1544.91 Z\" fill=\"#000000\" fill-rule=\"nonzero\" fill-opacity=\"1\" /><path clip-path=\"url(#clip020)\" d=\"M1332.19 1542.97 L1337.07 1542.97 L1337.07 1548.85 L1332.19 1548.85 L1332.19 1542.97 Z\" fill=\"#000000\" fill-rule=\"nonzero\" fill-opacity=\"1\" /><path clip-path=\"url(#clip020)\" d=\"M1357.26 1517.37 Q1353.65 1517.37 1351.82 1520.93 Q1350.01 1524.47 1350.01 1531.6 Q1350.01 1538.71 1351.82 1542.27 Q1353.65 1545.82 1357.26 1545.82 Q1360.89 1545.82 1362.7 1542.27 Q1364.53 1538.71 1364.53 1531.6 Q1364.53 1524.47 1362.7 1520.93 Q1360.89 1517.37 1357.26 1517.37 M1357.26 1513.66 Q1363.07 1513.66 1366.13 1518.27 Q1369.2 1522.85 1369.2 1531.6 Q1369.2 1540.33 1366.13 1544.94 Q1363.07 1549.52 1357.26 1549.52 Q1351.45 1549.52 1348.37 1544.94 Q1345.32 1540.33 1345.32 1531.6 Q1345.32 1522.85 1348.37 1518.27 Q1351.45 1513.66 1357.26 1513.66 Z\" fill=\"#000000\" fill-rule=\"nonzero\" fill-opacity=\"1\" /><path clip-path=\"url(#clip020)\" d=\"M1602.63 1544.91 L1610.26 1544.91 L1610.26 1518.55 L1601.95 1520.21 L1601.95 1515.95 L1610.22 1514.29 L1614.89 1514.29 L1614.89 1544.91 L1622.53 1544.91 L1622.53 1548.85 L1602.63 1548.85 L1602.63 1544.91 Z\" fill=\"#000000\" fill-rule=\"nonzero\" fill-opacity=\"1\" /><path clip-path=\"url(#clip020)\" d=\"M1631.98 1542.97 L1636.86 1542.97 L1636.86 1548.85 L1631.98 1548.85 L1631.98 1542.97 Z\" fill=\"#000000\" fill-rule=\"nonzero\" fill-opacity=\"1\" /><path clip-path=\"url(#clip020)\" d=\"M1651.07 1544.91 L1667.39 1544.91 L1667.39 1548.85 L1645.45 1548.85 L1645.45 1544.91 Q1648.11 1542.16 1652.7 1537.53 Q1657.3 1532.88 1658.48 1531.53 Q1660.73 1529.01 1661.61 1527.27 Q1662.51 1525.51 1662.51 1523.82 Q1662.51 1521.07 1660.57 1519.33 Q1658.64 1517.6 1655.54 1517.6 Q1653.34 1517.6 1650.89 1518.36 Q1648.46 1519.13 1645.68 1520.68 L1645.68 1515.95 Q1648.51 1514.82 1650.96 1514.24 Q1653.41 1513.66 1655.45 1513.66 Q1660.82 1513.66 1664.01 1516.35 Q1667.21 1519.03 1667.21 1523.52 Q1667.21 1525.65 1666.4 1527.57 Q1665.61 1529.47 1663.51 1532.07 Q1662.93 1532.74 1659.82 1535.95 Q1656.72 1539.15 1651.07 1544.91 Z\" fill=\"#000000\" fill-rule=\"nonzero\" fill-opacity=\"1\" /><path clip-path=\"url(#clip020)\" d=\"M1900.57 1544.91 L1908.21 1544.91 L1908.21 1518.55 L1899.9 1520.21 L1899.9 1515.95 L1908.17 1514.29 L1912.84 1514.29 L1912.84 1544.91 L1920.48 1544.91 L1920.48 1548.85 L1900.57 1548.85 L1900.57 1544.91 Z\" fill=\"#000000\" fill-rule=\"nonzero\" fill-opacity=\"1\" /><path clip-path=\"url(#clip020)\" d=\"M1929.92 1542.97 L1934.81 1542.97 L1934.81 1548.85 L1929.92 1548.85 L1929.92 1542.97 Z\" fill=\"#000000\" fill-rule=\"nonzero\" fill-opacity=\"1\" /><path clip-path=\"url(#clip020)\" d=\"M1957.84 1518.36 L1946.04 1536.81 L1957.84 1536.81 L1957.84 1518.36 M1956.61 1514.29 L1962.49 1514.29 L1962.49 1536.81 L1967.42 1536.81 L1967.42 1540.7 L1962.49 1540.7 L1962.49 1548.85 L1957.84 1548.85 L1957.84 1540.7 L1942.24 1540.7 L1942.24 1536.19 L1956.61 1514.29 Z\" fill=\"#000000\" fill-rule=\"nonzero\" fill-opacity=\"1\" /><path clip-path=\"url(#clip020)\" d=\"M2199.72 1544.91 L2207.36 1544.91 L2207.36 1518.55 L2199.05 1520.21 L2199.05 1515.95 L2207.32 1514.29 L2211.99 1514.29 L2211.99 1544.91 L2219.63 1544.91 L2219.63 1548.85 L2199.72 1548.85 L2199.72 1544.91 Z\" fill=\"#000000\" fill-rule=\"nonzero\" fill-opacity=\"1\" /><path clip-path=\"url(#clip020)\" d=\"M2229.08 1542.97 L2233.96 1542.97 L2233.96 1548.85 L2229.08 1548.85 L2229.08 1542.97 Z\" fill=\"#000000\" fill-rule=\"nonzero\" fill-opacity=\"1\" /><path clip-path=\"url(#clip020)\" d=\"M2254.72 1529.7 Q2251.58 1529.7 2249.72 1531.86 Q2247.9 1534.01 2247.9 1537.76 Q2247.9 1541.49 2249.72 1543.66 Q2251.58 1545.82 2254.72 1545.82 Q2257.87 1545.82 2259.7 1543.66 Q2261.55 1541.49 2261.55 1537.76 Q2261.55 1534.01 2259.7 1531.86 Q2257.87 1529.7 2254.72 1529.7 M2264.01 1515.05 L2264.01 1519.31 Q2262.25 1518.48 2260.44 1518.04 Q2258.66 1517.6 2256.9 1517.6 Q2252.27 1517.6 2249.82 1520.72 Q2247.39 1523.85 2247.04 1530.17 Q2248.4 1528.15 2250.46 1527.09 Q2252.52 1526 2255 1526 Q2260.21 1526 2263.22 1529.17 Q2266.25 1532.32 2266.25 1537.76 Q2266.25 1543.08 2263.1 1546.3 Q2259.96 1549.52 2254.72 1549.52 Q2248.73 1549.52 2245.56 1544.94 Q2242.39 1540.33 2242.39 1531.6 Q2242.39 1523.41 2246.27 1518.55 Q2250.16 1513.66 2256.71 1513.66 Q2258.47 1513.66 2260.26 1514.01 Q2262.06 1514.36 2264.01 1515.05 Z\" fill=\"#000000\" fill-rule=\"nonzero\" fill-opacity=\"1\" /><polyline clip-path=\"url(#clip022)\" style=\"stroke:#000000; stroke-linecap:round; stroke-linejoin:round; stroke-width:2; stroke-opacity:0.1; fill:none\" points=\"169.121,1486.45 2352.76,1486.45 \"/>\n",
       "<polyline clip-path=\"url(#clip022)\" style=\"stroke:#000000; stroke-linecap:round; stroke-linejoin:round; stroke-width:2; stroke-opacity:0.1; fill:none\" points=\"169.121,1006.71 2352.76,1006.71 \"/>\n",
       "<polyline clip-path=\"url(#clip022)\" style=\"stroke:#000000; stroke-linecap:round; stroke-linejoin:round; stroke-width:2; stroke-opacity:0.1; fill:none\" points=\"169.121,526.979 2352.76,526.979 \"/>\n",
       "<polyline clip-path=\"url(#clip022)\" style=\"stroke:#000000; stroke-linecap:round; stroke-linejoin:round; stroke-width:2; stroke-opacity:0.1; fill:none\" points=\"169.121,47.2441 2352.76,47.2441 \"/>\n",
       "<polyline clip-path=\"url(#clip020)\" style=\"stroke:#000000; stroke-linecap:round; stroke-linejoin:round; stroke-width:4; stroke-opacity:1; fill:none\" points=\"169.121,1486.45 169.121,47.2441 \"/>\n",
       "<polyline clip-path=\"url(#clip020)\" style=\"stroke:#000000; stroke-linecap:round; stroke-linejoin:round; stroke-width:4; stroke-opacity:1; fill:none\" points=\"169.121,1486.45 188.019,1486.45 \"/>\n",
       "<polyline clip-path=\"url(#clip020)\" style=\"stroke:#000000; stroke-linecap:round; stroke-linejoin:round; stroke-width:4; stroke-opacity:1; fill:none\" points=\"169.121,1006.71 188.019,1006.71 \"/>\n",
       "<polyline clip-path=\"url(#clip020)\" style=\"stroke:#000000; stroke-linecap:round; stroke-linejoin:round; stroke-width:4; stroke-opacity:1; fill:none\" points=\"169.121,526.979 188.019,526.979 \"/>\n",
       "<polyline clip-path=\"url(#clip020)\" style=\"stroke:#000000; stroke-linecap:round; stroke-linejoin:round; stroke-width:4; stroke-opacity:1; fill:none\" points=\"169.121,47.2441 188.019,47.2441 \"/>\n",
       "<path clip-path=\"url(#clip020)\" d=\"M121.177 1472.25 Q117.566 1472.25 115.737 1475.81 Q113.932 1479.35 113.932 1486.48 Q113.932 1493.59 115.737 1497.15 Q117.566 1500.7 121.177 1500.7 Q124.811 1500.7 126.617 1497.15 Q128.445 1493.59 128.445 1486.48 Q128.445 1479.35 126.617 1475.81 Q124.811 1472.25 121.177 1472.25 M121.177 1468.54 Q126.987 1468.54 130.043 1473.15 Q133.121 1477.73 133.121 1486.48 Q133.121 1495.21 130.043 1499.82 Q126.987 1504.4 121.177 1504.4 Q115.367 1504.4 112.288 1499.82 Q109.233 1495.21 109.233 1486.48 Q109.233 1477.73 112.288 1473.15 Q115.367 1468.54 121.177 1468.54 Z\" fill=\"#000000\" fill-rule=\"nonzero\" fill-opacity=\"1\" /><path clip-path=\"url(#clip020)\" d=\"M81.0614 989.433 L99.4178 989.433 L99.4178 993.368 L85.3438 993.368 L85.3438 1001.84 Q86.3623 1001.49 87.3808 1001.33 Q88.3993 1001.15 89.4178 1001.15 Q95.2049 1001.15 98.5845 1004.32 Q101.964 1007.49 101.964 1012.91 Q101.964 1018.48 98.4919 1021.59 Q95.0197 1024.66 88.7003 1024.66 Q86.5243 1024.66 84.2558 1024.29 Q82.0105 1023.92 79.6031 1023.18 L79.6031 1018.48 Q81.6864 1019.62 83.9086 1020.17 Q86.1308 1020.73 88.6077 1020.73 Q92.6123 1020.73 94.9502 1018.62 Q97.2882 1016.52 97.2882 1012.91 Q97.2882 1009.29 94.9502 1007.19 Q92.6123 1005.08 88.6077 1005.08 Q86.7327 1005.08 84.8577 1005.5 Q83.0058 1005.91 81.0614 1006.79 L81.0614 989.433 Z\" fill=\"#000000\" fill-rule=\"nonzero\" fill-opacity=\"1\" /><path clip-path=\"url(#clip020)\" d=\"M121.177 992.512 Q117.566 992.512 115.737 996.077 Q113.932 999.618 113.932 1006.75 Q113.932 1013.85 115.737 1017.42 Q117.566 1020.96 121.177 1020.96 Q124.811 1020.96 126.617 1017.42 Q128.445 1013.85 128.445 1006.75 Q128.445 999.618 126.617 996.077 Q124.811 992.512 121.177 992.512 M121.177 988.808 Q126.987 988.808 130.043 993.415 Q133.121 997.998 133.121 1006.75 Q133.121 1015.47 130.043 1020.08 Q126.987 1024.66 121.177 1024.66 Q115.367 1024.66 112.288 1020.08 Q109.233 1015.47 109.233 1006.75 Q109.233 997.998 112.288 993.415 Q115.367 988.808 121.177 988.808 Z\" fill=\"#000000\" fill-rule=\"nonzero\" fill-opacity=\"1\" /><path clip-path=\"url(#clip020)\" d=\"M51.6634 540.324 L59.3023 540.324 L59.3023 513.958 L50.9921 515.625 L50.9921 511.365 L59.256 509.699 L63.9319 509.699 L63.9319 540.324 L71.5707 540.324 L71.5707 544.259 L51.6634 544.259 L51.6634 540.324 Z\" fill=\"#000000\" fill-rule=\"nonzero\" fill-opacity=\"1\" /><path clip-path=\"url(#clip020)\" d=\"M91.0151 512.777 Q87.404 512.777 85.5753 516.342 Q83.7697 519.884 83.7697 527.013 Q83.7697 534.12 85.5753 537.685 Q87.404 541.226 91.0151 541.226 Q94.6493 541.226 96.4548 537.685 Q98.2835 534.12 98.2835 527.013 Q98.2835 519.884 96.4548 516.342 Q94.6493 512.777 91.0151 512.777 M91.0151 509.074 Q96.8252 509.074 99.8808 513.68 Q102.959 518.263 102.959 527.013 Q102.959 535.74 99.8808 540.347 Q96.8252 544.93 91.0151 544.93 Q85.2049 544.93 82.1262 540.347 Q79.0707 535.74 79.0707 527.013 Q79.0707 518.263 82.1262 513.68 Q85.2049 509.074 91.0151 509.074 Z\" fill=\"#000000\" fill-rule=\"nonzero\" fill-opacity=\"1\" /><path clip-path=\"url(#clip020)\" d=\"M121.177 512.777 Q117.566 512.777 115.737 516.342 Q113.932 519.884 113.932 527.013 Q113.932 534.12 115.737 537.685 Q117.566 541.226 121.177 541.226 Q124.811 541.226 126.617 537.685 Q128.445 534.12 128.445 527.013 Q128.445 519.884 126.617 516.342 Q124.811 512.777 121.177 512.777 M121.177 509.074 Q126.987 509.074 130.043 513.68 Q133.121 518.263 133.121 527.013 Q133.121 535.74 130.043 540.347 Q126.987 544.93 121.177 544.93 Q115.367 544.93 112.288 540.347 Q109.233 535.74 109.233 527.013 Q109.233 518.263 112.288 513.68 Q115.367 509.074 121.177 509.074 Z\" fill=\"#000000\" fill-rule=\"nonzero\" fill-opacity=\"1\" /><path clip-path=\"url(#clip020)\" d=\"M51.6634 60.5889 L59.3023 60.5889 L59.3023 34.2233 L50.9921 35.89 L50.9921 31.6308 L59.256 29.9641 L63.9319 29.9641 L63.9319 60.5889 L71.5707 60.5889 L71.5707 64.5241 L51.6634 64.5241 L51.6634 60.5889 Z\" fill=\"#000000\" fill-rule=\"nonzero\" fill-opacity=\"1\" /><path clip-path=\"url(#clip020)\" d=\"M81.0614 29.9641 L99.4178 29.9641 L99.4178 33.8993 L85.3438 33.8993 L85.3438 42.3714 Q86.3623 42.0242 87.3808 41.8622 Q88.3993 41.677 89.4178 41.677 Q95.2049 41.677 98.5845 44.8483 Q101.964 48.0196 101.964 53.4362 Q101.964 59.0149 98.4919 62.1167 Q95.0197 65.1954 88.7003 65.1954 Q86.5243 65.1954 84.2558 64.825 Q82.0105 64.4547 79.6031 63.7139 L79.6031 59.0149 Q81.6864 60.1491 83.9086 60.7047 Q86.1308 61.2602 88.6077 61.2602 Q92.6123 61.2602 94.9502 59.1538 Q97.2882 57.0473 97.2882 53.4362 Q97.2882 49.8251 94.9502 47.7186 Q92.6123 45.6122 88.6077 45.6122 Q86.7327 45.6122 84.8577 46.0288 Q83.0058 46.4455 81.0614 47.3251 L81.0614 29.9641 Z\" fill=\"#000000\" fill-rule=\"nonzero\" fill-opacity=\"1\" /><path clip-path=\"url(#clip020)\" d=\"M121.177 33.0428 Q117.566 33.0428 115.737 36.6076 Q113.932 40.1492 113.932 47.2788 Q113.932 54.3853 115.737 57.9501 Q117.566 61.4917 121.177 61.4917 Q124.811 61.4917 126.617 57.9501 Q128.445 54.3853 128.445 47.2788 Q128.445 40.1492 126.617 36.6076 Q124.811 33.0428 121.177 33.0428 M121.177 29.3391 Q126.987 29.3391 130.043 33.9456 Q133.121 38.5289 133.121 47.2788 Q133.121 56.0056 130.043 60.6121 Q126.987 65.1954 121.177 65.1954 Q115.367 65.1954 112.288 60.6121 Q109.233 56.0056 109.233 47.2788 Q109.233 38.5289 112.288 33.9456 Q115.367 29.3391 121.177 29.3391 Z\" fill=\"#000000\" fill-rule=\"nonzero\" fill-opacity=\"1\" /><path clip-path=\"url(#clip022)\" d=\"M289.225 1486.45 L289.225 1486.45 L363.972 1486.45 L363.972 1486.45 L289.225 1486.45 L289.225 1486.45  Z\" fill=\"#009af9\" fill-rule=\"evenodd\" fill-opacity=\"1\"/>\n",
       "<polyline clip-path=\"url(#clip022)\" style=\"stroke:#000000; stroke-linecap:round; stroke-linejoin:round; stroke-width:4; stroke-opacity:1; fill:none\" points=\"289.225,1486.45 289.225,1486.45 363.972,1486.45 289.225,1486.45 \"/>\n",
       "<path clip-path=\"url(#clip022)\" d=\"M363.972 1486.45 L363.972 1486.45 L438.719 1486.45 L438.719 1486.45 L363.972 1486.45 L363.972 1486.45  Z\" fill=\"#009af9\" fill-rule=\"evenodd\" fill-opacity=\"1\"/>\n",
       "<polyline clip-path=\"url(#clip022)\" style=\"stroke:#000000; stroke-linecap:round; stroke-linejoin:round; stroke-width:4; stroke-opacity:1; fill:none\" points=\"363.972,1486.45 363.972,1486.45 438.719,1486.45 363.972,1486.45 \"/>\n",
       "<path clip-path=\"url(#clip022)\" d=\"M438.719 1486.45 L438.719 1486.45 L513.467 1486.45 L513.467 1486.45 L438.719 1486.45 L438.719 1486.45  Z\" fill=\"#009af9\" fill-rule=\"evenodd\" fill-opacity=\"1\"/>\n",
       "<polyline clip-path=\"url(#clip022)\" style=\"stroke:#000000; stroke-linecap:round; stroke-linejoin:round; stroke-width:4; stroke-opacity:1; fill:none\" points=\"438.719,1486.45 438.719,1486.45 513.467,1486.45 438.719,1486.45 \"/>\n",
       "<path clip-path=\"url(#clip022)\" d=\"M513.467 1486.45 L513.467 1486.45 L588.214 1486.45 L588.214 1486.45 L513.467 1486.45 L513.467 1486.45  Z\" fill=\"#009af9\" fill-rule=\"evenodd\" fill-opacity=\"1\"/>\n",
       "<polyline clip-path=\"url(#clip022)\" style=\"stroke:#000000; stroke-linecap:round; stroke-linejoin:round; stroke-width:4; stroke-opacity:1; fill:none\" points=\"513.467,1486.45 513.467,1486.45 588.214,1486.45 513.467,1486.45 \"/>\n",
       "<path clip-path=\"url(#clip022)\" d=\"M588.214 1476.85 L588.214 1486.45 L662.961 1486.45 L662.961 1476.85 L588.214 1476.85 L588.214 1476.85  Z\" fill=\"#009af9\" fill-rule=\"evenodd\" fill-opacity=\"1\"/>\n",
       "<polyline clip-path=\"url(#clip022)\" style=\"stroke:#000000; stroke-linecap:round; stroke-linejoin:round; stroke-width:4; stroke-opacity:1; fill:none\" points=\"588.214,1476.85 588.214,1486.45 662.961,1486.45 662.961,1476.85 588.214,1476.85 \"/>\n",
       "<path clip-path=\"url(#clip022)\" d=\"M662.961 1448.07 L662.961 1486.45 L737.708 1486.45 L737.708 1448.07 L662.961 1448.07 L662.961 1448.07  Z\" fill=\"#009af9\" fill-rule=\"evenodd\" fill-opacity=\"1\"/>\n",
       "<polyline clip-path=\"url(#clip022)\" style=\"stroke:#000000; stroke-linecap:round; stroke-linejoin:round; stroke-width:4; stroke-opacity:1; fill:none\" points=\"662.961,1448.07 662.961,1486.45 737.708,1486.45 737.708,1448.07 662.961,1448.07 \"/>\n",
       "<path clip-path=\"url(#clip022)\" d=\"M737.708 1409.69 L737.708 1486.45 L812.455 1486.45 L812.455 1409.69 L737.708 1409.69 L737.708 1409.69  Z\" fill=\"#009af9\" fill-rule=\"evenodd\" fill-opacity=\"1\"/>\n",
       "<polyline clip-path=\"url(#clip022)\" style=\"stroke:#000000; stroke-linecap:round; stroke-linejoin:round; stroke-width:4; stroke-opacity:1; fill:none\" points=\"737.708,1409.69 737.708,1486.45 812.455,1486.45 812.455,1409.69 737.708,1409.69 \"/>\n",
       "<path clip-path=\"url(#clip022)\" d=\"M812.455 1419.29 L812.455 1486.45 L887.203 1486.45 L887.203 1419.29 L812.455 1419.29 L812.455 1419.29  Z\" fill=\"#009af9\" fill-rule=\"evenodd\" fill-opacity=\"1\"/>\n",
       "<polyline clip-path=\"url(#clip022)\" style=\"stroke:#000000; stroke-linecap:round; stroke-linejoin:round; stroke-width:4; stroke-opacity:1; fill:none\" points=\"812.455,1419.29 812.455,1486.45 887.203,1486.45 887.203,1419.29 812.455,1419.29 \"/>\n",
       "<path clip-path=\"url(#clip022)\" d=\"M887.203 1246.58 L887.203 1486.45 L961.95 1486.45 L961.95 1246.58 L887.203 1246.58 L887.203 1246.58  Z\" fill=\"#009af9\" fill-rule=\"evenodd\" fill-opacity=\"1\"/>\n",
       "<polyline clip-path=\"url(#clip022)\" style=\"stroke:#000000; stroke-linecap:round; stroke-linejoin:round; stroke-width:4; stroke-opacity:1; fill:none\" points=\"887.203,1246.58 887.203,1486.45 961.95,1486.45 961.95,1246.58 887.203,1246.58 \"/>\n",
       "<path clip-path=\"url(#clip022)\" d=\"M961.95 1150.63 L961.95 1486.45 L1036.7 1486.45 L1036.7 1150.63 L961.95 1150.63 L961.95 1150.63  Z\" fill=\"#009af9\" fill-rule=\"evenodd\" fill-opacity=\"1\"/>\n",
       "<polyline clip-path=\"url(#clip022)\" style=\"stroke:#000000; stroke-linecap:round; stroke-linejoin:round; stroke-width:4; stroke-opacity:1; fill:none\" points=\"961.95,1150.63 961.95,1486.45 1036.7,1486.45 1036.7,1150.63 961.95,1150.63 \"/>\n",
       "<path clip-path=\"url(#clip022)\" d=\"M1036.7 1198.61 L1036.7 1486.45 L1111.44 1486.45 L1111.44 1198.61 L1036.7 1198.61 L1036.7 1198.61  Z\" fill=\"#009af9\" fill-rule=\"evenodd\" fill-opacity=\"1\"/>\n",
       "<polyline clip-path=\"url(#clip022)\" style=\"stroke:#000000; stroke-linecap:round; stroke-linejoin:round; stroke-width:4; stroke-opacity:1; fill:none\" points=\"1036.7,1198.61 1036.7,1486.45 1111.44,1486.45 1111.44,1198.61 1036.7,1198.61 \"/>\n",
       "<path clip-path=\"url(#clip022)\" d=\"M1111.44 1083.47 L1111.44 1486.45 L1186.19 1486.45 L1186.19 1083.47 L1111.44 1083.47 L1111.44 1083.47  Z\" fill=\"#009af9\" fill-rule=\"evenodd\" fill-opacity=\"1\"/>\n",
       "<polyline clip-path=\"url(#clip022)\" style=\"stroke:#000000; stroke-linecap:round; stroke-linejoin:round; stroke-width:4; stroke-opacity:1; fill:none\" points=\"1111.44,1083.47 1111.44,1486.45 1186.19,1486.45 1186.19,1083.47 1111.44,1083.47 \"/>\n",
       "<path clip-path=\"url(#clip022)\" d=\"M1186.19 881.982 L1186.19 1486.45 L1260.94 1486.45 L1260.94 881.982 L1186.19 881.982 L1186.19 881.982  Z\" fill=\"#009af9\" fill-rule=\"evenodd\" fill-opacity=\"1\"/>\n",
       "<polyline clip-path=\"url(#clip022)\" style=\"stroke:#000000; stroke-linecap:round; stroke-linejoin:round; stroke-width:4; stroke-opacity:1; fill:none\" points=\"1186.19,881.982 1186.19,1486.45 1260.94,1486.45 1260.94,881.982 1186.19,881.982 \"/>\n",
       "<path clip-path=\"url(#clip022)\" d=\"M1260.94 450.221 L1260.94 1486.45 L1335.69 1486.45 L1335.69 450.221 L1260.94 450.221 L1260.94 450.221  Z\" fill=\"#009af9\" fill-rule=\"evenodd\" fill-opacity=\"1\"/>\n",
       "<polyline clip-path=\"url(#clip022)\" style=\"stroke:#000000; stroke-linecap:round; stroke-linejoin:round; stroke-width:4; stroke-opacity:1; fill:none\" points=\"1260.94,450.221 1260.94,1486.45 1335.69,1486.45 1335.69,450.221 1260.94,450.221 \"/>\n",
       "<path clip-path=\"url(#clip022)\" d=\"M1335.69 498.195 L1335.69 1486.45 L1410.43 1486.45 L1410.43 498.195 L1335.69 498.195 L1335.69 498.195  Z\" fill=\"#009af9\" fill-rule=\"evenodd\" fill-opacity=\"1\"/>\n",
       "<polyline clip-path=\"url(#clip022)\" style=\"stroke:#000000; stroke-linecap:round; stroke-linejoin:round; stroke-width:4; stroke-opacity:1; fill:none\" points=\"1335.69,498.195 1335.69,1486.45 1410.43,1486.45 1410.43,498.195 1335.69,498.195 \"/>\n",
       "<path clip-path=\"url(#clip022)\" d=\"M1410.43 584.547 L1410.43 1486.45 L1485.18 1486.45 L1485.18 584.547 L1410.43 584.547 L1410.43 584.547  Z\" fill=\"#009af9\" fill-rule=\"evenodd\" fill-opacity=\"1\"/>\n",
       "<polyline clip-path=\"url(#clip022)\" style=\"stroke:#000000; stroke-linecap:round; stroke-linejoin:round; stroke-width:4; stroke-opacity:1; fill:none\" points=\"1410.43,584.547 1410.43,1486.45 1485.18,1486.45 1485.18,584.547 1410.43,584.547 \"/>\n",
       "<path clip-path=\"url(#clip022)\" d=\"M1485.18 1045.09 L1485.18 1486.45 L1559.93 1486.45 L1559.93 1045.09 L1485.18 1045.09 L1485.18 1045.09  Z\" fill=\"#009af9\" fill-rule=\"evenodd\" fill-opacity=\"1\"/>\n",
       "<polyline clip-path=\"url(#clip022)\" style=\"stroke:#000000; stroke-linecap:round; stroke-linejoin:round; stroke-width:4; stroke-opacity:1; fill:none\" points=\"1485.18,1045.09 1485.18,1486.45 1559.93,1486.45 1559.93,1045.09 1485.18,1045.09 \"/>\n",
       "<path clip-path=\"url(#clip022)\" d=\"M1559.93 1179.42 L1559.93 1486.45 L1634.67 1486.45 L1634.67 1179.42 L1559.93 1179.42 L1559.93 1179.42  Z\" fill=\"#009af9\" fill-rule=\"evenodd\" fill-opacity=\"1\"/>\n",
       "<polyline clip-path=\"url(#clip022)\" style=\"stroke:#000000; stroke-linecap:round; stroke-linejoin:round; stroke-width:4; stroke-opacity:1; fill:none\" points=\"1559.93,1179.42 1559.93,1486.45 1634.67,1486.45 1634.67,1179.42 1559.93,1179.42 \"/>\n",
       "<path clip-path=\"url(#clip022)\" d=\"M1634.67 1284.96 L1634.67 1486.45 L1709.42 1486.45 L1709.42 1284.96 L1634.67 1284.96 L1634.67 1284.96  Z\" fill=\"#009af9\" fill-rule=\"evenodd\" fill-opacity=\"1\"/>\n",
       "<polyline clip-path=\"url(#clip022)\" style=\"stroke:#000000; stroke-linecap:round; stroke-linejoin:round; stroke-width:4; stroke-opacity:1; fill:none\" points=\"1634.67,1284.96 1634.67,1486.45 1709.42,1486.45 1709.42,1284.96 1634.67,1284.96 \"/>\n",
       "<path clip-path=\"url(#clip022)\" d=\"M1709.42 1448.07 L1709.42 1486.45 L1784.17 1486.45 L1784.17 1448.07 L1709.42 1448.07 L1709.42 1448.07  Z\" fill=\"#009af9\" fill-rule=\"evenodd\" fill-opacity=\"1\"/>\n",
       "<polyline clip-path=\"url(#clip022)\" style=\"stroke:#000000; stroke-linecap:round; stroke-linejoin:round; stroke-width:4; stroke-opacity:1; fill:none\" points=\"1709.42,1448.07 1709.42,1486.45 1784.17,1486.45 1784.17,1448.07 1709.42,1448.07 \"/>\n",
       "<path clip-path=\"url(#clip022)\" d=\"M1784.17 1467.26 L1784.17 1486.45 L1858.92 1486.45 L1858.92 1467.26 L1784.17 1467.26 L1784.17 1467.26  Z\" fill=\"#009af9\" fill-rule=\"evenodd\" fill-opacity=\"1\"/>\n",
       "<polyline clip-path=\"url(#clip022)\" style=\"stroke:#000000; stroke-linecap:round; stroke-linejoin:round; stroke-width:4; stroke-opacity:1; fill:none\" points=\"1784.17,1467.26 1784.17,1486.45 1858.92,1486.45 1858.92,1467.26 1784.17,1467.26 \"/>\n",
       "<path clip-path=\"url(#clip022)\" d=\"M1858.92 1486.45 L1858.92 1486.45 L1933.66 1486.45 L1933.66 1486.45 L1858.92 1486.45 L1858.92 1486.45  Z\" fill=\"#009af9\" fill-rule=\"evenodd\" fill-opacity=\"1\"/>\n",
       "<polyline clip-path=\"url(#clip022)\" style=\"stroke:#000000; stroke-linecap:round; stroke-linejoin:round; stroke-width:4; stroke-opacity:1; fill:none\" points=\"1858.92,1486.45 1858.92,1486.45 1933.66,1486.45 1858.92,1486.45 \"/>\n",
       "<path clip-path=\"url(#clip022)\" d=\"M1933.66 1486.45 L1933.66 1486.45 L2008.41 1486.45 L2008.41 1486.45 L1933.66 1486.45 L1933.66 1486.45  Z\" fill=\"#009af9\" fill-rule=\"evenodd\" fill-opacity=\"1\"/>\n",
       "<polyline clip-path=\"url(#clip022)\" style=\"stroke:#000000; stroke-linecap:round; stroke-linejoin:round; stroke-width:4; stroke-opacity:1; fill:none\" points=\"1933.66,1486.45 1933.66,1486.45 2008.41,1486.45 1933.66,1486.45 \"/>\n",
       "<path clip-path=\"url(#clip022)\" d=\"M2008.41 1486.45 L2008.41 1486.45 L2083.16 1486.45 L2083.16 1486.45 L2008.41 1486.45 L2008.41 1486.45  Z\" fill=\"#009af9\" fill-rule=\"evenodd\" fill-opacity=\"1\"/>\n",
       "<polyline clip-path=\"url(#clip022)\" style=\"stroke:#000000; stroke-linecap:round; stroke-linejoin:round; stroke-width:4; stroke-opacity:1; fill:none\" points=\"2008.41,1486.45 2008.41,1486.45 2083.16,1486.45 2008.41,1486.45 \"/>\n",
       "<path clip-path=\"url(#clip022)\" d=\"M2083.16 1486.45 L2083.16 1486.45 L2157.9 1486.45 L2157.9 1486.45 L2083.16 1486.45 L2083.16 1486.45  Z\" fill=\"#009af9\" fill-rule=\"evenodd\" fill-opacity=\"1\"/>\n",
       "<polyline clip-path=\"url(#clip022)\" style=\"stroke:#000000; stroke-linecap:round; stroke-linejoin:round; stroke-width:4; stroke-opacity:1; fill:none\" points=\"2083.16,1486.45 2083.16,1486.45 2157.9,1486.45 2083.16,1486.45 \"/>\n",
       "<path clip-path=\"url(#clip022)\" d=\"M2157.9 1486.45 L2157.9 1486.45 L2232.65 1486.45 L2232.65 1486.45 L2157.9 1486.45 L2157.9 1486.45  Z\" fill=\"#009af9\" fill-rule=\"evenodd\" fill-opacity=\"1\"/>\n",
       "<polyline clip-path=\"url(#clip022)\" style=\"stroke:#000000; stroke-linecap:round; stroke-linejoin:round; stroke-width:4; stroke-opacity:1; fill:none\" points=\"2157.9,1486.45 2157.9,1486.45 2232.65,1486.45 2157.9,1486.45 \"/>\n",
       "<circle clip-path=\"url(#clip022)\" style=\"fill:#009af9; stroke:none; fill-opacity:0\" cx=\"326.599\" cy=\"1486.45\" r=\"2\"/>\n",
       "<circle clip-path=\"url(#clip022)\" style=\"fill:#009af9; stroke:none; fill-opacity:0\" cx=\"401.346\" cy=\"1486.45\" r=\"2\"/>\n",
       "<circle clip-path=\"url(#clip022)\" style=\"fill:#009af9; stroke:none; fill-opacity:0\" cx=\"476.093\" cy=\"1486.45\" r=\"2\"/>\n",
       "<circle clip-path=\"url(#clip022)\" style=\"fill:#009af9; stroke:none; fill-opacity:0\" cx=\"550.84\" cy=\"1486.45\" r=\"2\"/>\n",
       "<circle clip-path=\"url(#clip022)\" style=\"fill:#009af9; stroke:none; fill-opacity:0\" cx=\"625.587\" cy=\"1476.85\" r=\"2\"/>\n",
       "<circle clip-path=\"url(#clip022)\" style=\"fill:#009af9; stroke:none; fill-opacity:0\" cx=\"700.335\" cy=\"1448.07\" r=\"2\"/>\n",
       "<circle clip-path=\"url(#clip022)\" style=\"fill:#009af9; stroke:none; fill-opacity:0\" cx=\"775.082\" cy=\"1409.69\" r=\"2\"/>\n",
       "<circle clip-path=\"url(#clip022)\" style=\"fill:#009af9; stroke:none; fill-opacity:0\" cx=\"849.829\" cy=\"1419.29\" r=\"2\"/>\n",
       "<circle clip-path=\"url(#clip022)\" style=\"fill:#009af9; stroke:none; fill-opacity:0\" cx=\"924.576\" cy=\"1246.58\" r=\"2\"/>\n",
       "<circle clip-path=\"url(#clip022)\" style=\"fill:#009af9; stroke:none; fill-opacity:0\" cx=\"999.323\" cy=\"1150.63\" r=\"2\"/>\n",
       "<circle clip-path=\"url(#clip022)\" style=\"fill:#009af9; stroke:none; fill-opacity:0\" cx=\"1074.07\" cy=\"1198.61\" r=\"2\"/>\n",
       "<circle clip-path=\"url(#clip022)\" style=\"fill:#009af9; stroke:none; fill-opacity:0\" cx=\"1148.82\" cy=\"1083.47\" r=\"2\"/>\n",
       "<circle clip-path=\"url(#clip022)\" style=\"fill:#009af9; stroke:none; fill-opacity:0\" cx=\"1223.57\" cy=\"881.982\" r=\"2\"/>\n",
       "<circle clip-path=\"url(#clip022)\" style=\"fill:#009af9; stroke:none; fill-opacity:0\" cx=\"1298.31\" cy=\"450.221\" r=\"2\"/>\n",
       "<circle clip-path=\"url(#clip022)\" style=\"fill:#009af9; stroke:none; fill-opacity:0\" cx=\"1373.06\" cy=\"498.195\" r=\"2\"/>\n",
       "<circle clip-path=\"url(#clip022)\" style=\"fill:#009af9; stroke:none; fill-opacity:0\" cx=\"1447.81\" cy=\"584.547\" r=\"2\"/>\n",
       "<circle clip-path=\"url(#clip022)\" style=\"fill:#009af9; stroke:none; fill-opacity:0\" cx=\"1522.55\" cy=\"1045.09\" r=\"2\"/>\n",
       "<circle clip-path=\"url(#clip022)\" style=\"fill:#009af9; stroke:none; fill-opacity:0\" cx=\"1597.3\" cy=\"1179.42\" r=\"2\"/>\n",
       "<circle clip-path=\"url(#clip022)\" style=\"fill:#009af9; stroke:none; fill-opacity:0\" cx=\"1672.05\" cy=\"1284.96\" r=\"2\"/>\n",
       "<circle clip-path=\"url(#clip022)\" style=\"fill:#009af9; stroke:none; fill-opacity:0\" cx=\"1746.8\" cy=\"1448.07\" r=\"2\"/>\n",
       "<circle clip-path=\"url(#clip022)\" style=\"fill:#009af9; stroke:none; fill-opacity:0\" cx=\"1821.54\" cy=\"1467.26\" r=\"2\"/>\n",
       "<circle clip-path=\"url(#clip022)\" style=\"fill:#009af9; stroke:none; fill-opacity:0\" cx=\"1896.29\" cy=\"1486.45\" r=\"2\"/>\n",
       "<circle clip-path=\"url(#clip022)\" style=\"fill:#009af9; stroke:none; fill-opacity:0\" cx=\"1971.04\" cy=\"1486.45\" r=\"2\"/>\n",
       "<circle clip-path=\"url(#clip022)\" style=\"fill:#009af9; stroke:none; fill-opacity:0\" cx=\"2045.78\" cy=\"1486.45\" r=\"2\"/>\n",
       "<circle clip-path=\"url(#clip022)\" style=\"fill:#009af9; stroke:none; fill-opacity:0\" cx=\"2120.53\" cy=\"1486.45\" r=\"2\"/>\n",
       "<circle clip-path=\"url(#clip022)\" style=\"fill:#009af9; stroke:none; fill-opacity:0\" cx=\"2195.28\" cy=\"1486.45\" r=\"2\"/>\n",
       "</svg>\n"
      ]
     },
     "metadata": {},
     "output_type": "display_data"
    }
   ],
   "source": [
    "using Plots\n",
    "histogram(A*xhat, bins=(0.3:0.05:1.6), legend = false, ylim=(0, 150))"
   ]
  },
  {
   "cell_type": "code",
   "execution_count": 45,
   "metadata": {},
   "outputs": [
    {
     "data": {
      "image/png": "[encoded data removed]",
      "image/svg+xml": [
       "<?xml version=\"1.0\" encoding=\"utf-8\"?>\n",
       "<svg xmlns=\"http://www.w3.org/2000/svg\" xmlns:xlink=\"http://www.w3.org/1999/xlink\" width=\"600\" height=\"400\" viewBox=\"0 0 2400 1600\">\n",
       "<defs>\n",
       "  <clipPath id=\"clip060\">\n",
       "    <rect x=\"0\" y=\"0\" width=\"2400\" height=\"1600\"/>\n",
       "  </clipPath>\n",
       "</defs>\n",
       "<path clip-path=\"url(#clip060)\" d=\"M0 1600 L2400 1600 L2400 8.88178e-14 L0 8.88178e-14  Z\" fill=\"#ffffff\" fill-rule=\"evenodd\" fill-opacity=\"1\"/>\n",
       "<defs>\n",
       "  <clipPath id=\"clip061\">\n",
       "    <rect x=\"480\" y=\"0\" width=\"1681\" height=\"1600\"/>\n",
       "  </clipPath>\n",
       "</defs>\n",
       "<path clip-path=\"url(#clip060)\" d=\"M169.121 1486.45 L2352.76 1486.45 L2352.76 47.2441 L169.121 47.2441  Z\" fill=\"#ffffff\" fill-rule=\"evenodd\" fill-opacity=\"1\"/>\n",
       "<defs>\n",
       "  <clipPath id=\"clip062\">\n",
       "    <rect x=\"169\" y=\"47\" width=\"2185\" height=\"1440\"/>\n",
       "  </clipPath>\n",
       "</defs>\n",
       "<polyline clip-path=\"url(#clip062)\" style=\"stroke:#000000; stroke-linecap:round; stroke-linejoin:round; stroke-width:2; stroke-opacity:0.1; fill:none\" points=\"483.568,1486.45 483.568,47.2441 \"/>\n",
       "<polyline clip-path=\"url(#clip062)\" style=\"stroke:#000000; stroke-linecap:round; stroke-linejoin:round; stroke-width:2; stroke-opacity:0.1; fill:none\" points=\"872.253,1486.45 872.253,47.2441 \"/>\n",
       "<polyline clip-path=\"url(#clip062)\" style=\"stroke:#000000; stroke-linecap:round; stroke-linejoin:round; stroke-width:2; stroke-opacity:0.1; fill:none\" points=\"1260.94,1486.45 1260.94,47.2441 \"/>\n",
       "<polyline clip-path=\"url(#clip062)\" style=\"stroke:#000000; stroke-linecap:round; stroke-linejoin:round; stroke-width:2; stroke-opacity:0.1; fill:none\" points=\"1649.62,1486.45 1649.62,47.2441 \"/>\n",
       "<polyline clip-path=\"url(#clip062)\" style=\"stroke:#000000; stroke-linecap:round; stroke-linejoin:round; stroke-width:2; stroke-opacity:0.1; fill:none\" points=\"2038.31,1486.45 2038.31,47.2441 \"/>\n",
       "<polyline clip-path=\"url(#clip060)\" style=\"stroke:#000000; stroke-linecap:round; stroke-linejoin:round; stroke-width:4; stroke-opacity:1; fill:none\" points=\"169.121,1486.45 2352.76,1486.45 \"/>\n",
       "<polyline clip-path=\"url(#clip060)\" style=\"stroke:#000000; stroke-linecap:round; stroke-linejoin:round; stroke-width:4; stroke-opacity:1; fill:none\" points=\"483.568,1486.45 483.568,1467.55 \"/>\n",
       "<polyline clip-path=\"url(#clip060)\" style=\"stroke:#000000; stroke-linecap:round; stroke-linejoin:round; stroke-width:4; stroke-opacity:1; fill:none\" points=\"872.253,1486.45 872.253,1467.55 \"/>\n",
       "<polyline clip-path=\"url(#clip060)\" style=\"stroke:#000000; stroke-linecap:round; stroke-linejoin:round; stroke-width:4; stroke-opacity:1; fill:none\" points=\"1260.94,1486.45 1260.94,1467.55 \"/>\n",
       "<polyline clip-path=\"url(#clip060)\" style=\"stroke:#000000; stroke-linecap:round; stroke-linejoin:round; stroke-width:4; stroke-opacity:1; fill:none\" points=\"1649.62,1486.45 1649.62,1467.55 \"/>\n",
       "<polyline clip-path=\"url(#clip060)\" style=\"stroke:#000000; stroke-linecap:round; stroke-linejoin:round; stroke-width:4; stroke-opacity:1; fill:none\" points=\"2038.31,1486.45 2038.31,1467.55 \"/>\n",
       "<path clip-path=\"url(#clip060)\" d=\"M445.871 1517.37 Q442.26 1517.37 440.431 1520.93 Q438.626 1524.47 438.626 1531.6 Q438.626 1538.71 440.431 1542.27 Q442.26 1545.82 445.871 1545.82 Q449.505 1545.82 451.311 1542.27 Q453.14 1538.71 453.14 1531.6 Q453.14 1524.47 451.311 1520.93 Q449.505 1517.37 445.871 1517.37 M445.871 1513.66 Q451.681 1513.66 454.737 1518.27 Q457.816 1522.85 457.816 1531.6 Q457.816 1540.33 454.737 1544.94 Q451.681 1549.52 445.871 1549.52 Q440.061 1549.52 436.982 1544.94 Q433.927 1540.33 433.927 1531.6 Q433.927 1522.85 436.982 1518.27 Q440.061 1513.66 445.871 1513.66 Z\" fill=\"#000000\" fill-rule=\"nonzero\" fill-opacity=\"1\" /><path clip-path=\"url(#clip060)\" d=\"M466.033 1542.97 L470.917 1542.97 L470.917 1548.85 L466.033 1548.85 L466.033 1542.97 Z\" fill=\"#000000\" fill-rule=\"nonzero\" fill-opacity=\"1\" /><path clip-path=\"url(#clip060)\" d=\"M481.149 1514.29 L499.505 1514.29 L499.505 1518.22 L485.431 1518.22 L485.431 1526.7 Q486.45 1526.35 487.468 1526.19 Q488.487 1526 489.505 1526 Q495.292 1526 498.672 1529.17 Q502.052 1532.34 502.052 1537.76 Q502.052 1543.34 498.579 1546.44 Q495.107 1549.52 488.788 1549.52 Q486.612 1549.52 484.343 1549.15 Q482.098 1548.78 479.691 1548.04 L479.691 1543.34 Q481.774 1544.47 483.996 1545.03 Q486.218 1545.58 488.695 1545.58 Q492.7 1545.58 495.038 1543.48 Q497.376 1541.37 497.376 1537.76 Q497.376 1534.15 495.038 1532.04 Q492.7 1529.94 488.695 1529.94 Q486.82 1529.94 484.945 1530.35 Q483.093 1530.77 481.149 1531.65 L481.149 1514.29 Z\" fill=\"#000000\" fill-rule=\"nonzero\" fill-opacity=\"1\" /><path clip-path=\"url(#clip060)\" d=\"M521.264 1517.37 Q517.653 1517.37 515.825 1520.93 Q514.019 1524.47 514.019 1531.6 Q514.019 1538.71 515.825 1542.27 Q517.653 1545.82 521.264 1545.82 Q524.899 1545.82 526.704 1542.27 Q528.533 1538.71 528.533 1531.6 Q528.533 1524.47 526.704 1520.93 Q524.899 1517.37 521.264 1517.37 M521.264 1513.66 Q527.075 1513.66 530.13 1518.27 Q533.209 1522.85 533.209 1531.6 Q533.209 1540.33 530.13 1544.94 Q527.075 1549.52 521.264 1549.52 Q515.454 1549.52 512.376 1544.94 Q509.32 1540.33 509.32 1531.6 Q509.32 1522.85 512.376 1518.27 Q515.454 1513.66 521.264 1513.66 Z\" fill=\"#000000\" fill-rule=\"nonzero\" fill-opacity=\"1\" /><path clip-path=\"url(#clip060)\" d=\"M835.054 1517.37 Q831.443 1517.37 829.615 1520.93 Q827.809 1524.47 827.809 1531.6 Q827.809 1538.71 829.615 1542.27 Q831.443 1545.82 835.054 1545.82 Q838.689 1545.82 840.494 1542.27 Q842.323 1538.71 842.323 1531.6 Q842.323 1524.47 840.494 1520.93 Q838.689 1517.37 835.054 1517.37 M835.054 1513.66 Q840.864 1513.66 843.92 1518.27 Q846.999 1522.85 846.999 1531.6 Q846.999 1540.33 843.92 1544.94 Q840.864 1549.52 835.054 1549.52 Q829.244 1549.52 826.165 1544.94 Q823.11 1540.33 823.11 1531.6 Q823.11 1522.85 826.165 1518.27 Q829.244 1513.66 835.054 1513.66 Z\" fill=\"#000000\" fill-rule=\"nonzero\" fill-opacity=\"1\" /><path clip-path=\"url(#clip060)\" d=\"M855.216 1542.97 L860.1 1542.97 L860.1 1548.85 L855.216 1548.85 L855.216 1542.97 Z\" fill=\"#000000\" fill-rule=\"nonzero\" fill-opacity=\"1\" /><path clip-path=\"url(#clip060)\" d=\"M869.105 1514.29 L891.327 1514.29 L891.327 1516.28 L878.781 1548.85 L873.897 1548.85 L885.702 1518.22 L869.105 1518.22 L869.105 1514.29 Z\" fill=\"#000000\" fill-rule=\"nonzero\" fill-opacity=\"1\" /><path clip-path=\"url(#clip060)\" d=\"M900.494 1514.29 L918.85 1514.29 L918.85 1518.22 L904.776 1518.22 L904.776 1526.7 Q905.795 1526.35 906.813 1526.19 Q907.832 1526 908.85 1526 Q914.637 1526 918.017 1529.17 Q921.396 1532.34 921.396 1537.76 Q921.396 1543.34 917.924 1546.44 Q914.452 1549.52 908.133 1549.52 Q905.957 1549.52 903.688 1549.15 Q901.443 1548.78 899.035 1548.04 L899.035 1543.34 Q901.119 1544.47 903.341 1545.03 Q905.563 1545.58 908.04 1545.58 Q912.045 1545.58 914.383 1543.48 Q916.721 1541.37 916.721 1537.76 Q916.721 1534.15 914.383 1532.04 Q912.045 1529.94 908.04 1529.94 Q906.165 1529.94 904.29 1530.35 Q902.438 1530.77 900.494 1531.65 L900.494 1514.29 Z\" fill=\"#000000\" fill-rule=\"nonzero\" fill-opacity=\"1\" /><path clip-path=\"url(#clip060)\" d=\"M1213.01 1544.91 L1220.65 1544.91 L1220.65 1518.55 L1212.34 1520.21 L1212.34 1515.95 L1220.6 1514.29 L1225.28 1514.29 L1225.28 1544.91 L1232.92 1544.91 L1232.92 1548.85 L1213.01 1548.85 L1213.01 1544.91 Z\" fill=\"#000000\" fill-rule=\"nonzero\" fill-opacity=\"1\" /><path clip-path=\"url(#clip060)\" d=\"M1242.36 1542.97 L1247.25 1542.97 L1247.25 1548.85 L1242.36 1548.85 L1242.36 1542.97 Z\" fill=\"#000000\" fill-rule=\"nonzero\" fill-opacity=\"1\" /><path clip-path=\"url(#clip060)\" d=\"M1267.43 1517.37 Q1263.82 1517.37 1261.99 1520.93 Q1260.19 1524.47 1260.19 1531.6 Q1260.19 1538.71 1261.99 1542.27 Q1263.82 1545.82 1267.43 1545.82 Q1271.07 1545.82 1272.87 1542.27 Q1274.7 1538.71 1274.7 1531.6 Q1274.7 1524.47 1272.87 1520.93 Q1271.07 1517.37 1267.43 1517.37 M1267.43 1513.66 Q1273.24 1513.66 1276.3 1518.27 Q1279.38 1522.85 1279.38 1531.6 Q1279.38 1540.33 1276.3 1544.94 Q1273.24 1549.52 1267.43 1549.52 Q1261.62 1549.52 1258.54 1544.94 Q1255.49 1540.33 1255.49 1531.6 Q1255.49 1522.85 1258.54 1518.27 Q1261.62 1513.66 1267.43 1513.66 Z\" fill=\"#000000\" fill-rule=\"nonzero\" fill-opacity=\"1\" /><path clip-path=\"url(#clip060)\" d=\"M1297.59 1517.37 Q1293.98 1517.37 1292.15 1520.93 Q1290.35 1524.47 1290.35 1531.6 Q1290.35 1538.71 1292.15 1542.27 Q1293.98 1545.82 1297.59 1545.82 Q1301.23 1545.82 1303.03 1542.27 Q1304.86 1538.71 1304.86 1531.6 Q1304.86 1524.47 1303.03 1520.93 Q1301.23 1517.37 1297.59 1517.37 M1297.59 1513.66 Q1303.4 1513.66 1306.46 1518.27 Q1309.54 1522.85 1309.54 1531.6 Q1309.54 1540.33 1306.46 1544.94 Q1303.4 1549.52 1297.59 1549.52 Q1291.78 1549.52 1288.7 1544.94 Q1285.65 1540.33 1285.65 1531.6 Q1285.65 1522.85 1288.7 1518.27 Q1291.78 1513.66 1297.59 1513.66 Z\" fill=\"#000000\" fill-rule=\"nonzero\" fill-opacity=\"1\" /><path clip-path=\"url(#clip060)\" d=\"M1602.19 1544.91 L1609.83 1544.91 L1609.83 1518.55 L1601.52 1520.21 L1601.52 1515.95 L1609.79 1514.29 L1614.46 1514.29 L1614.46 1544.91 L1622.1 1544.91 L1622.1 1548.85 L1602.19 1548.85 L1602.19 1544.91 Z\" fill=\"#000000\" fill-rule=\"nonzero\" fill-opacity=\"1\" /><path clip-path=\"url(#clip060)\" d=\"M1631.55 1542.97 L1636.43 1542.97 L1636.43 1548.85 L1631.55 1548.85 L1631.55 1542.97 Z\" fill=\"#000000\" fill-rule=\"nonzero\" fill-opacity=\"1\" /><path clip-path=\"url(#clip060)\" d=\"M1650.64 1544.91 L1666.96 1544.91 L1666.96 1548.85 L1645.02 1548.85 L1645.02 1544.91 Q1647.68 1542.16 1652.26 1537.53 Q1656.87 1532.88 1658.05 1531.53 Q1660.3 1529.01 1661.17 1527.27 Q1662.08 1525.51 1662.08 1523.82 Q1662.08 1521.07 1660.13 1519.33 Q1658.21 1517.6 1655.11 1517.6 Q1652.91 1517.6 1650.46 1518.36 Q1648.03 1519.13 1645.25 1520.68 L1645.25 1515.95 Q1648.07 1514.82 1650.53 1514.24 Q1652.98 1513.66 1655.02 1513.66 Q1660.39 1513.66 1663.58 1516.35 Q1666.78 1519.03 1666.78 1523.52 Q1666.78 1525.65 1665.97 1527.57 Q1665.18 1529.47 1663.07 1532.07 Q1662.49 1532.74 1659.39 1535.95 Q1656.29 1539.15 1650.64 1544.91 Z\" fill=\"#000000\" fill-rule=\"nonzero\" fill-opacity=\"1\" /><path clip-path=\"url(#clip060)\" d=\"M1676.82 1514.29 L1695.18 1514.29 L1695.18 1518.22 L1681.11 1518.22 L1681.11 1526.7 Q1682.12 1526.35 1683.14 1526.19 Q1684.16 1526 1685.18 1526 Q1690.97 1526 1694.35 1529.17 Q1697.73 1532.34 1697.73 1537.76 Q1697.73 1543.34 1694.25 1546.44 Q1690.78 1549.52 1684.46 1549.52 Q1682.29 1549.52 1680.02 1549.15 Q1677.77 1548.78 1675.36 1548.04 L1675.36 1543.34 Q1677.45 1544.47 1679.67 1545.03 Q1681.89 1545.58 1684.37 1545.58 Q1688.37 1545.58 1690.71 1543.48 Q1693.05 1541.37 1693.05 1537.76 Q1693.05 1534.15 1690.71 1532.04 Q1688.37 1529.94 1684.37 1529.94 Q1682.49 1529.94 1680.62 1530.35 Q1678.77 1530.77 1676.82 1531.65 L1676.82 1514.29 Z\" fill=\"#000000\" fill-rule=\"nonzero\" fill-opacity=\"1\" /><path clip-path=\"url(#clip060)\" d=\"M1990.38 1544.91 L1998.02 1544.91 L1998.02 1518.55 L1989.71 1520.21 L1989.71 1515.95 L1997.97 1514.29 L2002.65 1514.29 L2002.65 1544.91 L2010.29 1544.91 L2010.29 1548.85 L1990.38 1548.85 L1990.38 1544.91 Z\" fill=\"#000000\" fill-rule=\"nonzero\" fill-opacity=\"1\" /><path clip-path=\"url(#clip060)\" d=\"M2019.73 1542.97 L2024.62 1542.97 L2024.62 1548.85 L2019.73 1548.85 L2019.73 1542.97 Z\" fill=\"#000000\" fill-rule=\"nonzero\" fill-opacity=\"1\" /><path clip-path=\"url(#clip060)\" d=\"M2034.85 1514.29 L2053.21 1514.29 L2053.21 1518.22 L2039.13 1518.22 L2039.13 1526.7 Q2040.15 1526.35 2041.17 1526.19 Q2042.19 1526 2043.21 1526 Q2048.99 1526 2052.37 1529.17 Q2055.75 1532.34 2055.75 1537.76 Q2055.75 1543.34 2052.28 1546.44 Q2048.81 1549.52 2042.49 1549.52 Q2040.31 1549.52 2038.04 1549.15 Q2035.8 1548.78 2033.39 1548.04 L2033.39 1543.34 Q2035.47 1544.47 2037.7 1545.03 Q2039.92 1545.58 2042.4 1545.58 Q2046.4 1545.58 2048.74 1543.48 Q2051.08 1541.37 2051.08 1537.76 Q2051.08 1534.15 2048.74 1532.04 Q2046.4 1529.94 2042.4 1529.94 Q2040.52 1529.94 2038.65 1530.35 Q2036.79 1530.77 2034.85 1531.65 L2034.85 1514.29 Z\" fill=\"#000000\" fill-rule=\"nonzero\" fill-opacity=\"1\" /><path clip-path=\"url(#clip060)\" d=\"M2074.96 1517.37 Q2071.35 1517.37 2069.52 1520.93 Q2067.72 1524.47 2067.72 1531.6 Q2067.72 1538.71 2069.52 1542.27 Q2071.35 1545.82 2074.96 1545.82 Q2078.6 1545.82 2080.4 1542.27 Q2082.23 1538.71 2082.23 1531.6 Q2082.23 1524.47 2080.4 1520.93 Q2078.6 1517.37 2074.96 1517.37 M2074.96 1513.66 Q2080.77 1513.66 2083.83 1518.27 Q2086.91 1522.85 2086.91 1531.6 Q2086.91 1540.33 2083.83 1544.94 Q2080.77 1549.52 2074.96 1549.52 Q2069.15 1549.52 2066.08 1544.94 Q2063.02 1540.33 2063.02 1531.6 Q2063.02 1522.85 2066.08 1518.27 Q2069.15 1513.66 2074.96 1513.66 Z\" fill=\"#000000\" fill-rule=\"nonzero\" fill-opacity=\"1\" /><polyline clip-path=\"url(#clip062)\" style=\"stroke:#000000; stroke-linecap:round; stroke-linejoin:round; stroke-width:2; stroke-opacity:0.1; fill:none\" points=\"169.121,1486.45 2352.76,1486.45 \"/>\n",
       "<polyline clip-path=\"url(#clip062)\" style=\"stroke:#000000; stroke-linecap:round; stroke-linejoin:round; stroke-width:2; stroke-opacity:0.1; fill:none\" points=\"169.121,1198.61 2352.76,1198.61 \"/>\n",
       "<polyline clip-path=\"url(#clip062)\" style=\"stroke:#000000; stroke-linecap:round; stroke-linejoin:round; stroke-width:2; stroke-opacity:0.1; fill:none\" points=\"169.121,910.766 2352.76,910.766 \"/>\n",
       "<polyline clip-path=\"url(#clip062)\" style=\"stroke:#000000; stroke-linecap:round; stroke-linejoin:round; stroke-width:2; stroke-opacity:0.1; fill:none\" points=\"169.121,622.926 2352.76,622.926 \"/>\n",
       "<polyline clip-path=\"url(#clip062)\" style=\"stroke:#000000; stroke-linecap:round; stroke-linejoin:round; stroke-width:2; stroke-opacity:0.1; fill:none\" points=\"169.121,335.085 2352.76,335.085 \"/>\n",
       "<polyline clip-path=\"url(#clip062)\" style=\"stroke:#000000; stroke-linecap:round; stroke-linejoin:round; stroke-width:2; stroke-opacity:0.1; fill:none\" points=\"169.121,47.2441 2352.76,47.2441 \"/>\n",
       "<polyline clip-path=\"url(#clip060)\" style=\"stroke:#000000; stroke-linecap:round; stroke-linejoin:round; stroke-width:4; stroke-opacity:1; fill:none\" points=\"169.121,1486.45 169.121,47.2441 \"/>\n",
       "<polyline clip-path=\"url(#clip060)\" style=\"stroke:#000000; stroke-linecap:round; stroke-linejoin:round; stroke-width:4; stroke-opacity:1; fill:none\" points=\"169.121,1486.45 188.019,1486.45 \"/>\n",
       "<polyline clip-path=\"url(#clip060)\" style=\"stroke:#000000; stroke-linecap:round; stroke-linejoin:round; stroke-width:4; stroke-opacity:1; fill:none\" points=\"169.121,1198.61 188.019,1198.61 \"/>\n",
       "<polyline clip-path=\"url(#clip060)\" style=\"stroke:#000000; stroke-linecap:round; stroke-linejoin:round; stroke-width:4; stroke-opacity:1; fill:none\" points=\"169.121,910.766 188.019,910.766 \"/>\n",
       "<polyline clip-path=\"url(#clip060)\" style=\"stroke:#000000; stroke-linecap:round; stroke-linejoin:round; stroke-width:4; stroke-opacity:1; fill:none\" points=\"169.121,622.926 188.019,622.926 \"/>\n",
       "<polyline clip-path=\"url(#clip060)\" style=\"stroke:#000000; stroke-linecap:round; stroke-linejoin:round; stroke-width:4; stroke-opacity:1; fill:none\" points=\"169.121,335.085 188.019,335.085 \"/>\n",
       "<polyline clip-path=\"url(#clip060)\" style=\"stroke:#000000; stroke-linecap:round; stroke-linejoin:round; stroke-width:4; stroke-opacity:1; fill:none\" points=\"169.121,47.2441 188.019,47.2441 \"/>\n",
       "<path clip-path=\"url(#clip060)\" d=\"M121.177 1472.25 Q117.566 1472.25 115.737 1475.81 Q113.932 1479.35 113.932 1486.48 Q113.932 1493.59 115.737 1497.15 Q117.566 1500.7 121.177 1500.7 Q124.811 1500.7 126.617 1497.15 Q128.445 1493.59 128.445 1486.48 Q128.445 1479.35 126.617 1475.81 Q124.811 1472.25 121.177 1472.25 M121.177 1468.54 Q126.987 1468.54 130.043 1473.15 Q133.121 1477.73 133.121 1486.48 Q133.121 1495.21 130.043 1499.82 Q126.987 1504.4 121.177 1504.4 Q115.367 1504.4 112.288 1499.82 Q109.233 1495.21 109.233 1486.48 Q109.233 1477.73 112.288 1473.15 Q115.367 1468.54 121.177 1468.54 Z\" fill=\"#000000\" fill-rule=\"nonzero\" fill-opacity=\"1\" /><path clip-path=\"url(#clip060)\" d=\"M86.0382 1211.95 L102.358 1211.95 L102.358 1215.89 L80.4133 1215.89 L80.4133 1211.95 Q83.0753 1209.2 87.6586 1204.57 Q92.2651 1199.91 93.4456 1198.57 Q95.691 1196.05 96.5706 1194.31 Q97.4734 1192.55 97.4734 1190.86 Q97.4734 1188.11 95.5289 1186.37 Q93.6076 1184.64 90.5058 1184.64 Q88.3067 1184.64 85.8531 1185.4 Q83.4225 1186.17 80.6447 1187.72 L80.6447 1182.99 Q83.4688 1181.86 85.9225 1181.28 Q88.3762 1180.7 90.4132 1180.7 Q95.7836 1180.7 98.978 1183.39 Q102.172 1186.07 102.172 1190.56 Q102.172 1192.69 101.362 1194.61 Q100.575 1196.51 98.4687 1199.1 Q97.89 1199.78 94.7882 1202.99 Q91.6864 1206.19 86.0382 1211.95 Z\" fill=\"#000000\" fill-rule=\"nonzero\" fill-opacity=\"1\" /><path clip-path=\"url(#clip060)\" d=\"M112.219 1181.33 L130.575 1181.33 L130.575 1185.26 L116.501 1185.26 L116.501 1193.73 Q117.52 1193.39 118.538 1193.23 Q119.557 1193.04 120.575 1193.04 Q126.362 1193.04 129.742 1196.21 Q133.121 1199.38 133.121 1204.8 Q133.121 1210.38 129.649 1213.48 Q126.177 1216.56 119.857 1216.56 Q117.682 1216.56 115.413 1216.19 Q113.168 1215.82 110.76 1215.08 L110.76 1210.38 Q112.844 1211.51 115.066 1212.07 Q117.288 1212.62 119.765 1212.62 Q123.77 1212.62 126.107 1210.52 Q128.445 1208.41 128.445 1204.8 Q128.445 1201.19 126.107 1199.08 Q123.77 1196.98 119.765 1196.98 Q117.89 1196.98 116.015 1197.39 Q114.163 1197.81 112.219 1198.69 L112.219 1181.33 Z\" fill=\"#000000\" fill-rule=\"nonzero\" fill-opacity=\"1\" /><path clip-path=\"url(#clip060)\" d=\"M81.0614 893.486 L99.4178 893.486 L99.4178 897.422 L85.3438 897.422 L85.3438 905.894 Q86.3623 905.546 87.3808 905.384 Q88.3993 905.199 89.4178 905.199 Q95.2049 905.199 98.5845 908.371 Q101.964 911.542 101.964 916.958 Q101.964 922.537 98.4919 925.639 Q95.0197 928.718 88.7003 928.718 Q86.5243 928.718 84.2558 928.347 Q82.0105 927.977 79.6031 927.236 L79.6031 922.537 Q81.6864 923.671 83.9086 924.227 Q86.1308 924.782 88.6077 924.782 Q92.6123 924.782 94.9502 922.676 Q97.2882 920.57 97.2882 916.958 Q97.2882 913.347 94.9502 911.241 Q92.6123 909.134 88.6077 909.134 Q86.7327 909.134 84.8577 909.551 Q83.0058 909.968 81.0614 910.847 L81.0614 893.486 Z\" fill=\"#000000\" fill-rule=\"nonzero\" fill-opacity=\"1\" /><path clip-path=\"url(#clip060)\" d=\"M121.177 896.565 Q117.566 896.565 115.737 900.13 Q113.932 903.671 113.932 910.801 Q113.932 917.908 115.737 921.472 Q117.566 925.014 121.177 925.014 Q124.811 925.014 126.617 921.472 Q128.445 917.908 128.445 910.801 Q128.445 903.671 126.617 900.13 Q124.811 896.565 121.177 896.565 M121.177 892.861 Q126.987 892.861 130.043 897.468 Q133.121 902.051 133.121 910.801 Q133.121 919.528 130.043 924.134 Q126.987 928.718 121.177 928.718 Q115.367 928.718 112.288 924.134 Q109.233 919.528 109.233 910.801 Q109.233 902.051 112.288 897.468 Q115.367 892.861 121.177 892.861 Z\" fill=\"#000000\" fill-rule=\"nonzero\" fill-opacity=\"1\" /><path clip-path=\"url(#clip060)\" d=\"M80.8299 605.646 L103.052 605.646 L103.052 607.636 L90.5058 640.206 L85.6216 640.206 L97.4271 609.581 L80.8299 609.581 L80.8299 605.646 Z\" fill=\"#000000\" fill-rule=\"nonzero\" fill-opacity=\"1\" /><path clip-path=\"url(#clip060)\" d=\"M112.219 605.646 L130.575 605.646 L130.575 609.581 L116.501 609.581 L116.501 618.053 Q117.52 617.706 118.538 617.544 Q119.557 617.359 120.575 617.359 Q126.362 617.359 129.742 620.53 Q133.121 623.701 133.121 629.118 Q133.121 634.696 129.649 637.798 Q126.177 640.877 119.857 640.877 Q117.682 640.877 115.413 640.507 Q113.168 640.136 110.76 639.395 L110.76 634.696 Q112.844 635.831 115.066 636.386 Q117.288 636.942 119.765 636.942 Q123.77 636.942 126.107 634.835 Q128.445 632.729 128.445 629.118 Q128.445 625.507 126.107 623.4 Q123.77 621.294 119.765 621.294 Q117.89 621.294 116.015 621.71 Q114.163 622.127 112.219 623.007 L112.219 605.646 Z\" fill=\"#000000\" fill-rule=\"nonzero\" fill-opacity=\"1\" /><path clip-path=\"url(#clip060)\" d=\"M51.6634 348.43 L59.3023 348.43 L59.3023 322.064 L50.9921 323.731 L50.9921 319.472 L59.256 317.805 L63.9319 317.805 L63.9319 348.43 L71.5707 348.43 L71.5707 352.365 L51.6634 352.365 L51.6634 348.43 Z\" fill=\"#000000\" fill-rule=\"nonzero\" fill-opacity=\"1\" /><path clip-path=\"url(#clip060)\" d=\"M91.0151 320.884 Q87.404 320.884 85.5753 324.448 Q83.7697 327.99 83.7697 335.12 Q83.7697 342.226 85.5753 345.791 Q87.404 349.332 91.0151 349.332 Q94.6493 349.332 96.4548 345.791 Q98.2835 342.226 98.2835 335.12 Q98.2835 327.99 96.4548 324.448 Q94.6493 320.884 91.0151 320.884 M91.0151 317.18 Q96.8252 317.18 99.8808 321.786 Q102.959 326.37 102.959 335.12 Q102.959 343.846 99.8808 348.453 Q96.8252 353.036 91.0151 353.036 Q85.2049 353.036 82.1262 348.453 Q79.0707 343.846 79.0707 335.12 Q79.0707 326.37 82.1262 321.786 Q85.2049 317.18 91.0151 317.18 Z\" fill=\"#000000\" fill-rule=\"nonzero\" fill-opacity=\"1\" /><path clip-path=\"url(#clip060)\" d=\"M121.177 320.884 Q117.566 320.884 115.737 324.448 Q113.932 327.99 113.932 335.12 Q113.932 342.226 115.737 345.791 Q117.566 349.332 121.177 349.332 Q124.811 349.332 126.617 345.791 Q128.445 342.226 128.445 335.12 Q128.445 327.99 126.617 324.448 Q124.811 320.884 121.177 320.884 M121.177 317.18 Q126.987 317.18 130.043 321.786 Q133.121 326.37 133.121 335.12 Q133.121 343.846 130.043 348.453 Q126.987 353.036 121.177 353.036 Q115.367 353.036 112.288 348.453 Q109.233 343.846 109.233 335.12 Q109.233 326.37 112.288 321.786 Q115.367 317.18 121.177 317.18 Z\" fill=\"#000000\" fill-rule=\"nonzero\" fill-opacity=\"1\" /><path clip-path=\"url(#clip060)\" d=\"M52.6588 60.5889 L60.2976 60.5889 L60.2976 34.2233 L51.9875 35.89 L51.9875 31.6308 L60.2513 29.9641 L64.9272 29.9641 L64.9272 60.5889 L72.5661 60.5889 L72.5661 64.5241 L52.6588 64.5241 L52.6588 60.5889 Z\" fill=\"#000000\" fill-rule=\"nonzero\" fill-opacity=\"1\" /><path clip-path=\"url(#clip060)\" d=\"M86.0382 60.5889 L102.358 60.5889 L102.358 64.5241 L80.4133 64.5241 L80.4133 60.5889 Q83.0753 57.8343 87.6586 53.2047 Q92.2651 48.552 93.4456 47.2094 Q95.691 44.6862 96.5706 42.9501 Q97.4734 41.1909 97.4734 39.5011 Q97.4734 36.7465 95.5289 35.0104 Q93.6076 33.2743 90.5058 33.2743 Q88.3067 33.2743 85.8531 34.0381 Q83.4225 34.802 80.6447 36.3529 L80.6447 31.6308 Q83.4688 30.4965 85.9225 29.9178 Q88.3762 29.3391 90.4132 29.3391 Q95.7836 29.3391 98.978 32.0243 Q102.172 34.7094 102.172 39.2002 Q102.172 41.3298 101.362 43.2511 Q100.575 45.1492 98.4687 47.7418 Q97.89 48.4131 94.7882 51.6306 Q91.6864 54.8251 86.0382 60.5889 Z\" fill=\"#000000\" fill-rule=\"nonzero\" fill-opacity=\"1\" /><path clip-path=\"url(#clip060)\" d=\"M112.219 29.9641 L130.575 29.9641 L130.575 33.8993 L116.501 33.8993 L116.501 42.3714 Q117.52 42.0242 118.538 41.8622 Q119.557 41.677 120.575 41.677 Q126.362 41.677 129.742 44.8483 Q133.121 48.0196 133.121 53.4362 Q133.121 59.0149 129.649 62.1167 Q126.177 65.1954 119.857 65.1954 Q117.682 65.1954 115.413 64.825 Q113.168 64.4547 110.76 63.7139 L110.76 59.0149 Q112.844 60.1491 115.066 60.7047 Q117.288 61.2602 119.765 61.2602 Q123.77 61.2602 126.107 59.1538 Q128.445 57.0473 128.445 53.4362 Q128.445 49.8251 126.107 47.7186 Q123.77 45.6122 119.765 45.6122 Q117.89 45.6122 116.015 46.0288 Q114.163 46.4455 112.219 47.3251 L112.219 29.9641 Z\" fill=\"#000000\" fill-rule=\"nonzero\" fill-opacity=\"1\" /><path clip-path=\"url(#clip062)\" d=\"M289.225 1474.93 L289.225 1486.45 L366.962 1486.45 L366.962 1474.93 L289.225 1474.93 L289.225 1474.93  Z\" fill=\"#009af9\" fill-rule=\"evenodd\" fill-opacity=\"1\"/>\n",
       "<polyline clip-path=\"url(#clip062)\" style=\"stroke:#000000; stroke-linecap:round; stroke-linejoin:round; stroke-width:4; stroke-opacity:1; fill:none\" points=\"289.225,1474.93 289.225,1486.45 366.962,1486.45 366.962,1474.93 289.225,1474.93 \"/>\n",
       "<path clip-path=\"url(#clip062)\" d=\"M366.962 1440.39 L366.962 1486.45 L444.699 1486.45 L444.699 1440.39 L366.962 1440.39 L366.962 1440.39  Z\" fill=\"#009af9\" fill-rule=\"evenodd\" fill-opacity=\"1\"/>\n",
       "<polyline clip-path=\"url(#clip062)\" style=\"stroke:#000000; stroke-linecap:round; stroke-linejoin:round; stroke-width:4; stroke-opacity:1; fill:none\" points=\"366.962,1440.39 366.962,1486.45 444.699,1486.45 444.699,1440.39 366.962,1440.39 \"/>\n",
       "<path clip-path=\"url(#clip062)\" d=\"M444.699 1405.85 L444.699 1486.45 L522.436 1486.45 L522.436 1405.85 L444.699 1405.85 L444.699 1405.85  Z\" fill=\"#009af9\" fill-rule=\"evenodd\" fill-opacity=\"1\"/>\n",
       "<polyline clip-path=\"url(#clip062)\" style=\"stroke:#000000; stroke-linecap:round; stroke-linejoin:round; stroke-width:4; stroke-opacity:1; fill:none\" points=\"444.699,1405.85 444.699,1486.45 522.436,1486.45 522.436,1405.85 444.699,1405.85 \"/>\n",
       "<path clip-path=\"url(#clip062)\" d=\"M522.436 1394.34 L522.436 1486.45 L600.173 1486.45 L600.173 1394.34 L522.436 1394.34 L522.436 1394.34  Z\" fill=\"#009af9\" fill-rule=\"evenodd\" fill-opacity=\"1\"/>\n",
       "<polyline clip-path=\"url(#clip062)\" style=\"stroke:#000000; stroke-linecap:round; stroke-linejoin:round; stroke-width:4; stroke-opacity:1; fill:none\" points=\"522.436,1394.34 522.436,1486.45 600.173,1486.45 600.173,1394.34 522.436,1394.34 \"/>\n",
       "<path clip-path=\"url(#clip062)\" d=\"M600.173 1325.26 L600.173 1486.45 L677.911 1486.45 L677.911 1325.26 L600.173 1325.26 L600.173 1325.26  Z\" fill=\"#009af9\" fill-rule=\"evenodd\" fill-opacity=\"1\"/>\n",
       "<polyline clip-path=\"url(#clip062)\" style=\"stroke:#000000; stroke-linecap:round; stroke-linejoin:round; stroke-width:4; stroke-opacity:1; fill:none\" points=\"600.173,1325.26 600.173,1486.45 677.911,1486.45 677.911,1325.26 600.173,1325.26 \"/>\n",
       "<path clip-path=\"url(#clip062)\" d=\"M677.911 1210.12 L677.911 1486.45 L755.648 1486.45 L755.648 1210.12 L677.911 1210.12 L677.911 1210.12  Z\" fill=\"#009af9\" fill-rule=\"evenodd\" fill-opacity=\"1\"/>\n",
       "<polyline clip-path=\"url(#clip062)\" style=\"stroke:#000000; stroke-linecap:round; stroke-linejoin:round; stroke-width:4; stroke-opacity:1; fill:none\" points=\"677.911,1210.12 677.911,1486.45 755.648,1486.45 755.648,1210.12 677.911,1210.12 \"/>\n",
       "<path clip-path=\"url(#clip062)\" d=\"M755.648 1094.98 L755.648 1486.45 L833.385 1486.45 L833.385 1094.98 L755.648 1094.98 L755.648 1094.98  Z\" fill=\"#009af9\" fill-rule=\"evenodd\" fill-opacity=\"1\"/>\n",
       "<polyline clip-path=\"url(#clip062)\" style=\"stroke:#000000; stroke-linecap:round; stroke-linejoin:round; stroke-width:4; stroke-opacity:1; fill:none\" points=\"755.648,1094.98 755.648,1486.45 833.385,1486.45 833.385,1094.98 755.648,1094.98 \"/>\n",
       "<path clip-path=\"url(#clip062)\" d=\"M833.385 1152.55 L833.385 1486.45 L911.122 1486.45 L911.122 1152.55 L833.385 1152.55 L833.385 1152.55  Z\" fill=\"#009af9\" fill-rule=\"evenodd\" fill-opacity=\"1\"/>\n",
       "<polyline clip-path=\"url(#clip062)\" style=\"stroke:#000000; stroke-linecap:round; stroke-linejoin:round; stroke-width:4; stroke-opacity:1; fill:none\" points=\"833.385,1152.55 833.385,1486.45 911.122,1486.45 911.122,1152.55 833.385,1152.55 \"/>\n",
       "<path clip-path=\"url(#clip062)\" d=\"M911.122 887.739 L911.122 1486.45 L988.859 1486.45 L988.859 887.739 L911.122 887.739 L911.122 887.739  Z\" fill=\"#009af9\" fill-rule=\"evenodd\" fill-opacity=\"1\"/>\n",
       "<polyline clip-path=\"url(#clip062)\" style=\"stroke:#000000; stroke-linecap:round; stroke-linejoin:round; stroke-width:4; stroke-opacity:1; fill:none\" points=\"911.122,887.739 911.122,1486.45 988.859,1486.45 988.859,887.739 911.122,887.739 \"/>\n",
       "<path clip-path=\"url(#clip062)\" d=\"M988.859 1152.55 L988.859 1486.45 L1066.6 1486.45 L1066.6 1152.55 L988.859 1152.55 L988.859 1152.55  Z\" fill=\"#009af9\" fill-rule=\"evenodd\" fill-opacity=\"1\"/>\n",
       "<polyline clip-path=\"url(#clip062)\" style=\"stroke:#000000; stroke-linecap:round; stroke-linejoin:round; stroke-width:4; stroke-opacity:1; fill:none\" points=\"988.859,1152.55 988.859,1486.45 1066.6,1486.45 1066.6,1152.55 988.859,1152.55 \"/>\n",
       "<path clip-path=\"url(#clip062)\" d=\"M1066.6 945.307 L1066.6 1486.45 L1144.33 1486.45 L1144.33 945.307 L1066.6 945.307 L1066.6 945.307  Z\" fill=\"#009af9\" fill-rule=\"evenodd\" fill-opacity=\"1\"/>\n",
       "<polyline clip-path=\"url(#clip062)\" style=\"stroke:#000000; stroke-linecap:round; stroke-linejoin:round; stroke-width:4; stroke-opacity:1; fill:none\" points=\"1066.6,945.307 1066.6,1486.45 1144.33,1486.45 1144.33,945.307 1066.6,945.307 \"/>\n",
       "<path clip-path=\"url(#clip062)\" d=\"M1144.33 1118.01 L1144.33 1486.45 L1222.07 1486.45 L1222.07 1118.01 L1144.33 1118.01 L1144.33 1118.01  Z\" fill=\"#009af9\" fill-rule=\"evenodd\" fill-opacity=\"1\"/>\n",
       "<polyline clip-path=\"url(#clip062)\" style=\"stroke:#000000; stroke-linecap:round; stroke-linejoin:round; stroke-width:4; stroke-opacity:1; fill:none\" points=\"1144.33,1118.01 1144.33,1486.45 1222.07,1486.45 1222.07,1118.01 1144.33,1118.01 \"/>\n",
       "<path clip-path=\"url(#clip062)\" d=\"M1222.07 956.821 L1222.07 1486.45 L1299.81 1486.45 L1299.81 956.821 L1222.07 956.821 L1222.07 956.821  Z\" fill=\"#009af9\" fill-rule=\"evenodd\" fill-opacity=\"1\"/>\n",
       "<polyline clip-path=\"url(#clip062)\" style=\"stroke:#000000; stroke-linecap:round; stroke-linejoin:round; stroke-width:4; stroke-opacity:1; fill:none\" points=\"1222.07,956.821 1222.07,1486.45 1299.81,1486.45 1299.81,956.821 1222.07,956.821 \"/>\n",
       "<path clip-path=\"url(#clip062)\" d=\"M1299.81 1014.39 L1299.81 1486.45 L1377.54 1486.45 L1377.54 1014.39 L1299.81 1014.39 L1299.81 1014.39  Z\" fill=\"#009af9\" fill-rule=\"evenodd\" fill-opacity=\"1\"/>\n",
       "<polyline clip-path=\"url(#clip062)\" style=\"stroke:#000000; stroke-linecap:round; stroke-linejoin:round; stroke-width:4; stroke-opacity:1; fill:none\" points=\"1299.81,1014.39 1299.81,1486.45 1377.54,1486.45 1377.54,1014.39 1299.81,1014.39 \"/>\n",
       "<path clip-path=\"url(#clip062)\" d=\"M1377.54 968.335 L1377.54 1486.45 L1455.28 1486.45 L1455.28 968.335 L1377.54 968.335 L1377.54 968.335  Z\" fill=\"#009af9\" fill-rule=\"evenodd\" fill-opacity=\"1\"/>\n",
       "<polyline clip-path=\"url(#clip062)\" style=\"stroke:#000000; stroke-linecap:round; stroke-linejoin:round; stroke-width:4; stroke-opacity:1; fill:none\" points=\"1377.54,968.335 1377.54,1486.45 1455.28,1486.45 1455.28,968.335 1377.54,968.335 \"/>\n",
       "<path clip-path=\"url(#clip062)\" d=\"M1455.28 910.766 L1455.28 1486.45 L1533.02 1486.45 L1533.02 910.766 L1455.28 910.766 L1455.28 910.766  Z\" fill=\"#009af9\" fill-rule=\"evenodd\" fill-opacity=\"1\"/>\n",
       "<polyline clip-path=\"url(#clip062)\" style=\"stroke:#000000; stroke-linecap:round; stroke-linejoin:round; stroke-width:4; stroke-opacity:1; fill:none\" points=\"1455.28,910.766 1455.28,1486.45 1533.02,1486.45 1533.02,910.766 1455.28,910.766 \"/>\n",
       "<path clip-path=\"url(#clip062)\" d=\"M1533.02 968.335 L1533.02 1486.45 L1610.76 1486.45 L1610.76 968.335 L1533.02 968.335 L1533.02 968.335  Z\" fill=\"#009af9\" fill-rule=\"evenodd\" fill-opacity=\"1\"/>\n",
       "<polyline clip-path=\"url(#clip062)\" style=\"stroke:#000000; stroke-linecap:round; stroke-linejoin:round; stroke-width:4; stroke-opacity:1; fill:none\" points=\"1533.02,968.335 1533.02,1486.45 1610.76,1486.45 1610.76,968.335 1533.02,968.335 \"/>\n",
       "<path clip-path=\"url(#clip062)\" d=\"M1610.76 1106.5 L1610.76 1486.45 L1688.49 1486.45 L1688.49 1106.5 L1610.76 1106.5 L1610.76 1106.5  Z\" fill=\"#009af9\" fill-rule=\"evenodd\" fill-opacity=\"1\"/>\n",
       "<polyline clip-path=\"url(#clip062)\" style=\"stroke:#000000; stroke-linecap:round; stroke-linejoin:round; stroke-width:4; stroke-opacity:1; fill:none\" points=\"1610.76,1106.5 1610.76,1486.45 1688.49,1486.45 1688.49,1106.5 1610.76,1106.5 \"/>\n",
       "<path clip-path=\"url(#clip062)\" d=\"M1688.49 1152.55 L1688.49 1486.45 L1766.23 1486.45 L1766.23 1152.55 L1688.49 1152.55 L1688.49 1152.55  Z\" fill=\"#009af9\" fill-rule=\"evenodd\" fill-opacity=\"1\"/>\n",
       "<polyline clip-path=\"url(#clip062)\" style=\"stroke:#000000; stroke-linecap:round; stroke-linejoin:round; stroke-width:4; stroke-opacity:1; fill:none\" points=\"1688.49,1152.55 1688.49,1486.45 1766.23,1486.45 1766.23,1152.55 1688.49,1152.55 \"/>\n",
       "<path clip-path=\"url(#clip062)\" d=\"M1766.23 1256.18 L1766.23 1486.45 L1843.97 1486.45 L1843.97 1256.18 L1766.23 1256.18 L1766.23 1256.18  Z\" fill=\"#009af9\" fill-rule=\"evenodd\" fill-opacity=\"1\"/>\n",
       "<polyline clip-path=\"url(#clip062)\" style=\"stroke:#000000; stroke-linecap:round; stroke-linejoin:round; stroke-width:4; stroke-opacity:1; fill:none\" points=\"1766.23,1256.18 1766.23,1486.45 1843.97,1486.45 1843.97,1256.18 1766.23,1256.18 \"/>\n",
       "<path clip-path=\"url(#clip062)\" d=\"M1843.97 1336.77 L1843.97 1486.45 L1921.7 1486.45 L1921.7 1336.77 L1843.97 1336.77 L1843.97 1336.77  Z\" fill=\"#009af9\" fill-rule=\"evenodd\" fill-opacity=\"1\"/>\n",
       "<polyline clip-path=\"url(#clip062)\" style=\"stroke:#000000; stroke-linecap:round; stroke-linejoin:round; stroke-width:4; stroke-opacity:1; fill:none\" points=\"1843.97,1336.77 1843.97,1486.45 1921.7,1486.45 1921.7,1336.77 1843.97,1336.77 \"/>\n",
       "<path clip-path=\"url(#clip062)\" d=\"M1921.7 1394.34 L1921.7 1486.45 L1999.44 1486.45 L1999.44 1394.34 L1921.7 1394.34 L1921.7 1394.34  Z\" fill=\"#009af9\" fill-rule=\"evenodd\" fill-opacity=\"1\"/>\n",
       "<polyline clip-path=\"url(#clip062)\" style=\"stroke:#000000; stroke-linecap:round; stroke-linejoin:round; stroke-width:4; stroke-opacity:1; fill:none\" points=\"1921.7,1394.34 1921.7,1486.45 1999.44,1486.45 1999.44,1394.34 1921.7,1394.34 \"/>\n",
       "<path clip-path=\"url(#clip062)\" d=\"M1999.44 1405.85 L1999.44 1486.45 L2077.18 1486.45 L2077.18 1405.85 L1999.44 1405.85 L1999.44 1405.85  Z\" fill=\"#009af9\" fill-rule=\"evenodd\" fill-opacity=\"1\"/>\n",
       "<polyline clip-path=\"url(#clip062)\" style=\"stroke:#000000; stroke-linecap:round; stroke-linejoin:round; stroke-width:4; stroke-opacity:1; fill:none\" points=\"1999.44,1405.85 1999.44,1486.45 2077.18,1486.45 2077.18,1405.85 1999.44,1405.85 \"/>\n",
       "<path clip-path=\"url(#clip062)\" d=\"M2077.18 1417.37 L2077.18 1486.45 L2154.92 1486.45 L2154.92 1417.37 L2077.18 1417.37 L2077.18 1417.37  Z\" fill=\"#009af9\" fill-rule=\"evenodd\" fill-opacity=\"1\"/>\n",
       "<polyline clip-path=\"url(#clip062)\" style=\"stroke:#000000; stroke-linecap:round; stroke-linejoin:round; stroke-width:4; stroke-opacity:1; fill:none\" points=\"2077.18,1417.37 2077.18,1486.45 2154.92,1486.45 2154.92,1417.37 2077.18,1417.37 \"/>\n",
       "<path clip-path=\"url(#clip062)\" d=\"M2154.92 1474.93 L2154.92 1486.45 L2232.65 1486.45 L2232.65 1474.93 L2154.92 1474.93 L2154.92 1474.93  Z\" fill=\"#009af9\" fill-rule=\"evenodd\" fill-opacity=\"1\"/>\n",
       "<polyline clip-path=\"url(#clip062)\" style=\"stroke:#000000; stroke-linecap:round; stroke-linejoin:round; stroke-width:4; stroke-opacity:1; fill:none\" points=\"2154.92,1474.93 2154.92,1486.45 2232.65,1486.45 2232.65,1474.93 2154.92,1474.93 \"/>\n",
       "<circle clip-path=\"url(#clip062)\" style=\"fill:#009af9; stroke:none; fill-opacity:0\" cx=\"328.094\" cy=\"1474.93\" r=\"2\"/>\n",
       "<circle clip-path=\"url(#clip062)\" style=\"fill:#009af9; stroke:none; fill-opacity:0\" cx=\"405.831\" cy=\"1440.39\" r=\"2\"/>\n",
       "<circle clip-path=\"url(#clip062)\" style=\"fill:#009af9; stroke:none; fill-opacity:0\" cx=\"483.568\" cy=\"1405.85\" r=\"2\"/>\n",
       "<circle clip-path=\"url(#clip062)\" style=\"fill:#009af9; stroke:none; fill-opacity:0\" cx=\"561.305\" cy=\"1394.34\" r=\"2\"/>\n",
       "<circle clip-path=\"url(#clip062)\" style=\"fill:#009af9; stroke:none; fill-opacity:0\" cx=\"639.042\" cy=\"1325.26\" r=\"2\"/>\n",
       "<circle clip-path=\"url(#clip062)\" style=\"fill:#009af9; stroke:none; fill-opacity:0\" cx=\"716.779\" cy=\"1210.12\" r=\"2\"/>\n",
       "<circle clip-path=\"url(#clip062)\" style=\"fill:#009af9; stroke:none; fill-opacity:0\" cx=\"794.516\" cy=\"1094.98\" r=\"2\"/>\n",
       "<circle clip-path=\"url(#clip062)\" style=\"fill:#009af9; stroke:none; fill-opacity:0\" cx=\"872.253\" cy=\"1152.55\" r=\"2\"/>\n",
       "<circle clip-path=\"url(#clip062)\" style=\"fill:#009af9; stroke:none; fill-opacity:0\" cx=\"949.99\" cy=\"887.739\" r=\"2\"/>\n",
       "<circle clip-path=\"url(#clip062)\" style=\"fill:#009af9; stroke:none; fill-opacity:0\" cx=\"1027.73\" cy=\"1152.55\" r=\"2\"/>\n",
       "<circle clip-path=\"url(#clip062)\" style=\"fill:#009af9; stroke:none; fill-opacity:0\" cx=\"1105.46\" cy=\"945.307\" r=\"2\"/>\n",
       "<circle clip-path=\"url(#clip062)\" style=\"fill:#009af9; stroke:none; fill-opacity:0\" cx=\"1183.2\" cy=\"1118.01\" r=\"2\"/>\n",
       "<circle clip-path=\"url(#clip062)\" style=\"fill:#009af9; stroke:none; fill-opacity:0\" cx=\"1260.94\" cy=\"956.821\" r=\"2\"/>\n",
       "<circle clip-path=\"url(#clip062)\" style=\"fill:#009af9; stroke:none; fill-opacity:0\" cx=\"1338.68\" cy=\"1014.39\" r=\"2\"/>\n",
       "<circle clip-path=\"url(#clip062)\" style=\"fill:#009af9; stroke:none; fill-opacity:0\" cx=\"1416.41\" cy=\"968.335\" r=\"2\"/>\n",
       "<circle clip-path=\"url(#clip062)\" style=\"fill:#009af9; stroke:none; fill-opacity:0\" cx=\"1494.15\" cy=\"910.766\" r=\"2\"/>\n",
       "<circle clip-path=\"url(#clip062)\" style=\"fill:#009af9; stroke:none; fill-opacity:0\" cx=\"1571.89\" cy=\"968.335\" r=\"2\"/>\n",
       "<circle clip-path=\"url(#clip062)\" style=\"fill:#009af9; stroke:none; fill-opacity:0\" cx=\"1649.62\" cy=\"1106.5\" r=\"2\"/>\n",
       "<circle clip-path=\"url(#clip062)\" style=\"fill:#009af9; stroke:none; fill-opacity:0\" cx=\"1727.36\" cy=\"1152.55\" r=\"2\"/>\n",
       "<circle clip-path=\"url(#clip062)\" style=\"fill:#009af9; stroke:none; fill-opacity:0\" cx=\"1805.1\" cy=\"1256.18\" r=\"2\"/>\n",
       "<circle clip-path=\"url(#clip062)\" style=\"fill:#009af9; stroke:none; fill-opacity:0\" cx=\"1882.84\" cy=\"1336.77\" r=\"2\"/>\n",
       "<circle clip-path=\"url(#clip062)\" style=\"fill:#009af9; stroke:none; fill-opacity:0\" cx=\"1960.57\" cy=\"1394.34\" r=\"2\"/>\n",
       "<circle clip-path=\"url(#clip062)\" style=\"fill:#009af9; stroke:none; fill-opacity:0\" cx=\"2038.31\" cy=\"1405.85\" r=\"2\"/>\n",
       "<circle clip-path=\"url(#clip062)\" style=\"fill:#009af9; stroke:none; fill-opacity:0\" cx=\"2116.05\" cy=\"1417.37\" r=\"2\"/>\n",
       "<circle clip-path=\"url(#clip062)\" style=\"fill:#009af9; stroke:none; fill-opacity:0\" cx=\"2193.78\" cy=\"1474.93\" r=\"2\"/>\n",
       "</svg>\n"
      ],
      "text/html": [
       "<?xml version=\"1.0\" encoding=\"utf-8\"?>\n",
       "<svg xmlns=\"http://www.w3.org/2000/svg\" xmlns:xlink=\"http://www.w3.org/1999/xlink\" width=\"600\" height=\"400\" viewBox=\"0 0 2400 1600\">\n",
       "<defs>\n",
       "  <clipPath id=\"clip110\">\n",
       "    <rect x=\"0\" y=\"0\" width=\"2400\" height=\"1600\"/>\n",
       "  </clipPath>\n",
       "</defs>\n",
       "<path clip-path=\"url(#clip110)\" d=\"M0 1600 L2400 1600 L2400 8.88178e-14 L0 8.88178e-14  Z\" fill=\"#ffffff\" fill-rule=\"evenodd\" fill-opacity=\"1\"/>\n",
       "<defs>\n",
       "  <clipPath id=\"clip111\">\n",
       "    <rect x=\"480\" y=\"0\" width=\"1681\" height=\"1600\"/>\n",
       "  </clipPath>\n",
       "</defs>\n",
       "<path clip-path=\"url(#clip110)\" d=\"M169.121 1486.45 L2352.76 1486.45 L2352.76 47.2441 L169.121 47.2441  Z\" fill=\"#ffffff\" fill-rule=\"evenodd\" fill-opacity=\"1\"/>\n",
       "<defs>\n",
       "  <clipPath id=\"clip112\">\n",
       "    <rect x=\"169\" y=\"47\" width=\"2185\" height=\"1440\"/>\n",
       "  </clipPath>\n",
       "</defs>\n",
       "<polyline clip-path=\"url(#clip112)\" style=\"stroke:#000000; stroke-linecap:round; stroke-linejoin:round; stroke-width:2; stroke-opacity:0.1; fill:none\" points=\"483.568,1486.45 483.568,47.2441 \"/>\n",
       "<polyline clip-path=\"url(#clip112)\" style=\"stroke:#000000; stroke-linecap:round; stroke-linejoin:round; stroke-width:2; stroke-opacity:0.1; fill:none\" points=\"872.253,1486.45 872.253,47.2441 \"/>\n",
       "<polyline clip-path=\"url(#clip112)\" style=\"stroke:#000000; stroke-linecap:round; stroke-linejoin:round; stroke-width:2; stroke-opacity:0.1; fill:none\" points=\"1260.94,1486.45 1260.94,47.2441 \"/>\n",
       "<polyline clip-path=\"url(#clip112)\" style=\"stroke:#000000; stroke-linecap:round; stroke-linejoin:round; stroke-width:2; stroke-opacity:0.1; fill:none\" points=\"1649.62,1486.45 1649.62,47.2441 \"/>\n",
       "<polyline clip-path=\"url(#clip112)\" style=\"stroke:#000000; stroke-linecap:round; stroke-linejoin:round; stroke-width:2; stroke-opacity:0.1; fill:none\" points=\"2038.31,1486.45 2038.31,47.2441 \"/>\n",
       "<polyline clip-path=\"url(#clip110)\" style=\"stroke:#000000; stroke-linecap:round; stroke-linejoin:round; stroke-width:4; stroke-opacity:1; fill:none\" points=\"169.121,1486.45 2352.76,1486.45 \"/>\n",
       "<polyline clip-path=\"url(#clip110)\" style=\"stroke:#000000; stroke-linecap:round; stroke-linejoin:round; stroke-width:4; stroke-opacity:1; fill:none\" points=\"483.568,1486.45 483.568,1467.55 \"/>\n",
       "<polyline clip-path=\"url(#clip110)\" style=\"stroke:#000000; stroke-linecap:round; stroke-linejoin:round; stroke-width:4; stroke-opacity:1; fill:none\" points=\"872.253,1486.45 872.253,1467.55 \"/>\n",
       "<polyline clip-path=\"url(#clip110)\" style=\"stroke:#000000; stroke-linecap:round; stroke-linejoin:round; stroke-width:4; stroke-opacity:1; fill:none\" points=\"1260.94,1486.45 1260.94,1467.55 \"/>\n",
       "<polyline clip-path=\"url(#clip110)\" style=\"stroke:#000000; stroke-linecap:round; stroke-linejoin:round; stroke-width:4; stroke-opacity:1; fill:none\" points=\"1649.62,1486.45 1649.62,1467.55 \"/>\n",
       "<polyline clip-path=\"url(#clip110)\" style=\"stroke:#000000; stroke-linecap:round; stroke-linejoin:round; stroke-width:4; stroke-opacity:1; fill:none\" points=\"2038.31,1486.45 2038.31,1467.55 \"/>\n",
       "<path clip-path=\"url(#clip110)\" d=\"M445.871 1517.37 Q442.26 1517.37 440.431 1520.93 Q438.626 1524.47 438.626 1531.6 Q438.626 1538.71 440.431 1542.27 Q442.26 1545.82 445.871 1545.82 Q449.505 1545.82 451.311 1542.27 Q453.14 1538.71 453.14 1531.6 Q453.14 1524.47 451.311 1520.93 Q449.505 1517.37 445.871 1517.37 M445.871 1513.66 Q451.681 1513.66 454.737 1518.27 Q457.816 1522.85 457.816 1531.6 Q457.816 1540.33 454.737 1544.94 Q451.681 1549.52 445.871 1549.52 Q440.061 1549.52 436.982 1544.94 Q433.927 1540.33 433.927 1531.6 Q433.927 1522.85 436.982 1518.27 Q440.061 1513.66 445.871 1513.66 Z\" fill=\"#000000\" fill-rule=\"nonzero\" fill-opacity=\"1\" /><path clip-path=\"url(#clip110)\" d=\"M466.033 1542.97 L470.917 1542.97 L470.917 1548.85 L466.033 1548.85 L466.033 1542.97 Z\" fill=\"#000000\" fill-rule=\"nonzero\" fill-opacity=\"1\" /><path clip-path=\"url(#clip110)\" d=\"M481.149 1514.29 L499.505 1514.29 L499.505 1518.22 L485.431 1518.22 L485.431 1526.7 Q486.45 1526.35 487.468 1526.19 Q488.487 1526 489.505 1526 Q495.292 1526 498.672 1529.17 Q502.052 1532.34 502.052 1537.76 Q502.052 1543.34 498.579 1546.44 Q495.107 1549.52 488.788 1549.52 Q486.612 1549.52 484.343 1549.15 Q482.098 1548.78 479.691 1548.04 L479.691 1543.34 Q481.774 1544.47 483.996 1545.03 Q486.218 1545.58 488.695 1545.58 Q492.7 1545.58 495.038 1543.48 Q497.376 1541.37 497.376 1537.76 Q497.376 1534.15 495.038 1532.04 Q492.7 1529.94 488.695 1529.94 Q486.82 1529.94 484.945 1530.35 Q483.093 1530.77 481.149 1531.65 L481.149 1514.29 Z\" fill=\"#000000\" fill-rule=\"nonzero\" fill-opacity=\"1\" /><path clip-path=\"url(#clip110)\" d=\"M521.264 1517.37 Q517.653 1517.37 515.825 1520.93 Q514.019 1524.47 514.019 1531.6 Q514.019 1538.71 515.825 1542.27 Q517.653 1545.82 521.264 1545.82 Q524.899 1545.82 526.704 1542.27 Q528.533 1538.71 528.533 1531.6 Q528.533 1524.47 526.704 1520.93 Q524.899 1517.37 521.264 1517.37 M521.264 1513.66 Q527.075 1513.66 530.13 1518.27 Q533.209 1522.85 533.209 1531.6 Q533.209 1540.33 530.13 1544.94 Q527.075 1549.52 521.264 1549.52 Q515.454 1549.52 512.376 1544.94 Q509.32 1540.33 509.32 1531.6 Q509.32 1522.85 512.376 1518.27 Q515.454 1513.66 521.264 1513.66 Z\" fill=\"#000000\" fill-rule=\"nonzero\" fill-opacity=\"1\" /><path clip-path=\"url(#clip110)\" d=\"M835.054 1517.37 Q831.443 1517.37 829.615 1520.93 Q827.809 1524.47 827.809 1531.6 Q827.809 1538.71 829.615 1542.27 Q831.443 1545.82 835.054 1545.82 Q838.689 1545.82 840.494 1542.27 Q842.323 1538.71 842.323 1531.6 Q842.323 1524.47 840.494 1520.93 Q838.689 1517.37 835.054 1517.37 M835.054 1513.66 Q840.864 1513.66 843.92 1518.27 Q846.999 1522.85 846.999 1531.6 Q846.999 1540.33 843.92 1544.94 Q840.864 1549.52 835.054 1549.52 Q829.244 1549.52 826.165 1544.94 Q823.11 1540.33 823.11 1531.6 Q823.11 1522.85 826.165 1518.27 Q829.244 1513.66 835.054 1513.66 Z\" fill=\"#000000\" fill-rule=\"nonzero\" fill-opacity=\"1\" /><path clip-path=\"url(#clip110)\" d=\"M855.216 1542.97 L860.1 1542.97 L860.1 1548.85 L855.216 1548.85 L855.216 1542.97 Z\" fill=\"#000000\" fill-rule=\"nonzero\" fill-opacity=\"1\" /><path clip-path=\"url(#clip110)\" d=\"M869.105 1514.29 L891.327 1514.29 L891.327 1516.28 L878.781 1548.85 L873.897 1548.85 L885.702 1518.22 L869.105 1518.22 L869.105 1514.29 Z\" fill=\"#000000\" fill-rule=\"nonzero\" fill-opacity=\"1\" /><path clip-path=\"url(#clip110)\" d=\"M900.494 1514.29 L918.85 1514.29 L918.85 1518.22 L904.776 1518.22 L904.776 1526.7 Q905.795 1526.35 906.813 1526.19 Q907.832 1526 908.85 1526 Q914.637 1526 918.017 1529.17 Q921.396 1532.34 921.396 1537.76 Q921.396 1543.34 917.924 1546.44 Q914.452 1549.52 908.133 1549.52 Q905.957 1549.52 903.688 1549.15 Q901.443 1548.78 899.035 1548.04 L899.035 1543.34 Q901.119 1544.47 903.341 1545.03 Q905.563 1545.58 908.04 1545.58 Q912.045 1545.58 914.383 1543.48 Q916.721 1541.37 916.721 1537.76 Q916.721 1534.15 914.383 1532.04 Q912.045 1529.94 908.04 1529.94 Q906.165 1529.94 904.29 1530.35 Q902.438 1530.77 900.494 1531.65 L900.494 1514.29 Z\" fill=\"#000000\" fill-rule=\"nonzero\" fill-opacity=\"1\" /><path clip-path=\"url(#clip110)\" d=\"M1213.01 1544.91 L1220.65 1544.91 L1220.65 1518.55 L1212.34 1520.21 L1212.34 1515.95 L1220.6 1514.29 L1225.28 1514.29 L1225.28 1544.91 L1232.92 1544.91 L1232.92 1548.85 L1213.01 1548.85 L1213.01 1544.91 Z\" fill=\"#000000\" fill-rule=\"nonzero\" fill-opacity=\"1\" /><path clip-path=\"url(#clip110)\" d=\"M1242.36 1542.97 L1247.25 1542.97 L1247.25 1548.85 L1242.36 1548.85 L1242.36 1542.97 Z\" fill=\"#000000\" fill-rule=\"nonzero\" fill-opacity=\"1\" /><path clip-path=\"url(#clip110)\" d=\"M1267.43 1517.37 Q1263.82 1517.37 1261.99 1520.93 Q1260.19 1524.47 1260.19 1531.6 Q1260.19 1538.71 1261.99 1542.27 Q1263.82 1545.82 1267.43 1545.82 Q1271.07 1545.82 1272.87 1542.27 Q1274.7 1538.71 1274.7 1531.6 Q1274.7 1524.47 1272.87 1520.93 Q1271.07 1517.37 1267.43 1517.37 M1267.43 1513.66 Q1273.24 1513.66 1276.3 1518.27 Q1279.38 1522.85 1279.38 1531.6 Q1279.38 1540.33 1276.3 1544.94 Q1273.24 1549.52 1267.43 1549.52 Q1261.62 1549.52 1258.54 1544.94 Q1255.49 1540.33 1255.49 1531.6 Q1255.49 1522.85 1258.54 1518.27 Q1261.62 1513.66 1267.43 1513.66 Z\" fill=\"#000000\" fill-rule=\"nonzero\" fill-opacity=\"1\" /><path clip-path=\"url(#clip110)\" d=\"M1297.59 1517.37 Q1293.98 1517.37 1292.15 1520.93 Q1290.35 1524.47 1290.35 1531.6 Q1290.35 1538.71 1292.15 1542.27 Q1293.98 1545.82 1297.59 1545.82 Q1301.23 1545.82 1303.03 1542.27 Q1304.86 1538.71 1304.86 1531.6 Q1304.86 1524.47 1303.03 1520.93 Q1301.23 1517.37 1297.59 1517.37 M1297.59 1513.66 Q1303.4 1513.66 1306.46 1518.27 Q1309.54 1522.85 1309.54 1531.6 Q1309.54 1540.33 1306.46 1544.94 Q1303.4 1549.52 1297.59 1549.52 Q1291.78 1549.52 1288.7 1544.94 Q1285.65 1540.33 1285.65 1531.6 Q1285.65 1522.85 1288.7 1518.27 Q1291.78 1513.66 1297.59 1513.66 Z\" fill=\"#000000\" fill-rule=\"nonzero\" fill-opacity=\"1\" /><path clip-path=\"url(#clip110)\" d=\"M1602.19 1544.91 L1609.83 1544.91 L1609.83 1518.55 L1601.52 1520.21 L1601.52 1515.95 L1609.79 1514.29 L1614.46 1514.29 L1614.46 1544.91 L1622.1 1544.91 L1622.1 1548.85 L1602.19 1548.85 L1602.19 1544.91 Z\" fill=\"#000000\" fill-rule=\"nonzero\" fill-opacity=\"1\" /><path clip-path=\"url(#clip110)\" d=\"M1631.55 1542.97 L1636.43 1542.97 L1636.43 1548.85 L1631.55 1548.85 L1631.55 1542.97 Z\" fill=\"#000000\" fill-rule=\"nonzero\" fill-opacity=\"1\" /><path clip-path=\"url(#clip110)\" d=\"M1650.64 1544.91 L1666.96 1544.91 L1666.96 1548.85 L1645.02 1548.85 L1645.02 1544.91 Q1647.68 1542.16 1652.26 1537.53 Q1656.87 1532.88 1658.05 1531.53 Q1660.3 1529.01 1661.17 1527.27 Q1662.08 1525.51 1662.08 1523.82 Q1662.08 1521.07 1660.13 1519.33 Q1658.21 1517.6 1655.11 1517.6 Q1652.91 1517.6 1650.46 1518.36 Q1648.03 1519.13 1645.25 1520.68 L1645.25 1515.95 Q1648.07 1514.82 1650.53 1514.24 Q1652.98 1513.66 1655.02 1513.66 Q1660.39 1513.66 1663.58 1516.35 Q1666.78 1519.03 1666.78 1523.52 Q1666.78 1525.65 1665.97 1527.57 Q1665.18 1529.47 1663.07 1532.07 Q1662.49 1532.74 1659.39 1535.95 Q1656.29 1539.15 1650.64 1544.91 Z\" fill=\"#000000\" fill-rule=\"nonzero\" fill-opacity=\"1\" /><path clip-path=\"url(#clip110)\" d=\"M1676.82 1514.29 L1695.18 1514.29 L1695.18 1518.22 L1681.11 1518.22 L1681.11 1526.7 Q1682.12 1526.35 1683.14 1526.19 Q1684.16 1526 1685.18 1526 Q1690.97 1526 1694.35 1529.17 Q1697.73 1532.34 1697.73 1537.76 Q1697.73 1543.34 1694.25 1546.44 Q1690.78 1549.52 1684.46 1549.52 Q1682.29 1549.52 1680.02 1549.15 Q1677.77 1548.78 1675.36 1548.04 L1675.36 1543.34 Q1677.45 1544.47 1679.67 1545.03 Q1681.89 1545.58 1684.37 1545.58 Q1688.37 1545.58 1690.71 1543.48 Q1693.05 1541.37 1693.05 1537.76 Q1693.05 1534.15 1690.71 1532.04 Q1688.37 1529.94 1684.37 1529.94 Q1682.49 1529.94 1680.62 1530.35 Q1678.77 1530.77 1676.82 1531.65 L1676.82 1514.29 Z\" fill=\"#000000\" fill-rule=\"nonzero\" fill-opacity=\"1\" /><path clip-path=\"url(#clip110)\" d=\"M1990.38 1544.91 L1998.02 1544.91 L1998.02 1518.55 L1989.71 1520.21 L1989.71 1515.95 L1997.97 1514.29 L2002.65 1514.29 L2002.65 1544.91 L2010.29 1544.91 L2010.29 1548.85 L1990.38 1548.85 L1990.38 1544.91 Z\" fill=\"#000000\" fill-rule=\"nonzero\" fill-opacity=\"1\" /><path clip-path=\"url(#clip110)\" d=\"M2019.73 1542.97 L2024.62 1542.97 L2024.62 1548.85 L2019.73 1548.85 L2019.73 1542.97 Z\" fill=\"#000000\" fill-rule=\"nonzero\" fill-opacity=\"1\" /><path clip-path=\"url(#clip110)\" d=\"M2034.85 1514.29 L2053.21 1514.29 L2053.21 1518.22 L2039.13 1518.22 L2039.13 1526.7 Q2040.15 1526.35 2041.17 1526.19 Q2042.19 1526 2043.21 1526 Q2048.99 1526 2052.37 1529.17 Q2055.75 1532.34 2055.75 1537.76 Q2055.75 1543.34 2052.28 1546.44 Q2048.81 1549.52 2042.49 1549.52 Q2040.31 1549.52 2038.04 1549.15 Q2035.8 1548.78 2033.39 1548.04 L2033.39 1543.34 Q2035.47 1544.47 2037.7 1545.03 Q2039.92 1545.58 2042.4 1545.58 Q2046.4 1545.58 2048.74 1543.48 Q2051.08 1541.37 2051.08 1537.76 Q2051.08 1534.15 2048.74 1532.04 Q2046.4 1529.94 2042.4 1529.94 Q2040.52 1529.94 2038.65 1530.35 Q2036.79 1530.77 2034.85 1531.65 L2034.85 1514.29 Z\" fill=\"#000000\" fill-rule=\"nonzero\" fill-opacity=\"1\" /><path clip-path=\"url(#clip110)\" d=\"M2074.96 1517.37 Q2071.35 1517.37 2069.52 1520.93 Q2067.72 1524.47 2067.72 1531.6 Q2067.72 1538.71 2069.52 1542.27 Q2071.35 1545.82 2074.96 1545.82 Q2078.6 1545.82 2080.4 1542.27 Q2082.23 1538.71 2082.23 1531.6 Q2082.23 1524.47 2080.4 1520.93 Q2078.6 1517.37 2074.96 1517.37 M2074.96 1513.66 Q2080.77 1513.66 2083.83 1518.27 Q2086.91 1522.85 2086.91 1531.6 Q2086.91 1540.33 2083.83 1544.94 Q2080.77 1549.52 2074.96 1549.52 Q2069.15 1549.52 2066.08 1544.94 Q2063.02 1540.33 2063.02 1531.6 Q2063.02 1522.85 2066.08 1518.27 Q2069.15 1513.66 2074.96 1513.66 Z\" fill=\"#000000\" fill-rule=\"nonzero\" fill-opacity=\"1\" /><polyline clip-path=\"url(#clip112)\" style=\"stroke:#000000; stroke-linecap:round; stroke-linejoin:round; stroke-width:2; stroke-opacity:0.1; fill:none\" points=\"169.121,1486.45 2352.76,1486.45 \"/>\n",
       "<polyline clip-path=\"url(#clip112)\" style=\"stroke:#000000; stroke-linecap:round; stroke-linejoin:round; stroke-width:2; stroke-opacity:0.1; fill:none\" points=\"169.121,1198.61 2352.76,1198.61 \"/>\n",
       "<polyline clip-path=\"url(#clip112)\" style=\"stroke:#000000; stroke-linecap:round; stroke-linejoin:round; stroke-width:2; stroke-opacity:0.1; fill:none\" points=\"169.121,910.766 2352.76,910.766 \"/>\n",
       "<polyline clip-path=\"url(#clip112)\" style=\"stroke:#000000; stroke-linecap:round; stroke-linejoin:round; stroke-width:2; stroke-opacity:0.1; fill:none\" points=\"169.121,622.926 2352.76,622.926 \"/>\n",
       "<polyline clip-path=\"url(#clip112)\" style=\"stroke:#000000; stroke-linecap:round; stroke-linejoin:round; stroke-width:2; stroke-opacity:0.1; fill:none\" points=\"169.121,335.085 2352.76,335.085 \"/>\n",
       "<polyline clip-path=\"url(#clip112)\" style=\"stroke:#000000; stroke-linecap:round; stroke-linejoin:round; stroke-width:2; stroke-opacity:0.1; fill:none\" points=\"169.121,47.2441 2352.76,47.2441 \"/>\n",
       "<polyline clip-path=\"url(#clip110)\" style=\"stroke:#000000; stroke-linecap:round; stroke-linejoin:round; stroke-width:4; stroke-opacity:1; fill:none\" points=\"169.121,1486.45 169.121,47.2441 \"/>\n",
       "<polyline clip-path=\"url(#clip110)\" style=\"stroke:#000000; stroke-linecap:round; stroke-linejoin:round; stroke-width:4; stroke-opacity:1; fill:none\" points=\"169.121,1486.45 188.019,1486.45 \"/>\n",
       "<polyline clip-path=\"url(#clip110)\" style=\"stroke:#000000; stroke-linecap:round; stroke-linejoin:round; stroke-width:4; stroke-opacity:1; fill:none\" points=\"169.121,1198.61 188.019,1198.61 \"/>\n",
       "<polyline clip-path=\"url(#clip110)\" style=\"stroke:#000000; stroke-linecap:round; stroke-linejoin:round; stroke-width:4; stroke-opacity:1; fill:none\" points=\"169.121,910.766 188.019,910.766 \"/>\n",
       "<polyline clip-path=\"url(#clip110)\" style=\"stroke:#000000; stroke-linecap:round; stroke-linejoin:round; stroke-width:4; stroke-opacity:1; fill:none\" points=\"169.121,622.926 188.019,622.926 \"/>\n",
       "<polyline clip-path=\"url(#clip110)\" style=\"stroke:#000000; stroke-linecap:round; stroke-linejoin:round; stroke-width:4; stroke-opacity:1; fill:none\" points=\"169.121,335.085 188.019,335.085 \"/>\n",
       "<polyline clip-path=\"url(#clip110)\" style=\"stroke:#000000; stroke-linecap:round; stroke-linejoin:round; stroke-width:4; stroke-opacity:1; fill:none\" points=\"169.121,47.2441 188.019,47.2441 \"/>\n",
       "<path clip-path=\"url(#clip110)\" d=\"M121.177 1472.25 Q117.566 1472.25 115.737 1475.81 Q113.932 1479.35 113.932 1486.48 Q113.932 1493.59 115.737 1497.15 Q117.566 1500.7 121.177 1500.7 Q124.811 1500.7 126.617 1497.15 Q128.445 1493.59 128.445 1486.48 Q128.445 1479.35 126.617 1475.81 Q124.811 1472.25 121.177 1472.25 M121.177 1468.54 Q126.987 1468.54 130.043 1473.15 Q133.121 1477.73 133.121 1486.48 Q133.121 1495.21 130.043 1499.82 Q126.987 1504.4 121.177 1504.4 Q115.367 1504.4 112.288 1499.82 Q109.233 1495.21 109.233 1486.48 Q109.233 1477.73 112.288 1473.15 Q115.367 1468.54 121.177 1468.54 Z\" fill=\"#000000\" fill-rule=\"nonzero\" fill-opacity=\"1\" /><path clip-path=\"url(#clip110)\" d=\"M86.0382 1211.95 L102.358 1211.95 L102.358 1215.89 L80.4133 1215.89 L80.4133 1211.95 Q83.0753 1209.2 87.6586 1204.57 Q92.2651 1199.91 93.4456 1198.57 Q95.691 1196.05 96.5706 1194.31 Q97.4734 1192.55 97.4734 1190.86 Q97.4734 1188.11 95.5289 1186.37 Q93.6076 1184.64 90.5058 1184.64 Q88.3067 1184.64 85.8531 1185.4 Q83.4225 1186.17 80.6447 1187.72 L80.6447 1182.99 Q83.4688 1181.86 85.9225 1181.28 Q88.3762 1180.7 90.4132 1180.7 Q95.7836 1180.7 98.978 1183.39 Q102.172 1186.07 102.172 1190.56 Q102.172 1192.69 101.362 1194.61 Q100.575 1196.51 98.4687 1199.1 Q97.89 1199.78 94.7882 1202.99 Q91.6864 1206.19 86.0382 1211.95 Z\" fill=\"#000000\" fill-rule=\"nonzero\" fill-opacity=\"1\" /><path clip-path=\"url(#clip110)\" d=\"M112.219 1181.33 L130.575 1181.33 L130.575 1185.26 L116.501 1185.26 L116.501 1193.73 Q117.52 1193.39 118.538 1193.23 Q119.557 1193.04 120.575 1193.04 Q126.362 1193.04 129.742 1196.21 Q133.121 1199.38 133.121 1204.8 Q133.121 1210.38 129.649 1213.48 Q126.177 1216.56 119.857 1216.56 Q117.682 1216.56 115.413 1216.19 Q113.168 1215.82 110.76 1215.08 L110.76 1210.38 Q112.844 1211.51 115.066 1212.07 Q117.288 1212.62 119.765 1212.62 Q123.77 1212.62 126.107 1210.52 Q128.445 1208.41 128.445 1204.8 Q128.445 1201.19 126.107 1199.08 Q123.77 1196.98 119.765 1196.98 Q117.89 1196.98 116.015 1197.39 Q114.163 1197.81 112.219 1198.69 L112.219 1181.33 Z\" fill=\"#000000\" fill-rule=\"nonzero\" fill-opacity=\"1\" /><path clip-path=\"url(#clip110)\" d=\"M81.0614 893.486 L99.4178 893.486 L99.4178 897.422 L85.3438 897.422 L85.3438 905.894 Q86.3623 905.546 87.3808 905.384 Q88.3993 905.199 89.4178 905.199 Q95.2049 905.199 98.5845 908.371 Q101.964 911.542 101.964 916.958 Q101.964 922.537 98.4919 925.639 Q95.0197 928.718 88.7003 928.718 Q86.5243 928.718 84.2558 928.347 Q82.0105 927.977 79.6031 927.236 L79.6031 922.537 Q81.6864 923.671 83.9086 924.227 Q86.1308 924.782 88.6077 924.782 Q92.6123 924.782 94.9502 922.676 Q97.2882 920.57 97.2882 916.958 Q97.2882 913.347 94.9502 911.241 Q92.6123 909.134 88.6077 909.134 Q86.7327 909.134 84.8577 909.551 Q83.0058 909.968 81.0614 910.847 L81.0614 893.486 Z\" fill=\"#000000\" fill-rule=\"nonzero\" fill-opacity=\"1\" /><path clip-path=\"url(#clip110)\" d=\"M121.177 896.565 Q117.566 896.565 115.737 900.13 Q113.932 903.671 113.932 910.801 Q113.932 917.908 115.737 921.472 Q117.566 925.014 121.177 925.014 Q124.811 925.014 126.617 921.472 Q128.445 917.908 128.445 910.801 Q128.445 903.671 126.617 900.13 Q124.811 896.565 121.177 896.565 M121.177 892.861 Q126.987 892.861 130.043 897.468 Q133.121 902.051 133.121 910.801 Q133.121 919.528 130.043 924.134 Q126.987 928.718 121.177 928.718 Q115.367 928.718 112.288 924.134 Q109.233 919.528 109.233 910.801 Q109.233 902.051 112.288 897.468 Q115.367 892.861 121.177 892.861 Z\" fill=\"#000000\" fill-rule=\"nonzero\" fill-opacity=\"1\" /><path clip-path=\"url(#clip110)\" d=\"M80.8299 605.646 L103.052 605.646 L103.052 607.636 L90.5058 640.206 L85.6216 640.206 L97.4271 609.581 L80.8299 609.581 L80.8299 605.646 Z\" fill=\"#000000\" fill-rule=\"nonzero\" fill-opacity=\"1\" /><path clip-path=\"url(#clip110)\" d=\"M112.219 605.646 L130.575 605.646 L130.575 609.581 L116.501 609.581 L116.501 618.053 Q117.52 617.706 118.538 617.544 Q119.557 617.359 120.575 617.359 Q126.362 617.359 129.742 620.53 Q133.121 623.701 133.121 629.118 Q133.121 634.696 129.649 637.798 Q126.177 640.877 119.857 640.877 Q117.682 640.877 115.413 640.507 Q113.168 640.136 110.76 639.395 L110.76 634.696 Q112.844 635.831 115.066 636.386 Q117.288 636.942 119.765 636.942 Q123.77 636.942 126.107 634.835 Q128.445 632.729 128.445 629.118 Q128.445 625.507 126.107 623.4 Q123.77 621.294 119.765 621.294 Q117.89 621.294 116.015 621.71 Q114.163 622.127 112.219 623.007 L112.219 605.646 Z\" fill=\"#000000\" fill-rule=\"nonzero\" fill-opacity=\"1\" /><path clip-path=\"url(#clip110)\" d=\"M51.6634 348.43 L59.3023 348.43 L59.3023 322.064 L50.9921 323.731 L50.9921 319.472 L59.256 317.805 L63.9319 317.805 L63.9319 348.43 L71.5707 348.43 L71.5707 352.365 L51.6634 352.365 L51.6634 348.43 Z\" fill=\"#000000\" fill-rule=\"nonzero\" fill-opacity=\"1\" /><path clip-path=\"url(#clip110)\" d=\"M91.0151 320.884 Q87.404 320.884 85.5753 324.448 Q83.7697 327.99 83.7697 335.12 Q83.7697 342.226 85.5753 345.791 Q87.404 349.332 91.0151 349.332 Q94.6493 349.332 96.4548 345.791 Q98.2835 342.226 98.2835 335.12 Q98.2835 327.99 96.4548 324.448 Q94.6493 320.884 91.0151 320.884 M91.0151 317.18 Q96.8252 317.18 99.8808 321.786 Q102.959 326.37 102.959 335.12 Q102.959 343.846 99.8808 348.453 Q96.8252 353.036 91.0151 353.036 Q85.2049 353.036 82.1262 348.453 Q79.0707 343.846 79.0707 335.12 Q79.0707 326.37 82.1262 321.786 Q85.2049 317.18 91.0151 317.18 Z\" fill=\"#000000\" fill-rule=\"nonzero\" fill-opacity=\"1\" /><path clip-path=\"url(#clip110)\" d=\"M121.177 320.884 Q117.566 320.884 115.737 324.448 Q113.932 327.99 113.932 335.12 Q113.932 342.226 115.737 345.791 Q117.566 349.332 121.177 349.332 Q124.811 349.332 126.617 345.791 Q128.445 342.226 128.445 335.12 Q128.445 327.99 126.617 324.448 Q124.811 320.884 121.177 320.884 M121.177 317.18 Q126.987 317.18 130.043 321.786 Q133.121 326.37 133.121 335.12 Q133.121 343.846 130.043 348.453 Q126.987 353.036 121.177 353.036 Q115.367 353.036 112.288 348.453 Q109.233 343.846 109.233 335.12 Q109.233 326.37 112.288 321.786 Q115.367 317.18 121.177 317.18 Z\" fill=\"#000000\" fill-rule=\"nonzero\" fill-opacity=\"1\" /><path clip-path=\"url(#clip110)\" d=\"M52.6588 60.5889 L60.2976 60.5889 L60.2976 34.2233 L51.9875 35.89 L51.9875 31.6308 L60.2513 29.9641 L64.9272 29.9641 L64.9272 60.5889 L72.5661 60.5889 L72.5661 64.5241 L52.6588 64.5241 L52.6588 60.5889 Z\" fill=\"#000000\" fill-rule=\"nonzero\" fill-opacity=\"1\" /><path clip-path=\"url(#clip110)\" d=\"M86.0382 60.5889 L102.358 60.5889 L102.358 64.5241 L80.4133 64.5241 L80.4133 60.5889 Q83.0753 57.8343 87.6586 53.2047 Q92.2651 48.552 93.4456 47.2094 Q95.691 44.6862 96.5706 42.9501 Q97.4734 41.1909 97.4734 39.5011 Q97.4734 36.7465 95.5289 35.0104 Q93.6076 33.2743 90.5058 33.2743 Q88.3067 33.2743 85.8531 34.0381 Q83.4225 34.802 80.6447 36.3529 L80.6447 31.6308 Q83.4688 30.4965 85.9225 29.9178 Q88.3762 29.3391 90.4132 29.3391 Q95.7836 29.3391 98.978 32.0243 Q102.172 34.7094 102.172 39.2002 Q102.172 41.3298 101.362 43.2511 Q100.575 45.1492 98.4687 47.7418 Q97.89 48.4131 94.7882 51.6306 Q91.6864 54.8251 86.0382 60.5889 Z\" fill=\"#000000\" fill-rule=\"nonzero\" fill-opacity=\"1\" /><path clip-path=\"url(#clip110)\" d=\"M112.219 29.9641 L130.575 29.9641 L130.575 33.8993 L116.501 33.8993 L116.501 42.3714 Q117.52 42.0242 118.538 41.8622 Q119.557 41.677 120.575 41.677 Q126.362 41.677 129.742 44.8483 Q133.121 48.0196 133.121 53.4362 Q133.121 59.0149 129.649 62.1167 Q126.177 65.1954 119.857 65.1954 Q117.682 65.1954 115.413 64.825 Q113.168 64.4547 110.76 63.7139 L110.76 59.0149 Q112.844 60.1491 115.066 60.7047 Q117.288 61.2602 119.765 61.2602 Q123.77 61.2602 126.107 59.1538 Q128.445 57.0473 128.445 53.4362 Q128.445 49.8251 126.107 47.7186 Q123.77 45.6122 119.765 45.6122 Q117.89 45.6122 116.015 46.0288 Q114.163 46.4455 112.219 47.3251 L112.219 29.9641 Z\" fill=\"#000000\" fill-rule=\"nonzero\" fill-opacity=\"1\" /><path clip-path=\"url(#clip112)\" d=\"M289.225 1474.93 L289.225 1486.45 L366.962 1486.45 L366.962 1474.93 L289.225 1474.93 L289.225 1474.93  Z\" fill=\"#009af9\" fill-rule=\"evenodd\" fill-opacity=\"1\"/>\n",
       "<polyline clip-path=\"url(#clip112)\" style=\"stroke:#000000; stroke-linecap:round; stroke-linejoin:round; stroke-width:4; stroke-opacity:1; fill:none\" points=\"289.225,1474.93 289.225,1486.45 366.962,1486.45 366.962,1474.93 289.225,1474.93 \"/>\n",
       "<path clip-path=\"url(#clip112)\" d=\"M366.962 1440.39 L366.962 1486.45 L444.699 1486.45 L444.699 1440.39 L366.962 1440.39 L366.962 1440.39  Z\" fill=\"#009af9\" fill-rule=\"evenodd\" fill-opacity=\"1\"/>\n",
       "<polyline clip-path=\"url(#clip112)\" style=\"stroke:#000000; stroke-linecap:round; stroke-linejoin:round; stroke-width:4; stroke-opacity:1; fill:none\" points=\"366.962,1440.39 366.962,1486.45 444.699,1486.45 444.699,1440.39 366.962,1440.39 \"/>\n",
       "<path clip-path=\"url(#clip112)\" d=\"M444.699 1405.85 L444.699 1486.45 L522.436 1486.45 L522.436 1405.85 L444.699 1405.85 L444.699 1405.85  Z\" fill=\"#009af9\" fill-rule=\"evenodd\" fill-opacity=\"1\"/>\n",
       "<polyline clip-path=\"url(#clip112)\" style=\"stroke:#000000; stroke-linecap:round; stroke-linejoin:round; stroke-width:4; stroke-opacity:1; fill:none\" points=\"444.699,1405.85 444.699,1486.45 522.436,1486.45 522.436,1405.85 444.699,1405.85 \"/>\n",
       "<path clip-path=\"url(#clip112)\" d=\"M522.436 1394.34 L522.436 1486.45 L600.173 1486.45 L600.173 1394.34 L522.436 1394.34 L522.436 1394.34  Z\" fill=\"#009af9\" fill-rule=\"evenodd\" fill-opacity=\"1\"/>\n",
       "<polyline clip-path=\"url(#clip112)\" style=\"stroke:#000000; stroke-linecap:round; stroke-linejoin:round; stroke-width:4; stroke-opacity:1; fill:none\" points=\"522.436,1394.34 522.436,1486.45 600.173,1486.45 600.173,1394.34 522.436,1394.34 \"/>\n",
       "<path clip-path=\"url(#clip112)\" d=\"M600.173 1325.26 L600.173 1486.45 L677.911 1486.45 L677.911 1325.26 L600.173 1325.26 L600.173 1325.26  Z\" fill=\"#009af9\" fill-rule=\"evenodd\" fill-opacity=\"1\"/>\n",
       "<polyline clip-path=\"url(#clip112)\" style=\"stroke:#000000; stroke-linecap:round; stroke-linejoin:round; stroke-width:4; stroke-opacity:1; fill:none\" points=\"600.173,1325.26 600.173,1486.45 677.911,1486.45 677.911,1325.26 600.173,1325.26 \"/>\n",
       "<path clip-path=\"url(#clip112)\" d=\"M677.911 1210.12 L677.911 1486.45 L755.648 1486.45 L755.648 1210.12 L677.911 1210.12 L677.911 1210.12  Z\" fill=\"#009af9\" fill-rule=\"evenodd\" fill-opacity=\"1\"/>\n",
       "<polyline clip-path=\"url(#clip112)\" style=\"stroke:#000000; stroke-linecap:round; stroke-linejoin:round; stroke-width:4; stroke-opacity:1; fill:none\" points=\"677.911,1210.12 677.911,1486.45 755.648,1486.45 755.648,1210.12 677.911,1210.12 \"/>\n",
       "<path clip-path=\"url(#clip112)\" d=\"M755.648 1094.98 L755.648 1486.45 L833.385 1486.45 L833.385 1094.98 L755.648 1094.98 L755.648 1094.98  Z\" fill=\"#009af9\" fill-rule=\"evenodd\" fill-opacity=\"1\"/>\n",
       "<polyline clip-path=\"url(#clip112)\" style=\"stroke:#000000; stroke-linecap:round; stroke-linejoin:round; stroke-width:4; stroke-opacity:1; fill:none\" points=\"755.648,1094.98 755.648,1486.45 833.385,1486.45 833.385,1094.98 755.648,1094.98 \"/>\n",
       "<path clip-path=\"url(#clip112)\" d=\"M833.385 1152.55 L833.385 1486.45 L911.122 1486.45 L911.122 1152.55 L833.385 1152.55 L833.385 1152.55  Z\" fill=\"#009af9\" fill-rule=\"evenodd\" fill-opacity=\"1\"/>\n",
       "<polyline clip-path=\"url(#clip112)\" style=\"stroke:#000000; stroke-linecap:round; stroke-linejoin:round; stroke-width:4; stroke-opacity:1; fill:none\" points=\"833.385,1152.55 833.385,1486.45 911.122,1486.45 911.122,1152.55 833.385,1152.55 \"/>\n",
       "<path clip-path=\"url(#clip112)\" d=\"M911.122 887.739 L911.122 1486.45 L988.859 1486.45 L988.859 887.739 L911.122 887.739 L911.122 887.739  Z\" fill=\"#009af9\" fill-rule=\"evenodd\" fill-opacity=\"1\"/>\n",
       "<polyline clip-path=\"url(#clip112)\" style=\"stroke:#000000; stroke-linecap:round; stroke-linejoin:round; stroke-width:4; stroke-opacity:1; fill:none\" points=\"911.122,887.739 911.122,1486.45 988.859,1486.45 988.859,887.739 911.122,887.739 \"/>\n",
       "<path clip-path=\"url(#clip112)\" d=\"M988.859 1152.55 L988.859 1486.45 L1066.6 1486.45 L1066.6 1152.55 L988.859 1152.55 L988.859 1152.55  Z\" fill=\"#009af9\" fill-rule=\"evenodd\" fill-opacity=\"1\"/>\n",
       "<polyline clip-path=\"url(#clip112)\" style=\"stroke:#000000; stroke-linecap:round; stroke-linejoin:round; stroke-width:4; stroke-opacity:1; fill:none\" points=\"988.859,1152.55 988.859,1486.45 1066.6,1486.45 1066.6,1152.55 988.859,1152.55 \"/>\n",
       "<path clip-path=\"url(#clip112)\" d=\"M1066.6 945.307 L1066.6 1486.45 L1144.33 1486.45 L1144.33 945.307 L1066.6 945.307 L1066.6 945.307  Z\" fill=\"#009af9\" fill-rule=\"evenodd\" fill-opacity=\"1\"/>\n",
       "<polyline clip-path=\"url(#clip112)\" style=\"stroke:#000000; stroke-linecap:round; stroke-linejoin:round; stroke-width:4; stroke-opacity:1; fill:none\" points=\"1066.6,945.307 1066.6,1486.45 1144.33,1486.45 1144.33,945.307 1066.6,945.307 \"/>\n",
       "<path clip-path=\"url(#clip112)\" d=\"M1144.33 1118.01 L1144.33 1486.45 L1222.07 1486.45 L1222.07 1118.01 L1144.33 1118.01 L1144.33 1118.01  Z\" fill=\"#009af9\" fill-rule=\"evenodd\" fill-opacity=\"1\"/>\n",
       "<polyline clip-path=\"url(#clip112)\" style=\"stroke:#000000; stroke-linecap:round; stroke-linejoin:round; stroke-width:4; stroke-opacity:1; fill:none\" points=\"1144.33,1118.01 1144.33,1486.45 1222.07,1486.45 1222.07,1118.01 1144.33,1118.01 \"/>\n",
       "<path clip-path=\"url(#clip112)\" d=\"M1222.07 956.821 L1222.07 1486.45 L1299.81 1486.45 L1299.81 956.821 L1222.07 956.821 L1222.07 956.821  Z\" fill=\"#009af9\" fill-rule=\"evenodd\" fill-opacity=\"1\"/>\n",
       "<polyline clip-path=\"url(#clip112)\" style=\"stroke:#000000; stroke-linecap:round; stroke-linejoin:round; stroke-width:4; stroke-opacity:1; fill:none\" points=\"1222.07,956.821 1222.07,1486.45 1299.81,1486.45 1299.81,956.821 1222.07,956.821 \"/>\n",
       "<path clip-path=\"url(#clip112)\" d=\"M1299.81 1014.39 L1299.81 1486.45 L1377.54 1486.45 L1377.54 1014.39 L1299.81 1014.39 L1299.81 1014.39  Z\" fill=\"#009af9\" fill-rule=\"evenodd\" fill-opacity=\"1\"/>\n",
       "<polyline clip-path=\"url(#clip112)\" style=\"stroke:#000000; stroke-linecap:round; stroke-linejoin:round; stroke-width:4; stroke-opacity:1; fill:none\" points=\"1299.81,1014.39 1299.81,1486.45 1377.54,1486.45 1377.54,1014.39 1299.81,1014.39 \"/>\n",
       "<path clip-path=\"url(#clip112)\" d=\"M1377.54 968.335 L1377.54 1486.45 L1455.28 1486.45 L1455.28 968.335 L1377.54 968.335 L1377.54 968.335  Z\" fill=\"#009af9\" fill-rule=\"evenodd\" fill-opacity=\"1\"/>\n",
       "<polyline clip-path=\"url(#clip112)\" style=\"stroke:#000000; stroke-linecap:round; stroke-linejoin:round; stroke-width:4; stroke-opacity:1; fill:none\" points=\"1377.54,968.335 1377.54,1486.45 1455.28,1486.45 1455.28,968.335 1377.54,968.335 \"/>\n",
       "<path clip-path=\"url(#clip112)\" d=\"M1455.28 910.766 L1455.28 1486.45 L1533.02 1486.45 L1533.02 910.766 L1455.28 910.766 L1455.28 910.766  Z\" fill=\"#009af9\" fill-rule=\"evenodd\" fill-opacity=\"1\"/>\n",
       "<polyline clip-path=\"url(#clip112)\" style=\"stroke:#000000; stroke-linecap:round; stroke-linejoin:round; stroke-width:4; stroke-opacity:1; fill:none\" points=\"1455.28,910.766 1455.28,1486.45 1533.02,1486.45 1533.02,910.766 1455.28,910.766 \"/>\n",
       "<path clip-path=\"url(#clip112)\" d=\"M1533.02 968.335 L1533.02 1486.45 L1610.76 1486.45 L1610.76 968.335 L1533.02 968.335 L1533.02 968.335  Z\" fill=\"#009af9\" fill-rule=\"evenodd\" fill-opacity=\"1\"/>\n",
       "<polyline clip-path=\"url(#clip112)\" style=\"stroke:#000000; stroke-linecap:round; stroke-linejoin:round; stroke-width:4; stroke-opacity:1; fill:none\" points=\"1533.02,968.335 1533.02,1486.45 1610.76,1486.45 1610.76,968.335 1533.02,968.335 \"/>\n",
       "<path clip-path=\"url(#clip112)\" d=\"M1610.76 1106.5 L1610.76 1486.45 L1688.49 1486.45 L1688.49 1106.5 L1610.76 1106.5 L1610.76 1106.5  Z\" fill=\"#009af9\" fill-rule=\"evenodd\" fill-opacity=\"1\"/>\n",
       "<polyline clip-path=\"url(#clip112)\" style=\"stroke:#000000; stroke-linecap:round; stroke-linejoin:round; stroke-width:4; stroke-opacity:1; fill:none\" points=\"1610.76,1106.5 1610.76,1486.45 1688.49,1486.45 1688.49,1106.5 1610.76,1106.5 \"/>\n",
       "<path clip-path=\"url(#clip112)\" d=\"M1688.49 1152.55 L1688.49 1486.45 L1766.23 1486.45 L1766.23 1152.55 L1688.49 1152.55 L1688.49 1152.55  Z\" fill=\"#009af9\" fill-rule=\"evenodd\" fill-opacity=\"1\"/>\n",
       "<polyline clip-path=\"url(#clip112)\" style=\"stroke:#000000; stroke-linecap:round; stroke-linejoin:round; stroke-width:4; stroke-opacity:1; fill:none\" points=\"1688.49,1152.55 1688.49,1486.45 1766.23,1486.45 1766.23,1152.55 1688.49,1152.55 \"/>\n",
       "<path clip-path=\"url(#clip112)\" d=\"M1766.23 1256.18 L1766.23 1486.45 L1843.97 1486.45 L1843.97 1256.18 L1766.23 1256.18 L1766.23 1256.18  Z\" fill=\"#009af9\" fill-rule=\"evenodd\" fill-opacity=\"1\"/>\n",
       "<polyline clip-path=\"url(#clip112)\" style=\"stroke:#000000; stroke-linecap:round; stroke-linejoin:round; stroke-width:4; stroke-opacity:1; fill:none\" points=\"1766.23,1256.18 1766.23,1486.45 1843.97,1486.45 1843.97,1256.18 1766.23,1256.18 \"/>\n",
       "<path clip-path=\"url(#clip112)\" d=\"M1843.97 1336.77 L1843.97 1486.45 L1921.7 1486.45 L1921.7 1336.77 L1843.97 1336.77 L1843.97 1336.77  Z\" fill=\"#009af9\" fill-rule=\"evenodd\" fill-opacity=\"1\"/>\n",
       "<polyline clip-path=\"url(#clip112)\" style=\"stroke:#000000; stroke-linecap:round; stroke-linejoin:round; stroke-width:4; stroke-opacity:1; fill:none\" points=\"1843.97,1336.77 1843.97,1486.45 1921.7,1486.45 1921.7,1336.77 1843.97,1336.77 \"/>\n",
       "<path clip-path=\"url(#clip112)\" d=\"M1921.7 1394.34 L1921.7 1486.45 L1999.44 1486.45 L1999.44 1394.34 L1921.7 1394.34 L1921.7 1394.34  Z\" fill=\"#009af9\" fill-rule=\"evenodd\" fill-opacity=\"1\"/>\n",
       "<polyline clip-path=\"url(#clip112)\" style=\"stroke:#000000; stroke-linecap:round; stroke-linejoin:round; stroke-width:4; stroke-opacity:1; fill:none\" points=\"1921.7,1394.34 1921.7,1486.45 1999.44,1486.45 1999.44,1394.34 1921.7,1394.34 \"/>\n",
       "<path clip-path=\"url(#clip112)\" d=\"M1999.44 1405.85 L1999.44 1486.45 L2077.18 1486.45 L2077.18 1405.85 L1999.44 1405.85 L1999.44 1405.85  Z\" fill=\"#009af9\" fill-rule=\"evenodd\" fill-opacity=\"1\"/>\n",
       "<polyline clip-path=\"url(#clip112)\" style=\"stroke:#000000; stroke-linecap:round; stroke-linejoin:round; stroke-width:4; stroke-opacity:1; fill:none\" points=\"1999.44,1405.85 1999.44,1486.45 2077.18,1486.45 2077.18,1405.85 1999.44,1405.85 \"/>\n",
       "<path clip-path=\"url(#clip112)\" d=\"M2077.18 1417.37 L2077.18 1486.45 L2154.92 1486.45 L2154.92 1417.37 L2077.18 1417.37 L2077.18 1417.37  Z\" fill=\"#009af9\" fill-rule=\"evenodd\" fill-opacity=\"1\"/>\n",
       "<polyline clip-path=\"url(#clip112)\" style=\"stroke:#000000; stroke-linecap:round; stroke-linejoin:round; stroke-width:4; stroke-opacity:1; fill:none\" points=\"2077.18,1417.37 2077.18,1486.45 2154.92,1486.45 2154.92,1417.37 2077.18,1417.37 \"/>\n",
       "<path clip-path=\"url(#clip112)\" d=\"M2154.92 1474.93 L2154.92 1486.45 L2232.65 1486.45 L2232.65 1474.93 L2154.92 1474.93 L2154.92 1474.93  Z\" fill=\"#009af9\" fill-rule=\"evenodd\" fill-opacity=\"1\"/>\n",
       "<polyline clip-path=\"url(#clip112)\" style=\"stroke:#000000; stroke-linecap:round; stroke-linejoin:round; stroke-width:4; stroke-opacity:1; fill:none\" points=\"2154.92,1474.93 2154.92,1486.45 2232.65,1486.45 2232.65,1474.93 2154.92,1474.93 \"/>\n",
       "<circle clip-path=\"url(#clip112)\" style=\"fill:#009af9; stroke:none; fill-opacity:0\" cx=\"328.094\" cy=\"1474.93\" r=\"2\"/>\n",
       "<circle clip-path=\"url(#clip112)\" style=\"fill:#009af9; stroke:none; fill-opacity:0\" cx=\"405.831\" cy=\"1440.39\" r=\"2\"/>\n",
       "<circle clip-path=\"url(#clip112)\" style=\"fill:#009af9; stroke:none; fill-opacity:0\" cx=\"483.568\" cy=\"1405.85\" r=\"2\"/>\n",
       "<circle clip-path=\"url(#clip112)\" style=\"fill:#009af9; stroke:none; fill-opacity:0\" cx=\"561.305\" cy=\"1394.34\" r=\"2\"/>\n",
       "<circle clip-path=\"url(#clip112)\" style=\"fill:#009af9; stroke:none; fill-opacity:0\" cx=\"639.042\" cy=\"1325.26\" r=\"2\"/>\n",
       "<circle clip-path=\"url(#clip112)\" style=\"fill:#009af9; stroke:none; fill-opacity:0\" cx=\"716.779\" cy=\"1210.12\" r=\"2\"/>\n",
       "<circle clip-path=\"url(#clip112)\" style=\"fill:#009af9; stroke:none; fill-opacity:0\" cx=\"794.516\" cy=\"1094.98\" r=\"2\"/>\n",
       "<circle clip-path=\"url(#clip112)\" style=\"fill:#009af9; stroke:none; fill-opacity:0\" cx=\"872.253\" cy=\"1152.55\" r=\"2\"/>\n",
       "<circle clip-path=\"url(#clip112)\" style=\"fill:#009af9; stroke:none; fill-opacity:0\" cx=\"949.99\" cy=\"887.739\" r=\"2\"/>\n",
       "<circle clip-path=\"url(#clip112)\" style=\"fill:#009af9; stroke:none; fill-opacity:0\" cx=\"1027.73\" cy=\"1152.55\" r=\"2\"/>\n",
       "<circle clip-path=\"url(#clip112)\" style=\"fill:#009af9; stroke:none; fill-opacity:0\" cx=\"1105.46\" cy=\"945.307\" r=\"2\"/>\n",
       "<circle clip-path=\"url(#clip112)\" style=\"fill:#009af9; stroke:none; fill-opacity:0\" cx=\"1183.2\" cy=\"1118.01\" r=\"2\"/>\n",
       "<circle clip-path=\"url(#clip112)\" style=\"fill:#009af9; stroke:none; fill-opacity:0\" cx=\"1260.94\" cy=\"956.821\" r=\"2\"/>\n",
       "<circle clip-path=\"url(#clip112)\" style=\"fill:#009af9; stroke:none; fill-opacity:0\" cx=\"1338.68\" cy=\"1014.39\" r=\"2\"/>\n",
       "<circle clip-path=\"url(#clip112)\" style=\"fill:#009af9; stroke:none; fill-opacity:0\" cx=\"1416.41\" cy=\"968.335\" r=\"2\"/>\n",
       "<circle clip-path=\"url(#clip112)\" style=\"fill:#009af9; stroke:none; fill-opacity:0\" cx=\"1494.15\" cy=\"910.766\" r=\"2\"/>\n",
       "<circle clip-path=\"url(#clip112)\" style=\"fill:#009af9; stroke:none; fill-opacity:0\" cx=\"1571.89\" cy=\"968.335\" r=\"2\"/>\n",
       "<circle clip-path=\"url(#clip112)\" style=\"fill:#009af9; stroke:none; fill-opacity:0\" cx=\"1649.62\" cy=\"1106.5\" r=\"2\"/>\n",
       "<circle clip-path=\"url(#clip112)\" style=\"fill:#009af9; stroke:none; fill-opacity:0\" cx=\"1727.36\" cy=\"1152.55\" r=\"2\"/>\n",
       "<circle clip-path=\"url(#clip112)\" style=\"fill:#009af9; stroke:none; fill-opacity:0\" cx=\"1805.1\" cy=\"1256.18\" r=\"2\"/>\n",
       "<circle clip-path=\"url(#clip112)\" style=\"fill:#009af9; stroke:none; fill-opacity:0\" cx=\"1882.84\" cy=\"1336.77\" r=\"2\"/>\n",
       "<circle clip-path=\"url(#clip112)\" style=\"fill:#009af9; stroke:none; fill-opacity:0\" cx=\"1960.57\" cy=\"1394.34\" r=\"2\"/>\n",
       "<circle clip-path=\"url(#clip112)\" style=\"fill:#009af9; stroke:none; fill-opacity:0\" cx=\"2038.31\" cy=\"1405.85\" r=\"2\"/>\n",
       "<circle clip-path=\"url(#clip112)\" style=\"fill:#009af9; stroke:none; fill-opacity:0\" cx=\"2116.05\" cy=\"1417.37\" r=\"2\"/>\n",
       "<circle clip-path=\"url(#clip112)\" style=\"fill:#009af9; stroke:none; fill-opacity:0\" cx=\"2193.78\" cy=\"1474.93\" r=\"2\"/>\n",
       "</svg>\n"
      ]
     },
     "metadata": {},
     "output_type": "display_data"
    }
   ],
   "source": [
    "# Compute pixel intensity if all lamp powers are 1\n",
    "xhat = ones(n)\n",
    "\n",
    "pixel_intensity = A*xhat \n",
    "histogram(A*xhat, bins=(0.375:0.05:1.625), legend=false, ylim=(0, 125))"
   ]
  },
  {
   "cell_type": "code",
   "execution_count": 46,
   "metadata": {},
   "outputs": [
    {
     "data": {
      "text/plain": [
       "0.24174131853807876"
      ]
     },
     "metadata": {},
     "output_type": "display_data"
    }
   ],
   "source": [
    "r = A*xhat-b\n",
    "rms(r)"
   ]
  }
 ],
 "metadata": {
  "kernelspec": {
   "display_name": "Julia 1.10.4",
   "language": "julia",
   "name": "julia-1.10"
  },
  "language_info": {
   "file_extension": ".jl",
   "mimetype": "application/julia",
   "name": "julia",
   "version": "1.10.4"
  }
 },
 "nbformat": 4,
 "nbformat_minor": 2
}

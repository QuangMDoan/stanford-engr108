{
 "cells": [
  {
   "cell_type": "markdown",
   "metadata": {},
   "source": [
    "# MATRIX INVERSE\n",
    "\n",
    "## Left and right inverses"
   ]
  },
  {
   "cell_type": "code",
   "execution_count": 1,
   "metadata": {},
   "outputs": [
    {
     "data": {
      "text/plain": [
       "3×2 Matrix{Int64}:\n",
       " -3  -4\n",
       "  4   6\n",
       "  1   1"
      ]
     },
     "metadata": {},
     "output_type": "display_data"
    }
   ],
   "source": [
    "A = [-3 -4; \n",
    "     4 6;\n",
    "     1 1]"
   ]
  },
  {
   "cell_type": "code",
   "execution_count": 104,
   "metadata": {},
   "outputs": [
    {
     "data": {
      "text/plain": [
       "2×3 Matrix{Float64}:\n",
       " -1.22222   -1.11111    1.77778\n",
       "  0.777778   0.888889  -1.22222"
      ]
     },
     "metadata": {},
     "output_type": "display_data"
    }
   ],
   "source": [
    "# B is a left inverse of A\n",
    "B = [-11 -10 16;\n",
    "     7   8   -11]/9"
   ]
  },
  {
   "cell_type": "code",
   "execution_count": 105,
   "metadata": {},
   "outputs": [
    {
     "data": {
      "text/plain": [
       "2×2 Matrix{Float64}:\n",
       "  1.0          0.0\n",
       " -4.44089e-16  1.0"
      ]
     },
     "metadata": {},
     "output_type": "display_data"
    }
   ],
   "source": [
    "# Confirm if B is a left inverse of A\n",
    "# B*A = I ?\n",
    "B*A"
   ]
  },
  {
   "cell_type": "code",
   "execution_count": 106,
   "metadata": {},
   "outputs": [
    {
     "data": {
      "text/plain": [
       "6.280369834735101e-16"
      ]
     },
     "metadata": {},
     "output_type": "display_data"
    }
   ],
   "source": [
    "# Check if B is a left inverse of A\n",
    "using LinearAlgebra\n",
    "using VMLS\n",
    "norm(B*A - eye(2))"
   ]
  },
  {
   "cell_type": "code",
   "execution_count": 10,
   "metadata": {},
   "outputs": [
    {
     "data": {
      "text/plain": [
       "2×3 Matrix{Float64}:\n",
       " 0.0  -0.5   3.0\n",
       " 0.0   0.5  -2.0"
      ]
     },
     "metadata": {},
     "output_type": "display_data"
    }
   ],
   "source": [
    "# C is another left inverse of A\n",
    "C = [ 0 -1 6;\n",
    "      0  1 -4]/2"
   ]
  },
  {
   "cell_type": "code",
   "execution_count": 11,
   "metadata": {},
   "outputs": [
    {
     "data": {
      "text/plain": [
       "2×2 Matrix{Float64}:\n",
       " 1.0  0.0\n",
       " 0.0  1.0"
      ]
     },
     "metadata": {},
     "output_type": "display_data"
    }
   ],
   "source": [
    "# How to check if C is a left inverse of A \n",
    "C*A"
   ]
  },
  {
   "cell_type": "markdown",
   "metadata": {},
   "source": [
    "##  Inverse \n",
    "\n",
    "- If A is invertible, its inverse is given by inv(A)\n",
    "- If A is invertible, its inverse is given by $ A^{-1}$\n",
    "- we'll get an error if A is not invertible or not square"
   ]
  },
  {
   "cell_type": "code",
   "execution_count": 12,
   "metadata": {},
   "outputs": [
    {
     "data": {
      "text/plain": [
       "3×3 Matrix{Int64}:\n",
       "  1  -2   3\n",
       "  0   2   2\n",
       " -4  -4  -4"
      ]
     },
     "metadata": {},
     "output_type": "display_data"
    }
   ],
   "source": [
    "A = [\n",
    "      1 -2  3;\n",
    "      0  2  2;\n",
    "     -4 -4 -4]"
   ]
  },
  {
   "cell_type": "code",
   "execution_count": 15,
   "metadata": {},
   "outputs": [
    {
     "data": {
      "text/plain": [
       "3×3 Matrix{Float64}:\n",
       "  0.0  -0.5  -0.25\n",
       " -0.2   0.2  -0.05\n",
       "  0.2   0.3   0.05"
      ]
     },
     "metadata": {},
     "output_type": "display_data"
    }
   ],
   "source": [
    "B = inv(A)"
   ]
  },
  {
   "cell_type": "code",
   "execution_count": 16,
   "metadata": {},
   "outputs": [
    {
     "data": {
      "text/plain": [
       "3×3 Matrix{Float64}:\n",
       " 1.0  0.0          0.0\n",
       " 0.0  1.0          2.77556e-17\n",
       " 0.0  5.55112e-17  1.0"
      ]
     },
     "metadata": {},
     "output_type": "display_data"
    }
   ],
   "source": [
    "B*A "
   ]
  },
  {
   "cell_type": "code",
   "execution_count": 17,
   "metadata": {},
   "outputs": [
    {
     "data": {
      "text/plain": [
       "3×3 Matrix{Float64}:\n",
       "  0.0  -0.5  -0.25\n",
       " -0.2   0.2  -0.05\n",
       "  0.2   0.3   0.05"
      ]
     },
     "metadata": {},
     "output_type": "display_data"
    }
   ],
   "source": [
    "C = A^-1"
   ]
  },
  {
   "cell_type": "code",
   "execution_count": 18,
   "metadata": {},
   "outputs": [
    {
     "data": {
      "text/plain": [
       "2.3055512673781017e-16"
      ]
     },
     "metadata": {},
     "output_type": "display_data"
    }
   ],
   "source": [
    "norm(C*A - eye(3))"
   ]
  },
  {
   "cell_type": "markdown",
   "metadata": {},
   "source": [
    "# Dual basis\n",
    "\n",
    "![](dual_basis.png)"
   ]
  },
  {
   "cell_type": "code",
   "execution_count": 19,
   "metadata": {},
   "outputs": [
    {
     "data": {
      "text/plain": [
       "3×3 Matrix{Int64}:\n",
       " 1   0   1\n",
       " 4  -3  -4\n",
       " 1  -1  -2"
      ]
     },
     "metadata": {},
     "output_type": "display_data"
    }
   ],
   "source": [
    "A = [ 1  0  1; \n",
    "      4 -3 -4; \n",
    "      1 -1 -2]\n"
   ]
  },
  {
   "cell_type": "code",
   "execution_count": 20,
   "metadata": {},
   "outputs": [
    {
     "data": {
      "text/plain": [
       "3×3 Matrix{Float64}:\n",
       "  2.0  -1.0   3.0\n",
       "  4.0  -3.0   8.0\n",
       " -1.0   1.0  -3.0"
      ]
     },
     "metadata": {},
     "output_type": "display_data"
    }
   ],
   "source": [
    "B = inv(A)"
   ]
  },
  {
   "cell_type": "code",
   "execution_count": 21,
   "metadata": {},
   "outputs": [
    {
     "data": {
      "text/plain": [
       "3-element Vector{Float64}:\n",
       "  0.2\n",
       " -0.3\n",
       "  1.2"
      ]
     },
     "metadata": {},
     "output_type": "display_data"
    }
   ],
   "source": [
    "x = [0.2, -0.3, 1.2]"
   ]
  },
  {
   "cell_type": "markdown",
   "metadata": {},
   "source": [
    "Find the coefficients to write $x$ as a linear combination of the columns of a\n",
    "\n",
    "$\n",
    "    x = (b_1^Tx)a_1 + (b_2^Tx)a_2+ ... + (b_n^Tx)a_n\n",
    "$"
   ]
  },
  {
   "cell_type": "code",
   "execution_count": 23,
   "metadata": {},
   "outputs": [
    {
     "data": {
      "text/plain": [
       "3-element Vector{Float64}:\n",
       "  0.1999999999999993\n",
       " -0.29999999999999716\n",
       "  1.200000000000001"
      ]
     },
     "metadata": {},
     "output_type": "display_data"
    }
   ],
   "source": [
    "lhs = x\n",
    "rhs = (B[1,:]'*x)*A[:,1] + (B[2,:]'*x)*A[:,2] + (B[3,:]'*x)*A[:,3] "
   ]
  },
  {
   "cell_type": "code",
   "execution_count": 24,
   "metadata": {},
   "outputs": [
    {
     "data": {
      "text/plain": [
       "3.1254306387971657e-15"
      ]
     },
     "metadata": {},
     "output_type": "display_data"
    }
   ],
   "source": [
    "norm(lhs-rhs)"
   ]
  },
  {
   "cell_type": "markdown",
   "metadata": {},
   "source": [
    "# Inverse via QR factorization\n",
    "\n",
    "The inverse of a matrix A can be computed from \n",
    "its QR factorization\n",
    "\n",
    "$ A = QR $ via the formula $ A^{-1} = R^{-1}Q^T $"
   ]
  },
  {
   "cell_type": "code",
   "execution_count": 27,
   "metadata": {},
   "outputs": [
    {
     "data": {
      "text/plain": [
       "3×3 Matrix{Float64}:\n",
       "  1.96586   -0.910454    1.23339\n",
       " -0.186074  -0.0875189   0.616234\n",
       " -0.093679   0.308271   -2.14874"
      ]
     },
     "metadata": {},
     "output_type": "display_data"
    }
   ],
   "source": [
    "A = randn(3, 3)"
   ]
  },
  {
   "cell_type": "code",
   "execution_count": 29,
   "metadata": {},
   "outputs": [
    {
     "data": {
      "text/plain": [
       "3×3 Matrix{Float64}:\n",
       " -0.00575928   -4.74788  -1.36494\n",
       " -1.37833     -12.3767   -4.34068\n",
       " -0.197493     -1.56865  -1.02862"
      ]
     },
     "metadata": {},
     "output_type": "display_data"
    }
   ],
   "source": [
    "inv(A)"
   ]
  },
  {
   "cell_type": "code",
   "execution_count": 30,
   "metadata": {},
   "outputs": [
    {
     "data": {
      "text/plain": [
       "3×3 Matrix{Float64}:\n",
       " -1.97687  0.911754  -1.27034\n",
       "  0.0      0.316733  -2.15017\n",
       "  0.0      0.0       -0.530169"
      ]
     },
     "metadata": {},
     "output_type": "display_data"
    }
   ],
   "source": [
    "Q, R = qr(A)\n",
    "R"
   ]
  },
  {
   "cell_type": "code",
   "execution_count": 32,
   "metadata": {},
   "outputs": [
    {
     "data": {
      "text/plain": [
       "3×3 Matrix{Float64}:\n",
       " -0.994432   -0.011921  0.104705\n",
       "  0.0941254  -0.547269  0.831647\n",
       "  0.0473875   0.836872  0.545344"
      ]
     },
     "metadata": {},
     "output_type": "display_data"
    }
   ],
   "source": [
    "Q = Matrix(Q)"
   ]
  },
  {
   "cell_type": "code",
   "execution_count": 33,
   "metadata": {},
   "outputs": [
    {
     "data": {
      "text/plain": [
       "3×3 Matrix{Float64}:\n",
       " -0.00575928   -4.74788  -1.36494\n",
       " -1.37833     -12.3767   -4.34068\n",
       " -0.197493     -1.56865  -1.02862"
      ]
     },
     "metadata": {},
     "output_type": "display_data"
    }
   ],
   "source": [
    "inv(R)*Q'"
   ]
  },
  {
   "cell_type": "code",
   "execution_count": 34,
   "metadata": {},
   "outputs": [
    {
     "data": {
      "text/plain": [
       "7.554948578720741e-15"
      ]
     },
     "metadata": {},
     "output_type": "display_data"
    }
   ],
   "source": [
    "norm(inv(A) - inv(R)*Q')"
   ]
  },
  {
   "cell_type": "markdown",
   "metadata": {},
   "source": [
    "# Solving linear equations\n",
    "**back substitution.** Let’s first implement back substitution (VMLS Algorithm 11.1)\n",
    "in Julia, and check it. \n",
    "\n",
    "You won’t need this function, since Julia has a better im\u0002plementation of it built in (via the backslash operation discussed below). We give\n",
    "it here only to demonstrate that it works.\n",
    "\n",
    "Solve $Rx = b$ using back substitution\n",
    "\n",
    "![](back_subs.png)\n"
   ]
  },
  {
   "cell_type": "code",
   "execution_count": 48,
   "metadata": {},
   "outputs": [
    {
     "data": {
      "text/plain": [
       "back_subst (generic function with 1 method)"
      ]
     },
     "metadata": {},
     "output_type": "display_data"
    }
   ],
   "source": [
    "function back_subst(R, b)\n",
    "    n = length(b)\n",
    "    x = zeros(n)\n",
    "    for i=n:-1:1\n",
    "        x[i] = b[i] - R[i, i+1:n]'* x[i+1:n]/ R[i, i]\n",
    "    end\n",
    "    return x\n",
    "end"
   ]
  },
  {
   "cell_type": "code",
   "execution_count": 37,
   "metadata": {},
   "outputs": [
    {
     "data": {
      "text/plain": [
       "4×4 Matrix{Float64}:\n",
       "  0.22411   -0.470885  -0.877594  -0.623328\n",
       " -0.645652   1.0873    -1.94982   -1.80126\n",
       " -1.22015   -0.708362   0.198177   0.350255\n",
       " -1.48371   -0.277808   0.11922   -1.05283"
      ]
     },
     "metadata": {},
     "output_type": "display_data"
    }
   ],
   "source": [
    "A = randn(4,4)"
   ]
  },
  {
   "cell_type": "code",
   "execution_count": 39,
   "metadata": {},
   "outputs": [
    {
     "data": {
      "text/plain": [
       "4×4 Matrix{Float64}:\n",
       " -2.03893  -0.229997  -0.315623  -1.05841\n",
       "  0.0      -1.38925    1.40572    1.34177\n",
       "  0.0       0.0        1.59681    1.11651\n",
       "  0.0       0.0        0.0       -0.834892"
      ]
     },
     "metadata": {},
     "output_type": "display_data"
    }
   ],
   "source": [
    "Q, R = qr(A)\n",
    "R"
   ]
  },
  {
   "cell_type": "code",
   "execution_count": 40,
   "metadata": {},
   "outputs": [
    {
     "data": {
      "text/plain": [
       "4-element Vector{Float64}:\n",
       " 0.6644898748455509\n",
       " 0.850841495210675\n",
       " 0.662175816775654\n",
       " 0.8423224318980186"
      ]
     },
     "metadata": {},
     "output_type": "display_data"
    }
   ],
   "source": [
    "# solve Rx = b for x\n",
    "b = rand(4)"
   ]
  },
  {
   "cell_type": "code",
   "execution_count": 47,
   "metadata": {},
   "outputs": [
    {
     "data": {
      "text/plain": [
       "1.9229626863835638e-16"
      ]
     },
     "metadata": {},
     "output_type": "display_data"
    }
   ],
   "source": [
    "x = back_subst(R, b)\n",
    "norm(R*x - b)"
   ]
  },
  {
   "cell_type": "code",
   "execution_count": null,
   "metadata": {},
   "outputs": [],
   "source": [
    "x = A \\ b "
   ]
  },
  {
   "cell_type": "code",
   "execution_count": 56,
   "metadata": {},
   "outputs": [
    {
     "name": "stdout",
     "output_type": "stream",
     "text": [
      "  0.357217 seconds (6 allocations: 190.811 MiB, 12.04% gc time)\n",
      "  0.925109 seconds (8 allocations: 193.253 MiB)\n"
     ]
    },
    {
     "data": {
      "text/plain": [
       "1.4818968045130292e-9"
      ]
     },
     "metadata": {},
     "output_type": "display_data"
    }
   ],
   "source": [
    "n = 5000\n",
    "A = randn(n, n); b = randn(n)\n",
    "@time x1 = A\\b \n",
    "\n",
    "norm(b-A*x1)\n",
    "@time x2 = inv(A)*b\n",
    "\n",
    "norm(b-A*x2)"
   ]
  },
  {
   "cell_type": "code",
   "execution_count": 52,
   "metadata": {},
   "outputs": [
    {
     "name": "stdout",
     "output_type": "stream",
     "text": [
      "  0.009950 seconds (2 allocations: 39.172 KiB)\n"
     ]
    },
    {
     "data": {
      "text/plain": [
       "5000×5000 Matrix{Float64}:\n",
       "  1.37938     -0.614611    1.22528    …   1.13395     0.34016   -0.601683\n",
       " -1.46164     -0.909759    1.40891        0.873356    0.869842  -0.835625\n",
       " -1.09063      0.748576    1.02737        0.857574    0.174573  -1.91339\n",
       " -0.334444     0.165908   -0.89364        1.13166     0.394626   1.89179\n",
       "  0.672355    -0.918978   -0.0995172     -0.569785    1.46984    0.215955\n",
       " -0.501033    -0.250421   -0.539202   …  -1.10371    -0.407925   1.40946\n",
       "  0.271616    -1.07117    -0.22299        0.637307    0.516581   0.361292\n",
       "  0.463322     0.617477    0.134677       0.180315   -0.994497  -2.01459\n",
       "  0.104552    -0.0588146  -1.63065        1.12963     0.624984   1.31492\n",
       " -0.725267    -0.366521   -1.25138       -0.707542   -0.424706  -0.40699\n",
       "  ⋮                                   ⋱                         \n",
       "  1.22101     -0.364304    0.146546      -0.230723    1.7541    -0.862269\n",
       " -1.49242     -0.44872     0.907014      -0.621835    0.352449  -1.32567\n",
       " -1.69517     -0.022543    2.60073       -0.0142906   0.657061   0.083856\n",
       " -0.084998    -1.61384     0.740894       0.906346   -0.591369   0.799417\n",
       "  0.00601407  -1.87417    -0.629639   …   1.42504     0.587651   0.372012\n",
       " -0.455842     1.95598    -0.948593       0.546205   -2.20576   -1.93931\n",
       " -0.387119    -1.68853    -0.107734      -0.344344    0.475447  -1.09524\n",
       " -0.178317     0.676828   -0.476728       0.919099    1.29346    0.296285\n",
       " -0.880963    -0.523025   -0.780956       1.58668    -0.245365   1.69765"
      ]
     },
     "metadata": {},
     "output_type": "display_data"
    }
   ],
   "source": [
    "n = 5000\n",
    "b = randn(n)\n",
    "A = tril(randn(n, n))\n",
    "@time x = A\\b\n",
    "A = randn(n, n)"
   ]
  },
  {
   "cell_type": "code",
   "execution_count": 58,
   "metadata": {},
   "outputs": [
    {
     "name": "stdout",
     "output_type": "stream",
     "text": [
      "  0.009131 seconds (2 allocations: 39.172 KiB)\n",
      "  0.376712 seconds (6 allocations: 190.811 MiB, 14.17% gc time)\n",
      "  0.038509 seconds (2 allocations: 78.172 KiB)\n",
      "  2.329602 seconds (6 allocations: 763.092 MiB, 2.72% gc time)\n"
     ]
    },
    {
     "data": {
      "text/plain": [
       "10000-element Vector{Float64}:\n",
       " -0.3375658623154352\n",
       " -0.16076173610976582\n",
       " -0.21833019435659506\n",
       " -0.6143576633765911\n",
       " -0.9632967467040475\n",
       " -0.0997726656562144\n",
       " -1.040252469072594\n",
       " -0.3750675654873409\n",
       "  0.7007496595758892\n",
       "  0.04567616828946871\n",
       "  ⋮\n",
       "  0.40894697623216986\n",
       "  0.6699300497136107\n",
       "  0.007448892781992631\n",
       " -0.008080921727289513\n",
       "  0.09796848093652533\n",
       "  0.7551796903430819\n",
       "  0.3628681690914783\n",
       " -0.11517237989578742\n",
       " -0.26508356944192557"
      ]
     },
     "metadata": {},
     "output_type": "display_data"
    }
   ],
   "source": [
    "n = 5000\n",
    "b = randn(n)\n",
    "A = tril(randn(n,n))\n",
    "@time x = A\\b \n",
    "A = randn(n,n)\n",
    "@time x = A\\b "
   ]
  },
  {
   "cell_type": "code",
   "execution_count": 62,
   "metadata": {},
   "outputs": [
    {
     "name": "stdout",
     "output_type": "stream",
     "text": [
      "  2.294454 seconds (6 allocations: 763.092 MiB, 2.47% gc time)\n",
      "  0.038854 seconds (2 allocations: 78.172 KiB)\n"
     ]
    }
   ],
   "source": [
    "n = 10000;\n",
    "b = randn(n)\n",
    "A = randn(n,n)\n",
    "@time x = A\\b; \n",
    "\n",
    "R = tril(A)\n",
    "@time x2 = R\\b; "
   ]
  },
  {
   "cell_type": "code",
   "execution_count": 64,
   "metadata": {},
   "outputs": [
    {
     "name": "stdout",
     "output_type": "stream",
     "text": [
      "  8.589470 seconds (13 allocations: 1.495 GiB, 0.72% gc time)\n"
     ]
    }
   ],
   "source": [
    "@time Q, R = qr(A);"
   ]
  },
  {
   "cell_type": "code",
   "execution_count": 66,
   "metadata": {},
   "outputs": [
    {
     "name": "stdout",
     "output_type": "stream",
     "text": [
      "  6.893316 seconds (6 allocations: 767.899 MiB, 0.85% gc time)\n"
     ]
    }
   ],
   "source": [
    "@time y = inv(A);"
   ]
  },
  {
   "cell_type": "code",
   "execution_count": 68,
   "metadata": {},
   "outputs": [
    {
     "name": "stdout",
     "output_type": "stream",
     "text": [
      "  0.327826 seconds (9 allocations: 190.850 MiB, 0.25% gc time)\n",
      "  0.333192 seconds (9 allocations: 190.850 MiB, 2.69% gc time)\n",
      "  0.723310 seconds (143.73 k allocations: 391.737 MiB, 7.55% gc time, 3.47% compilation time)\n",
      "  0.374282 seconds (87.04 k allocations: 196.695 MiB, 1.31% gc time, 13.85% compilation time)\n"
     ]
    },
    {
     "data": {
      "text/plain": [
       "5000×2 Matrix{Float64}:\n",
       "  0.38348     0.36291\n",
       " -0.977952    1.68532\n",
       " -0.0938504  -1.23185\n",
       "  0.675811   -0.0302627\n",
       "  0.180476    1.03094\n",
       " -0.439692   -0.141875\n",
       " -2.2124     -0.751557\n",
       "  0.710627   -2.50156\n",
       " -0.166308    1.17376\n",
       " -1.27641     1.03231\n",
       "  ⋮          \n",
       " -1.41616    -0.223664\n",
       "  0.757042   -1.47566\n",
       " -0.421688   -1.86441\n",
       " -1.04705     1.31781\n",
       " -0.0437464   2.54997\n",
       "  1.38531     0.312105\n",
       "  0.382305   -2.02264\n",
       " -0.995893    0.807626\n",
       " -0.151676    2.41639"
      ]
     },
     "metadata": {},
     "output_type": "display_data"
    }
   ],
   "source": [
    "n = 5000\n",
    "A =randn(n, n)\n",
    "B = randn(n, 2)\n",
    "@time x1 = A \\ B[:,1]\n",
    "@time x2 = A \\ B[:, 2]\n",
    "@time X = [A\\B[:, 1] A\\B[:, 2]]\n",
    "@time X = A \\ B"
   ]
  },
  {
   "cell_type": "code",
   "execution_count": 76,
   "metadata": {},
   "outputs": [
    {
     "name": "stdout",
     "output_type": "stream",
     "text": [
      "y[1] = -1.000\n",
      "c[1] + c[2]*x[1] + c[3]*x[1]^2 + c[4]*x[1]^3 = -1.000\n",
      "------------------------------------------------------------\n",
      "y[2] = 1.300\n",
      "c[1] + c[2]*x[2] + c[3]*x[2]^2 + c[4]*x[2]^3 = 1.300\n",
      "------------------------------------------------------------\n",
      "y[3] = 1.000\n",
      "c[1] + c[2]*x[3] + c[3]*x[3]^2 + c[4]*x[3]^3 = 1.000\n",
      "------------------------------------------------------------\n",
      "y[4] = 0.500\n",
      "c[1] + c[2]*x[4] + c[3]*x[4]^2 + c[4]*x[4]^3 = 0.500\n",
      "------------------------------------------------------------\n"
     ]
    }
   ],
   "source": [
    "x = [-1.1, -0.4, 0.2, 0.8]\n",
    "A = vandermonde(x, 4)\n",
    "b1 = [-1.0, 1.3, 1.0, 0.5]\n",
    "c = A\\b1\n",
    "\n",
    "using Printf\n",
    "for i=1:4\n",
    "    rhs = c[1]+c[2]*x[i] + c[3]*x[i]^2 + c[4]*x[i]^3\n",
    "    @printf(\"y[%d] = %.3f\\n\", i, b1[i])\n",
    "    @printf(\"c[1] + c[2]*x[%d] + c[3]*x[%d]^2 + c[4]*x[%d]^3 = %.3f\\n\", i, i, i, rhs)\n",
    "    println(\"-\"^60)\n",
    "end"
   ]
  },
  {
   "cell_type": "code",
   "execution_count": 89,
   "metadata": {},
   "outputs": [
    {
     "data": {
      "image/png": "[encoded data removed]",
      "image/svg+xml": [
       "<?xml version=\"1.0\" encoding=\"utf-8\"?>\n",
       "<svg xmlns=\"http://www.w3.org/2000/svg\" xmlns:xlink=\"http://www.w3.org/1999/xlink\" width=\"600\" height=\"400\" viewBox=\"0 0 2400 1600\">\n",
       "<defs>\n",
       "  <clipPath id=\"clip280\">\n",
       "    <rect x=\"0\" y=\"0\" width=\"2400\" height=\"1600\"/>\n",
       "  </clipPath>\n",
       "</defs>\n",
       "<path clip-path=\"url(#clip280)\" d=\"M0 1600 L2400 1600 L2400 8.88178e-14 L0 8.88178e-14  Z\" fill=\"#ffffff\" fill-rule=\"evenodd\" fill-opacity=\"1\"/>\n",
       "<defs>\n",
       "  <clipPath id=\"clip281\">\n",
       "    <rect x=\"480\" y=\"0\" width=\"1681\" height=\"1600\"/>\n",
       "  </clipPath>\n",
       "</defs>\n",
       "<path clip-path=\"url(#clip280)\" d=\"M210.376 1423.18 L2352.76 1423.18 L2352.76 123.472 L210.376 123.472  Z\" fill=\"#ffffff\" fill-rule=\"evenodd\" fill-opacity=\"1\"/>\n",
       "<defs>\n",
       "  <clipPath id=\"clip282\">\n",
       "    <rect x=\"210\" y=\"123\" width=\"2143\" height=\"1301\"/>\n",
       "  </clipPath>\n",
       "</defs>\n",
       "<polyline clip-path=\"url(#clip282)\" style=\"stroke:#000000; stroke-linecap:round; stroke-linejoin:round; stroke-width:2; stroke-opacity:0.1; fill:none\" points=\"439.435,1423.18 439.435,123.472 \"/>\n",
       "<polyline clip-path=\"url(#clip282)\" style=\"stroke:#000000; stroke-linecap:round; stroke-linejoin:round; stroke-width:2; stroke-opacity:0.1; fill:none\" points=\"860.5,1423.18 860.5,123.472 \"/>\n",
       "<polyline clip-path=\"url(#clip282)\" style=\"stroke:#000000; stroke-linecap:round; stroke-linejoin:round; stroke-width:2; stroke-opacity:0.1; fill:none\" points=\"1281.57,1423.18 1281.57,123.472 \"/>\n",
       "<polyline clip-path=\"url(#clip282)\" style=\"stroke:#000000; stroke-linecap:round; stroke-linejoin:round; stroke-width:2; stroke-opacity:0.1; fill:none\" points=\"1702.63,1423.18 1702.63,123.472 \"/>\n",
       "<polyline clip-path=\"url(#clip282)\" style=\"stroke:#000000; stroke-linecap:round; stroke-linejoin:round; stroke-width:2; stroke-opacity:0.1; fill:none\" points=\"2123.7,1423.18 2123.7,123.472 \"/>\n",
       "<polyline clip-path=\"url(#clip280)\" style=\"stroke:#000000; stroke-linecap:round; stroke-linejoin:round; stroke-width:4; stroke-opacity:1; fill:none\" points=\"210.376,1423.18 2352.76,1423.18 \"/>\n",
       "<polyline clip-path=\"url(#clip280)\" style=\"stroke:#000000; stroke-linecap:round; stroke-linejoin:round; stroke-width:4; stroke-opacity:1; fill:none\" points=\"439.435,1423.18 439.435,1404.28 \"/>\n",
       "<polyline clip-path=\"url(#clip280)\" style=\"stroke:#000000; stroke-linecap:round; stroke-linejoin:round; stroke-width:4; stroke-opacity:1; fill:none\" points=\"860.5,1423.18 860.5,1404.28 \"/>\n",
       "<polyline clip-path=\"url(#clip280)\" style=\"stroke:#000000; stroke-linecap:round; stroke-linejoin:round; stroke-width:4; stroke-opacity:1; fill:none\" points=\"1281.57,1423.18 1281.57,1404.28 \"/>\n",
       "<polyline clip-path=\"url(#clip280)\" style=\"stroke:#000000; stroke-linecap:round; stroke-linejoin:round; stroke-width:4; stroke-opacity:1; fill:none\" points=\"1702.63,1423.18 1702.63,1404.28 \"/>\n",
       "<polyline clip-path=\"url(#clip280)\" style=\"stroke:#000000; stroke-linecap:round; stroke-linejoin:round; stroke-width:4; stroke-opacity:1; fill:none\" points=\"2123.7,1423.18 2123.7,1404.28 \"/>\n",
       "<path clip-path=\"url(#clip280)\" d=\"M385.963 1468.75 L415.639 1468.75 L415.639 1472.69 L385.963 1472.69 L385.963 1468.75 Z\" fill=\"#000000\" fill-rule=\"nonzero\" fill-opacity=\"1\" /><path clip-path=\"url(#clip280)\" d=\"M426.542 1481.64 L434.181 1481.64 L434.181 1455.28 L425.87 1456.95 L425.87 1452.69 L434.134 1451.02 L438.81 1451.02 L438.81 1481.64 L446.449 1481.64 L446.449 1485.58 L426.542 1485.58 L426.542 1481.64 Z\" fill=\"#000000\" fill-rule=\"nonzero\" fill-opacity=\"1\" /><path clip-path=\"url(#clip280)\" d=\"M455.893 1479.7 L460.778 1479.7 L460.778 1485.58 L455.893 1485.58 L455.893 1479.7 Z\" fill=\"#000000\" fill-rule=\"nonzero\" fill-opacity=\"1\" /><path clip-path=\"url(#clip280)\" d=\"M480.963 1454.1 Q477.352 1454.1 475.523 1457.66 Q473.717 1461.2 473.717 1468.33 Q473.717 1475.44 475.523 1479.01 Q477.352 1482.55 480.963 1482.55 Q484.597 1482.55 486.402 1479.01 Q488.231 1475.44 488.231 1468.33 Q488.231 1461.2 486.402 1457.66 Q484.597 1454.1 480.963 1454.1 M480.963 1450.39 Q486.773 1450.39 489.828 1455 Q492.907 1459.58 492.907 1468.33 Q492.907 1477.06 489.828 1481.67 Q486.773 1486.25 480.963 1486.25 Q475.153 1486.25 472.074 1481.67 Q469.018 1477.06 469.018 1468.33 Q469.018 1459.58 472.074 1455 Q475.153 1450.39 480.963 1450.39 Z\" fill=\"#000000\" fill-rule=\"nonzero\" fill-opacity=\"1\" /><path clip-path=\"url(#clip280)\" d=\"M807.526 1468.75 L837.202 1468.75 L837.202 1472.69 L807.526 1472.69 L807.526 1468.75 Z\" fill=\"#000000\" fill-rule=\"nonzero\" fill-opacity=\"1\" /><path clip-path=\"url(#clip280)\" d=\"M857.294 1454.1 Q853.683 1454.1 851.855 1457.66 Q850.049 1461.2 850.049 1468.33 Q850.049 1475.44 851.855 1479.01 Q853.683 1482.55 857.294 1482.55 Q860.929 1482.55 862.734 1479.01 Q864.563 1475.44 864.563 1468.33 Q864.563 1461.2 862.734 1457.66 Q860.929 1454.1 857.294 1454.1 M857.294 1450.39 Q863.105 1450.39 866.16 1455 Q869.239 1459.58 869.239 1468.33 Q869.239 1477.06 866.16 1481.67 Q863.105 1486.25 857.294 1486.25 Q851.484 1486.25 848.406 1481.67 Q845.35 1477.06 845.35 1468.33 Q845.35 1459.58 848.406 1455 Q851.484 1450.39 857.294 1450.39 Z\" fill=\"#000000\" fill-rule=\"nonzero\" fill-opacity=\"1\" /><path clip-path=\"url(#clip280)\" d=\"M877.456 1479.7 L882.341 1479.7 L882.341 1485.58 L877.456 1485.58 L877.456 1479.7 Z\" fill=\"#000000\" fill-rule=\"nonzero\" fill-opacity=\"1\" /><path clip-path=\"url(#clip280)\" d=\"M892.572 1451.02 L910.928 1451.02 L910.928 1454.96 L896.854 1454.96 L896.854 1463.43 Q897.873 1463.08 898.891 1462.92 Q899.91 1462.73 900.928 1462.73 Q906.715 1462.73 910.095 1465.9 Q913.475 1469.08 913.475 1474.49 Q913.475 1480.07 910.002 1483.17 Q906.53 1486.25 900.211 1486.25 Q898.035 1486.25 895.766 1485.88 Q893.521 1485.51 891.114 1484.77 L891.114 1480.07 Q893.197 1481.2 895.419 1481.76 Q897.641 1482.32 900.118 1482.32 Q904.123 1482.32 906.461 1480.21 Q908.799 1478.1 908.799 1474.49 Q908.799 1470.88 906.461 1468.77 Q904.123 1466.67 900.118 1466.67 Q898.243 1466.67 896.368 1467.08 Q894.516 1467.5 892.572 1468.38 L892.572 1451.02 Z\" fill=\"#000000\" fill-rule=\"nonzero\" fill-opacity=\"1\" /><path clip-path=\"url(#clip280)\" d=\"M1258.95 1454.1 Q1255.34 1454.1 1253.51 1457.66 Q1251.7 1461.2 1251.7 1468.33 Q1251.7 1475.44 1253.51 1479.01 Q1255.34 1482.55 1258.95 1482.55 Q1262.58 1482.55 1264.39 1479.01 Q1266.22 1475.44 1266.22 1468.33 Q1266.22 1461.2 1264.39 1457.66 Q1262.58 1454.1 1258.95 1454.1 M1258.95 1450.39 Q1264.76 1450.39 1267.82 1455 Q1270.89 1459.58 1270.89 1468.33 Q1270.89 1477.06 1267.82 1481.67 Q1264.76 1486.25 1258.95 1486.25 Q1253.14 1486.25 1250.06 1481.67 Q1247.01 1477.06 1247.01 1468.33 Q1247.01 1459.58 1250.06 1455 Q1253.14 1450.39 1258.95 1450.39 Z\" fill=\"#000000\" fill-rule=\"nonzero\" fill-opacity=\"1\" /><path clip-path=\"url(#clip280)\" d=\"M1279.11 1479.7 L1284 1479.7 L1284 1485.58 L1279.11 1485.58 L1279.11 1479.7 Z\" fill=\"#000000\" fill-rule=\"nonzero\" fill-opacity=\"1\" /><path clip-path=\"url(#clip280)\" d=\"M1304.18 1454.1 Q1300.57 1454.1 1298.74 1457.66 Q1296.94 1461.2 1296.94 1468.33 Q1296.94 1475.44 1298.74 1479.01 Q1300.57 1482.55 1304.18 1482.55 Q1307.82 1482.55 1309.62 1479.01 Q1311.45 1475.44 1311.45 1468.33 Q1311.45 1461.2 1309.62 1457.66 Q1307.82 1454.1 1304.18 1454.1 M1304.18 1450.39 Q1309.99 1450.39 1313.05 1455 Q1316.13 1459.58 1316.13 1468.33 Q1316.13 1477.06 1313.05 1481.67 Q1309.99 1486.25 1304.18 1486.25 Q1298.37 1486.25 1295.29 1481.67 Q1292.24 1477.06 1292.24 1468.33 Q1292.24 1459.58 1295.29 1455 Q1298.37 1450.39 1304.18 1450.39 Z\" fill=\"#000000\" fill-rule=\"nonzero\" fill-opacity=\"1\" /><path clip-path=\"url(#clip280)\" d=\"M1680.51 1454.1 Q1676.9 1454.1 1675.07 1457.66 Q1673.27 1461.2 1673.27 1468.33 Q1673.27 1475.44 1675.07 1479.01 Q1676.9 1482.55 1680.51 1482.55 Q1684.15 1482.55 1685.95 1479.01 Q1687.78 1475.44 1687.78 1468.33 Q1687.78 1461.2 1685.95 1457.66 Q1684.15 1454.1 1680.51 1454.1 M1680.51 1450.39 Q1686.32 1450.39 1689.38 1455 Q1692.46 1459.58 1692.46 1468.33 Q1692.46 1477.06 1689.38 1481.67 Q1686.32 1486.25 1680.51 1486.25 Q1674.7 1486.25 1671.62 1481.67 Q1668.57 1477.06 1668.57 1468.33 Q1668.57 1459.58 1671.62 1455 Q1674.7 1450.39 1680.51 1450.39 Z\" fill=\"#000000\" fill-rule=\"nonzero\" fill-opacity=\"1\" /><path clip-path=\"url(#clip280)\" d=\"M1700.68 1479.7 L1705.56 1479.7 L1705.56 1485.58 L1700.68 1485.58 L1700.68 1479.7 Z\" fill=\"#000000\" fill-rule=\"nonzero\" fill-opacity=\"1\" /><path clip-path=\"url(#clip280)\" d=\"M1715.79 1451.02 L1734.15 1451.02 L1734.15 1454.96 L1720.07 1454.96 L1720.07 1463.43 Q1721.09 1463.08 1722.11 1462.92 Q1723.13 1462.73 1724.15 1462.73 Q1729.93 1462.73 1733.31 1465.9 Q1736.69 1469.08 1736.69 1474.49 Q1736.69 1480.07 1733.22 1483.17 Q1729.75 1486.25 1723.43 1486.25 Q1721.25 1486.25 1718.99 1485.88 Q1716.74 1485.51 1714.33 1484.77 L1714.33 1480.07 Q1716.42 1481.2 1718.64 1481.76 Q1720.86 1482.32 1723.34 1482.32 Q1727.34 1482.32 1729.68 1480.21 Q1732.02 1478.1 1732.02 1474.49 Q1732.02 1470.88 1729.68 1468.77 Q1727.34 1466.67 1723.34 1466.67 Q1721.46 1466.67 1719.59 1467.08 Q1717.74 1467.5 1715.79 1468.38 L1715.79 1451.02 Z\" fill=\"#000000\" fill-rule=\"nonzero\" fill-opacity=\"1\" /><path clip-path=\"url(#clip280)\" d=\"M2090.85 1481.64 L2098.49 1481.64 L2098.49 1455.28 L2090.18 1456.95 L2090.18 1452.69 L2098.44 1451.02 L2103.12 1451.02 L2103.12 1481.64 L2110.76 1481.64 L2110.76 1485.58 L2090.85 1485.58 L2090.85 1481.64 Z\" fill=\"#000000\" fill-rule=\"nonzero\" fill-opacity=\"1\" /><path clip-path=\"url(#clip280)\" d=\"M2120.2 1479.7 L2125.09 1479.7 L2125.09 1485.58 L2120.2 1485.58 L2120.2 1479.7 Z\" fill=\"#000000\" fill-rule=\"nonzero\" fill-opacity=\"1\" /><path clip-path=\"url(#clip280)\" d=\"M2145.27 1454.1 Q2141.66 1454.1 2139.83 1457.66 Q2138.03 1461.2 2138.03 1468.33 Q2138.03 1475.44 2139.83 1479.01 Q2141.66 1482.55 2145.27 1482.55 Q2148.9 1482.55 2150.71 1479.01 Q2152.54 1475.44 2152.54 1468.33 Q2152.54 1461.2 2150.71 1457.66 Q2148.9 1454.1 2145.27 1454.1 M2145.27 1450.39 Q2151.08 1450.39 2154.14 1455 Q2157.21 1459.58 2157.21 1468.33 Q2157.21 1477.06 2154.14 1481.67 Q2151.08 1486.25 2145.27 1486.25 Q2139.46 1486.25 2136.38 1481.67 Q2133.33 1477.06 2133.33 1468.33 Q2133.33 1459.58 2136.38 1455 Q2139.46 1450.39 2145.27 1450.39 Z\" fill=\"#000000\" fill-rule=\"nonzero\" fill-opacity=\"1\" /><path clip-path=\"url(#clip280)\" d=\"M1182.34 1532.4 L1169.45 1549.74 L1183.01 1568.04 L1176.1 1568.04 L1165.73 1554.04 L1155.35 1568.04 L1148.44 1568.04 L1162.29 1549.39 L1149.62 1532.4 L1156.53 1532.4 L1165.98 1545.1 L1175.43 1532.4 L1182.34 1532.4 Z\" fill=\"#000000\" fill-rule=\"nonzero\" fill-opacity=\"1\" /><path clip-path=\"url(#clip280)\" d=\"M1207.8 1532.4 L1214.01 1532.4 L1225.15 1562.31 L1236.29 1532.4 L1242.5 1532.4 L1229.13 1568.04 L1221.17 1568.04 L1207.8 1532.4 Z\" fill=\"#000000\" fill-rule=\"nonzero\" fill-opacity=\"1\" /><path clip-path=\"url(#clip280)\" d=\"M1266.78 1550.12 Q1259.68 1550.12 1256.95 1551.75 Q1254.21 1553.37 1254.21 1557.29 Q1254.21 1560.4 1256.25 1562.25 Q1258.31 1564.07 1261.85 1564.07 Q1266.72 1564.07 1269.65 1560.63 Q1272.61 1557.16 1272.61 1551.43 L1272.61 1550.12 L1266.78 1550.12 M1278.46 1547.71 L1278.46 1568.04 L1272.61 1568.04 L1272.61 1562.63 Q1270.6 1565.88 1267.61 1567.44 Q1264.62 1568.97 1260.29 1568.97 Q1254.81 1568.97 1251.57 1565.91 Q1248.35 1562.82 1248.35 1557.67 Q1248.35 1551.65 1252.36 1548.6 Q1256.41 1545.54 1264.39 1545.54 L1272.61 1545.54 L1272.61 1544.97 Q1272.61 1540.93 1269.93 1538.73 Q1267.29 1536.5 1262.48 1536.5 Q1259.43 1536.5 1256.53 1537.23 Q1253.64 1537.97 1250.96 1539.43 L1250.96 1534.02 Q1254.18 1532.78 1257.2 1532.17 Q1260.22 1531.54 1263.09 1531.54 Q1270.82 1531.54 1274.64 1535.55 Q1278.46 1539.56 1278.46 1547.71 Z\" fill=\"#000000\" fill-rule=\"nonzero\" fill-opacity=\"1\" /><path clip-path=\"url(#clip280)\" d=\"M1290.53 1518.52 L1296.38 1518.52 L1296.38 1568.04 L1290.53 1568.04 L1290.53 1518.52 Z\" fill=\"#000000\" fill-rule=\"nonzero\" fill-opacity=\"1\" /><path clip-path=\"url(#clip280)\" d=\"M1308.03 1553.98 L1308.03 1532.4 L1313.89 1532.4 L1313.89 1553.75 Q1313.89 1558.81 1315.86 1561.36 Q1317.83 1563.87 1321.78 1563.87 Q1326.52 1563.87 1329.26 1560.85 Q1332.03 1557.83 1332.03 1552.61 L1332.03 1532.4 L1337.89 1532.4 L1337.89 1568.04 L1332.03 1568.04 L1332.03 1562.57 Q1329.9 1565.82 1327.06 1567.41 Q1324.26 1568.97 1320.54 1568.97 Q1314.4 1568.97 1311.21 1565.15 Q1308.03 1561.33 1308.03 1553.98 M1322.77 1531.54 L1322.77 1531.54 Z\" fill=\"#000000\" fill-rule=\"nonzero\" fill-opacity=\"1\" /><path clip-path=\"url(#clip280)\" d=\"M1380.44 1548.76 L1380.44 1551.62 L1353.51 1551.62 Q1353.9 1557.67 1357.14 1560.85 Q1360.42 1564 1366.25 1564 Q1369.62 1564 1372.77 1563.17 Q1375.95 1562.35 1379.07 1560.69 L1379.07 1566.23 Q1375.92 1567.57 1372.61 1568.27 Q1369.3 1568.97 1365.9 1568.97 Q1357.37 1568.97 1352.37 1564 Q1347.4 1559.04 1347.4 1550.57 Q1347.4 1541.82 1352.11 1536.69 Q1356.86 1531.54 1364.88 1531.54 Q1372.07 1531.54 1376.24 1536.18 Q1380.44 1540.8 1380.44 1548.76 M1374.58 1547.04 Q1374.52 1542.23 1371.88 1539.37 Q1369.27 1536.5 1364.94 1536.5 Q1360.04 1536.5 1357.08 1539.27 Q1354.15 1542.04 1353.71 1547.07 L1374.58 1547.04 Z\" fill=\"#000000\" fill-rule=\"nonzero\" fill-opacity=\"1\" /><path clip-path=\"url(#clip280)\" d=\"M1412.78 1533.45 L1412.78 1538.98 Q1410.3 1537.71 1407.62 1537.07 Q1404.95 1536.44 1402.08 1536.44 Q1397.72 1536.44 1395.53 1537.77 Q1393.36 1539.11 1393.36 1541.79 Q1393.36 1543.82 1394.92 1545 Q1396.48 1546.15 1401.19 1547.2 L1403.2 1547.64 Q1409.44 1548.98 1412.05 1551.43 Q1414.69 1553.85 1414.69 1558.21 Q1414.69 1563.17 1410.74 1566.07 Q1406.83 1568.97 1399.95 1568.97 Q1397.09 1568.97 1393.97 1568.39 Q1390.88 1567.85 1387.44 1566.74 L1387.44 1560.69 Q1390.69 1562.38 1393.84 1563.24 Q1396.99 1564.07 1400.08 1564.07 Q1404.22 1564.07 1406.44 1562.66 Q1408.67 1561.23 1408.67 1558.65 Q1408.67 1556.27 1407.05 1554.99 Q1405.46 1553.72 1400.02 1552.54 L1397.98 1552.07 Q1392.54 1550.92 1390.12 1548.56 Q1387.7 1546.18 1387.7 1542.04 Q1387.7 1537.01 1391.26 1534.27 Q1394.83 1531.54 1401.38 1531.54 Q1404.63 1531.54 1407.5 1532.01 Q1410.36 1532.49 1412.78 1533.45 Z\" fill=\"#000000\" fill-rule=\"nonzero\" fill-opacity=\"1\" /><polyline clip-path=\"url(#clip282)\" style=\"stroke:#000000; stroke-linecap:round; stroke-linejoin:round; stroke-width:2; stroke-opacity:0.1; fill:none\" points=\"210.376,1375.01 2352.76,1375.01 \"/>\n",
       "<polyline clip-path=\"url(#clip282)\" style=\"stroke:#000000; stroke-linecap:round; stroke-linejoin:round; stroke-width:2; stroke-opacity:0.1; fill:none\" points=\"210.376,1068.27 2352.76,1068.27 \"/>\n",
       "<polyline clip-path=\"url(#clip282)\" style=\"stroke:#000000; stroke-linecap:round; stroke-linejoin:round; stroke-width:2; stroke-opacity:0.1; fill:none\" points=\"210.376,761.534 2352.76,761.534 \"/>\n",
       "<polyline clip-path=\"url(#clip282)\" style=\"stroke:#000000; stroke-linecap:round; stroke-linejoin:round; stroke-width:2; stroke-opacity:0.1; fill:none\" points=\"210.376,454.794 2352.76,454.794 \"/>\n",
       "<polyline clip-path=\"url(#clip282)\" style=\"stroke:#000000; stroke-linecap:round; stroke-linejoin:round; stroke-width:2; stroke-opacity:0.1; fill:none\" points=\"210.376,148.055 2352.76,148.055 \"/>\n",
       "<polyline clip-path=\"url(#clip280)\" style=\"stroke:#000000; stroke-linecap:round; stroke-linejoin:round; stroke-width:4; stroke-opacity:1; fill:none\" points=\"210.376,1423.18 210.376,123.472 \"/>\n",
       "<polyline clip-path=\"url(#clip280)\" style=\"stroke:#000000; stroke-linecap:round; stroke-linejoin:round; stroke-width:4; stroke-opacity:1; fill:none\" points=\"210.376,1375.01 229.273,1375.01 \"/>\n",
       "<polyline clip-path=\"url(#clip280)\" style=\"stroke:#000000; stroke-linecap:round; stroke-linejoin:round; stroke-width:4; stroke-opacity:1; fill:none\" points=\"210.376,1068.27 229.273,1068.27 \"/>\n",
       "<polyline clip-path=\"url(#clip280)\" style=\"stroke:#000000; stroke-linecap:round; stroke-linejoin:round; stroke-width:4; stroke-opacity:1; fill:none\" points=\"210.376,761.534 229.273,761.534 \"/>\n",
       "<polyline clip-path=\"url(#clip280)\" style=\"stroke:#000000; stroke-linecap:round; stroke-linejoin:round; stroke-width:4; stroke-opacity:1; fill:none\" points=\"210.376,454.794 229.273,454.794 \"/>\n",
       "<polyline clip-path=\"url(#clip280)\" style=\"stroke:#000000; stroke-linecap:round; stroke-linejoin:round; stroke-width:4; stroke-opacity:1; fill:none\" points=\"210.376,148.055 229.273,148.055 \"/>\n",
       "<path clip-path=\"url(#clip280)\" d=\"M114.26 1375.47 L143.936 1375.47 L143.936 1379.4 L114.26 1379.4 L114.26 1375.47 Z\" fill=\"#000000\" fill-rule=\"nonzero\" fill-opacity=\"1\" /><path clip-path=\"url(#clip280)\" d=\"M158.056 1388.36 L174.376 1388.36 L174.376 1392.29 L152.431 1392.29 L152.431 1388.36 Q155.093 1385.6 159.677 1380.97 Q164.283 1376.32 165.464 1374.98 Q167.709 1372.46 168.589 1370.72 Q169.491 1368.96 169.491 1367.27 Q169.491 1364.52 167.547 1362.78 Q165.626 1361.04 162.524 1361.04 Q160.325 1361.04 157.871 1361.81 Q155.44 1362.57 152.663 1364.12 L152.663 1359.4 Q155.487 1358.27 157.94 1357.69 Q160.394 1357.11 162.431 1357.11 Q167.802 1357.11 170.996 1359.79 Q174.19 1362.48 174.19 1366.97 Q174.19 1369.1 173.38 1371.02 Q172.593 1372.92 170.487 1375.51 Q169.908 1376.18 166.806 1379.4 Q163.704 1382.6 158.056 1388.36 Z\" fill=\"#000000\" fill-rule=\"nonzero\" fill-opacity=\"1\" /><path clip-path=\"url(#clip280)\" d=\"M162.431 1054.07 Q158.82 1054.07 156.991 1057.64 Q155.186 1061.18 155.186 1068.31 Q155.186 1075.42 156.991 1078.98 Q158.82 1082.52 162.431 1082.52 Q166.065 1082.52 167.871 1078.98 Q169.7 1075.42 169.7 1068.31 Q169.7 1061.18 167.871 1057.64 Q166.065 1054.07 162.431 1054.07 M162.431 1050.37 Q168.241 1050.37 171.297 1054.98 Q174.376 1059.56 174.376 1068.31 Q174.376 1077.04 171.297 1081.64 Q168.241 1086.23 162.431 1086.23 Q156.621 1086.23 153.542 1081.64 Q150.487 1077.04 150.487 1068.31 Q150.487 1059.56 153.542 1054.98 Q156.621 1050.37 162.431 1050.37 Z\" fill=\"#000000\" fill-rule=\"nonzero\" fill-opacity=\"1\" /><path clip-path=\"url(#clip280)\" d=\"M158.056 774.879 L174.376 774.879 L174.376 778.814 L152.431 778.814 L152.431 774.879 Q155.093 772.125 159.677 767.495 Q164.283 762.842 165.464 761.5 Q167.709 758.976 168.589 757.24 Q169.491 755.481 169.491 753.791 Q169.491 751.037 167.547 749.301 Q165.626 747.565 162.524 747.565 Q160.325 747.565 157.871 748.328 Q155.44 749.092 152.663 750.643 L152.663 745.921 Q155.487 744.787 157.94 744.208 Q160.394 743.629 162.431 743.629 Q167.802 743.629 170.996 746.315 Q174.19 749 174.19 753.49 Q174.19 755.62 173.38 757.541 Q172.593 759.439 170.487 762.032 Q169.908 762.703 166.806 765.921 Q163.704 769.115 158.056 774.879 Z\" fill=\"#000000\" fill-rule=\"nonzero\" fill-opacity=\"1\" /><path clip-path=\"url(#clip280)\" d=\"M164.792 441.588 L152.987 460.037 L164.792 460.037 L164.792 441.588 M163.565 437.514 L169.445 437.514 L169.445 460.037 L174.376 460.037 L174.376 463.926 L169.445 463.926 L169.445 472.074 L164.792 472.074 L164.792 463.926 L149.191 463.926 L149.191 459.412 L163.565 437.514 Z\" fill=\"#000000\" fill-rule=\"nonzero\" fill-opacity=\"1\" /><path clip-path=\"url(#clip280)\" d=\"M162.848 146.191 Q159.7 146.191 157.848 148.344 Q156.019 150.497 156.019 154.247 Q156.019 157.973 157.848 160.149 Q159.7 162.302 162.848 162.302 Q165.996 162.302 167.825 160.149 Q169.677 157.973 169.677 154.247 Q169.677 150.497 167.825 148.344 Q165.996 146.191 162.848 146.191 M172.13 131.538 L172.13 135.798 Q170.371 134.964 168.565 134.524 Q166.783 134.085 165.024 134.085 Q160.394 134.085 157.94 137.21 Q155.51 140.335 155.163 146.654 Q156.528 144.64 158.589 143.575 Q160.649 142.487 163.126 142.487 Q168.334 142.487 171.343 145.659 Q174.376 148.807 174.376 154.247 Q174.376 159.571 171.227 162.788 Q168.079 166.006 162.848 166.006 Q156.853 166.006 153.681 161.423 Q150.51 156.816 150.51 148.089 Q150.51 139.895 154.399 135.034 Q158.288 130.15 164.839 130.15 Q166.598 130.15 168.38 130.497 Q170.186 130.844 172.13 131.538 Z\" fill=\"#000000\" fill-rule=\"nonzero\" fill-opacity=\"1\" /><path clip-path=\"url(#clip280)\" d=\"M67.3143 887.384 Q73.68 889.866 75.6216 892.221 Q77.5631 894.577 77.5631 898.524 L77.5631 903.202 L72.6615 903.202 L72.6615 899.765 Q72.6615 897.346 71.5157 896.009 Q70.3699 894.672 66.1048 893.049 L63.4312 891.999 L28.3562 906.417 L28.3562 900.21 L56.238 889.07 L28.3562 877.93 L28.3562 871.724 L67.3143 887.384 Z\" fill=\"#000000\" fill-rule=\"nonzero\" fill-opacity=\"1\" /><path clip-path=\"url(#clip280)\" d=\"M28.3562 847.12 L28.3562 840.914 L58.275 829.774 L28.3562 818.634 L28.3562 812.427 L64.0042 825.795 L64.0042 833.752 L28.3562 847.12 Z\" fill=\"#000000\" fill-rule=\"nonzero\" fill-opacity=\"1\" /><path clip-path=\"url(#clip280)\" d=\"M46.0847 788.142 Q46.0847 795.24 47.7079 797.977 Q49.3312 800.714 53.2461 800.714 Q56.3653 800.714 58.2114 798.677 Q60.0256 796.609 60.0256 793.076 Q60.0256 788.206 56.5881 785.278 Q53.1188 782.318 47.3897 782.318 L46.0847 782.318 L46.0847 788.142 M43.6657 776.461 L64.0042 776.461 L64.0042 782.318 L58.5933 782.318 Q61.8398 784.323 63.3994 787.315 Q64.9272 790.307 64.9272 794.635 Q64.9272 800.11 61.8716 803.356 Q58.7843 806.571 53.6281 806.571 Q47.6125 806.571 44.5569 802.56 Q41.5014 798.518 41.5014 790.529 L41.5014 782.318 L40.9285 782.318 Q36.8862 782.318 34.6901 784.991 Q32.4621 787.633 32.4621 792.439 Q32.4621 795.495 33.1941 798.391 Q33.9262 801.287 35.3903 803.961 L29.9795 803.961 Q28.7381 800.746 28.1334 797.723 Q27.4968 794.699 27.4968 791.834 Q27.4968 784.1 31.5072 780.281 Q35.5176 776.461 43.6657 776.461 Z\" fill=\"#000000\" fill-rule=\"nonzero\" fill-opacity=\"1\" /><path clip-path=\"url(#clip280)\" d=\"M14.479 764.398 L14.479 758.542 L64.0042 758.542 L64.0042 764.398 L14.479 764.398 Z\" fill=\"#000000\" fill-rule=\"nonzero\" fill-opacity=\"1\" /><path clip-path=\"url(#clip280)\" d=\"M49.9359 746.892 L28.3562 746.892 L28.3562 741.036 L49.7131 741.036 Q54.7739 741.036 57.3202 739.063 Q59.8346 737.089 59.8346 733.142 Q59.8346 728.4 56.8109 725.663 Q53.7872 722.894 48.5673 722.894 L28.3562 722.894 L28.3562 717.037 L64.0042 717.037 L64.0042 722.894 L58.5296 722.894 Q61.7762 725.026 63.3676 727.859 Q64.9272 730.66 64.9272 734.384 Q64.9272 740.527 61.1078 743.71 Q57.2883 746.892 49.9359 746.892 M27.4968 732.156 L27.4968 732.156 Z\" fill=\"#000000\" fill-rule=\"nonzero\" fill-opacity=\"1\" /><path clip-path=\"url(#clip280)\" d=\"M44.7161 674.482 L47.5806 674.482 L47.5806 701.409 Q53.6281 701.027 56.8109 697.781 Q59.9619 694.503 59.9619 688.678 Q59.9619 685.304 59.1344 682.153 Q58.3069 678.97 56.6518 675.851 L62.1899 675.851 Q63.5267 679.002 64.227 682.312 Q64.9272 685.622 64.9272 689.028 Q64.9272 697.558 59.9619 702.555 Q54.9967 707.52 46.5303 707.52 Q37.7774 707.52 32.6531 702.81 Q27.4968 698.067 27.4968 690.047 Q27.4968 682.853 32.1438 678.684 Q36.7589 674.482 44.7161 674.482 M42.9973 680.339 Q38.1912 680.403 35.3266 683.044 Q32.4621 685.654 32.4621 689.983 Q32.4621 694.885 35.2312 697.845 Q38.0002 700.773 43.0292 701.218 L42.9973 680.339 Z\" fill=\"#000000\" fill-rule=\"nonzero\" fill-opacity=\"1\" /><path clip-path=\"url(#clip280)\" d=\"M29.4065 642.145 L34.9447 642.145 Q33.6716 644.627 33.035 647.301 Q32.3984 649.975 32.3984 652.839 Q32.3984 657.2 33.7352 659.396 Q35.072 661.56 37.7456 661.56 Q39.7826 661.56 40.9603 660 Q42.1061 658.441 43.1565 653.73 L43.6021 651.725 Q44.9389 645.487 47.3897 642.877 Q49.8086 640.235 54.1691 640.235 Q59.1344 640.235 62.0308 644.182 Q64.9272 648.097 64.9272 654.972 Q64.9272 657.836 64.3543 660.955 Q63.8132 664.043 62.6992 667.48 L56.6518 667.48 Q58.3387 664.234 59.198 661.083 Q60.0256 657.932 60.0256 654.844 Q60.0256 650.707 58.6251 648.479 Q57.1929 646.251 54.6147 646.251 Q52.2276 646.251 50.9545 647.874 Q49.6813 649.465 48.5037 654.908 L48.0262 656.945 Q46.8804 662.388 44.5251 664.807 Q42.138 667.226 38.0002 667.226 Q32.9713 667.226 30.2341 663.661 Q27.4968 660.096 27.4968 653.539 Q27.4968 650.293 27.9743 647.428 Q28.4517 644.564 29.4065 642.145 Z\" fill=\"#000000\" fill-rule=\"nonzero\" fill-opacity=\"1\" /><path clip-path=\"url(#clip280)\" d=\"M790.07 65.7705 L790.07 89.8329 L782.575 89.8329 L782.575 27.2059 L790.07 27.2059 L790.07 34.0924 Q792.419 30.0415 795.984 28.0971 Q799.589 26.1121 804.572 26.1121 Q812.836 26.1121 817.98 32.6746 Q823.165 39.2371 823.165 49.9314 Q823.165 60.6258 817.98 67.1883 Q812.836 73.7508 804.572 73.7508 Q799.589 73.7508 795.984 71.8063 Q792.419 69.8214 790.07 65.7705 M815.428 49.9314 Q815.428 41.7081 812.025 37.0496 Q808.663 32.3505 802.749 32.3505 Q796.835 32.3505 793.432 37.0496 Q790.07 41.7081 790.07 49.9314 Q790.07 58.1548 793.432 62.8538 Q796.835 67.5124 802.749 67.5124 Q808.663 67.5124 812.025 62.8538 Q815.428 58.1548 815.428 49.9314 Z\" fill=\"#000000\" fill-rule=\"nonzero\" fill-opacity=\"1\" /><path clip-path=\"url(#clip280)\" d=\"M853.102 32.4315 Q847.106 32.4315 843.622 37.1306 Q840.139 41.7891 840.139 49.9314 Q840.139 58.0738 843.582 62.7728 Q847.066 67.4314 853.102 67.4314 Q859.056 67.4314 862.54 62.7323 Q866.024 58.0333 866.024 49.9314 Q866.024 41.8701 862.54 37.1711 Q859.056 32.4315 853.102 32.4315 M853.102 26.1121 Q862.824 26.1121 868.374 32.4315 Q873.923 38.7509 873.923 49.9314 Q873.923 61.0714 868.374 67.4314 Q862.824 73.7508 853.102 73.7508 Q843.339 73.7508 837.789 67.4314 Q832.28 61.0714 832.28 49.9314 Q832.28 38.7509 837.789 32.4315 Q843.339 26.1121 853.102 26.1121 Z\" fill=\"#000000\" fill-rule=\"nonzero\" fill-opacity=\"1\" /><path clip-path=\"url(#clip280)\" d=\"M886.279 9.54393 L893.732 9.54393 L893.732 72.576 L886.279 72.576 L886.279 9.54393 Z\" fill=\"#000000\" fill-rule=\"nonzero\" fill-opacity=\"1\" /><path clip-path=\"url(#clip280)\" d=\"M928.205 76.7889 Q925.046 84.8907 922.048 87.3618 Q919.05 89.8329 914.027 89.8329 L908.072 89.8329 L908.072 83.5945 L912.447 83.5945 Q915.526 83.5945 917.227 82.1361 Q918.929 80.6778 920.995 75.2496 L922.332 71.8468 L903.981 27.2059 L911.88 27.2059 L926.058 62.6918 L940.237 27.2059 L948.136 27.2059 L928.205 76.7889 Z\" fill=\"#000000\" fill-rule=\"nonzero\" fill-opacity=\"1\" /><path clip-path=\"url(#clip280)\" d=\"M996.139 45.1919 L996.139 72.576 L988.685 72.576 L988.685 45.4349 Q988.685 38.994 986.174 35.7938 Q983.662 32.5936 978.639 32.5936 Q972.603 32.5936 969.119 36.4419 Q965.636 40.2903 965.636 46.9338 L965.636 72.576 L958.142 72.576 L958.142 27.2059 L965.636 27.2059 L965.636 34.2544 Q968.309 30.163 971.915 28.1376 Q975.56 26.1121 980.3 26.1121 Q988.118 26.1121 992.129 30.9732 Q996.139 35.7938 996.139 45.1919 Z\" fill=\"#000000\" fill-rule=\"nonzero\" fill-opacity=\"1\" /><path clip-path=\"url(#clip280)\" d=\"M1028.59 32.4315 Q1022.59 32.4315 1019.11 37.1306 Q1015.62 41.7891 1015.62 49.9314 Q1015.62 58.0738 1019.07 62.7728 Q1022.55 67.4314 1028.59 67.4314 Q1034.54 67.4314 1038.03 62.7323 Q1041.51 58.0333 1041.51 49.9314 Q1041.51 41.8701 1038.03 37.1711 Q1034.54 32.4315 1028.59 32.4315 M1028.59 26.1121 Q1038.31 26.1121 1043.86 32.4315 Q1049.41 38.7509 1049.41 49.9314 Q1049.41 61.0714 1043.86 67.4314 Q1038.31 73.7508 1028.59 73.7508 Q1018.82 73.7508 1013.27 67.4314 Q1007.77 61.0714 1007.77 49.9314 Q1007.77 38.7509 1013.27 32.4315 Q1018.82 26.1121 1028.59 26.1121 Z\" fill=\"#000000\" fill-rule=\"nonzero\" fill-opacity=\"1\" /><path clip-path=\"url(#clip280)\" d=\"M1097.09 35.9153 Q1099.88 30.8922 1103.77 28.5022 Q1107.66 26.1121 1112.93 26.1121 Q1120.02 26.1121 1123.86 31.0947 Q1127.71 36.0368 1127.71 45.1919 L1127.71 72.576 L1120.22 72.576 L1120.22 45.4349 Q1120.22 38.913 1117.91 35.7533 Q1115.6 32.5936 1110.86 32.5936 Q1105.07 32.5936 1101.71 36.4419 Q1098.34 40.2903 1098.34 46.9338 L1098.34 72.576 L1090.85 72.576 L1090.85 45.4349 Q1090.85 38.8725 1088.54 35.7533 Q1086.23 32.5936 1081.41 32.5936 Q1075.7 32.5936 1072.34 36.4824 Q1068.97 40.3308 1068.97 46.9338 L1068.97 72.576 L1061.48 72.576 L1061.48 27.2059 L1068.97 27.2059 L1068.97 34.2544 Q1071.53 30.082 1075.09 28.0971 Q1078.66 26.1121 1083.56 26.1121 Q1088.5 26.1121 1091.94 28.6237 Q1095.43 31.1352 1097.09 35.9153 Z\" fill=\"#000000\" fill-rule=\"nonzero\" fill-opacity=\"1\" /><path clip-path=\"url(#clip280)\" d=\"M1142.58 27.2059 L1150.03 27.2059 L1150.03 72.576 L1142.58 72.576 L1142.58 27.2059 M1142.58 9.54393 L1150.03 9.54393 L1150.03 18.9825 L1142.58 18.9825 L1142.58 9.54393 Z\" fill=\"#000000\" fill-rule=\"nonzero\" fill-opacity=\"1\" /><path clip-path=\"url(#clip280)\" d=\"M1186.25 49.7694 Q1177.21 49.7694 1173.73 51.8354 Q1170.25 53.9013 1170.25 58.8839 Q1170.25 62.8538 1172.84 65.2034 Q1175.47 67.5124 1179.97 67.5124 Q1186.17 67.5124 1189.89 63.1374 Q1193.66 58.7219 1193.66 51.4303 L1193.66 49.7694 L1186.25 49.7694 M1201.11 46.6907 L1201.11 72.576 L1193.66 72.576 L1193.66 65.6895 Q1191.11 69.8214 1187.3 71.8063 Q1183.49 73.7508 1177.98 73.7508 Q1171.02 73.7508 1166.88 69.8619 Q1162.79 65.9325 1162.79 59.3701 Q1162.79 51.7138 1167.9 47.825 Q1173.04 43.9361 1183.21 43.9361 L1193.66 43.9361 L1193.66 43.2069 Q1193.66 38.0623 1190.26 35.2672 Q1186.9 32.4315 1180.78 32.4315 Q1176.89 32.4315 1173.2 33.3632 Q1169.52 34.295 1166.11 36.1584 L1166.11 29.2718 Q1170.21 27.692 1174.05 26.9223 Q1177.9 26.1121 1181.55 26.1121 Q1191.39 26.1121 1196.25 31.2163 Q1201.11 36.3204 1201.11 46.6907 Z\" fill=\"#000000\" fill-rule=\"nonzero\" fill-opacity=\"1\" /><path clip-path=\"url(#clip280)\" d=\"M1216.47 9.54393 L1223.92 9.54393 L1223.92 72.576 L1216.47 72.576 L1216.47 9.54393 Z\" fill=\"#000000\" fill-rule=\"nonzero\" fill-opacity=\"1\" /><path clip-path=\"url(#clip280)\" d=\"M1265.89 27.2059 L1273.34 27.2059 L1273.34 72.576 L1265.89 72.576 L1265.89 27.2059 M1265.89 9.54393 L1273.34 9.54393 L1273.34 18.9825 L1265.89 18.9825 L1265.89 9.54393 Z\" fill=\"#000000\" fill-rule=\"nonzero\" fill-opacity=\"1\" /><path clip-path=\"url(#clip280)\" d=\"M1326.65 45.1919 L1326.65 72.576 L1319.2 72.576 L1319.2 45.4349 Q1319.2 38.994 1316.69 35.7938 Q1314.18 32.5936 1309.15 32.5936 Q1303.12 32.5936 1299.63 36.4419 Q1296.15 40.2903 1296.15 46.9338 L1296.15 72.576 L1288.65 72.576 L1288.65 27.2059 L1296.15 27.2059 L1296.15 34.2544 Q1298.82 30.163 1302.43 28.1376 Q1306.07 26.1121 1310.81 26.1121 Q1318.63 26.1121 1322.64 30.9732 Q1326.65 35.7938 1326.65 45.1919 Z\" fill=\"#000000\" fill-rule=\"nonzero\" fill-opacity=\"1\" /><path clip-path=\"url(#clip280)\" d=\"M1348.89 14.324 L1348.89 27.2059 L1364.24 27.2059 L1364.24 32.9987 L1348.89 32.9987 L1348.89 57.6282 Q1348.89 63.1779 1350.39 64.7578 Q1351.93 66.3376 1356.59 66.3376 L1364.24 66.3376 L1364.24 72.576 L1356.59 72.576 Q1347.96 72.576 1344.68 69.3758 Q1341.4 66.1351 1341.4 57.6282 L1341.4 32.9987 L1335.93 32.9987 L1335.93 27.2059 L1341.4 27.2059 L1341.4 14.324 L1348.89 14.324 Z\" fill=\"#000000\" fill-rule=\"nonzero\" fill-opacity=\"1\" /><path clip-path=\"url(#clip280)\" d=\"M1412.86 48.0275 L1412.86 51.6733 L1378.58 51.6733 Q1379.07 59.3701 1383.2 63.421 Q1387.38 67.4314 1394.79 67.4314 Q1399.08 67.4314 1403.09 66.3781 Q1407.14 65.3249 1411.11 63.2184 L1411.11 70.267 Q1407.1 71.9684 1402.89 72.8596 Q1398.68 73.7508 1394.34 73.7508 Q1383.49 73.7508 1377.13 67.4314 Q1370.81 61.1119 1370.81 50.3365 Q1370.81 39.1965 1376.8 32.6746 Q1382.84 26.1121 1393.05 26.1121 Q1402.2 26.1121 1407.51 32.0264 Q1412.86 37.9003 1412.86 48.0275 M1405.4 45.84 Q1405.32 39.7232 1401.96 36.0774 Q1398.64 32.4315 1393.13 32.4315 Q1386.89 32.4315 1383.12 35.9558 Q1379.4 39.4801 1378.83 45.8805 L1405.4 45.84 Z\" fill=\"#000000\" fill-rule=\"nonzero\" fill-opacity=\"1\" /><path clip-path=\"url(#clip280)\" d=\"M1451.38 34.1734 Q1450.12 33.4443 1448.63 33.1202 Q1447.17 32.7556 1445.38 32.7556 Q1439.06 32.7556 1435.66 36.8875 Q1432.3 40.9789 1432.3 48.6757 L1432.3 72.576 L1424.81 72.576 L1424.81 27.2059 L1432.3 27.2059 L1432.3 34.2544 Q1434.65 30.1225 1438.42 28.1376 Q1442.18 26.1121 1447.57 26.1121 Q1448.34 26.1121 1449.27 26.2337 Q1450.2 26.3147 1451.34 26.5172 L1451.38 34.1734 Z\" fill=\"#000000\" fill-rule=\"nonzero\" fill-opacity=\"1\" /><path clip-path=\"url(#clip280)\" d=\"M1466.41 65.7705 L1466.41 89.8329 L1458.91 89.8329 L1458.91 27.2059 L1466.41 27.2059 L1466.41 34.0924 Q1468.76 30.0415 1472.32 28.0971 Q1475.93 26.1121 1480.91 26.1121 Q1489.17 26.1121 1494.32 32.6746 Q1499.5 39.2371 1499.5 49.9314 Q1499.5 60.6258 1494.32 67.1883 Q1489.17 73.7508 1480.91 73.7508 Q1475.93 73.7508 1472.32 71.8063 Q1468.76 69.8214 1466.41 65.7705 M1491.77 49.9314 Q1491.77 41.7081 1488.36 37.0496 Q1485 32.3505 1479.09 32.3505 Q1473.17 32.3505 1469.77 37.0496 Q1466.41 41.7081 1466.41 49.9314 Q1466.41 58.1548 1469.77 62.8538 Q1473.17 67.5124 1479.09 67.5124 Q1485 67.5124 1488.36 62.8538 Q1491.77 58.1548 1491.77 49.9314 Z\" fill=\"#000000\" fill-rule=\"nonzero\" fill-opacity=\"1\" /><path clip-path=\"url(#clip280)\" d=\"M1529.44 32.4315 Q1523.45 32.4315 1519.96 37.1306 Q1516.48 41.7891 1516.48 49.9314 Q1516.48 58.0738 1519.92 62.7728 Q1523.4 67.4314 1529.44 67.4314 Q1535.4 67.4314 1538.88 62.7323 Q1542.36 58.0333 1542.36 49.9314 Q1542.36 41.8701 1538.88 37.1711 Q1535.4 32.4315 1529.44 32.4315 M1529.44 26.1121 Q1539.16 26.1121 1544.71 32.4315 Q1550.26 38.7509 1550.26 49.9314 Q1550.26 61.0714 1544.71 67.4314 Q1539.16 73.7508 1529.44 73.7508 Q1519.68 73.7508 1514.13 67.4314 Q1508.62 61.0714 1508.62 49.9314 Q1508.62 38.7509 1514.13 32.4315 Q1519.68 26.1121 1529.44 26.1121 Z\" fill=\"#000000\" fill-rule=\"nonzero\" fill-opacity=\"1\" /><path clip-path=\"url(#clip280)\" d=\"M1562.62 9.54393 L1570.07 9.54393 L1570.07 72.576 L1562.62 72.576 L1562.62 9.54393 Z\" fill=\"#000000\" fill-rule=\"nonzero\" fill-opacity=\"1\" /><path clip-path=\"url(#clip280)\" d=\"M1606.29 49.7694 Q1597.25 49.7694 1593.77 51.8354 Q1590.29 53.9013 1590.29 58.8839 Q1590.29 62.8538 1592.88 65.2034 Q1595.51 67.5124 1600.01 67.5124 Q1606.21 67.5124 1609.93 63.1374 Q1613.7 58.7219 1613.7 51.4303 L1613.7 49.7694 L1606.29 49.7694 M1621.15 46.6907 L1621.15 72.576 L1613.7 72.576 L1613.7 65.6895 Q1611.15 69.8214 1607.34 71.8063 Q1603.53 73.7508 1598.02 73.7508 Q1591.05 73.7508 1586.92 69.8619 Q1582.83 65.9325 1582.83 59.3701 Q1582.83 51.7138 1587.94 47.825 Q1593.08 43.9361 1603.25 43.9361 L1613.7 43.9361 L1613.7 43.2069 Q1613.7 38.0623 1610.3 35.2672 Q1606.93 32.4315 1600.82 32.4315 Q1596.93 32.4315 1593.24 33.3632 Q1589.56 34.295 1586.15 36.1584 L1586.15 29.2718 Q1590.24 27.692 1594.09 26.9223 Q1597.94 26.1121 1601.59 26.1121 Q1611.43 26.1121 1616.29 31.2163 Q1621.15 36.3204 1621.15 46.6907 Z\" fill=\"#000000\" fill-rule=\"nonzero\" fill-opacity=\"1\" /><path clip-path=\"url(#clip280)\" d=\"M1643.88 14.324 L1643.88 27.2059 L1659.23 27.2059 L1659.23 32.9987 L1643.88 32.9987 L1643.88 57.6282 Q1643.88 63.1779 1645.38 64.7578 Q1646.92 66.3376 1651.58 66.3376 L1659.23 66.3376 L1659.23 72.576 L1651.58 72.576 Q1642.95 72.576 1639.67 69.3758 Q1636.38 66.1351 1636.38 57.6282 L1636.38 32.9987 L1630.92 32.9987 L1630.92 27.2059 L1636.38 27.2059 L1636.38 14.324 L1643.88 14.324 Z\" fill=\"#000000\" fill-rule=\"nonzero\" fill-opacity=\"1\" /><path clip-path=\"url(#clip280)\" d=\"M1669.03 27.2059 L1676.49 27.2059 L1676.49 72.576 L1669.03 72.576 L1669.03 27.2059 M1669.03 9.54393 L1676.49 9.54393 L1676.49 18.9825 L1669.03 18.9825 L1669.03 9.54393 Z\" fill=\"#000000\" fill-rule=\"nonzero\" fill-opacity=\"1\" /><path clip-path=\"url(#clip280)\" d=\"M1709.67 32.4315 Q1703.67 32.4315 1700.19 37.1306 Q1696.7 41.7891 1696.7 49.9314 Q1696.7 58.0738 1700.15 62.7728 Q1703.63 67.4314 1709.67 67.4314 Q1715.62 67.4314 1719.1 62.7323 Q1722.59 58.0333 1722.59 49.9314 Q1722.59 41.8701 1719.1 37.1711 Q1715.62 32.4315 1709.67 32.4315 M1709.67 26.1121 Q1719.39 26.1121 1724.94 32.4315 Q1730.49 38.7509 1730.49 49.9314 Q1730.49 61.0714 1724.94 67.4314 Q1719.39 73.7508 1709.67 73.7508 Q1699.9 73.7508 1694.35 67.4314 Q1688.84 61.0714 1688.84 49.9314 Q1688.84 38.7509 1694.35 32.4315 Q1699.9 26.1121 1709.67 26.1121 Z\" fill=\"#000000\" fill-rule=\"nonzero\" fill-opacity=\"1\" /><path clip-path=\"url(#clip280)\" d=\"M1780.56 45.1919 L1780.56 72.576 L1773.1 72.576 L1773.1 45.4349 Q1773.1 38.994 1770.59 35.7938 Q1768.08 32.5936 1763.06 32.5936 Q1757.02 32.5936 1753.54 36.4419 Q1750.05 40.2903 1750.05 46.9338 L1750.05 72.576 L1742.56 72.576 L1742.56 27.2059 L1750.05 27.2059 L1750.05 34.2544 Q1752.73 30.163 1756.33 28.1376 Q1759.98 26.1121 1764.72 26.1121 Q1772.54 26.1121 1776.55 30.9732 Q1780.56 35.7938 1780.56 45.1919 Z\" fill=\"#000000\" fill-rule=\"nonzero\" fill-opacity=\"1\" /><polyline clip-path=\"url(#clip282)\" style=\"stroke:#009af9; stroke-linecap:round; stroke-linejoin:round; stroke-width:4; stroke-opacity:1; fill:none\" points=\"271.009,1331.58 273.032,1328.73 275.055,1325.88 277.078,1323.05 279.102,1320.23 281.125,1317.41 283.148,1314.61 285.171,1311.82 287.194,1309.04 289.217,1306.27 291.24,1303.51 293.263,1300.76 295.287,1298.03 297.31,1295.3 299.333,1292.58 301.356,1289.88 303.379,1287.18 305.402,1284.49 307.425,1281.82 309.449,1279.16 311.472,1276.5 313.495,1273.86 315.518,1271.23 317.541,1268.6 319.564,1265.99 321.587,1263.39 323.611,1260.8 325.634,1258.22 327.657,1255.65 329.68,1253.09 331.703,1250.54 333.726,1248 335.749,1245.47 337.772,1242.95 339.796,1240.44 341.819,1237.94 343.842,1235.45 345.865,1232.98 347.888,1230.51 349.911,1228.05 351.934,1225.6 353.958,1223.16 355.981,1220.73 358.004,1218.32 360.027,1215.91 362.05,1213.51 364.073,1211.12 366.096,1208.75 368.12,1206.38 370.143,1204.02 372.166,1201.67 374.189,1199.33 376.212,1197.01 378.235,1194.69 380.258,1192.38 382.281,1190.08 384.305,1187.79 386.328,1185.51 388.351,1183.24 390.374,1180.99 392.397,1178.74 394.42,1176.5 396.443,1174.27 398.467,1172.05 400.49,1169.84 402.513,1167.63 404.536,1165.44 406.559,1163.26 408.582,1161.09 410.605,1158.93 412.629,1156.77 414.652,1154.63 416.675,1152.5 418.698,1150.37 420.721,1148.26 422.744,1146.15 424.767,1144.06 426.791,1141.97 428.814,1139.89 430.837,1137.83 432.86,1135.77 434.883,1133.72 436.906,1131.68 438.929,1129.65 440.952,1127.63 442.976,1125.62 444.999,1123.62 447.022,1121.62 449.045,1119.64 451.068,1117.66 453.091,1115.7 455.114,1113.74 457.138,1111.8 459.161,1109.86 461.184,1107.93 463.207,1106.01 465.23,1104.1 467.253,1102.2 469.276,1100.31 471.3,1098.43 473.323,1096.55 475.346,1094.69 477.369,1092.83 479.392,1090.99 481.415,1089.15 483.438,1087.32 485.461,1085.5 487.485,1083.69 489.508,1081.89 491.531,1080.09 493.554,1078.31 495.577,1076.53 497.6,1074.77 499.623,1073.01 501.647,1071.26 503.67,1069.52 505.693,1067.79 507.716,1066.07 509.739,1064.35 511.762,1062.65 513.785,1060.95 515.809,1059.26 517.832,1057.58 519.855,1055.91 521.878,1054.25 523.901,1052.6 525.924,1050.95 527.947,1049.32 529.97,1047.69 531.994,1046.07 534.017,1044.46 536.04,1042.86 538.063,1041.27 540.086,1039.68 542.109,1038.1 544.132,1036.54 546.156,1034.98 548.179,1033.42 550.202,1031.88 552.225,1030.35 554.248,1028.82 556.271,1027.3 558.294,1025.79 560.318,1024.29 562.341,1022.8 564.364,1021.31 566.387,1019.84 568.41,1018.37 570.433,1016.91 572.456,1015.46 574.479,1014.01 576.503,1012.58 578.526,1011.15 580.549,1009.73 582.572,1008.32 584.595,1006.92 586.618,1005.52 588.641,1004.13 590.665,1002.75 592.688,1001.38 594.711,1000.02 596.734,998.665 598.757,997.317 600.78,995.978 602.803,994.647 604.827,993.323 606.85,992.008 608.873,990.7 610.896,989.4 612.919,988.108 614.942,986.824 616.965,985.547 618.988,984.279 621.012,983.018 623.035,981.765 625.058,980.519 627.081,979.281 629.104,978.051 631.127,976.829 633.15,975.614 635.174,974.407 637.197,973.208 639.22,972.016 641.243,970.831 643.266,969.655 645.289,968.485 647.312,967.324 649.336,966.17 651.359,965.023 653.382,963.884 655.405,962.752 657.428,961.628 659.451,960.511 661.474,959.401 663.497,958.299 665.521,957.205 667.544,956.117 669.567,955.037 671.59,953.965 673.613,952.899 675.636,951.841 677.659,950.79 679.683,949.747 681.706,948.71 683.729,947.681 685.752,946.659 687.775,945.644 689.798,944.637 691.821,943.636 693.845,942.643 695.868,941.656 697.891,940.677 699.914,939.705 701.937,938.74 703.96,937.782 705.983,936.831 708.006,935.887 710.03,934.95 712.053,934.02 714.076,933.096 716.099,932.18 718.122,931.271 720.145,930.368 722.168,929.473 724.192,928.584 726.215,927.702 728.238,926.827 730.261,925.959 732.284,925.098 734.307,924.243 736.33,923.395 738.354,922.554 740.377,921.719 742.4,920.892 744.423,920.07 746.446,919.256 748.469,918.448 750.492,917.647 752.516,916.852 754.539,916.064 756.562,915.283 758.585,914.508 760.608,913.74 762.631,912.978 764.654,912.223 766.677,911.474 768.701,910.732 770.724,909.996 772.747,909.266 774.77,908.543 776.793,907.827 778.816,907.116 780.839,906.412 782.863,905.715 784.886,905.023 786.909,904.339 788.932,903.66 790.955,902.988 792.978,902.321 795.001,901.662 797.025,901.008 799.048,900.36 801.071,899.719 803.094,899.084 805.117,898.455 807.14,897.832 809.163,897.215 811.186,896.605 813.21,896 815.233,895.402 817.256,894.809 819.279,894.223 821.302,893.642 823.325,893.068 825.348,892.5 827.372,891.937 829.395,891.381 831.418,890.83 833.441,890.285 835.464,889.746 837.487,889.213 839.51,888.686 841.534,888.165 843.557,887.649 845.58,887.14 847.603,886.636 849.626,886.137 851.649,885.645 853.672,885.158 855.695,884.677 857.719,884.202 859.742,883.732 861.765,883.268 863.788,882.81 865.811,882.357 867.834,881.91 869.857,881.468 871.881,881.032 873.904,880.602 875.927,880.177 877.95,879.758 879.973,879.344 881.996,878.935 884.019,878.532 886.043,878.135 888.066,877.743 890.089,877.356 892.112,876.975 894.135,876.599 896.158,876.228 898.181,875.863 900.204,875.503 902.228,875.148 904.251,874.799 906.274,874.455 908.297,874.116 910.32,873.782 912.343,873.454 914.366,873.131 916.39,872.813 918.413,872.5 920.436,872.192 922.459,871.889 924.482,871.592 926.505,871.299 928.528,871.012 930.552,870.73 932.575,870.452 934.598,870.18 936.621,869.913 938.644,869.65 940.667,869.393 942.69,869.141 944.713,868.893 946.737,868.651 948.76,868.413 950.783,868.18 952.806,867.952 954.829,867.729 956.852,867.511 958.875,867.298 960.899,867.089 962.922,866.885 964.945,866.686 966.968,866.491 968.991,866.302 971.014,866.117 973.037,865.936 975.061,865.761 977.084,865.59 979.107,865.423 981.13,865.262 983.153,865.104 985.176,864.952 987.199,864.804 989.222,864.66 991.246,864.521 993.269,864.387 995.292,864.257 997.315,864.131 999.338,864.01 1001.36,863.893 1003.38,863.781 1005.41,863.673 1007.43,863.57 1009.45,863.471 1011.48,863.376 1013.5,863.285 1015.52,863.199 1017.55,863.117 1019.57,863.04 1021.59,862.967 1023.62,862.898 1025.64,862.833 1027.66,862.772 1029.69,862.716 1031.71,862.663 1033.73,862.615 1035.75,862.571 1037.78,862.531 1039.8,862.495 1041.82,862.464 1043.85,862.436 1045.87,862.412 1047.89,862.393 1049.92,862.377 1051.94,862.366 1053.96,862.358 1055.99,862.354 1058.01,862.354 1060.03,862.359 1062.06,862.367 1064.08,862.379 1066.1,862.395 1068.12,862.414 1070.15,862.438 1072.17,862.465 1074.19,862.496 1076.22,862.531 1078.24,862.57 1080.26,862.612 1082.29,862.658 1084.31,862.708 1086.33,862.762 1088.36,862.819 1090.38,862.88 1092.4,862.944 1094.43,863.012 1096.45,863.084 1098.47,863.159 1100.5,863.238 1102.52,863.32 1104.54,863.406 1106.56,863.496 1108.59,863.589 1110.61,863.685 1112.63,863.785 1114.66,863.888 1116.68,863.995 1118.7,864.105 1120.73,864.219 1122.75,864.336 1124.77,864.456 1126.8,864.58 1128.82,864.706 1130.84,864.837 1132.87,864.97 1134.89,865.107 1136.91,865.247 1138.93,865.39 1140.96,865.537 1142.98,865.686 1145,865.839 1147.03,865.995 1149.05,866.154 1151.07,866.316 1153.1,866.482 1155.12,866.65 1157.14,866.822 1159.17,866.996 1161.19,867.174 1163.21,867.354 1165.24,867.538 1167.26,867.725 1169.28,867.914 1171.3,868.107 1173.33,868.302 1175.35,868.5 1177.37,868.702 1179.4,868.906 1181.42,869.113 1183.44,869.323 1185.47,869.535 1187.49,869.751 1189.51,869.969 1191.54,870.19 1193.56,870.414 1195.58,870.64 1197.61,870.869 1199.63,871.101 1201.65,871.336 1203.67,871.573 1205.7,871.813 1207.72,872.055 1209.74,872.3 1211.77,872.548 1213.79,872.798 1215.81,873.051 1217.84,873.307 1219.86,873.564 1221.88,873.825 1223.91,874.088 1225.93,874.353 1227.95,874.621 1229.98,874.891 1232,875.164 1234.02,875.439 1236.05,875.716 1238.07,875.996 1240.09,876.278 1242.11,876.563 1244.14,876.85 1246.16,877.139 1248.18,877.43 1250.21,877.724 1252.23,878.019 1254.25,878.318 1256.28,878.618 1258.3,878.92 1260.32,879.225 1262.35,879.532 1264.37,879.841 1266.39,880.152 1268.42,880.465 1270.44,880.78 1272.46,881.097 1274.48,881.416 1276.51,881.738 1278.53,882.061 1280.55,882.386 1282.58,882.714 1284.6,883.043 1286.62,883.374 1288.65,883.707 1290.67,884.042 1292.69,884.379 1294.72,884.718 1296.74,885.059 1298.76,885.401 1300.79,885.745 1302.81,886.091 1304.83,886.439 1306.85,886.789 1308.88,887.14 1310.9,887.493 1312.92,887.848 1314.95,888.205 1316.97,888.563 1318.99,888.922 1321.02,889.284 1323.04,889.647 1325.06,890.012 1327.09,890.378 1329.11,890.746 1331.13,891.115 1333.16,891.486 1335.18,891.858 1337.2,892.232 1339.23,892.608 1341.25,892.984 1343.27,893.363 1345.29,893.742 1347.32,894.124 1349.34,894.506 1351.36,894.89 1353.39,895.275 1355.41,895.662 1357.43,896.05 1359.46,896.439 1361.48,896.829 1363.5,897.221 1365.53,897.614 1367.55,898.008 1369.57,898.404 1371.6,898.8 1373.62,899.198 1375.64,899.597 1377.66,899.997 1379.69,900.398 1381.71,900.801 1383.73,901.204 1385.76,901.608 1387.78,902.014 1389.8,902.421 1391.83,902.828 1393.85,903.237 1395.87,903.646 1397.9,904.057 1399.92,904.468 1401.94,904.881 1403.97,905.294 1405.99,905.708 1408.01,906.123 1410.03,906.539 1412.06,906.956 1414.08,907.374 1416.1,907.792 1418.13,908.211 1420.15,908.631 1422.17,909.052 1424.2,909.474 1426.22,909.896 1428.24,910.319 1430.27,910.742 1432.29,911.167 1434.31,911.591 1436.34,912.017 1438.36,912.443 1440.38,912.87 1442.41,913.297 1444.43,913.725 1446.45,914.153 1448.47,914.582 1450.5,915.012 1452.52,915.442 1454.54,915.872 1456.57,916.303 1458.59,916.734 1460.61,917.166 1462.64,917.598 1464.66,918.03 1466.68,918.463 1468.71,918.896 1470.73,919.33 1472.75,919.764 1474.78,920.198 1476.8,920.632 1478.82,921.067 1480.84,921.502 1482.87,921.937 1484.89,922.372 1486.91,922.807 1488.94,923.243 1490.96,923.679 1492.98,924.115 1495.01,924.551 1497.03,924.987 1499.05,925.423 1501.08,925.86 1503.1,926.296 1505.12,926.732 1507.15,927.169 1509.17,927.605 1511.19,928.041 1513.21,928.478 1515.24,928.914 1517.26,929.35 1519.28,929.786 1521.31,930.222 1523.33,930.658 1525.35,931.094 1527.38,931.529 1529.4,931.965 1531.42,932.4 1533.45,932.835 1535.47,933.269 1537.49,933.704 1539.52,934.138 1541.54,934.572 1543.56,935.005 1545.59,935.438 1547.61,935.871 1549.63,936.304 1551.65,936.736 1553.68,937.167 1555.7,937.599 1557.72,938.03 1559.75,938.46 1561.77,938.89 1563.79,939.32 1565.82,939.748 1567.84,940.177 1569.86,940.605 1571.89,941.032 1573.91,941.459 1575.93,941.885 1577.96,942.311 1579.98,942.736 1582,943.16 1584.02,943.584 1586.05,944.007 1588.07,944.429 1590.09,944.85 1592.12,945.271 1594.14,945.691 1596.16,946.111 1598.19,946.529 1600.21,946.947 1602.23,947.364 1604.26,947.78 1606.28,948.195 1608.3,948.609 1610.33,949.023 1612.35,949.435 1614.37,949.847 1616.39,950.257 1618.42,950.667 1620.44,951.076 1622.46,951.483 1624.49,951.89 1626.51,952.296 1628.53,952.7 1630.56,953.104 1632.58,953.506 1634.6,953.908 1636.63,954.308 1638.65,954.707 1640.67,955.105 1642.7,955.501 1644.72,955.897 1646.74,956.291 1648.77,956.684 1650.79,957.076 1652.81,957.467 1654.83,957.856 1656.86,958.244 1658.88,958.631 1660.9,959.016 1662.93,959.4 1664.95,959.783 1666.97,960.164 1669,960.544 1671.02,960.922 1673.04,961.299 1675.07,961.675 1677.09,962.049 1679.11,962.421 1681.14,962.792 1683.16,963.162 1685.18,963.53 1687.2,963.896 1689.23,964.261 1691.25,964.624 1693.27,964.986 1695.3,965.346 1697.32,965.704 1699.34,966.061 1701.37,966.416 1703.39,966.769 1705.41,967.121 1707.44,967.47 1709.46,967.818 1711.48,968.165 1713.51,968.509 1715.53,968.852 1717.55,969.192 1719.57,969.531 1721.6,969.868 1723.62,970.204 1725.64,970.537 1727.67,970.868 1729.69,971.198 1731.71,971.525 1733.74,971.851 1735.76,972.174 1737.78,972.496 1739.81,972.815 1741.83,973.133 1743.85,973.448 1745.88,973.762 1747.9,974.073 1749.92,974.382 1751.95,974.689 1753.97,974.994 1755.99,975.296 1758.01,975.597 1760.04,975.895 1762.06,976.191 1764.08,976.485 1766.11,976.777 1768.13,977.066 1770.15,977.353 1772.18,977.638 1774.2,977.92 1776.22,978.2 1778.25,978.478 1780.27,978.753 1782.29,979.026 1784.32,979.296 1786.34,979.564 1788.36,979.83 1790.38,980.093 1792.41,980.354 1794.43,980.612 1796.45,980.867 1798.48,981.121 1800.5,981.371 1802.52,981.619 1804.55,981.864 1806.57,982.107 1808.59,982.347 1810.62,982.585 1812.64,982.82 1814.66,983.052 1816.69,983.281 1818.71,983.508 1820.73,983.732 1822.75,983.953 1824.78,984.172 1826.8,984.387 1828.82,984.6 1830.85,984.81 1832.87,985.018 1834.89,985.222 1836.92,985.424 1838.94,985.622 1840.96,985.818 1842.99,986.011 1845.01,986.2 1847.03,986.387 1849.06,986.571 1851.08,986.752 1853.1,986.93 1855.12,987.105 1857.15,987.277 1859.17,987.445 1861.19,987.611 1863.22,987.774 1865.24,987.933 1867.26,988.089 1869.29,988.242 1871.31,988.392 1873.33,988.539 1875.36,988.683 1877.38,988.823 1879.4,988.96 1881.43,989.094 1883.45,989.224 1885.47,989.352 1887.5,989.475 1889.52,989.596 1891.54,989.713 1893.56,989.827 1895.59,989.938 1897.61,990.045 1899.63,990.148 1901.66,990.249 1903.68,990.345 1905.7,990.439 1907.73,990.528 1909.75,990.615 1911.77,990.697 1913.8,990.777 1915.82,990.852 1917.84,990.924 1919.87,990.993 1921.89,991.057 1923.91,991.119 1925.93,991.176 1927.96,991.23 1929.98,991.28 1932,991.327 1934.03,991.37 1936.05,991.409 1938.07,991.444 1940.1,991.475 1942.12,991.503 1944.14,991.527 1946.17,991.547 1948.19,991.563 1950.21,991.575 1952.24,991.584 1954.26,991.588 1956.28,991.589 1958.3,991.586 1960.33,991.579 1962.35,991.567 1964.37,991.552 1966.4,991.533 1968.42,991.51 1970.44,991.482 1972.47,991.451 1974.49,991.416 1976.51,991.376 1978.54,991.333 1980.56,991.285 1982.58,991.233 1984.61,991.177 1986.63,991.117 1988.65,991.052 1990.68,990.983 1992.7,990.911 1994.72,990.833 1996.74,990.752 1998.77,990.666 2000.79,990.576 2002.81,990.482 2004.84,990.383 2006.86,990.28 2008.88,990.173 2010.91,990.061 2012.93,989.945 2014.95,989.824 2016.98,989.699 2019,989.569 2021.02,989.435 2023.05,989.297 2025.07,989.154 2027.09,989.006 2029.11,988.854 2031.14,988.697 2033.16,988.536 2035.18,988.37 2037.21,988.199 2039.23,988.024 2041.25,987.844 2043.28,987.659 2045.3,987.47 2047.32,987.276 2049.35,987.078 2051.37,986.874 2053.39,986.666 2055.42,986.453 2057.44,986.235 2059.46,986.013 2061.48,985.785 2063.51,985.553 2065.53,985.316 2067.55,985.073 2069.58,984.827 2071.6,984.575 2073.62,984.318 2075.65,984.056 2077.67,983.789 2079.69,983.517 2081.72,983.241 2083.74,982.959 2085.76,982.672 2087.79,982.38 2089.81,982.083 2091.83,981.781 2093.86,981.473 2095.88,981.161 2097.9,980.843 2099.92,980.521 2101.95,980.193 2103.97,979.86 2105.99,979.521 2108.02,979.178 2110.04,978.829 2112.06,978.475 2114.09,978.115 2116.11,977.751 2118.13,977.38 2120.16,977.005 2122.18,976.624 2124.2,976.238 2126.23,975.846 2128.25,975.449 2130.27,975.047 2132.29,974.639 2134.32,974.226 2136.34,973.807 2138.36,973.382 2140.39,972.952 2142.41,972.517 2144.43,972.076 2146.46,971.629 2148.48,971.177 2150.5,970.719 2152.53,970.256 2154.55,969.787 2156.57,969.312 2158.6,968.832 2160.62,968.345 2162.64,967.854 2164.66,967.356 2166.69,966.853 2168.71,966.343 2170.73,965.828 2172.76,965.308 2174.78,964.781 2176.8,964.249 2178.83,963.71 2180.85,963.166 2182.87,962.616 2184.9,962.06 2186.92,961.498 2188.94,960.93 2190.97,960.356 2192.99,959.777 2195.01,959.191 2197.04,958.599 2199.06,958.001 2201.08,957.397 2203.1,956.787 2205.13,956.171 2207.15,955.549 2209.17,954.92 2211.2,954.286 2213.22,953.645 2215.24,952.998 2217.27,952.345 2219.29,951.686 2221.31,951.02 2223.34,950.348 2225.36,949.67 2227.38,948.986 2229.41,948.295 2231.43,947.598 2233.45,946.895 2235.47,946.185 2237.5,945.469 2239.52,944.747 2241.54,944.018 2243.57,943.283 2245.59,942.541 2247.61,941.793 2249.64,941.038 2251.66,940.277 2253.68,939.509 2255.71,938.735 2257.73,937.954 2259.75,937.167 2261.78,936.373 2263.8,935.573 2265.82,934.765 2267.84,933.952 2269.87,933.131 2271.89,932.304 2273.91,931.47 2275.94,930.63 2277.96,929.782 2279.98,928.928 2282.01,928.068 2284.03,927.2 2286.05,926.326 2288.08,925.444 2290.1,924.556 2292.12,923.661 \"/>\n",
       "<circle clip-path=\"url(#clip282)\" cx=\"355.222\" cy=\"1221.64\" r=\"14.4\" fill=\"#e26f46\" fill-rule=\"evenodd\" fill-opacity=\"1\" stroke=\"#000000\" stroke-opacity=\"1\" stroke-width=\"3.2\"/>\n",
       "<circle clip-path=\"url(#clip282)\" cx=\"944.713\" cy=\"868.893\" r=\"14.4\" fill=\"#e26f46\" fill-rule=\"evenodd\" fill-opacity=\"1\" stroke=\"#000000\" stroke-opacity=\"1\" stroke-width=\"3.2\"/>\n",
       "<circle clip-path=\"url(#clip282)\" cx=\"1449.99\" cy=\"914.904\" r=\"14.4\" fill=\"#e26f46\" fill-rule=\"evenodd\" fill-opacity=\"1\" stroke=\"#000000\" stroke-opacity=\"1\" stroke-width=\"3.2\"/>\n",
       "<circle clip-path=\"url(#clip282)\" cx=\"1955.27\" cy=\"991.589\" r=\"14.4\" fill=\"#e26f46\" fill-rule=\"evenodd\" fill-opacity=\"1\" stroke=\"#000000\" stroke-opacity=\"1\" stroke-width=\"3.2\"/>\n",
       "<polyline clip-path=\"url(#clip282)\" style=\"stroke:#3da44d; stroke-linecap:round; stroke-linejoin:round; stroke-width:4; stroke-opacity:1; fill:none\" points=\"271.009,974.445 273.032,972.67 275.055,970.912 277.078,969.172 279.102,967.45 281.125,965.745 283.148,964.057 285.171,962.387 287.194,960.734 289.217,959.098 291.24,957.48 293.263,955.878 295.287,954.294 297.31,952.727 299.333,951.177 301.356,949.644 303.379,948.128 305.402,946.628 307.425,945.146 309.449,943.68 311.472,942.232 313.495,940.799 315.518,939.384 317.541,937.985 319.564,936.602 321.587,935.237 323.611,933.887 325.634,932.554 327.657,931.237 329.68,929.937 331.703,928.653 333.726,927.385 335.749,926.134 337.772,924.898 339.796,923.679 341.819,922.475 343.842,921.288 345.865,920.116 347.888,918.961 349.911,917.821 351.934,916.697 353.958,915.589 355.981,914.496 358.004,913.42 360.027,912.358 362.05,911.313 364.073,910.283 366.096,909.268 368.12,908.269 370.143,907.285 372.166,906.317 374.189,905.363 376.212,904.425 378.235,903.503 380.258,902.595 382.281,901.702 384.305,900.825 386.328,899.962 388.351,899.115 390.374,898.282 392.397,897.464 394.42,896.661 396.443,895.873 398.467,895.1 400.49,894.341 402.513,893.597 404.536,892.867 406.559,892.152 408.582,891.451 410.605,890.765 412.629,890.093 414.652,889.436 416.675,888.792 418.698,888.164 420.721,887.549 422.744,886.948 424.767,886.362 426.791,885.789 428.814,885.231 430.837,884.686 432.86,884.156 434.883,883.639 436.906,883.136 438.929,882.647 440.952,882.172 442.976,881.71 444.999,881.262 447.022,880.828 449.045,880.407 451.068,879.999 453.091,879.605 455.114,879.225 457.138,878.858 459.161,878.504 461.184,878.163 463.207,877.836 465.23,877.521 467.253,877.22 469.276,876.932 471.3,876.657 473.323,876.395 475.346,876.146 477.369,875.909 479.392,875.686 481.415,875.475 483.438,875.277 485.461,875.092 487.485,874.919 489.508,874.759 491.531,874.612 493.554,874.477 495.577,874.354 497.6,874.244 499.623,874.146 501.647,874.061 503.67,873.987 505.693,873.926 507.716,873.878 509.739,873.841 511.762,873.816 513.785,873.804 515.809,873.803 517.832,873.814 519.855,873.838 521.878,873.873 523.901,873.92 525.924,873.978 527.947,874.048 529.97,874.13 531.994,874.224 534.017,874.329 536.04,874.446 538.063,874.574 540.086,874.713 542.109,874.864 544.132,875.026 546.156,875.2 548.179,875.384 550.202,875.58 552.225,875.787 554.248,876.005 556.271,876.235 558.294,876.475 560.318,876.726 562.341,876.988 564.364,877.261 566.387,877.544 568.41,877.839 570.433,878.144 572.456,878.459 574.479,878.786 576.503,879.123 578.526,879.47 580.549,879.828 582.572,880.196 584.595,880.575 586.618,880.964 588.641,881.364 590.665,881.773 592.688,882.193 594.711,882.623 596.734,883.063 598.757,883.513 600.78,883.973 602.803,884.443 604.827,884.923 606.85,885.413 608.873,885.912 610.896,886.422 612.919,886.941 614.942,887.47 616.965,888.008 618.988,888.556 621.012,889.114 623.035,889.681 625.058,890.257 627.081,890.843 629.104,891.438 631.127,892.042 633.15,892.656 635.174,893.279 637.197,893.911 639.22,894.552 641.243,895.202 643.266,895.862 645.289,896.53 647.312,897.207 649.336,897.893 651.359,898.588 653.382,899.291 655.405,900.003 657.428,900.724 659.451,901.454 661.474,902.192 663.497,902.939 665.521,903.694 667.544,904.458 669.567,905.23 671.59,906.01 673.613,906.799 675.636,907.596 677.659,908.401 679.683,909.215 681.706,910.036 683.729,910.866 685.752,911.703 687.775,912.549 689.798,913.402 691.821,914.264 693.845,915.133 695.868,916.01 697.891,916.895 699.914,917.787 701.937,918.687 703.96,919.595 705.983,920.51 708.006,921.433 710.03,922.363 712.053,923.301 714.076,924.245 716.099,925.198 718.122,926.157 720.145,927.124 722.168,928.098 724.192,929.079 726.215,930.067 728.238,931.062 730.261,932.064 732.284,933.073 734.307,934.089 736.33,935.112 738.354,936.142 740.377,937.178 742.4,938.221 744.423,939.271 746.446,940.327 748.469,941.39 750.492,942.459 752.516,943.535 754.539,944.618 756.562,945.706 758.585,946.801 760.608,947.902 762.631,949.01 764.654,950.124 766.677,951.243 768.701,952.369 770.724,953.501 772.747,954.639 774.77,955.783 776.793,956.933 778.816,958.088 780.839,959.25 782.863,960.417 784.886,961.59 786.909,962.768 788.932,963.953 790.955,965.142 792.978,966.338 795.001,967.538 797.025,968.744 799.048,969.956 801.071,971.173 803.094,972.395 805.117,973.622 807.14,974.855 809.163,976.093 811.186,977.336 813.21,978.584 815.233,979.837 817.256,981.094 819.279,982.357 821.302,983.625 823.325,984.897 825.348,986.174 827.372,987.456 829.395,988.743 831.418,990.034 833.441,991.33 835.464,992.63 837.487,993.935 839.51,995.245 841.534,996.558 843.557,997.876 845.58,999.199 847.603,1000.53 849.626,1001.86 851.649,1003.19 853.672,1004.53 855.695,1005.87 857.719,1007.22 859.742,1008.57 861.765,1009.93 863.788,1011.29 865.811,1012.65 867.834,1014.01 869.857,1015.38 871.881,1016.76 873.904,1018.14 875.927,1019.52 877.95,1020.9 879.973,1022.29 881.996,1023.68 884.019,1025.08 886.043,1026.47 888.066,1027.88 890.089,1029.28 892.112,1030.69 894.135,1032.1 896.158,1033.52 898.181,1034.93 900.204,1036.35 902.228,1037.78 904.251,1039.2 906.274,1040.63 908.297,1042.06 910.32,1043.5 912.343,1044.94 914.366,1046.38 916.39,1047.82 918.413,1049.27 920.436,1050.71 922.459,1052.16 924.482,1053.62 926.505,1055.07 928.528,1056.53 930.552,1057.99 932.575,1059.45 934.598,1060.92 936.621,1062.39 938.644,1063.85 940.667,1065.33 942.69,1066.8 944.713,1068.27 946.737,1069.75 948.76,1071.23 950.783,1072.71 952.806,1074.19 954.829,1075.68 956.852,1077.16 958.875,1078.65 960.899,1080.14 962.922,1081.63 964.945,1083.12 966.968,1084.62 968.991,1086.11 971.014,1087.61 973.037,1089.11 975.061,1090.61 977.084,1092.11 979.107,1093.61 981.13,1095.11 983.153,1096.62 985.176,1098.12 987.199,1099.63 989.222,1101.13 991.246,1102.64 993.269,1104.15 995.292,1105.66 997.315,1107.17 999.338,1108.68 1001.36,1110.19 1003.38,1111.71 1005.41,1113.22 1007.43,1114.73 1009.45,1116.25 1011.48,1117.76 1013.5,1119.27 1015.52,1120.79 1017.55,1122.3 1019.57,1123.82 1021.59,1125.34 1023.62,1126.85 1025.64,1128.37 1027.66,1129.88 1029.69,1131.4 1031.71,1132.92 1033.73,1134.43 1035.75,1135.95 1037.78,1137.46 1039.8,1138.98 1041.82,1140.49 1043.85,1142.01 1045.87,1143.52 1047.89,1145.04 1049.92,1146.55 1051.94,1148.06 1053.96,1149.57 1055.99,1151.09 1058.01,1152.6 1060.03,1154.11 1062.06,1155.62 1064.08,1157.13 1066.1,1158.63 1068.12,1160.14 1070.15,1161.65 1072.17,1163.15 1074.19,1164.66 1076.22,1166.16 1078.24,1167.66 1080.26,1169.16 1082.29,1170.66 1084.31,1172.16 1086.33,1173.66 1088.36,1175.15 1090.38,1176.65 1092.4,1178.14 1094.43,1179.63 1096.45,1181.12 1098.47,1182.61 1100.5,1184.1 1102.52,1185.58 1104.54,1187.06 1106.56,1188.55 1108.59,1190.03 1110.61,1191.5 1112.63,1192.98 1114.66,1194.45 1116.68,1195.92 1118.7,1197.39 1120.73,1198.86 1122.75,1200.33 1124.77,1201.79 1126.8,1203.25 1128.82,1204.71 1130.84,1206.17 1132.87,1207.62 1134.89,1209.07 1136.91,1210.52 1138.93,1211.97 1140.96,1213.41 1142.98,1214.85 1145,1216.29 1147.03,1217.73 1149.05,1219.16 1151.07,1220.59 1153.1,1222.02 1155.12,1223.44 1157.14,1224.86 1159.17,1226.28 1161.19,1227.69 1163.21,1229.11 1165.24,1230.52 1167.26,1231.92 1169.28,1233.32 1171.3,1234.72 1173.33,1236.12 1175.35,1237.51 1177.37,1238.9 1179.4,1240.29 1181.42,1241.67 1183.44,1243.05 1185.47,1244.42 1187.49,1245.79 1189.51,1247.16 1191.54,1248.53 1193.56,1249.89 1195.58,1251.24 1197.61,1252.59 1199.63,1253.94 1201.65,1255.29 1203.67,1256.63 1205.7,1257.96 1207.72,1259.29 1209.74,1260.62 1211.77,1261.95 1213.79,1263.26 1215.81,1264.58 1217.84,1265.89 1219.86,1267.2 1221.88,1268.5 1223.91,1269.8 1225.93,1271.09 1227.95,1272.38 1229.98,1273.66 1232,1274.94 1234.02,1276.21 1236.05,1277.48 1238.07,1278.74 1240.09,1280 1242.11,1281.26 1244.14,1282.51 1246.16,1283.75 1248.18,1284.99 1250.21,1286.22 1252.23,1287.45 1254.25,1288.68 1256.28,1289.9 1258.3,1291.11 1260.32,1292.32 1262.35,1293.52 1264.37,1294.72 1266.39,1295.91 1268.42,1297.09 1270.44,1298.27 1272.46,1299.45 1274.48,1300.62 1276.51,1301.78 1278.53,1302.94 1280.55,1304.09 1282.58,1305.23 1284.6,1306.37 1286.62,1307.51 1288.65,1308.63 1290.67,1309.76 1292.69,1310.87 1294.72,1311.98 1296.74,1313.08 1298.76,1314.18 1300.79,1315.27 1302.81,1316.36 1304.83,1317.43 1306.85,1318.5 1308.88,1319.57 1310.9,1320.63 1312.92,1321.68 1314.95,1322.72 1316.97,1323.76 1318.99,1324.79 1321.02,1325.82 1323.04,1326.84 1325.06,1327.85 1327.09,1328.85 1329.11,1329.85 1331.13,1330.84 1333.16,1331.82 1335.18,1332.8 1337.2,1333.77 1339.23,1334.73 1341.25,1335.68 1343.27,1336.63 1345.29,1337.57 1347.32,1338.5 1349.34,1339.43 1351.36,1340.34 1353.39,1341.25 1355.41,1342.16 1357.43,1343.05 1359.46,1343.94 1361.48,1344.82 1363.5,1345.69 1365.53,1346.55 1367.55,1347.41 1369.57,1348.25 1371.6,1349.09 1373.62,1349.93 1375.64,1350.75 1377.66,1351.57 1379.69,1352.37 1381.71,1353.17 1383.73,1353.96 1385.76,1354.75 1387.78,1355.52 1389.8,1356.29 1391.83,1357.04 1393.85,1357.79 1395.87,1358.53 1397.9,1359.27 1399.92,1359.99 1401.94,1360.7 1403.97,1361.41 1405.99,1362.11 1408.01,1362.8 1410.03,1363.48 1412.06,1364.15 1414.08,1364.81 1416.1,1365.46 1418.13,1366.11 1420.15,1366.74 1422.17,1367.37 1424.2,1367.98 1426.22,1368.59 1428.24,1369.19 1430.27,1369.78 1432.29,1370.35 1434.31,1370.92 1436.34,1371.48 1438.36,1372.03 1440.38,1372.58 1442.41,1373.11 1444.43,1373.63 1446.45,1374.14 1448.47,1374.64 1450.5,1375.14 1452.52,1375.62 1454.54,1376.09 1456.57,1376.55 1458.59,1377.01 1460.61,1377.45 1462.64,1377.88 1464.66,1378.31 1466.68,1378.72 1468.71,1379.12 1470.73,1379.51 1472.75,1379.89 1474.78,1380.27 1476.8,1380.63 1478.82,1380.98 1480.84,1381.32 1482.87,1381.65 1484.89,1381.97 1486.91,1382.27 1488.94,1382.57 1490.96,1382.86 1492.98,1383.13 1495.01,1383.4 1497.03,1383.65 1499.05,1383.9 1501.08,1384.13 1503.1,1384.35 1505.12,1384.56 1507.15,1384.76 1509.17,1384.95 1511.19,1385.12 1513.21,1385.29 1515.24,1385.44 1517.26,1385.59 1519.28,1385.72 1521.31,1385.84 1523.33,1385.95 1525.35,1386.04 1527.38,1386.13 1529.4,1386.2 1531.42,1386.26 1533.45,1386.31 1535.47,1386.35 1537.49,1386.38 1539.52,1386.39 1541.54,1386.4 1543.56,1386.39 1545.59,1386.37 1547.61,1386.33 1549.63,1386.29 1551.65,1386.23 1553.68,1386.16 1555.7,1386.08 1557.72,1385.98 1559.75,1385.88 1561.77,1385.76 1563.79,1385.63 1565.82,1385.48 1567.84,1385.33 1569.86,1385.16 1571.89,1384.97 1573.91,1384.78 1575.93,1384.57 1577.96,1384.35 1579.98,1384.12 1582,1383.88 1584.02,1383.62 1586.05,1383.35 1588.07,1383.06 1590.09,1382.76 1592.12,1382.45 1594.14,1382.13 1596.16,1381.79 1598.19,1381.44 1600.21,1381.08 1602.23,1380.7 1604.26,1380.31 1606.28,1379.91 1608.3,1379.49 1610.33,1379.06 1612.35,1378.62 1614.37,1378.16 1616.39,1377.69 1618.42,1377.2 1620.44,1376.7 1622.46,1376.19 1624.49,1375.66 1626.51,1375.12 1628.53,1374.57 1630.56,1374 1632.58,1373.42 1634.6,1372.82 1636.63,1372.21 1638.65,1371.59 1640.67,1370.95 1642.7,1370.29 1644.72,1369.63 1646.74,1368.94 1648.77,1368.25 1650.79,1367.54 1652.81,1366.81 1654.83,1366.07 1656.86,1365.32 1658.88,1364.55 1660.9,1363.76 1662.93,1362.96 1664.95,1362.15 1666.97,1361.32 1669,1360.48 1671.02,1359.62 1673.04,1358.75 1675.07,1357.86 1677.09,1356.96 1679.11,1356.04 1681.14,1355.1 1683.16,1354.15 1685.18,1353.19 1687.2,1352.21 1689.23,1351.22 1691.25,1350.21 1693.27,1349.18 1695.3,1348.14 1697.32,1347.08 1699.34,1346.01 1701.37,1344.92 1703.39,1343.82 1705.41,1342.7 1707.44,1341.56 1709.46,1340.41 1711.48,1339.25 1713.51,1338.06 1715.53,1336.86 1717.55,1335.65 1719.57,1334.42 1721.6,1333.17 1723.62,1331.91 1725.64,1330.63 1727.67,1329.33 1729.69,1328.02 1731.71,1326.69 1733.74,1325.35 1735.76,1323.99 1737.78,1322.61 1739.81,1321.21 1741.83,1319.8 1743.85,1318.38 1745.88,1316.93 1747.9,1315.47 1749.92,1313.99 1751.95,1312.5 1753.97,1310.99 1755.99,1309.46 1758.01,1307.91 1760.04,1306.35 1762.06,1304.77 1764.08,1303.18 1766.11,1301.56 1768.13,1299.93 1770.15,1298.28 1772.18,1296.62 1774.2,1294.94 1776.22,1293.24 1778.25,1291.52 1780.27,1289.78 1782.29,1288.03 1784.32,1286.26 1786.34,1284.47 1788.36,1282.67 1790.38,1280.84 1792.41,1279 1794.43,1277.14 1796.45,1275.27 1798.48,1273.37 1800.5,1271.46 1802.52,1269.53 1804.55,1267.58 1806.57,1265.62 1808.59,1263.63 1810.62,1261.63 1812.64,1259.61 1814.66,1257.57 1816.69,1255.51 1818.71,1253.43 1820.73,1251.34 1822.75,1249.23 1824.78,1247.09 1826.8,1244.94 1828.82,1242.78 1830.85,1240.59 1832.87,1238.38 1834.89,1236.16 1836.92,1233.91 1838.94,1231.65 1840.96,1229.37 1842.99,1227.07 1845.01,1224.75 1847.03,1222.41 1849.06,1220.05 1851.08,1217.68 1853.1,1215.28 1855.12,1212.87 1857.15,1210.43 1859.17,1207.98 1861.19,1205.51 1863.22,1203.01 1865.24,1200.5 1867.26,1197.97 1869.29,1195.42 1871.31,1192.85 1873.33,1190.26 1875.36,1187.65 1877.38,1185.02 1879.4,1182.37 1881.43,1179.7 1883.45,1177.01 1885.47,1174.3 1887.5,1171.57 1889.52,1168.82 1891.54,1166.05 1893.56,1163.26 1895.59,1160.45 1897.61,1157.62 1899.63,1154.77 1901.66,1151.9 1903.68,1149.01 1905.7,1146.1 1907.73,1143.17 1909.75,1140.22 1911.77,1137.25 1913.8,1134.25 1915.82,1131.24 1917.84,1128.2 1919.87,1125.15 1921.89,1122.07 1923.91,1118.98 1925.93,1115.86 1927.96,1112.72 1929.98,1109.56 1932,1106.38 1934.03,1103.18 1936.05,1099.95 1938.07,1096.71 1940.1,1093.44 1942.12,1090.16 1944.14,1086.85 1946.17,1083.52 1948.19,1080.17 1950.21,1076.8 1952.24,1073.4 1954.26,1069.99 1956.28,1066.55 1958.3,1063.09 1960.33,1059.61 1962.35,1056.11 1964.37,1052.59 1966.4,1049.04 1968.42,1045.48 1970.44,1041.89 1972.47,1038.28 1974.49,1034.64 1976.51,1030.99 1978.54,1027.31 1980.56,1023.61 1982.58,1019.89 1984.61,1016.15 1986.63,1012.38 1988.65,1008.59 1990.68,1004.78 1992.7,1000.95 1994.72,997.093 1996.74,993.214 1998.77,989.313 2000.79,985.39 2002.81,981.444 2004.84,977.475 2006.86,973.483 2008.88,969.469 2010.91,965.431 2012.93,961.371 2014.95,957.288 2016.98,953.182 2019,949.053 2021.02,944.9 2023.05,940.725 2025.07,936.526 2027.09,932.304 2029.11,928.059 2031.14,923.791 2033.16,919.499 2035.18,915.183 2037.21,910.845 2039.23,906.482 2041.25,902.096 2043.28,897.687 2045.3,893.254 2047.32,888.797 2049.35,884.316 2051.37,879.812 2053.39,875.284 2055.42,870.731 2057.44,866.155 2059.46,861.555 2061.48,856.931 2063.51,852.283 2065.53,847.61 2067.55,842.914 2069.58,838.193 2071.6,833.448 2073.62,828.679 2075.65,823.885 2077.67,819.067 2079.69,814.224 2081.72,809.357 2083.74,804.465 2085.76,799.549 2087.79,794.608 2089.81,789.643 2091.83,784.652 2093.86,779.637 2095.88,774.597 2097.9,769.532 2099.92,764.442 2101.95,759.328 2103.97,754.188 2105.99,749.023 2108.02,743.833 2110.04,738.618 2112.06,733.377 2114.09,728.111 2116.11,722.82 2118.13,717.504 2120.16,712.162 2122.18,706.795 2124.2,701.402 2126.23,695.984 2128.25,690.54 2130.27,685.071 2132.29,679.575 2134.32,674.055 2136.34,668.508 2138.36,662.935 2140.39,657.337 2142.41,651.713 2144.43,646.062 2146.46,640.386 2148.48,634.683 2150.5,628.955 2152.53,623.2 2154.55,617.419 2156.57,611.612 2158.6,605.779 2160.62,599.919 2162.64,594.033 2164.66,588.12 2166.69,582.181 2168.71,576.215 2170.73,570.223 2172.76,564.204 2174.78,558.159 2176.8,552.087 2178.83,545.988 2180.85,539.862 2182.87,533.709 2184.9,527.529 2186.92,521.323 2188.94,515.089 2190.97,508.828 2192.99,502.541 2195.01,496.226 2197.04,489.884 2199.06,483.514 2201.08,477.118 2203.1,470.694 2205.13,464.242 2207.15,457.763 2209.17,451.257 2211.2,444.723 2213.22,438.162 2215.24,431.573 2217.27,424.956 2219.29,418.312 2221.31,411.639 2223.34,404.939 2225.36,398.212 2227.38,391.456 2229.41,384.672 2231.43,377.861 2233.45,371.021 2235.47,364.153 2237.5,357.257 2239.52,350.333 2241.54,343.38 2243.57,336.4 2245.59,329.391 2247.61,322.353 2249.64,315.288 2251.66,308.193 2253.68,301.07 2255.71,293.919 2257.73,286.739 2259.75,279.53 2261.78,272.293 2263.8,265.027 2265.82,257.732 2267.84,250.408 2269.87,243.056 2271.89,235.674 2273.91,228.264 2275.94,220.824 2277.96,213.355 2279.98,205.858 2282.01,198.331 2284.03,190.774 2286.05,183.189 2288.08,175.574 2290.1,167.93 2292.12,160.256 \"/>\n",
       "<path clip-path=\"url(#clip282)\" d=\"M339.222 898.904 L339.222 930.904 L371.222 930.904 L371.222 898.904 L339.222 898.904 Z\" fill=\"#c271d2\" fill-rule=\"evenodd\" fill-opacity=\"1\" stroke=\"#000000\" stroke-opacity=\"1\" stroke-width=\"3.2\"/>\n",
       "<path clip-path=\"url(#clip282)\" d=\"M928.713 1052.27 L928.713 1084.27 L960.713 1084.27 L960.713 1052.27 L928.713 1052.27 Z\" fill=\"#c271d2\" fill-rule=\"evenodd\" fill-opacity=\"1\" stroke=\"#000000\" stroke-opacity=\"1\" stroke-width=\"3.2\"/>\n",
       "<path clip-path=\"url(#clip282)\" d=\"M1433.99 1359.01 L1433.99 1391.01 L1465.99 1391.01 L1465.99 1359.01 L1433.99 1359.01 Z\" fill=\"#c271d2\" fill-rule=\"evenodd\" fill-opacity=\"1\" stroke=\"#000000\" stroke-opacity=\"1\" stroke-width=\"3.2\"/>\n",
       "<path clip-path=\"url(#clip282)\" d=\"M1939.27 1052.27 L1939.27 1084.27 L1971.27 1084.27 L1971.27 1052.27 L1939.27 1052.27 Z\" fill=\"#c271d2\" fill-rule=\"evenodd\" fill-opacity=\"1\" stroke=\"#000000\" stroke-opacity=\"1\" stroke-width=\"3.2\"/>\n",
       "<path clip-path=\"url(#clip280)\" d=\"M281.788 322.316 L793.525 322.316 L793.525 166.796 L281.788 166.796  Z\" fill=\"#ffffff\" fill-rule=\"evenodd\" fill-opacity=\"1\"/>\n",
       "<polyline clip-path=\"url(#clip280)\" style=\"stroke:#000000; stroke-linecap:round; stroke-linejoin:round; stroke-width:4; stroke-opacity:1; fill:none\" points=\"281.788,322.316 793.525,322.316 793.525,166.796 281.788,166.796 281.788,322.316 \"/>\n",
       "<circle clip-path=\"url(#clip280)\" cx=\"377.005\" cy=\"218.636\" r=\"20.48\" fill=\"#e26f46\" fill-rule=\"evenodd\" fill-opacity=\"1\" stroke=\"#000000\" stroke-opacity=\"1\" stroke-width=\"4.55111\"/>\n",
       "<path clip-path=\"url(#clip280)\" d=\"M476.504 232.027 L476.504 245.777 L472.222 245.777 L472.222 209.99 L476.504 209.99 L476.504 213.925 Q477.847 211.61 479.884 210.499 Q481.944 209.365 484.791 209.365 Q489.514 209.365 492.453 213.115 Q495.416 216.865 495.416 222.976 Q495.416 229.087 492.453 232.837 Q489.514 236.587 484.791 236.587 Q481.944 236.587 479.884 235.476 Q477.847 234.342 476.504 232.027 M490.995 222.976 Q490.995 218.277 489.051 215.615 Q487.129 212.93 483.75 212.93 Q480.37 212.93 478.426 215.615 Q476.504 218.277 476.504 222.976 Q476.504 227.675 478.426 230.36 Q480.37 233.022 483.75 233.022 Q487.129 233.022 489.051 230.36 Q490.995 227.675 490.995 222.976 Z\" fill=\"#000000\" fill-rule=\"nonzero\" fill-opacity=\"1\" /><path clip-path=\"url(#clip280)\" d=\"M512.523 212.976 Q509.097 212.976 507.106 215.661 Q505.115 218.323 505.115 222.976 Q505.115 227.629 507.083 230.314 Q509.074 232.976 512.523 232.976 Q515.926 232.976 517.916 230.291 Q519.907 227.606 519.907 222.976 Q519.907 218.37 517.916 215.684 Q515.926 212.976 512.523 212.976 M512.523 209.365 Q518.078 209.365 521.25 212.976 Q524.421 216.587 524.421 222.976 Q524.421 229.342 521.25 232.976 Q518.078 236.587 512.523 236.587 Q506.944 236.587 503.773 232.976 Q500.625 229.342 500.625 222.976 Q500.625 216.587 503.773 212.976 Q506.944 209.365 512.523 209.365 Z\" fill=\"#000000\" fill-rule=\"nonzero\" fill-opacity=\"1\" /><path clip-path=\"url(#clip280)\" d=\"M531.481 199.897 L535.74 199.897 L535.74 235.916 L531.481 235.916 L531.481 199.897 Z\" fill=\"#000000\" fill-rule=\"nonzero\" fill-opacity=\"1\" /><path clip-path=\"url(#clip280)\" d=\"M555.439 238.323 Q553.634 242.953 551.921 244.365 Q550.208 245.777 547.337 245.777 L543.935 245.777 L543.935 242.212 L546.435 242.212 Q548.194 242.212 549.166 241.379 Q550.138 240.545 551.319 237.443 L552.083 235.499 L541.597 209.99 L546.111 209.99 L554.212 230.268 L562.314 209.99 L566.828 209.99 L555.439 238.323 Z\" fill=\"#000000\" fill-rule=\"nonzero\" fill-opacity=\"1\" /><path clip-path=\"url(#clip280)\" d=\"M594.258 220.268 L594.258 235.916 L589.999 235.916 L589.999 220.407 Q589.999 216.726 588.564 214.897 Q587.129 213.069 584.258 213.069 Q580.809 213.069 578.819 215.268 Q576.828 217.467 576.828 221.263 L576.828 235.916 L572.546 235.916 L572.546 209.99 L576.828 209.99 L576.828 214.018 Q578.356 211.68 580.416 210.522 Q582.499 209.365 585.208 209.365 Q589.675 209.365 591.967 212.143 Q594.258 214.897 594.258 220.268 Z\" fill=\"#000000\" fill-rule=\"nonzero\" fill-opacity=\"1\" /><path clip-path=\"url(#clip280)\" d=\"M612.8 212.976 Q609.374 212.976 607.383 215.661 Q605.393 218.323 605.393 222.976 Q605.393 227.629 607.36 230.314 Q609.351 232.976 612.8 232.976 Q616.203 232.976 618.194 230.291 Q620.184 227.606 620.184 222.976 Q620.184 218.37 618.194 215.684 Q616.203 212.976 612.8 212.976 M612.8 209.365 Q618.356 209.365 621.527 212.976 Q624.698 216.587 624.698 222.976 Q624.698 229.342 621.527 232.976 Q618.356 236.587 612.8 236.587 Q607.221 236.587 604.05 232.976 Q600.902 229.342 600.902 222.976 Q600.902 216.587 604.05 212.976 Q607.221 209.365 612.8 209.365 Z\" fill=\"#000000\" fill-rule=\"nonzero\" fill-opacity=\"1\" /><path clip-path=\"url(#clip280)\" d=\"M651.943 214.967 Q653.541 212.096 655.763 210.731 Q657.985 209.365 660.994 209.365 Q665.045 209.365 667.244 212.212 Q669.443 215.036 669.443 220.268 L669.443 235.916 L665.161 235.916 L665.161 220.407 Q665.161 216.68 663.841 214.874 Q662.522 213.069 659.814 213.069 Q656.503 213.069 654.582 215.268 Q652.661 217.467 652.661 221.263 L652.661 235.916 L648.379 235.916 L648.379 220.407 Q648.379 216.657 647.059 214.874 Q645.74 213.069 642.985 213.069 Q639.721 213.069 637.8 215.291 Q635.879 217.49 635.879 221.263 L635.879 235.916 L631.596 235.916 L631.596 209.99 L635.879 209.99 L635.879 214.018 Q637.337 211.633 639.374 210.499 Q641.411 209.365 644.212 209.365 Q647.036 209.365 649.004 210.8 Q650.994 212.235 651.943 214.967 Z\" fill=\"#000000\" fill-rule=\"nonzero\" fill-opacity=\"1\" /><path clip-path=\"url(#clip280)\" d=\"M677.939 209.99 L682.198 209.99 L682.198 235.916 L677.939 235.916 L677.939 209.99 M677.939 199.897 L682.198 199.897 L682.198 205.291 L677.939 205.291 L677.939 199.897 Z\" fill=\"#000000\" fill-rule=\"nonzero\" fill-opacity=\"1\" /><path clip-path=\"url(#clip280)\" d=\"M702.892 222.883 Q697.73 222.883 695.739 224.064 Q693.749 225.244 693.749 228.092 Q693.749 230.36 695.23 231.703 Q696.735 233.022 699.304 233.022 Q702.846 233.022 704.975 230.522 Q707.128 227.999 707.128 223.832 L707.128 222.883 L702.892 222.883 M711.387 221.124 L711.387 235.916 L707.128 235.916 L707.128 231.981 Q705.67 234.342 703.494 235.476 Q701.318 236.587 698.17 236.587 Q694.188 236.587 691.827 234.365 Q689.489 232.119 689.489 228.369 Q689.489 223.994 692.406 221.772 Q695.346 219.55 701.156 219.55 L707.128 219.55 L707.128 219.133 Q707.128 216.194 705.184 214.596 Q703.262 212.976 699.767 212.976 Q697.545 212.976 695.438 213.508 Q693.332 214.041 691.388 215.106 L691.388 211.17 Q693.726 210.268 695.925 209.828 Q698.124 209.365 700.207 209.365 Q705.832 209.365 708.61 212.282 Q711.387 215.198 711.387 221.124 Z\" fill=\"#000000\" fill-rule=\"nonzero\" fill-opacity=\"1\" /><path clip-path=\"url(#clip280)\" d=\"M720.161 199.897 L724.42 199.897 L724.42 235.916 L720.161 235.916 L720.161 199.897 Z\" fill=\"#000000\" fill-rule=\"nonzero\" fill-opacity=\"1\" /><path clip-path=\"url(#clip280)\" d=\"M749.813 231.981 L757.452 231.981 L757.452 205.615 L749.142 207.282 L749.142 203.022 L757.406 201.356 L762.082 201.356 L762.082 231.981 L769.72 231.981 L769.72 235.916 L749.813 235.916 L749.813 231.981 Z\" fill=\"#000000\" fill-rule=\"nonzero\" fill-opacity=\"1\" /><path clip-path=\"url(#clip280)\" d=\"M354.25 247.72 L354.25 293.231 L399.761 293.231 L399.761 247.72 L354.25 247.72 Z\" fill=\"#c271d2\" fill-rule=\"evenodd\" fill-opacity=\"1\" stroke=\"#000000\" stroke-opacity=\"1\" stroke-width=\"4.55111\"/>\n",
       "<path clip-path=\"url(#clip280)\" d=\"M476.504 283.867 L476.504 297.617 L472.222 297.617 L472.222 261.83 L476.504 261.83 L476.504 265.765 Q477.847 263.45 479.884 262.339 Q481.944 261.205 484.791 261.205 Q489.514 261.205 492.453 264.955 Q495.416 268.705 495.416 274.816 Q495.416 280.927 492.453 284.677 Q489.514 288.427 484.791 288.427 Q481.944 288.427 479.884 287.316 Q477.847 286.182 476.504 283.867 M490.995 274.816 Q490.995 270.117 489.051 267.455 Q487.129 264.77 483.75 264.77 Q480.37 264.77 478.426 267.455 Q476.504 270.117 476.504 274.816 Q476.504 279.515 478.426 282.2 Q480.37 284.862 483.75 284.862 Q487.129 284.862 489.051 282.2 Q490.995 279.515 490.995 274.816 Z\" fill=\"#000000\" fill-rule=\"nonzero\" fill-opacity=\"1\" /><path clip-path=\"url(#clip280)\" d=\"M512.523 264.816 Q509.097 264.816 507.106 267.501 Q505.115 270.163 505.115 274.816 Q505.115 279.469 507.083 282.154 Q509.074 284.816 512.523 284.816 Q515.926 284.816 517.916 282.131 Q519.907 279.446 519.907 274.816 Q519.907 270.21 517.916 267.524 Q515.926 264.816 512.523 264.816 M512.523 261.205 Q518.078 261.205 521.25 264.816 Q524.421 268.427 524.421 274.816 Q524.421 281.182 521.25 284.816 Q518.078 288.427 512.523 288.427 Q506.944 288.427 503.773 284.816 Q500.625 281.182 500.625 274.816 Q500.625 268.427 503.773 264.816 Q506.944 261.205 512.523 261.205 Z\" fill=\"#000000\" fill-rule=\"nonzero\" fill-opacity=\"1\" /><path clip-path=\"url(#clip280)\" d=\"M531.481 251.737 L535.74 251.737 L535.74 287.756 L531.481 287.756 L531.481 251.737 Z\" fill=\"#000000\" fill-rule=\"nonzero\" fill-opacity=\"1\" /><path clip-path=\"url(#clip280)\" d=\"M555.439 290.163 Q553.634 294.793 551.921 296.205 Q550.208 297.617 547.337 297.617 L543.935 297.617 L543.935 294.052 L546.435 294.052 Q548.194 294.052 549.166 293.219 Q550.138 292.385 551.319 289.283 L552.083 287.339 L541.597 261.83 L546.111 261.83 L554.212 282.108 L562.314 261.83 L566.828 261.83 L555.439 290.163 Z\" fill=\"#000000\" fill-rule=\"nonzero\" fill-opacity=\"1\" /><path clip-path=\"url(#clip280)\" d=\"M594.258 272.108 L594.258 287.756 L589.999 287.756 L589.999 272.247 Q589.999 268.566 588.564 266.737 Q587.129 264.909 584.258 264.909 Q580.809 264.909 578.819 267.108 Q576.828 269.307 576.828 273.103 L576.828 287.756 L572.546 287.756 L572.546 261.83 L576.828 261.83 L576.828 265.858 Q578.356 263.52 580.416 262.362 Q582.499 261.205 585.208 261.205 Q589.675 261.205 591.967 263.983 Q594.258 266.737 594.258 272.108 Z\" fill=\"#000000\" fill-rule=\"nonzero\" fill-opacity=\"1\" /><path clip-path=\"url(#clip280)\" d=\"M612.8 264.816 Q609.374 264.816 607.383 267.501 Q605.393 270.163 605.393 274.816 Q605.393 279.469 607.36 282.154 Q609.351 284.816 612.8 284.816 Q616.203 284.816 618.194 282.131 Q620.184 279.446 620.184 274.816 Q620.184 270.21 618.194 267.524 Q616.203 264.816 612.8 264.816 M612.8 261.205 Q618.356 261.205 621.527 264.816 Q624.698 268.427 624.698 274.816 Q624.698 281.182 621.527 284.816 Q618.356 288.427 612.8 288.427 Q607.221 288.427 604.05 284.816 Q600.902 281.182 600.902 274.816 Q600.902 268.427 604.05 264.816 Q607.221 261.205 612.8 261.205 Z\" fill=\"#000000\" fill-rule=\"nonzero\" fill-opacity=\"1\" /><path clip-path=\"url(#clip280)\" d=\"M651.943 266.807 Q653.541 263.936 655.763 262.571 Q657.985 261.205 660.994 261.205 Q665.045 261.205 667.244 264.052 Q669.443 266.876 669.443 272.108 L669.443 287.756 L665.161 287.756 L665.161 272.247 Q665.161 268.52 663.841 266.714 Q662.522 264.909 659.814 264.909 Q656.503 264.909 654.582 267.108 Q652.661 269.307 652.661 273.103 L652.661 287.756 L648.379 287.756 L648.379 272.247 Q648.379 268.497 647.059 266.714 Q645.74 264.909 642.985 264.909 Q639.721 264.909 637.8 267.131 Q635.879 269.33 635.879 273.103 L635.879 287.756 L631.596 287.756 L631.596 261.83 L635.879 261.83 L635.879 265.858 Q637.337 263.473 639.374 262.339 Q641.411 261.205 644.212 261.205 Q647.036 261.205 649.004 262.64 Q650.994 264.075 651.943 266.807 Z\" fill=\"#000000\" fill-rule=\"nonzero\" fill-opacity=\"1\" /><path clip-path=\"url(#clip280)\" d=\"M677.939 261.83 L682.198 261.83 L682.198 287.756 L677.939 287.756 L677.939 261.83 M677.939 251.737 L682.198 251.737 L682.198 257.131 L677.939 257.131 L677.939 251.737 Z\" fill=\"#000000\" fill-rule=\"nonzero\" fill-opacity=\"1\" /><path clip-path=\"url(#clip280)\" d=\"M702.892 274.723 Q697.73 274.723 695.739 275.904 Q693.749 277.084 693.749 279.932 Q693.749 282.2 695.23 283.543 Q696.735 284.862 699.304 284.862 Q702.846 284.862 704.975 282.362 Q707.128 279.839 707.128 275.672 L707.128 274.723 L702.892 274.723 M711.387 272.964 L711.387 287.756 L707.128 287.756 L707.128 283.821 Q705.67 286.182 703.494 287.316 Q701.318 288.427 698.17 288.427 Q694.188 288.427 691.827 286.205 Q689.489 283.959 689.489 280.209 Q689.489 275.834 692.406 273.612 Q695.346 271.39 701.156 271.39 L707.128 271.39 L707.128 270.973 Q707.128 268.034 705.184 266.436 Q703.262 264.816 699.767 264.816 Q697.545 264.816 695.438 265.348 Q693.332 265.881 691.388 266.946 L691.388 263.01 Q693.726 262.108 695.925 261.668 Q698.124 261.205 700.207 261.205 Q705.832 261.205 708.61 264.122 Q711.387 267.038 711.387 272.964 Z\" fill=\"#000000\" fill-rule=\"nonzero\" fill-opacity=\"1\" /><path clip-path=\"url(#clip280)\" d=\"M720.161 251.737 L724.42 251.737 L724.42 287.756 L720.161 287.756 L720.161 251.737 Z\" fill=\"#000000\" fill-rule=\"nonzero\" fill-opacity=\"1\" /><path clip-path=\"url(#clip280)\" d=\"M753.031 283.821 L769.35 283.821 L769.35 287.756 L747.406 287.756 L747.406 283.821 Q750.068 281.066 754.651 276.436 Q759.258 271.784 760.438 270.441 Q762.683 267.918 763.563 266.182 Q764.466 264.423 764.466 262.733 Q764.466 259.978 762.521 258.242 Q760.6 256.506 757.498 256.506 Q755.299 256.506 752.846 257.27 Q750.415 258.034 747.637 259.585 L747.637 254.862 Q750.461 253.728 752.915 253.149 Q755.369 252.571 757.406 252.571 Q762.776 252.571 765.97 255.256 Q769.165 257.941 769.165 262.432 Q769.165 264.561 768.355 266.483 Q767.568 268.381 765.461 270.973 Q764.883 271.645 761.781 274.862 Q758.679 278.057 753.031 283.821 Z\" fill=\"#000000\" fill-rule=\"nonzero\" fill-opacity=\"1\" /></svg>\n"
      ],
      "text/html": [
       "<?xml version=\"1.0\" encoding=\"utf-8\"?>\n",
       "<svg xmlns=\"http://www.w3.org/2000/svg\" xmlns:xlink=\"http://www.w3.org/1999/xlink\" width=\"600\" height=\"400\" viewBox=\"0 0 2400 1600\">\n",
       "<defs>\n",
       "  <clipPath id=\"clip330\">\n",
       "    <rect x=\"0\" y=\"0\" width=\"2400\" height=\"1600\"/>\n",
       "  </clipPath>\n",
       "</defs>\n",
       "<path clip-path=\"url(#clip330)\" d=\"M0 1600 L2400 1600 L2400 8.88178e-14 L0 8.88178e-14  Z\" fill=\"#ffffff\" fill-rule=\"evenodd\" fill-opacity=\"1\"/>\n",
       "<defs>\n",
       "  <clipPath id=\"clip331\">\n",
       "    <rect x=\"480\" y=\"0\" width=\"1681\" height=\"1600\"/>\n",
       "  </clipPath>\n",
       "</defs>\n",
       "<path clip-path=\"url(#clip330)\" d=\"M210.376 1423.18 L2352.76 1423.18 L2352.76 123.472 L210.376 123.472  Z\" fill=\"#ffffff\" fill-rule=\"evenodd\" fill-opacity=\"1\"/>\n",
       "<defs>\n",
       "  <clipPath id=\"clip332\">\n",
       "    <rect x=\"210\" y=\"123\" width=\"2143\" height=\"1301\"/>\n",
       "  </clipPath>\n",
       "</defs>\n",
       "<polyline clip-path=\"url(#clip332)\" style=\"stroke:#000000; stroke-linecap:round; stroke-linejoin:round; stroke-width:2; stroke-opacity:0.1; fill:none\" points=\"439.435,1423.18 439.435,123.472 \"/>\n",
       "<polyline clip-path=\"url(#clip332)\" style=\"stroke:#000000; stroke-linecap:round; stroke-linejoin:round; stroke-width:2; stroke-opacity:0.1; fill:none\" points=\"860.5,1423.18 860.5,123.472 \"/>\n",
       "<polyline clip-path=\"url(#clip332)\" style=\"stroke:#000000; stroke-linecap:round; stroke-linejoin:round; stroke-width:2; stroke-opacity:0.1; fill:none\" points=\"1281.57,1423.18 1281.57,123.472 \"/>\n",
       "<polyline clip-path=\"url(#clip332)\" style=\"stroke:#000000; stroke-linecap:round; stroke-linejoin:round; stroke-width:2; stroke-opacity:0.1; fill:none\" points=\"1702.63,1423.18 1702.63,123.472 \"/>\n",
       "<polyline clip-path=\"url(#clip332)\" style=\"stroke:#000000; stroke-linecap:round; stroke-linejoin:round; stroke-width:2; stroke-opacity:0.1; fill:none\" points=\"2123.7,1423.18 2123.7,123.472 \"/>\n",
       "<polyline clip-path=\"url(#clip330)\" style=\"stroke:#000000; stroke-linecap:round; stroke-linejoin:round; stroke-width:4; stroke-opacity:1; fill:none\" points=\"210.376,1423.18 2352.76,1423.18 \"/>\n",
       "<polyline clip-path=\"url(#clip330)\" style=\"stroke:#000000; stroke-linecap:round; stroke-linejoin:round; stroke-width:4; stroke-opacity:1; fill:none\" points=\"439.435,1423.18 439.435,1404.28 \"/>\n",
       "<polyline clip-path=\"url(#clip330)\" style=\"stroke:#000000; stroke-linecap:round; stroke-linejoin:round; stroke-width:4; stroke-opacity:1; fill:none\" points=\"860.5,1423.18 860.5,1404.28 \"/>\n",
       "<polyline clip-path=\"url(#clip330)\" style=\"stroke:#000000; stroke-linecap:round; stroke-linejoin:round; stroke-width:4; stroke-opacity:1; fill:none\" points=\"1281.57,1423.18 1281.57,1404.28 \"/>\n",
       "<polyline clip-path=\"url(#clip330)\" style=\"stroke:#000000; stroke-linecap:round; stroke-linejoin:round; stroke-width:4; stroke-opacity:1; fill:none\" points=\"1702.63,1423.18 1702.63,1404.28 \"/>\n",
       "<polyline clip-path=\"url(#clip330)\" style=\"stroke:#000000; stroke-linecap:round; stroke-linejoin:round; stroke-width:4; stroke-opacity:1; fill:none\" points=\"2123.7,1423.18 2123.7,1404.28 \"/>\n",
       "<path clip-path=\"url(#clip330)\" d=\"M385.963 1468.75 L415.639 1468.75 L415.639 1472.69 L385.963 1472.69 L385.963 1468.75 Z\" fill=\"#000000\" fill-rule=\"nonzero\" fill-opacity=\"1\" /><path clip-path=\"url(#clip330)\" d=\"M426.542 1481.64 L434.181 1481.64 L434.181 1455.28 L425.87 1456.95 L425.87 1452.69 L434.134 1451.02 L438.81 1451.02 L438.81 1481.64 L446.449 1481.64 L446.449 1485.58 L426.542 1485.58 L426.542 1481.64 Z\" fill=\"#000000\" fill-rule=\"nonzero\" fill-opacity=\"1\" /><path clip-path=\"url(#clip330)\" d=\"M455.893 1479.7 L460.778 1479.7 L460.778 1485.58 L455.893 1485.58 L455.893 1479.7 Z\" fill=\"#000000\" fill-rule=\"nonzero\" fill-opacity=\"1\" /><path clip-path=\"url(#clip330)\" d=\"M480.963 1454.1 Q477.352 1454.1 475.523 1457.66 Q473.717 1461.2 473.717 1468.33 Q473.717 1475.44 475.523 1479.01 Q477.352 1482.55 480.963 1482.55 Q484.597 1482.55 486.402 1479.01 Q488.231 1475.44 488.231 1468.33 Q488.231 1461.2 486.402 1457.66 Q484.597 1454.1 480.963 1454.1 M480.963 1450.39 Q486.773 1450.39 489.828 1455 Q492.907 1459.58 492.907 1468.33 Q492.907 1477.06 489.828 1481.67 Q486.773 1486.25 480.963 1486.25 Q475.153 1486.25 472.074 1481.67 Q469.018 1477.06 469.018 1468.33 Q469.018 1459.58 472.074 1455 Q475.153 1450.39 480.963 1450.39 Z\" fill=\"#000000\" fill-rule=\"nonzero\" fill-opacity=\"1\" /><path clip-path=\"url(#clip330)\" d=\"M807.526 1468.75 L837.202 1468.75 L837.202 1472.69 L807.526 1472.69 L807.526 1468.75 Z\" fill=\"#000000\" fill-rule=\"nonzero\" fill-opacity=\"1\" /><path clip-path=\"url(#clip330)\" d=\"M857.294 1454.1 Q853.683 1454.1 851.855 1457.66 Q850.049 1461.2 850.049 1468.33 Q850.049 1475.44 851.855 1479.01 Q853.683 1482.55 857.294 1482.55 Q860.929 1482.55 862.734 1479.01 Q864.563 1475.44 864.563 1468.33 Q864.563 1461.2 862.734 1457.66 Q860.929 1454.1 857.294 1454.1 M857.294 1450.39 Q863.105 1450.39 866.16 1455 Q869.239 1459.58 869.239 1468.33 Q869.239 1477.06 866.16 1481.67 Q863.105 1486.25 857.294 1486.25 Q851.484 1486.25 848.406 1481.67 Q845.35 1477.06 845.35 1468.33 Q845.35 1459.58 848.406 1455 Q851.484 1450.39 857.294 1450.39 Z\" fill=\"#000000\" fill-rule=\"nonzero\" fill-opacity=\"1\" /><path clip-path=\"url(#clip330)\" d=\"M877.456 1479.7 L882.341 1479.7 L882.341 1485.58 L877.456 1485.58 L877.456 1479.7 Z\" fill=\"#000000\" fill-rule=\"nonzero\" fill-opacity=\"1\" /><path clip-path=\"url(#clip330)\" d=\"M892.572 1451.02 L910.928 1451.02 L910.928 1454.96 L896.854 1454.96 L896.854 1463.43 Q897.873 1463.08 898.891 1462.92 Q899.91 1462.73 900.928 1462.73 Q906.715 1462.73 910.095 1465.9 Q913.475 1469.08 913.475 1474.49 Q913.475 1480.07 910.002 1483.17 Q906.53 1486.25 900.211 1486.25 Q898.035 1486.25 895.766 1485.88 Q893.521 1485.51 891.114 1484.77 L891.114 1480.07 Q893.197 1481.2 895.419 1481.76 Q897.641 1482.32 900.118 1482.32 Q904.123 1482.32 906.461 1480.21 Q908.799 1478.1 908.799 1474.49 Q908.799 1470.88 906.461 1468.77 Q904.123 1466.67 900.118 1466.67 Q898.243 1466.67 896.368 1467.08 Q894.516 1467.5 892.572 1468.38 L892.572 1451.02 Z\" fill=\"#000000\" fill-rule=\"nonzero\" fill-opacity=\"1\" /><path clip-path=\"url(#clip330)\" d=\"M1258.95 1454.1 Q1255.34 1454.1 1253.51 1457.66 Q1251.7 1461.2 1251.7 1468.33 Q1251.7 1475.44 1253.51 1479.01 Q1255.34 1482.55 1258.95 1482.55 Q1262.58 1482.55 1264.39 1479.01 Q1266.22 1475.44 1266.22 1468.33 Q1266.22 1461.2 1264.39 1457.66 Q1262.58 1454.1 1258.95 1454.1 M1258.95 1450.39 Q1264.76 1450.39 1267.82 1455 Q1270.89 1459.58 1270.89 1468.33 Q1270.89 1477.06 1267.82 1481.67 Q1264.76 1486.25 1258.95 1486.25 Q1253.14 1486.25 1250.06 1481.67 Q1247.01 1477.06 1247.01 1468.33 Q1247.01 1459.58 1250.06 1455 Q1253.14 1450.39 1258.95 1450.39 Z\" fill=\"#000000\" fill-rule=\"nonzero\" fill-opacity=\"1\" /><path clip-path=\"url(#clip330)\" d=\"M1279.11 1479.7 L1284 1479.7 L1284 1485.58 L1279.11 1485.58 L1279.11 1479.7 Z\" fill=\"#000000\" fill-rule=\"nonzero\" fill-opacity=\"1\" /><path clip-path=\"url(#clip330)\" d=\"M1304.18 1454.1 Q1300.57 1454.1 1298.74 1457.66 Q1296.94 1461.2 1296.94 1468.33 Q1296.94 1475.44 1298.74 1479.01 Q1300.57 1482.55 1304.18 1482.55 Q1307.82 1482.55 1309.62 1479.01 Q1311.45 1475.44 1311.45 1468.33 Q1311.45 1461.2 1309.62 1457.66 Q1307.82 1454.1 1304.18 1454.1 M1304.18 1450.39 Q1309.99 1450.39 1313.05 1455 Q1316.13 1459.58 1316.13 1468.33 Q1316.13 1477.06 1313.05 1481.67 Q1309.99 1486.25 1304.18 1486.25 Q1298.37 1486.25 1295.29 1481.67 Q1292.24 1477.06 1292.24 1468.33 Q1292.24 1459.58 1295.29 1455 Q1298.37 1450.39 1304.18 1450.39 Z\" fill=\"#000000\" fill-rule=\"nonzero\" fill-opacity=\"1\" /><path clip-path=\"url(#clip330)\" d=\"M1680.51 1454.1 Q1676.9 1454.1 1675.07 1457.66 Q1673.27 1461.2 1673.27 1468.33 Q1673.27 1475.44 1675.07 1479.01 Q1676.9 1482.55 1680.51 1482.55 Q1684.15 1482.55 1685.95 1479.01 Q1687.78 1475.44 1687.78 1468.33 Q1687.78 1461.2 1685.95 1457.66 Q1684.15 1454.1 1680.51 1454.1 M1680.51 1450.39 Q1686.32 1450.39 1689.38 1455 Q1692.46 1459.58 1692.46 1468.33 Q1692.46 1477.06 1689.38 1481.67 Q1686.32 1486.25 1680.51 1486.25 Q1674.7 1486.25 1671.62 1481.67 Q1668.57 1477.06 1668.57 1468.33 Q1668.57 1459.58 1671.62 1455 Q1674.7 1450.39 1680.51 1450.39 Z\" fill=\"#000000\" fill-rule=\"nonzero\" fill-opacity=\"1\" /><path clip-path=\"url(#clip330)\" d=\"M1700.68 1479.7 L1705.56 1479.7 L1705.56 1485.58 L1700.68 1485.58 L1700.68 1479.7 Z\" fill=\"#000000\" fill-rule=\"nonzero\" fill-opacity=\"1\" /><path clip-path=\"url(#clip330)\" d=\"M1715.79 1451.02 L1734.15 1451.02 L1734.15 1454.96 L1720.07 1454.96 L1720.07 1463.43 Q1721.09 1463.08 1722.11 1462.92 Q1723.13 1462.73 1724.15 1462.73 Q1729.93 1462.73 1733.31 1465.9 Q1736.69 1469.08 1736.69 1474.49 Q1736.69 1480.07 1733.22 1483.17 Q1729.75 1486.25 1723.43 1486.25 Q1721.25 1486.25 1718.99 1485.88 Q1716.74 1485.51 1714.33 1484.77 L1714.33 1480.07 Q1716.42 1481.2 1718.64 1481.76 Q1720.86 1482.32 1723.34 1482.32 Q1727.34 1482.32 1729.68 1480.21 Q1732.02 1478.1 1732.02 1474.49 Q1732.02 1470.88 1729.68 1468.77 Q1727.34 1466.67 1723.34 1466.67 Q1721.46 1466.67 1719.59 1467.08 Q1717.74 1467.5 1715.79 1468.38 L1715.79 1451.02 Z\" fill=\"#000000\" fill-rule=\"nonzero\" fill-opacity=\"1\" /><path clip-path=\"url(#clip330)\" d=\"M2090.85 1481.64 L2098.49 1481.64 L2098.49 1455.28 L2090.18 1456.95 L2090.18 1452.69 L2098.44 1451.02 L2103.12 1451.02 L2103.12 1481.64 L2110.76 1481.64 L2110.76 1485.58 L2090.85 1485.58 L2090.85 1481.64 Z\" fill=\"#000000\" fill-rule=\"nonzero\" fill-opacity=\"1\" /><path clip-path=\"url(#clip330)\" d=\"M2120.2 1479.7 L2125.09 1479.7 L2125.09 1485.58 L2120.2 1485.58 L2120.2 1479.7 Z\" fill=\"#000000\" fill-rule=\"nonzero\" fill-opacity=\"1\" /><path clip-path=\"url(#clip330)\" d=\"M2145.27 1454.1 Q2141.66 1454.1 2139.83 1457.66 Q2138.03 1461.2 2138.03 1468.33 Q2138.03 1475.44 2139.83 1479.01 Q2141.66 1482.55 2145.27 1482.55 Q2148.9 1482.55 2150.71 1479.01 Q2152.54 1475.44 2152.54 1468.33 Q2152.54 1461.2 2150.71 1457.66 Q2148.9 1454.1 2145.27 1454.1 M2145.27 1450.39 Q2151.08 1450.39 2154.14 1455 Q2157.21 1459.58 2157.21 1468.33 Q2157.21 1477.06 2154.14 1481.67 Q2151.08 1486.25 2145.27 1486.25 Q2139.46 1486.25 2136.38 1481.67 Q2133.33 1477.06 2133.33 1468.33 Q2133.33 1459.58 2136.38 1455 Q2139.46 1450.39 2145.27 1450.39 Z\" fill=\"#000000\" fill-rule=\"nonzero\" fill-opacity=\"1\" /><path clip-path=\"url(#clip330)\" d=\"M1182.34 1532.4 L1169.45 1549.74 L1183.01 1568.04 L1176.1 1568.04 L1165.73 1554.04 L1155.35 1568.04 L1148.44 1568.04 L1162.29 1549.39 L1149.62 1532.4 L1156.53 1532.4 L1165.98 1545.1 L1175.43 1532.4 L1182.34 1532.4 Z\" fill=\"#000000\" fill-rule=\"nonzero\" fill-opacity=\"1\" /><path clip-path=\"url(#clip330)\" d=\"M1207.8 1532.4 L1214.01 1532.4 L1225.15 1562.31 L1236.29 1532.4 L1242.5 1532.4 L1229.13 1568.04 L1221.17 1568.04 L1207.8 1532.4 Z\" fill=\"#000000\" fill-rule=\"nonzero\" fill-opacity=\"1\" /><path clip-path=\"url(#clip330)\" d=\"M1266.78 1550.12 Q1259.68 1550.12 1256.95 1551.75 Q1254.21 1553.37 1254.21 1557.29 Q1254.21 1560.4 1256.25 1562.25 Q1258.31 1564.07 1261.85 1564.07 Q1266.72 1564.07 1269.65 1560.63 Q1272.61 1557.16 1272.61 1551.43 L1272.61 1550.12 L1266.78 1550.12 M1278.46 1547.71 L1278.46 1568.04 L1272.61 1568.04 L1272.61 1562.63 Q1270.6 1565.88 1267.61 1567.44 Q1264.62 1568.97 1260.29 1568.97 Q1254.81 1568.97 1251.57 1565.91 Q1248.35 1562.82 1248.35 1557.67 Q1248.35 1551.65 1252.36 1548.6 Q1256.41 1545.54 1264.39 1545.54 L1272.61 1545.54 L1272.61 1544.97 Q1272.61 1540.93 1269.93 1538.73 Q1267.29 1536.5 1262.48 1536.5 Q1259.43 1536.5 1256.53 1537.23 Q1253.64 1537.97 1250.96 1539.43 L1250.96 1534.02 Q1254.18 1532.78 1257.2 1532.17 Q1260.22 1531.54 1263.09 1531.54 Q1270.82 1531.54 1274.64 1535.55 Q1278.46 1539.56 1278.46 1547.71 Z\" fill=\"#000000\" fill-rule=\"nonzero\" fill-opacity=\"1\" /><path clip-path=\"url(#clip330)\" d=\"M1290.53 1518.52 L1296.38 1518.52 L1296.38 1568.04 L1290.53 1568.04 L1290.53 1518.52 Z\" fill=\"#000000\" fill-rule=\"nonzero\" fill-opacity=\"1\" /><path clip-path=\"url(#clip330)\" d=\"M1308.03 1553.98 L1308.03 1532.4 L1313.89 1532.4 L1313.89 1553.75 Q1313.89 1558.81 1315.86 1561.36 Q1317.83 1563.87 1321.78 1563.87 Q1326.52 1563.87 1329.26 1560.85 Q1332.03 1557.83 1332.03 1552.61 L1332.03 1532.4 L1337.89 1532.4 L1337.89 1568.04 L1332.03 1568.04 L1332.03 1562.57 Q1329.9 1565.82 1327.06 1567.41 Q1324.26 1568.97 1320.54 1568.97 Q1314.4 1568.97 1311.21 1565.15 Q1308.03 1561.33 1308.03 1553.98 M1322.77 1531.54 L1322.77 1531.54 Z\" fill=\"#000000\" fill-rule=\"nonzero\" fill-opacity=\"1\" /><path clip-path=\"url(#clip330)\" d=\"M1380.44 1548.76 L1380.44 1551.62 L1353.51 1551.62 Q1353.9 1557.67 1357.14 1560.85 Q1360.42 1564 1366.25 1564 Q1369.62 1564 1372.77 1563.17 Q1375.95 1562.35 1379.07 1560.69 L1379.07 1566.23 Q1375.92 1567.57 1372.61 1568.27 Q1369.3 1568.97 1365.9 1568.97 Q1357.37 1568.97 1352.37 1564 Q1347.4 1559.04 1347.4 1550.57 Q1347.4 1541.82 1352.11 1536.69 Q1356.86 1531.54 1364.88 1531.54 Q1372.07 1531.54 1376.24 1536.18 Q1380.44 1540.8 1380.44 1548.76 M1374.58 1547.04 Q1374.52 1542.23 1371.88 1539.37 Q1369.27 1536.5 1364.94 1536.5 Q1360.04 1536.5 1357.08 1539.27 Q1354.15 1542.04 1353.71 1547.07 L1374.58 1547.04 Z\" fill=\"#000000\" fill-rule=\"nonzero\" fill-opacity=\"1\" /><path clip-path=\"url(#clip330)\" d=\"M1412.78 1533.45 L1412.78 1538.98 Q1410.3 1537.71 1407.62 1537.07 Q1404.95 1536.44 1402.08 1536.44 Q1397.72 1536.44 1395.53 1537.77 Q1393.36 1539.11 1393.36 1541.79 Q1393.36 1543.82 1394.92 1545 Q1396.48 1546.15 1401.19 1547.2 L1403.2 1547.64 Q1409.44 1548.98 1412.05 1551.43 Q1414.69 1553.85 1414.69 1558.21 Q1414.69 1563.17 1410.74 1566.07 Q1406.83 1568.97 1399.95 1568.97 Q1397.09 1568.97 1393.97 1568.39 Q1390.88 1567.85 1387.44 1566.74 L1387.44 1560.69 Q1390.69 1562.38 1393.84 1563.24 Q1396.99 1564.07 1400.08 1564.07 Q1404.22 1564.07 1406.44 1562.66 Q1408.67 1561.23 1408.67 1558.65 Q1408.67 1556.27 1407.05 1554.99 Q1405.46 1553.72 1400.02 1552.54 L1397.98 1552.07 Q1392.54 1550.92 1390.12 1548.56 Q1387.7 1546.18 1387.7 1542.04 Q1387.7 1537.01 1391.26 1534.27 Q1394.83 1531.54 1401.38 1531.54 Q1404.63 1531.54 1407.5 1532.01 Q1410.36 1532.49 1412.78 1533.45 Z\" fill=\"#000000\" fill-rule=\"nonzero\" fill-opacity=\"1\" /><polyline clip-path=\"url(#clip332)\" style=\"stroke:#000000; stroke-linecap:round; stroke-linejoin:round; stroke-width:2; stroke-opacity:0.1; fill:none\" points=\"210.376,1375.01 2352.76,1375.01 \"/>\n",
       "<polyline clip-path=\"url(#clip332)\" style=\"stroke:#000000; stroke-linecap:round; stroke-linejoin:round; stroke-width:2; stroke-opacity:0.1; fill:none\" points=\"210.376,1068.27 2352.76,1068.27 \"/>\n",
       "<polyline clip-path=\"url(#clip332)\" style=\"stroke:#000000; stroke-linecap:round; stroke-linejoin:round; stroke-width:2; stroke-opacity:0.1; fill:none\" points=\"210.376,761.534 2352.76,761.534 \"/>\n",
       "<polyline clip-path=\"url(#clip332)\" style=\"stroke:#000000; stroke-linecap:round; stroke-linejoin:round; stroke-width:2; stroke-opacity:0.1; fill:none\" points=\"210.376,454.794 2352.76,454.794 \"/>\n",
       "<polyline clip-path=\"url(#clip332)\" style=\"stroke:#000000; stroke-linecap:round; stroke-linejoin:round; stroke-width:2; stroke-opacity:0.1; fill:none\" points=\"210.376,148.055 2352.76,148.055 \"/>\n",
       "<polyline clip-path=\"url(#clip330)\" style=\"stroke:#000000; stroke-linecap:round; stroke-linejoin:round; stroke-width:4; stroke-opacity:1; fill:none\" points=\"210.376,1423.18 210.376,123.472 \"/>\n",
       "<polyline clip-path=\"url(#clip330)\" style=\"stroke:#000000; stroke-linecap:round; stroke-linejoin:round; stroke-width:4; stroke-opacity:1; fill:none\" points=\"210.376,1375.01 229.273,1375.01 \"/>\n",
       "<polyline clip-path=\"url(#clip330)\" style=\"stroke:#000000; stroke-linecap:round; stroke-linejoin:round; stroke-width:4; stroke-opacity:1; fill:none\" points=\"210.376,1068.27 229.273,1068.27 \"/>\n",
       "<polyline clip-path=\"url(#clip330)\" style=\"stroke:#000000; stroke-linecap:round; stroke-linejoin:round; stroke-width:4; stroke-opacity:1; fill:none\" points=\"210.376,761.534 229.273,761.534 \"/>\n",
       "<polyline clip-path=\"url(#clip330)\" style=\"stroke:#000000; stroke-linecap:round; stroke-linejoin:round; stroke-width:4; stroke-opacity:1; fill:none\" points=\"210.376,454.794 229.273,454.794 \"/>\n",
       "<polyline clip-path=\"url(#clip330)\" style=\"stroke:#000000; stroke-linecap:round; stroke-linejoin:round; stroke-width:4; stroke-opacity:1; fill:none\" points=\"210.376,148.055 229.273,148.055 \"/>\n",
       "<path clip-path=\"url(#clip330)\" d=\"M114.26 1375.47 L143.936 1375.47 L143.936 1379.4 L114.26 1379.4 L114.26 1375.47 Z\" fill=\"#000000\" fill-rule=\"nonzero\" fill-opacity=\"1\" /><path clip-path=\"url(#clip330)\" d=\"M158.056 1388.36 L174.376 1388.36 L174.376 1392.29 L152.431 1392.29 L152.431 1388.36 Q155.093 1385.6 159.677 1380.97 Q164.283 1376.32 165.464 1374.98 Q167.709 1372.46 168.589 1370.72 Q169.491 1368.96 169.491 1367.27 Q169.491 1364.52 167.547 1362.78 Q165.626 1361.04 162.524 1361.04 Q160.325 1361.04 157.871 1361.81 Q155.44 1362.57 152.663 1364.12 L152.663 1359.4 Q155.487 1358.27 157.94 1357.69 Q160.394 1357.11 162.431 1357.11 Q167.802 1357.11 170.996 1359.79 Q174.19 1362.48 174.19 1366.97 Q174.19 1369.1 173.38 1371.02 Q172.593 1372.92 170.487 1375.51 Q169.908 1376.18 166.806 1379.4 Q163.704 1382.6 158.056 1388.36 Z\" fill=\"#000000\" fill-rule=\"nonzero\" fill-opacity=\"1\" /><path clip-path=\"url(#clip330)\" d=\"M162.431 1054.07 Q158.82 1054.07 156.991 1057.64 Q155.186 1061.18 155.186 1068.31 Q155.186 1075.42 156.991 1078.98 Q158.82 1082.52 162.431 1082.52 Q166.065 1082.52 167.871 1078.98 Q169.7 1075.42 169.7 1068.31 Q169.7 1061.18 167.871 1057.64 Q166.065 1054.07 162.431 1054.07 M162.431 1050.37 Q168.241 1050.37 171.297 1054.98 Q174.376 1059.56 174.376 1068.31 Q174.376 1077.04 171.297 1081.64 Q168.241 1086.23 162.431 1086.23 Q156.621 1086.23 153.542 1081.64 Q150.487 1077.04 150.487 1068.31 Q150.487 1059.56 153.542 1054.98 Q156.621 1050.37 162.431 1050.37 Z\" fill=\"#000000\" fill-rule=\"nonzero\" fill-opacity=\"1\" /><path clip-path=\"url(#clip330)\" d=\"M158.056 774.879 L174.376 774.879 L174.376 778.814 L152.431 778.814 L152.431 774.879 Q155.093 772.125 159.677 767.495 Q164.283 762.842 165.464 761.5 Q167.709 758.976 168.589 757.24 Q169.491 755.481 169.491 753.791 Q169.491 751.037 167.547 749.301 Q165.626 747.565 162.524 747.565 Q160.325 747.565 157.871 748.328 Q155.44 749.092 152.663 750.643 L152.663 745.921 Q155.487 744.787 157.94 744.208 Q160.394 743.629 162.431 743.629 Q167.802 743.629 170.996 746.315 Q174.19 749 174.19 753.49 Q174.19 755.62 173.38 757.541 Q172.593 759.439 170.487 762.032 Q169.908 762.703 166.806 765.921 Q163.704 769.115 158.056 774.879 Z\" fill=\"#000000\" fill-rule=\"nonzero\" fill-opacity=\"1\" /><path clip-path=\"url(#clip330)\" d=\"M164.792 441.588 L152.987 460.037 L164.792 460.037 L164.792 441.588 M163.565 437.514 L169.445 437.514 L169.445 460.037 L174.376 460.037 L174.376 463.926 L169.445 463.926 L169.445 472.074 L164.792 472.074 L164.792 463.926 L149.191 463.926 L149.191 459.412 L163.565 437.514 Z\" fill=\"#000000\" fill-rule=\"nonzero\" fill-opacity=\"1\" /><path clip-path=\"url(#clip330)\" d=\"M162.848 146.191 Q159.7 146.191 157.848 148.344 Q156.019 150.497 156.019 154.247 Q156.019 157.973 157.848 160.149 Q159.7 162.302 162.848 162.302 Q165.996 162.302 167.825 160.149 Q169.677 157.973 169.677 154.247 Q169.677 150.497 167.825 148.344 Q165.996 146.191 162.848 146.191 M172.13 131.538 L172.13 135.798 Q170.371 134.964 168.565 134.524 Q166.783 134.085 165.024 134.085 Q160.394 134.085 157.94 137.21 Q155.51 140.335 155.163 146.654 Q156.528 144.64 158.589 143.575 Q160.649 142.487 163.126 142.487 Q168.334 142.487 171.343 145.659 Q174.376 148.807 174.376 154.247 Q174.376 159.571 171.227 162.788 Q168.079 166.006 162.848 166.006 Q156.853 166.006 153.681 161.423 Q150.51 156.816 150.51 148.089 Q150.51 139.895 154.399 135.034 Q158.288 130.15 164.839 130.15 Q166.598 130.15 168.38 130.497 Q170.186 130.844 172.13 131.538 Z\" fill=\"#000000\" fill-rule=\"nonzero\" fill-opacity=\"1\" /><path clip-path=\"url(#clip330)\" d=\"M67.3143 887.384 Q73.68 889.866 75.6216 892.221 Q77.5631 894.577 77.5631 898.524 L77.5631 903.202 L72.6615 903.202 L72.6615 899.765 Q72.6615 897.346 71.5157 896.009 Q70.3699 894.672 66.1048 893.049 L63.4312 891.999 L28.3562 906.417 L28.3562 900.21 L56.238 889.07 L28.3562 877.93 L28.3562 871.724 L67.3143 887.384 Z\" fill=\"#000000\" fill-rule=\"nonzero\" fill-opacity=\"1\" /><path clip-path=\"url(#clip330)\" d=\"M28.3562 847.12 L28.3562 840.914 L58.275 829.774 L28.3562 818.634 L28.3562 812.427 L64.0042 825.795 L64.0042 833.752 L28.3562 847.12 Z\" fill=\"#000000\" fill-rule=\"nonzero\" fill-opacity=\"1\" /><path clip-path=\"url(#clip330)\" d=\"M46.0847 788.142 Q46.0847 795.24 47.7079 797.977 Q49.3312 800.714 53.2461 800.714 Q56.3653 800.714 58.2114 798.677 Q60.0256 796.609 60.0256 793.076 Q60.0256 788.206 56.5881 785.278 Q53.1188 782.318 47.3897 782.318 L46.0847 782.318 L46.0847 788.142 M43.6657 776.461 L64.0042 776.461 L64.0042 782.318 L58.5933 782.318 Q61.8398 784.323 63.3994 787.315 Q64.9272 790.307 64.9272 794.635 Q64.9272 800.11 61.8716 803.356 Q58.7843 806.571 53.6281 806.571 Q47.6125 806.571 44.5569 802.56 Q41.5014 798.518 41.5014 790.529 L41.5014 782.318 L40.9285 782.318 Q36.8862 782.318 34.6901 784.991 Q32.4621 787.633 32.4621 792.439 Q32.4621 795.495 33.1941 798.391 Q33.9262 801.287 35.3903 803.961 L29.9795 803.961 Q28.7381 800.746 28.1334 797.723 Q27.4968 794.699 27.4968 791.834 Q27.4968 784.1 31.5072 780.281 Q35.5176 776.461 43.6657 776.461 Z\" fill=\"#000000\" fill-rule=\"nonzero\" fill-opacity=\"1\" /><path clip-path=\"url(#clip330)\" d=\"M14.479 764.398 L14.479 758.542 L64.0042 758.542 L64.0042 764.398 L14.479 764.398 Z\" fill=\"#000000\" fill-rule=\"nonzero\" fill-opacity=\"1\" /><path clip-path=\"url(#clip330)\" d=\"M49.9359 746.892 L28.3562 746.892 L28.3562 741.036 L49.7131 741.036 Q54.7739 741.036 57.3202 739.063 Q59.8346 737.089 59.8346 733.142 Q59.8346 728.4 56.8109 725.663 Q53.7872 722.894 48.5673 722.894 L28.3562 722.894 L28.3562 717.037 L64.0042 717.037 L64.0042 722.894 L58.5296 722.894 Q61.7762 725.026 63.3676 727.859 Q64.9272 730.66 64.9272 734.384 Q64.9272 740.527 61.1078 743.71 Q57.2883 746.892 49.9359 746.892 M27.4968 732.156 L27.4968 732.156 Z\" fill=\"#000000\" fill-rule=\"nonzero\" fill-opacity=\"1\" /><path clip-path=\"url(#clip330)\" d=\"M44.7161 674.482 L47.5806 674.482 L47.5806 701.409 Q53.6281 701.027 56.8109 697.781 Q59.9619 694.503 59.9619 688.678 Q59.9619 685.304 59.1344 682.153 Q58.3069 678.97 56.6518 675.851 L62.1899 675.851 Q63.5267 679.002 64.227 682.312 Q64.9272 685.622 64.9272 689.028 Q64.9272 697.558 59.9619 702.555 Q54.9967 707.52 46.5303 707.52 Q37.7774 707.52 32.6531 702.81 Q27.4968 698.067 27.4968 690.047 Q27.4968 682.853 32.1438 678.684 Q36.7589 674.482 44.7161 674.482 M42.9973 680.339 Q38.1912 680.403 35.3266 683.044 Q32.4621 685.654 32.4621 689.983 Q32.4621 694.885 35.2312 697.845 Q38.0002 700.773 43.0292 701.218 L42.9973 680.339 Z\" fill=\"#000000\" fill-rule=\"nonzero\" fill-opacity=\"1\" /><path clip-path=\"url(#clip330)\" d=\"M29.4065 642.145 L34.9447 642.145 Q33.6716 644.627 33.035 647.301 Q32.3984 649.975 32.3984 652.839 Q32.3984 657.2 33.7352 659.396 Q35.072 661.56 37.7456 661.56 Q39.7826 661.56 40.9603 660 Q42.1061 658.441 43.1565 653.73 L43.6021 651.725 Q44.9389 645.487 47.3897 642.877 Q49.8086 640.235 54.1691 640.235 Q59.1344 640.235 62.0308 644.182 Q64.9272 648.097 64.9272 654.972 Q64.9272 657.836 64.3543 660.955 Q63.8132 664.043 62.6992 667.48 L56.6518 667.48 Q58.3387 664.234 59.198 661.083 Q60.0256 657.932 60.0256 654.844 Q60.0256 650.707 58.6251 648.479 Q57.1929 646.251 54.6147 646.251 Q52.2276 646.251 50.9545 647.874 Q49.6813 649.465 48.5037 654.908 L48.0262 656.945 Q46.8804 662.388 44.5251 664.807 Q42.138 667.226 38.0002 667.226 Q32.9713 667.226 30.2341 663.661 Q27.4968 660.096 27.4968 653.539 Q27.4968 650.293 27.9743 647.428 Q28.4517 644.564 29.4065 642.145 Z\" fill=\"#000000\" fill-rule=\"nonzero\" fill-opacity=\"1\" /><path clip-path=\"url(#clip330)\" d=\"M790.07 65.7705 L790.07 89.8329 L782.575 89.8329 L782.575 27.2059 L790.07 27.2059 L790.07 34.0924 Q792.419 30.0415 795.984 28.0971 Q799.589 26.1121 804.572 26.1121 Q812.836 26.1121 817.98 32.6746 Q823.165 39.2371 823.165 49.9314 Q823.165 60.6258 817.98 67.1883 Q812.836 73.7508 804.572 73.7508 Q799.589 73.7508 795.984 71.8063 Q792.419 69.8214 790.07 65.7705 M815.428 49.9314 Q815.428 41.7081 812.025 37.0496 Q808.663 32.3505 802.749 32.3505 Q796.835 32.3505 793.432 37.0496 Q790.07 41.7081 790.07 49.9314 Q790.07 58.1548 793.432 62.8538 Q796.835 67.5124 802.749 67.5124 Q808.663 67.5124 812.025 62.8538 Q815.428 58.1548 815.428 49.9314 Z\" fill=\"#000000\" fill-rule=\"nonzero\" fill-opacity=\"1\" /><path clip-path=\"url(#clip330)\" d=\"M853.102 32.4315 Q847.106 32.4315 843.622 37.1306 Q840.139 41.7891 840.139 49.9314 Q840.139 58.0738 843.582 62.7728 Q847.066 67.4314 853.102 67.4314 Q859.056 67.4314 862.54 62.7323 Q866.024 58.0333 866.024 49.9314 Q866.024 41.8701 862.54 37.1711 Q859.056 32.4315 853.102 32.4315 M853.102 26.1121 Q862.824 26.1121 868.374 32.4315 Q873.923 38.7509 873.923 49.9314 Q873.923 61.0714 868.374 67.4314 Q862.824 73.7508 853.102 73.7508 Q843.339 73.7508 837.789 67.4314 Q832.28 61.0714 832.28 49.9314 Q832.28 38.7509 837.789 32.4315 Q843.339 26.1121 853.102 26.1121 Z\" fill=\"#000000\" fill-rule=\"nonzero\" fill-opacity=\"1\" /><path clip-path=\"url(#clip330)\" d=\"M886.279 9.54393 L893.732 9.54393 L893.732 72.576 L886.279 72.576 L886.279 9.54393 Z\" fill=\"#000000\" fill-rule=\"nonzero\" fill-opacity=\"1\" /><path clip-path=\"url(#clip330)\" d=\"M928.205 76.7889 Q925.046 84.8907 922.048 87.3618 Q919.05 89.8329 914.027 89.8329 L908.072 89.8329 L908.072 83.5945 L912.447 83.5945 Q915.526 83.5945 917.227 82.1361 Q918.929 80.6778 920.995 75.2496 L922.332 71.8468 L903.981 27.2059 L911.88 27.2059 L926.058 62.6918 L940.237 27.2059 L948.136 27.2059 L928.205 76.7889 Z\" fill=\"#000000\" fill-rule=\"nonzero\" fill-opacity=\"1\" /><path clip-path=\"url(#clip330)\" d=\"M996.139 45.1919 L996.139 72.576 L988.685 72.576 L988.685 45.4349 Q988.685 38.994 986.174 35.7938 Q983.662 32.5936 978.639 32.5936 Q972.603 32.5936 969.119 36.4419 Q965.636 40.2903 965.636 46.9338 L965.636 72.576 L958.142 72.576 L958.142 27.2059 L965.636 27.2059 L965.636 34.2544 Q968.309 30.163 971.915 28.1376 Q975.56 26.1121 980.3 26.1121 Q988.118 26.1121 992.129 30.9732 Q996.139 35.7938 996.139 45.1919 Z\" fill=\"#000000\" fill-rule=\"nonzero\" fill-opacity=\"1\" /><path clip-path=\"url(#clip330)\" d=\"M1028.59 32.4315 Q1022.59 32.4315 1019.11 37.1306 Q1015.62 41.7891 1015.62 49.9314 Q1015.62 58.0738 1019.07 62.7728 Q1022.55 67.4314 1028.59 67.4314 Q1034.54 67.4314 1038.03 62.7323 Q1041.51 58.0333 1041.51 49.9314 Q1041.51 41.8701 1038.03 37.1711 Q1034.54 32.4315 1028.59 32.4315 M1028.59 26.1121 Q1038.31 26.1121 1043.86 32.4315 Q1049.41 38.7509 1049.41 49.9314 Q1049.41 61.0714 1043.86 67.4314 Q1038.31 73.7508 1028.59 73.7508 Q1018.82 73.7508 1013.27 67.4314 Q1007.77 61.0714 1007.77 49.9314 Q1007.77 38.7509 1013.27 32.4315 Q1018.82 26.1121 1028.59 26.1121 Z\" fill=\"#000000\" fill-rule=\"nonzero\" fill-opacity=\"1\" /><path clip-path=\"url(#clip330)\" d=\"M1097.09 35.9153 Q1099.88 30.8922 1103.77 28.5022 Q1107.66 26.1121 1112.93 26.1121 Q1120.02 26.1121 1123.86 31.0947 Q1127.71 36.0368 1127.71 45.1919 L1127.71 72.576 L1120.22 72.576 L1120.22 45.4349 Q1120.22 38.913 1117.91 35.7533 Q1115.6 32.5936 1110.86 32.5936 Q1105.07 32.5936 1101.71 36.4419 Q1098.34 40.2903 1098.34 46.9338 L1098.34 72.576 L1090.85 72.576 L1090.85 45.4349 Q1090.85 38.8725 1088.54 35.7533 Q1086.23 32.5936 1081.41 32.5936 Q1075.7 32.5936 1072.34 36.4824 Q1068.97 40.3308 1068.97 46.9338 L1068.97 72.576 L1061.48 72.576 L1061.48 27.2059 L1068.97 27.2059 L1068.97 34.2544 Q1071.53 30.082 1075.09 28.0971 Q1078.66 26.1121 1083.56 26.1121 Q1088.5 26.1121 1091.94 28.6237 Q1095.43 31.1352 1097.09 35.9153 Z\" fill=\"#000000\" fill-rule=\"nonzero\" fill-opacity=\"1\" /><path clip-path=\"url(#clip330)\" d=\"M1142.58 27.2059 L1150.03 27.2059 L1150.03 72.576 L1142.58 72.576 L1142.58 27.2059 M1142.58 9.54393 L1150.03 9.54393 L1150.03 18.9825 L1142.58 18.9825 L1142.58 9.54393 Z\" fill=\"#000000\" fill-rule=\"nonzero\" fill-opacity=\"1\" /><path clip-path=\"url(#clip330)\" d=\"M1186.25 49.7694 Q1177.21 49.7694 1173.73 51.8354 Q1170.25 53.9013 1170.25 58.8839 Q1170.25 62.8538 1172.84 65.2034 Q1175.47 67.5124 1179.97 67.5124 Q1186.17 67.5124 1189.89 63.1374 Q1193.66 58.7219 1193.66 51.4303 L1193.66 49.7694 L1186.25 49.7694 M1201.11 46.6907 L1201.11 72.576 L1193.66 72.576 L1193.66 65.6895 Q1191.11 69.8214 1187.3 71.8063 Q1183.49 73.7508 1177.98 73.7508 Q1171.02 73.7508 1166.88 69.8619 Q1162.79 65.9325 1162.79 59.3701 Q1162.79 51.7138 1167.9 47.825 Q1173.04 43.9361 1183.21 43.9361 L1193.66 43.9361 L1193.66 43.2069 Q1193.66 38.0623 1190.26 35.2672 Q1186.9 32.4315 1180.78 32.4315 Q1176.89 32.4315 1173.2 33.3632 Q1169.52 34.295 1166.11 36.1584 L1166.11 29.2718 Q1170.21 27.692 1174.05 26.9223 Q1177.9 26.1121 1181.55 26.1121 Q1191.39 26.1121 1196.25 31.2163 Q1201.11 36.3204 1201.11 46.6907 Z\" fill=\"#000000\" fill-rule=\"nonzero\" fill-opacity=\"1\" /><path clip-path=\"url(#clip330)\" d=\"M1216.47 9.54393 L1223.92 9.54393 L1223.92 72.576 L1216.47 72.576 L1216.47 9.54393 Z\" fill=\"#000000\" fill-rule=\"nonzero\" fill-opacity=\"1\" /><path clip-path=\"url(#clip330)\" d=\"M1265.89 27.2059 L1273.34 27.2059 L1273.34 72.576 L1265.89 72.576 L1265.89 27.2059 M1265.89 9.54393 L1273.34 9.54393 L1273.34 18.9825 L1265.89 18.9825 L1265.89 9.54393 Z\" fill=\"#000000\" fill-rule=\"nonzero\" fill-opacity=\"1\" /><path clip-path=\"url(#clip330)\" d=\"M1326.65 45.1919 L1326.65 72.576 L1319.2 72.576 L1319.2 45.4349 Q1319.2 38.994 1316.69 35.7938 Q1314.18 32.5936 1309.15 32.5936 Q1303.12 32.5936 1299.63 36.4419 Q1296.15 40.2903 1296.15 46.9338 L1296.15 72.576 L1288.65 72.576 L1288.65 27.2059 L1296.15 27.2059 L1296.15 34.2544 Q1298.82 30.163 1302.43 28.1376 Q1306.07 26.1121 1310.81 26.1121 Q1318.63 26.1121 1322.64 30.9732 Q1326.65 35.7938 1326.65 45.1919 Z\" fill=\"#000000\" fill-rule=\"nonzero\" fill-opacity=\"1\" /><path clip-path=\"url(#clip330)\" d=\"M1348.89 14.324 L1348.89 27.2059 L1364.24 27.2059 L1364.24 32.9987 L1348.89 32.9987 L1348.89 57.6282 Q1348.89 63.1779 1350.39 64.7578 Q1351.93 66.3376 1356.59 66.3376 L1364.24 66.3376 L1364.24 72.576 L1356.59 72.576 Q1347.96 72.576 1344.68 69.3758 Q1341.4 66.1351 1341.4 57.6282 L1341.4 32.9987 L1335.93 32.9987 L1335.93 27.2059 L1341.4 27.2059 L1341.4 14.324 L1348.89 14.324 Z\" fill=\"#000000\" fill-rule=\"nonzero\" fill-opacity=\"1\" /><path clip-path=\"url(#clip330)\" d=\"M1412.86 48.0275 L1412.86 51.6733 L1378.58 51.6733 Q1379.07 59.3701 1383.2 63.421 Q1387.38 67.4314 1394.79 67.4314 Q1399.08 67.4314 1403.09 66.3781 Q1407.14 65.3249 1411.11 63.2184 L1411.11 70.267 Q1407.1 71.9684 1402.89 72.8596 Q1398.68 73.7508 1394.34 73.7508 Q1383.49 73.7508 1377.13 67.4314 Q1370.81 61.1119 1370.81 50.3365 Q1370.81 39.1965 1376.8 32.6746 Q1382.84 26.1121 1393.05 26.1121 Q1402.2 26.1121 1407.51 32.0264 Q1412.86 37.9003 1412.86 48.0275 M1405.4 45.84 Q1405.32 39.7232 1401.96 36.0774 Q1398.64 32.4315 1393.13 32.4315 Q1386.89 32.4315 1383.12 35.9558 Q1379.4 39.4801 1378.83 45.8805 L1405.4 45.84 Z\" fill=\"#000000\" fill-rule=\"nonzero\" fill-opacity=\"1\" /><path clip-path=\"url(#clip330)\" d=\"M1451.38 34.1734 Q1450.12 33.4443 1448.63 33.1202 Q1447.17 32.7556 1445.38 32.7556 Q1439.06 32.7556 1435.66 36.8875 Q1432.3 40.9789 1432.3 48.6757 L1432.3 72.576 L1424.81 72.576 L1424.81 27.2059 L1432.3 27.2059 L1432.3 34.2544 Q1434.65 30.1225 1438.42 28.1376 Q1442.18 26.1121 1447.57 26.1121 Q1448.34 26.1121 1449.27 26.2337 Q1450.2 26.3147 1451.34 26.5172 L1451.38 34.1734 Z\" fill=\"#000000\" fill-rule=\"nonzero\" fill-opacity=\"1\" /><path clip-path=\"url(#clip330)\" d=\"M1466.41 65.7705 L1466.41 89.8329 L1458.91 89.8329 L1458.91 27.2059 L1466.41 27.2059 L1466.41 34.0924 Q1468.76 30.0415 1472.32 28.0971 Q1475.93 26.1121 1480.91 26.1121 Q1489.17 26.1121 1494.32 32.6746 Q1499.5 39.2371 1499.5 49.9314 Q1499.5 60.6258 1494.32 67.1883 Q1489.17 73.7508 1480.91 73.7508 Q1475.93 73.7508 1472.32 71.8063 Q1468.76 69.8214 1466.41 65.7705 M1491.77 49.9314 Q1491.77 41.7081 1488.36 37.0496 Q1485 32.3505 1479.09 32.3505 Q1473.17 32.3505 1469.77 37.0496 Q1466.41 41.7081 1466.41 49.9314 Q1466.41 58.1548 1469.77 62.8538 Q1473.17 67.5124 1479.09 67.5124 Q1485 67.5124 1488.36 62.8538 Q1491.77 58.1548 1491.77 49.9314 Z\" fill=\"#000000\" fill-rule=\"nonzero\" fill-opacity=\"1\" /><path clip-path=\"url(#clip330)\" d=\"M1529.44 32.4315 Q1523.45 32.4315 1519.96 37.1306 Q1516.48 41.7891 1516.48 49.9314 Q1516.48 58.0738 1519.92 62.7728 Q1523.4 67.4314 1529.44 67.4314 Q1535.4 67.4314 1538.88 62.7323 Q1542.36 58.0333 1542.36 49.9314 Q1542.36 41.8701 1538.88 37.1711 Q1535.4 32.4315 1529.44 32.4315 M1529.44 26.1121 Q1539.16 26.1121 1544.71 32.4315 Q1550.26 38.7509 1550.26 49.9314 Q1550.26 61.0714 1544.71 67.4314 Q1539.16 73.7508 1529.44 73.7508 Q1519.68 73.7508 1514.13 67.4314 Q1508.62 61.0714 1508.62 49.9314 Q1508.62 38.7509 1514.13 32.4315 Q1519.68 26.1121 1529.44 26.1121 Z\" fill=\"#000000\" fill-rule=\"nonzero\" fill-opacity=\"1\" /><path clip-path=\"url(#clip330)\" d=\"M1562.62 9.54393 L1570.07 9.54393 L1570.07 72.576 L1562.62 72.576 L1562.62 9.54393 Z\" fill=\"#000000\" fill-rule=\"nonzero\" fill-opacity=\"1\" /><path clip-path=\"url(#clip330)\" d=\"M1606.29 49.7694 Q1597.25 49.7694 1593.77 51.8354 Q1590.29 53.9013 1590.29 58.8839 Q1590.29 62.8538 1592.88 65.2034 Q1595.51 67.5124 1600.01 67.5124 Q1606.21 67.5124 1609.93 63.1374 Q1613.7 58.7219 1613.7 51.4303 L1613.7 49.7694 L1606.29 49.7694 M1621.15 46.6907 L1621.15 72.576 L1613.7 72.576 L1613.7 65.6895 Q1611.15 69.8214 1607.34 71.8063 Q1603.53 73.7508 1598.02 73.7508 Q1591.05 73.7508 1586.92 69.8619 Q1582.83 65.9325 1582.83 59.3701 Q1582.83 51.7138 1587.94 47.825 Q1593.08 43.9361 1603.25 43.9361 L1613.7 43.9361 L1613.7 43.2069 Q1613.7 38.0623 1610.3 35.2672 Q1606.93 32.4315 1600.82 32.4315 Q1596.93 32.4315 1593.24 33.3632 Q1589.56 34.295 1586.15 36.1584 L1586.15 29.2718 Q1590.24 27.692 1594.09 26.9223 Q1597.94 26.1121 1601.59 26.1121 Q1611.43 26.1121 1616.29 31.2163 Q1621.15 36.3204 1621.15 46.6907 Z\" fill=\"#000000\" fill-rule=\"nonzero\" fill-opacity=\"1\" /><path clip-path=\"url(#clip330)\" d=\"M1643.88 14.324 L1643.88 27.2059 L1659.23 27.2059 L1659.23 32.9987 L1643.88 32.9987 L1643.88 57.6282 Q1643.88 63.1779 1645.38 64.7578 Q1646.92 66.3376 1651.58 66.3376 L1659.23 66.3376 L1659.23 72.576 L1651.58 72.576 Q1642.95 72.576 1639.67 69.3758 Q1636.38 66.1351 1636.38 57.6282 L1636.38 32.9987 L1630.92 32.9987 L1630.92 27.2059 L1636.38 27.2059 L1636.38 14.324 L1643.88 14.324 Z\" fill=\"#000000\" fill-rule=\"nonzero\" fill-opacity=\"1\" /><path clip-path=\"url(#clip330)\" d=\"M1669.03 27.2059 L1676.49 27.2059 L1676.49 72.576 L1669.03 72.576 L1669.03 27.2059 M1669.03 9.54393 L1676.49 9.54393 L1676.49 18.9825 L1669.03 18.9825 L1669.03 9.54393 Z\" fill=\"#000000\" fill-rule=\"nonzero\" fill-opacity=\"1\" /><path clip-path=\"url(#clip330)\" d=\"M1709.67 32.4315 Q1703.67 32.4315 1700.19 37.1306 Q1696.7 41.7891 1696.7 49.9314 Q1696.7 58.0738 1700.15 62.7728 Q1703.63 67.4314 1709.67 67.4314 Q1715.62 67.4314 1719.1 62.7323 Q1722.59 58.0333 1722.59 49.9314 Q1722.59 41.8701 1719.1 37.1711 Q1715.62 32.4315 1709.67 32.4315 M1709.67 26.1121 Q1719.39 26.1121 1724.94 32.4315 Q1730.49 38.7509 1730.49 49.9314 Q1730.49 61.0714 1724.94 67.4314 Q1719.39 73.7508 1709.67 73.7508 Q1699.9 73.7508 1694.35 67.4314 Q1688.84 61.0714 1688.84 49.9314 Q1688.84 38.7509 1694.35 32.4315 Q1699.9 26.1121 1709.67 26.1121 Z\" fill=\"#000000\" fill-rule=\"nonzero\" fill-opacity=\"1\" /><path clip-path=\"url(#clip330)\" d=\"M1780.56 45.1919 L1780.56 72.576 L1773.1 72.576 L1773.1 45.4349 Q1773.1 38.994 1770.59 35.7938 Q1768.08 32.5936 1763.06 32.5936 Q1757.02 32.5936 1753.54 36.4419 Q1750.05 40.2903 1750.05 46.9338 L1750.05 72.576 L1742.56 72.576 L1742.56 27.2059 L1750.05 27.2059 L1750.05 34.2544 Q1752.73 30.163 1756.33 28.1376 Q1759.98 26.1121 1764.72 26.1121 Q1772.54 26.1121 1776.55 30.9732 Q1780.56 35.7938 1780.56 45.1919 Z\" fill=\"#000000\" fill-rule=\"nonzero\" fill-opacity=\"1\" /><polyline clip-path=\"url(#clip332)\" style=\"stroke:#009af9; stroke-linecap:round; stroke-linejoin:round; stroke-width:4; stroke-opacity:1; fill:none\" points=\"271.009,1331.58 273.032,1328.73 275.055,1325.88 277.078,1323.05 279.102,1320.23 281.125,1317.41 283.148,1314.61 285.171,1311.82 287.194,1309.04 289.217,1306.27 291.24,1303.51 293.263,1300.76 295.287,1298.03 297.31,1295.3 299.333,1292.58 301.356,1289.88 303.379,1287.18 305.402,1284.49 307.425,1281.82 309.449,1279.16 311.472,1276.5 313.495,1273.86 315.518,1271.23 317.541,1268.6 319.564,1265.99 321.587,1263.39 323.611,1260.8 325.634,1258.22 327.657,1255.65 329.68,1253.09 331.703,1250.54 333.726,1248 335.749,1245.47 337.772,1242.95 339.796,1240.44 341.819,1237.94 343.842,1235.45 345.865,1232.98 347.888,1230.51 349.911,1228.05 351.934,1225.6 353.958,1223.16 355.981,1220.73 358.004,1218.32 360.027,1215.91 362.05,1213.51 364.073,1211.12 366.096,1208.75 368.12,1206.38 370.143,1204.02 372.166,1201.67 374.189,1199.33 376.212,1197.01 378.235,1194.69 380.258,1192.38 382.281,1190.08 384.305,1187.79 386.328,1185.51 388.351,1183.24 390.374,1180.99 392.397,1178.74 394.42,1176.5 396.443,1174.27 398.467,1172.05 400.49,1169.84 402.513,1167.63 404.536,1165.44 406.559,1163.26 408.582,1161.09 410.605,1158.93 412.629,1156.77 414.652,1154.63 416.675,1152.5 418.698,1150.37 420.721,1148.26 422.744,1146.15 424.767,1144.06 426.791,1141.97 428.814,1139.89 430.837,1137.83 432.86,1135.77 434.883,1133.72 436.906,1131.68 438.929,1129.65 440.952,1127.63 442.976,1125.62 444.999,1123.62 447.022,1121.62 449.045,1119.64 451.068,1117.66 453.091,1115.7 455.114,1113.74 457.138,1111.8 459.161,1109.86 461.184,1107.93 463.207,1106.01 465.23,1104.1 467.253,1102.2 469.276,1100.31 471.3,1098.43 473.323,1096.55 475.346,1094.69 477.369,1092.83 479.392,1090.99 481.415,1089.15 483.438,1087.32 485.461,1085.5 487.485,1083.69 489.508,1081.89 491.531,1080.09 493.554,1078.31 495.577,1076.53 497.6,1074.77 499.623,1073.01 501.647,1071.26 503.67,1069.52 505.693,1067.79 507.716,1066.07 509.739,1064.35 511.762,1062.65 513.785,1060.95 515.809,1059.26 517.832,1057.58 519.855,1055.91 521.878,1054.25 523.901,1052.6 525.924,1050.95 527.947,1049.32 529.97,1047.69 531.994,1046.07 534.017,1044.46 536.04,1042.86 538.063,1041.27 540.086,1039.68 542.109,1038.1 544.132,1036.54 546.156,1034.98 548.179,1033.42 550.202,1031.88 552.225,1030.35 554.248,1028.82 556.271,1027.3 558.294,1025.79 560.318,1024.29 562.341,1022.8 564.364,1021.31 566.387,1019.84 568.41,1018.37 570.433,1016.91 572.456,1015.46 574.479,1014.01 576.503,1012.58 578.526,1011.15 580.549,1009.73 582.572,1008.32 584.595,1006.92 586.618,1005.52 588.641,1004.13 590.665,1002.75 592.688,1001.38 594.711,1000.02 596.734,998.665 598.757,997.317 600.78,995.978 602.803,994.647 604.827,993.323 606.85,992.008 608.873,990.7 610.896,989.4 612.919,988.108 614.942,986.824 616.965,985.547 618.988,984.279 621.012,983.018 623.035,981.765 625.058,980.519 627.081,979.281 629.104,978.051 631.127,976.829 633.15,975.614 635.174,974.407 637.197,973.208 639.22,972.016 641.243,970.831 643.266,969.655 645.289,968.485 647.312,967.324 649.336,966.17 651.359,965.023 653.382,963.884 655.405,962.752 657.428,961.628 659.451,960.511 661.474,959.401 663.497,958.299 665.521,957.205 667.544,956.117 669.567,955.037 671.59,953.965 673.613,952.899 675.636,951.841 677.659,950.79 679.683,949.747 681.706,948.71 683.729,947.681 685.752,946.659 687.775,945.644 689.798,944.637 691.821,943.636 693.845,942.643 695.868,941.656 697.891,940.677 699.914,939.705 701.937,938.74 703.96,937.782 705.983,936.831 708.006,935.887 710.03,934.95 712.053,934.02 714.076,933.096 716.099,932.18 718.122,931.271 720.145,930.368 722.168,929.473 724.192,928.584 726.215,927.702 728.238,926.827 730.261,925.959 732.284,925.098 734.307,924.243 736.33,923.395 738.354,922.554 740.377,921.719 742.4,920.892 744.423,920.07 746.446,919.256 748.469,918.448 750.492,917.647 752.516,916.852 754.539,916.064 756.562,915.283 758.585,914.508 760.608,913.74 762.631,912.978 764.654,912.223 766.677,911.474 768.701,910.732 770.724,909.996 772.747,909.266 774.77,908.543 776.793,907.827 778.816,907.116 780.839,906.412 782.863,905.715 784.886,905.023 786.909,904.339 788.932,903.66 790.955,902.988 792.978,902.321 795.001,901.662 797.025,901.008 799.048,900.36 801.071,899.719 803.094,899.084 805.117,898.455 807.14,897.832 809.163,897.215 811.186,896.605 813.21,896 815.233,895.402 817.256,894.809 819.279,894.223 821.302,893.642 823.325,893.068 825.348,892.5 827.372,891.937 829.395,891.381 831.418,890.83 833.441,890.285 835.464,889.746 837.487,889.213 839.51,888.686 841.534,888.165 843.557,887.649 845.58,887.14 847.603,886.636 849.626,886.137 851.649,885.645 853.672,885.158 855.695,884.677 857.719,884.202 859.742,883.732 861.765,883.268 863.788,882.81 865.811,882.357 867.834,881.91 869.857,881.468 871.881,881.032 873.904,880.602 875.927,880.177 877.95,879.758 879.973,879.344 881.996,878.935 884.019,878.532 886.043,878.135 888.066,877.743 890.089,877.356 892.112,876.975 894.135,876.599 896.158,876.228 898.181,875.863 900.204,875.503 902.228,875.148 904.251,874.799 906.274,874.455 908.297,874.116 910.32,873.782 912.343,873.454 914.366,873.131 916.39,872.813 918.413,872.5 920.436,872.192 922.459,871.889 924.482,871.592 926.505,871.299 928.528,871.012 930.552,870.73 932.575,870.452 934.598,870.18 936.621,869.913 938.644,869.65 940.667,869.393 942.69,869.141 944.713,868.893 946.737,868.651 948.76,868.413 950.783,868.18 952.806,867.952 954.829,867.729 956.852,867.511 958.875,867.298 960.899,867.089 962.922,866.885 964.945,866.686 966.968,866.491 968.991,866.302 971.014,866.117 973.037,865.936 975.061,865.761 977.084,865.59 979.107,865.423 981.13,865.262 983.153,865.104 985.176,864.952 987.199,864.804 989.222,864.66 991.246,864.521 993.269,864.387 995.292,864.257 997.315,864.131 999.338,864.01 1001.36,863.893 1003.38,863.781 1005.41,863.673 1007.43,863.57 1009.45,863.471 1011.48,863.376 1013.5,863.285 1015.52,863.199 1017.55,863.117 1019.57,863.04 1021.59,862.967 1023.62,862.898 1025.64,862.833 1027.66,862.772 1029.69,862.716 1031.71,862.663 1033.73,862.615 1035.75,862.571 1037.78,862.531 1039.8,862.495 1041.82,862.464 1043.85,862.436 1045.87,862.412 1047.89,862.393 1049.92,862.377 1051.94,862.366 1053.96,862.358 1055.99,862.354 1058.01,862.354 1060.03,862.359 1062.06,862.367 1064.08,862.379 1066.1,862.395 1068.12,862.414 1070.15,862.438 1072.17,862.465 1074.19,862.496 1076.22,862.531 1078.24,862.57 1080.26,862.612 1082.29,862.658 1084.31,862.708 1086.33,862.762 1088.36,862.819 1090.38,862.88 1092.4,862.944 1094.43,863.012 1096.45,863.084 1098.47,863.159 1100.5,863.238 1102.52,863.32 1104.54,863.406 1106.56,863.496 1108.59,863.589 1110.61,863.685 1112.63,863.785 1114.66,863.888 1116.68,863.995 1118.7,864.105 1120.73,864.219 1122.75,864.336 1124.77,864.456 1126.8,864.58 1128.82,864.706 1130.84,864.837 1132.87,864.97 1134.89,865.107 1136.91,865.247 1138.93,865.39 1140.96,865.537 1142.98,865.686 1145,865.839 1147.03,865.995 1149.05,866.154 1151.07,866.316 1153.1,866.482 1155.12,866.65 1157.14,866.822 1159.17,866.996 1161.19,867.174 1163.21,867.354 1165.24,867.538 1167.26,867.725 1169.28,867.914 1171.3,868.107 1173.33,868.302 1175.35,868.5 1177.37,868.702 1179.4,868.906 1181.42,869.113 1183.44,869.323 1185.47,869.535 1187.49,869.751 1189.51,869.969 1191.54,870.19 1193.56,870.414 1195.58,870.64 1197.61,870.869 1199.63,871.101 1201.65,871.336 1203.67,871.573 1205.7,871.813 1207.72,872.055 1209.74,872.3 1211.77,872.548 1213.79,872.798 1215.81,873.051 1217.84,873.307 1219.86,873.564 1221.88,873.825 1223.91,874.088 1225.93,874.353 1227.95,874.621 1229.98,874.891 1232,875.164 1234.02,875.439 1236.05,875.716 1238.07,875.996 1240.09,876.278 1242.11,876.563 1244.14,876.85 1246.16,877.139 1248.18,877.43 1250.21,877.724 1252.23,878.019 1254.25,878.318 1256.28,878.618 1258.3,878.92 1260.32,879.225 1262.35,879.532 1264.37,879.841 1266.39,880.152 1268.42,880.465 1270.44,880.78 1272.46,881.097 1274.48,881.416 1276.51,881.738 1278.53,882.061 1280.55,882.386 1282.58,882.714 1284.6,883.043 1286.62,883.374 1288.65,883.707 1290.67,884.042 1292.69,884.379 1294.72,884.718 1296.74,885.059 1298.76,885.401 1300.79,885.745 1302.81,886.091 1304.83,886.439 1306.85,886.789 1308.88,887.14 1310.9,887.493 1312.92,887.848 1314.95,888.205 1316.97,888.563 1318.99,888.922 1321.02,889.284 1323.04,889.647 1325.06,890.012 1327.09,890.378 1329.11,890.746 1331.13,891.115 1333.16,891.486 1335.18,891.858 1337.2,892.232 1339.23,892.608 1341.25,892.984 1343.27,893.363 1345.29,893.742 1347.32,894.124 1349.34,894.506 1351.36,894.89 1353.39,895.275 1355.41,895.662 1357.43,896.05 1359.46,896.439 1361.48,896.829 1363.5,897.221 1365.53,897.614 1367.55,898.008 1369.57,898.404 1371.6,898.8 1373.62,899.198 1375.64,899.597 1377.66,899.997 1379.69,900.398 1381.71,900.801 1383.73,901.204 1385.76,901.608 1387.78,902.014 1389.8,902.421 1391.83,902.828 1393.85,903.237 1395.87,903.646 1397.9,904.057 1399.92,904.468 1401.94,904.881 1403.97,905.294 1405.99,905.708 1408.01,906.123 1410.03,906.539 1412.06,906.956 1414.08,907.374 1416.1,907.792 1418.13,908.211 1420.15,908.631 1422.17,909.052 1424.2,909.474 1426.22,909.896 1428.24,910.319 1430.27,910.742 1432.29,911.167 1434.31,911.591 1436.34,912.017 1438.36,912.443 1440.38,912.87 1442.41,913.297 1444.43,913.725 1446.45,914.153 1448.47,914.582 1450.5,915.012 1452.52,915.442 1454.54,915.872 1456.57,916.303 1458.59,916.734 1460.61,917.166 1462.64,917.598 1464.66,918.03 1466.68,918.463 1468.71,918.896 1470.73,919.33 1472.75,919.764 1474.78,920.198 1476.8,920.632 1478.82,921.067 1480.84,921.502 1482.87,921.937 1484.89,922.372 1486.91,922.807 1488.94,923.243 1490.96,923.679 1492.98,924.115 1495.01,924.551 1497.03,924.987 1499.05,925.423 1501.08,925.86 1503.1,926.296 1505.12,926.732 1507.15,927.169 1509.17,927.605 1511.19,928.041 1513.21,928.478 1515.24,928.914 1517.26,929.35 1519.28,929.786 1521.31,930.222 1523.33,930.658 1525.35,931.094 1527.38,931.529 1529.4,931.965 1531.42,932.4 1533.45,932.835 1535.47,933.269 1537.49,933.704 1539.52,934.138 1541.54,934.572 1543.56,935.005 1545.59,935.438 1547.61,935.871 1549.63,936.304 1551.65,936.736 1553.68,937.167 1555.7,937.599 1557.72,938.03 1559.75,938.46 1561.77,938.89 1563.79,939.32 1565.82,939.748 1567.84,940.177 1569.86,940.605 1571.89,941.032 1573.91,941.459 1575.93,941.885 1577.96,942.311 1579.98,942.736 1582,943.16 1584.02,943.584 1586.05,944.007 1588.07,944.429 1590.09,944.85 1592.12,945.271 1594.14,945.691 1596.16,946.111 1598.19,946.529 1600.21,946.947 1602.23,947.364 1604.26,947.78 1606.28,948.195 1608.3,948.609 1610.33,949.023 1612.35,949.435 1614.37,949.847 1616.39,950.257 1618.42,950.667 1620.44,951.076 1622.46,951.483 1624.49,951.89 1626.51,952.296 1628.53,952.7 1630.56,953.104 1632.58,953.506 1634.6,953.908 1636.63,954.308 1638.65,954.707 1640.67,955.105 1642.7,955.501 1644.72,955.897 1646.74,956.291 1648.77,956.684 1650.79,957.076 1652.81,957.467 1654.83,957.856 1656.86,958.244 1658.88,958.631 1660.9,959.016 1662.93,959.4 1664.95,959.783 1666.97,960.164 1669,960.544 1671.02,960.922 1673.04,961.299 1675.07,961.675 1677.09,962.049 1679.11,962.421 1681.14,962.792 1683.16,963.162 1685.18,963.53 1687.2,963.896 1689.23,964.261 1691.25,964.624 1693.27,964.986 1695.3,965.346 1697.32,965.704 1699.34,966.061 1701.37,966.416 1703.39,966.769 1705.41,967.121 1707.44,967.47 1709.46,967.818 1711.48,968.165 1713.51,968.509 1715.53,968.852 1717.55,969.192 1719.57,969.531 1721.6,969.868 1723.62,970.204 1725.64,970.537 1727.67,970.868 1729.69,971.198 1731.71,971.525 1733.74,971.851 1735.76,972.174 1737.78,972.496 1739.81,972.815 1741.83,973.133 1743.85,973.448 1745.88,973.762 1747.9,974.073 1749.92,974.382 1751.95,974.689 1753.97,974.994 1755.99,975.296 1758.01,975.597 1760.04,975.895 1762.06,976.191 1764.08,976.485 1766.11,976.777 1768.13,977.066 1770.15,977.353 1772.18,977.638 1774.2,977.92 1776.22,978.2 1778.25,978.478 1780.27,978.753 1782.29,979.026 1784.32,979.296 1786.34,979.564 1788.36,979.83 1790.38,980.093 1792.41,980.354 1794.43,980.612 1796.45,980.867 1798.48,981.121 1800.5,981.371 1802.52,981.619 1804.55,981.864 1806.57,982.107 1808.59,982.347 1810.62,982.585 1812.64,982.82 1814.66,983.052 1816.69,983.281 1818.71,983.508 1820.73,983.732 1822.75,983.953 1824.78,984.172 1826.8,984.387 1828.82,984.6 1830.85,984.81 1832.87,985.018 1834.89,985.222 1836.92,985.424 1838.94,985.622 1840.96,985.818 1842.99,986.011 1845.01,986.2 1847.03,986.387 1849.06,986.571 1851.08,986.752 1853.1,986.93 1855.12,987.105 1857.15,987.277 1859.17,987.445 1861.19,987.611 1863.22,987.774 1865.24,987.933 1867.26,988.089 1869.29,988.242 1871.31,988.392 1873.33,988.539 1875.36,988.683 1877.38,988.823 1879.4,988.96 1881.43,989.094 1883.45,989.224 1885.47,989.352 1887.5,989.475 1889.52,989.596 1891.54,989.713 1893.56,989.827 1895.59,989.938 1897.61,990.045 1899.63,990.148 1901.66,990.249 1903.68,990.345 1905.7,990.439 1907.73,990.528 1909.75,990.615 1911.77,990.697 1913.8,990.777 1915.82,990.852 1917.84,990.924 1919.87,990.993 1921.89,991.057 1923.91,991.119 1925.93,991.176 1927.96,991.23 1929.98,991.28 1932,991.327 1934.03,991.37 1936.05,991.409 1938.07,991.444 1940.1,991.475 1942.12,991.503 1944.14,991.527 1946.17,991.547 1948.19,991.563 1950.21,991.575 1952.24,991.584 1954.26,991.588 1956.28,991.589 1958.3,991.586 1960.33,991.579 1962.35,991.567 1964.37,991.552 1966.4,991.533 1968.42,991.51 1970.44,991.482 1972.47,991.451 1974.49,991.416 1976.51,991.376 1978.54,991.333 1980.56,991.285 1982.58,991.233 1984.61,991.177 1986.63,991.117 1988.65,991.052 1990.68,990.983 1992.7,990.911 1994.72,990.833 1996.74,990.752 1998.77,990.666 2000.79,990.576 2002.81,990.482 2004.84,990.383 2006.86,990.28 2008.88,990.173 2010.91,990.061 2012.93,989.945 2014.95,989.824 2016.98,989.699 2019,989.569 2021.02,989.435 2023.05,989.297 2025.07,989.154 2027.09,989.006 2029.11,988.854 2031.14,988.697 2033.16,988.536 2035.18,988.37 2037.21,988.199 2039.23,988.024 2041.25,987.844 2043.28,987.659 2045.3,987.47 2047.32,987.276 2049.35,987.078 2051.37,986.874 2053.39,986.666 2055.42,986.453 2057.44,986.235 2059.46,986.013 2061.48,985.785 2063.51,985.553 2065.53,985.316 2067.55,985.073 2069.58,984.827 2071.6,984.575 2073.62,984.318 2075.65,984.056 2077.67,983.789 2079.69,983.517 2081.72,983.241 2083.74,982.959 2085.76,982.672 2087.79,982.38 2089.81,982.083 2091.83,981.781 2093.86,981.473 2095.88,981.161 2097.9,980.843 2099.92,980.521 2101.95,980.193 2103.97,979.86 2105.99,979.521 2108.02,979.178 2110.04,978.829 2112.06,978.475 2114.09,978.115 2116.11,977.751 2118.13,977.38 2120.16,977.005 2122.18,976.624 2124.2,976.238 2126.23,975.846 2128.25,975.449 2130.27,975.047 2132.29,974.639 2134.32,974.226 2136.34,973.807 2138.36,973.382 2140.39,972.952 2142.41,972.517 2144.43,972.076 2146.46,971.629 2148.48,971.177 2150.5,970.719 2152.53,970.256 2154.55,969.787 2156.57,969.312 2158.6,968.832 2160.62,968.345 2162.64,967.854 2164.66,967.356 2166.69,966.853 2168.71,966.343 2170.73,965.828 2172.76,965.308 2174.78,964.781 2176.8,964.249 2178.83,963.71 2180.85,963.166 2182.87,962.616 2184.9,962.06 2186.92,961.498 2188.94,960.93 2190.97,960.356 2192.99,959.777 2195.01,959.191 2197.04,958.599 2199.06,958.001 2201.08,957.397 2203.1,956.787 2205.13,956.171 2207.15,955.549 2209.17,954.92 2211.2,954.286 2213.22,953.645 2215.24,952.998 2217.27,952.345 2219.29,951.686 2221.31,951.02 2223.34,950.348 2225.36,949.67 2227.38,948.986 2229.41,948.295 2231.43,947.598 2233.45,946.895 2235.47,946.185 2237.5,945.469 2239.52,944.747 2241.54,944.018 2243.57,943.283 2245.59,942.541 2247.61,941.793 2249.64,941.038 2251.66,940.277 2253.68,939.509 2255.71,938.735 2257.73,937.954 2259.75,937.167 2261.78,936.373 2263.8,935.573 2265.82,934.765 2267.84,933.952 2269.87,933.131 2271.89,932.304 2273.91,931.47 2275.94,930.63 2277.96,929.782 2279.98,928.928 2282.01,928.068 2284.03,927.2 2286.05,926.326 2288.08,925.444 2290.1,924.556 2292.12,923.661 \"/>\n",
       "<circle clip-path=\"url(#clip332)\" cx=\"355.222\" cy=\"1221.64\" r=\"14.4\" fill=\"#e26f46\" fill-rule=\"evenodd\" fill-opacity=\"1\" stroke=\"#000000\" stroke-opacity=\"1\" stroke-width=\"3.2\"/>\n",
       "<circle clip-path=\"url(#clip332)\" cx=\"944.713\" cy=\"868.893\" r=\"14.4\" fill=\"#e26f46\" fill-rule=\"evenodd\" fill-opacity=\"1\" stroke=\"#000000\" stroke-opacity=\"1\" stroke-width=\"3.2\"/>\n",
       "<circle clip-path=\"url(#clip332)\" cx=\"1449.99\" cy=\"914.904\" r=\"14.4\" fill=\"#e26f46\" fill-rule=\"evenodd\" fill-opacity=\"1\" stroke=\"#000000\" stroke-opacity=\"1\" stroke-width=\"3.2\"/>\n",
       "<circle clip-path=\"url(#clip332)\" cx=\"1955.27\" cy=\"991.589\" r=\"14.4\" fill=\"#e26f46\" fill-rule=\"evenodd\" fill-opacity=\"1\" stroke=\"#000000\" stroke-opacity=\"1\" stroke-width=\"3.2\"/>\n",
       "<polyline clip-path=\"url(#clip332)\" style=\"stroke:#3da44d; stroke-linecap:round; stroke-linejoin:round; stroke-width:4; stroke-opacity:1; fill:none\" points=\"271.009,974.445 273.032,972.67 275.055,970.912 277.078,969.172 279.102,967.45 281.125,965.745 283.148,964.057 285.171,962.387 287.194,960.734 289.217,959.098 291.24,957.48 293.263,955.878 295.287,954.294 297.31,952.727 299.333,951.177 301.356,949.644 303.379,948.128 305.402,946.628 307.425,945.146 309.449,943.68 311.472,942.232 313.495,940.799 315.518,939.384 317.541,937.985 319.564,936.602 321.587,935.237 323.611,933.887 325.634,932.554 327.657,931.237 329.68,929.937 331.703,928.653 333.726,927.385 335.749,926.134 337.772,924.898 339.796,923.679 341.819,922.475 343.842,921.288 345.865,920.116 347.888,918.961 349.911,917.821 351.934,916.697 353.958,915.589 355.981,914.496 358.004,913.42 360.027,912.358 362.05,911.313 364.073,910.283 366.096,909.268 368.12,908.269 370.143,907.285 372.166,906.317 374.189,905.363 376.212,904.425 378.235,903.503 380.258,902.595 382.281,901.702 384.305,900.825 386.328,899.962 388.351,899.115 390.374,898.282 392.397,897.464 394.42,896.661 396.443,895.873 398.467,895.1 400.49,894.341 402.513,893.597 404.536,892.867 406.559,892.152 408.582,891.451 410.605,890.765 412.629,890.093 414.652,889.436 416.675,888.792 418.698,888.164 420.721,887.549 422.744,886.948 424.767,886.362 426.791,885.789 428.814,885.231 430.837,884.686 432.86,884.156 434.883,883.639 436.906,883.136 438.929,882.647 440.952,882.172 442.976,881.71 444.999,881.262 447.022,880.828 449.045,880.407 451.068,879.999 453.091,879.605 455.114,879.225 457.138,878.858 459.161,878.504 461.184,878.163 463.207,877.836 465.23,877.521 467.253,877.22 469.276,876.932 471.3,876.657 473.323,876.395 475.346,876.146 477.369,875.909 479.392,875.686 481.415,875.475 483.438,875.277 485.461,875.092 487.485,874.919 489.508,874.759 491.531,874.612 493.554,874.477 495.577,874.354 497.6,874.244 499.623,874.146 501.647,874.061 503.67,873.987 505.693,873.926 507.716,873.878 509.739,873.841 511.762,873.816 513.785,873.804 515.809,873.803 517.832,873.814 519.855,873.838 521.878,873.873 523.901,873.92 525.924,873.978 527.947,874.048 529.97,874.13 531.994,874.224 534.017,874.329 536.04,874.446 538.063,874.574 540.086,874.713 542.109,874.864 544.132,875.026 546.156,875.2 548.179,875.384 550.202,875.58 552.225,875.787 554.248,876.005 556.271,876.235 558.294,876.475 560.318,876.726 562.341,876.988 564.364,877.261 566.387,877.544 568.41,877.839 570.433,878.144 572.456,878.459 574.479,878.786 576.503,879.123 578.526,879.47 580.549,879.828 582.572,880.196 584.595,880.575 586.618,880.964 588.641,881.364 590.665,881.773 592.688,882.193 594.711,882.623 596.734,883.063 598.757,883.513 600.78,883.973 602.803,884.443 604.827,884.923 606.85,885.413 608.873,885.912 610.896,886.422 612.919,886.941 614.942,887.47 616.965,888.008 618.988,888.556 621.012,889.114 623.035,889.681 625.058,890.257 627.081,890.843 629.104,891.438 631.127,892.042 633.15,892.656 635.174,893.279 637.197,893.911 639.22,894.552 641.243,895.202 643.266,895.862 645.289,896.53 647.312,897.207 649.336,897.893 651.359,898.588 653.382,899.291 655.405,900.003 657.428,900.724 659.451,901.454 661.474,902.192 663.497,902.939 665.521,903.694 667.544,904.458 669.567,905.23 671.59,906.01 673.613,906.799 675.636,907.596 677.659,908.401 679.683,909.215 681.706,910.036 683.729,910.866 685.752,911.703 687.775,912.549 689.798,913.402 691.821,914.264 693.845,915.133 695.868,916.01 697.891,916.895 699.914,917.787 701.937,918.687 703.96,919.595 705.983,920.51 708.006,921.433 710.03,922.363 712.053,923.301 714.076,924.245 716.099,925.198 718.122,926.157 720.145,927.124 722.168,928.098 724.192,929.079 726.215,930.067 728.238,931.062 730.261,932.064 732.284,933.073 734.307,934.089 736.33,935.112 738.354,936.142 740.377,937.178 742.4,938.221 744.423,939.271 746.446,940.327 748.469,941.39 750.492,942.459 752.516,943.535 754.539,944.618 756.562,945.706 758.585,946.801 760.608,947.902 762.631,949.01 764.654,950.124 766.677,951.243 768.701,952.369 770.724,953.501 772.747,954.639 774.77,955.783 776.793,956.933 778.816,958.088 780.839,959.25 782.863,960.417 784.886,961.59 786.909,962.768 788.932,963.953 790.955,965.142 792.978,966.338 795.001,967.538 797.025,968.744 799.048,969.956 801.071,971.173 803.094,972.395 805.117,973.622 807.14,974.855 809.163,976.093 811.186,977.336 813.21,978.584 815.233,979.837 817.256,981.094 819.279,982.357 821.302,983.625 823.325,984.897 825.348,986.174 827.372,987.456 829.395,988.743 831.418,990.034 833.441,991.33 835.464,992.63 837.487,993.935 839.51,995.245 841.534,996.558 843.557,997.876 845.58,999.199 847.603,1000.53 849.626,1001.86 851.649,1003.19 853.672,1004.53 855.695,1005.87 857.719,1007.22 859.742,1008.57 861.765,1009.93 863.788,1011.29 865.811,1012.65 867.834,1014.01 869.857,1015.38 871.881,1016.76 873.904,1018.14 875.927,1019.52 877.95,1020.9 879.973,1022.29 881.996,1023.68 884.019,1025.08 886.043,1026.47 888.066,1027.88 890.089,1029.28 892.112,1030.69 894.135,1032.1 896.158,1033.52 898.181,1034.93 900.204,1036.35 902.228,1037.78 904.251,1039.2 906.274,1040.63 908.297,1042.06 910.32,1043.5 912.343,1044.94 914.366,1046.38 916.39,1047.82 918.413,1049.27 920.436,1050.71 922.459,1052.16 924.482,1053.62 926.505,1055.07 928.528,1056.53 930.552,1057.99 932.575,1059.45 934.598,1060.92 936.621,1062.39 938.644,1063.85 940.667,1065.33 942.69,1066.8 944.713,1068.27 946.737,1069.75 948.76,1071.23 950.783,1072.71 952.806,1074.19 954.829,1075.68 956.852,1077.16 958.875,1078.65 960.899,1080.14 962.922,1081.63 964.945,1083.12 966.968,1084.62 968.991,1086.11 971.014,1087.61 973.037,1089.11 975.061,1090.61 977.084,1092.11 979.107,1093.61 981.13,1095.11 983.153,1096.62 985.176,1098.12 987.199,1099.63 989.222,1101.13 991.246,1102.64 993.269,1104.15 995.292,1105.66 997.315,1107.17 999.338,1108.68 1001.36,1110.19 1003.38,1111.71 1005.41,1113.22 1007.43,1114.73 1009.45,1116.25 1011.48,1117.76 1013.5,1119.27 1015.52,1120.79 1017.55,1122.3 1019.57,1123.82 1021.59,1125.34 1023.62,1126.85 1025.64,1128.37 1027.66,1129.88 1029.69,1131.4 1031.71,1132.92 1033.73,1134.43 1035.75,1135.95 1037.78,1137.46 1039.8,1138.98 1041.82,1140.49 1043.85,1142.01 1045.87,1143.52 1047.89,1145.04 1049.92,1146.55 1051.94,1148.06 1053.96,1149.57 1055.99,1151.09 1058.01,1152.6 1060.03,1154.11 1062.06,1155.62 1064.08,1157.13 1066.1,1158.63 1068.12,1160.14 1070.15,1161.65 1072.17,1163.15 1074.19,1164.66 1076.22,1166.16 1078.24,1167.66 1080.26,1169.16 1082.29,1170.66 1084.31,1172.16 1086.33,1173.66 1088.36,1175.15 1090.38,1176.65 1092.4,1178.14 1094.43,1179.63 1096.45,1181.12 1098.47,1182.61 1100.5,1184.1 1102.52,1185.58 1104.54,1187.06 1106.56,1188.55 1108.59,1190.03 1110.61,1191.5 1112.63,1192.98 1114.66,1194.45 1116.68,1195.92 1118.7,1197.39 1120.73,1198.86 1122.75,1200.33 1124.77,1201.79 1126.8,1203.25 1128.82,1204.71 1130.84,1206.17 1132.87,1207.62 1134.89,1209.07 1136.91,1210.52 1138.93,1211.97 1140.96,1213.41 1142.98,1214.85 1145,1216.29 1147.03,1217.73 1149.05,1219.16 1151.07,1220.59 1153.1,1222.02 1155.12,1223.44 1157.14,1224.86 1159.17,1226.28 1161.19,1227.69 1163.21,1229.11 1165.24,1230.52 1167.26,1231.92 1169.28,1233.32 1171.3,1234.72 1173.33,1236.12 1175.35,1237.51 1177.37,1238.9 1179.4,1240.29 1181.42,1241.67 1183.44,1243.05 1185.47,1244.42 1187.49,1245.79 1189.51,1247.16 1191.54,1248.53 1193.56,1249.89 1195.58,1251.24 1197.61,1252.59 1199.63,1253.94 1201.65,1255.29 1203.67,1256.63 1205.7,1257.96 1207.72,1259.29 1209.74,1260.62 1211.77,1261.95 1213.79,1263.26 1215.81,1264.58 1217.84,1265.89 1219.86,1267.2 1221.88,1268.5 1223.91,1269.8 1225.93,1271.09 1227.95,1272.38 1229.98,1273.66 1232,1274.94 1234.02,1276.21 1236.05,1277.48 1238.07,1278.74 1240.09,1280 1242.11,1281.26 1244.14,1282.51 1246.16,1283.75 1248.18,1284.99 1250.21,1286.22 1252.23,1287.45 1254.25,1288.68 1256.28,1289.9 1258.3,1291.11 1260.32,1292.32 1262.35,1293.52 1264.37,1294.72 1266.39,1295.91 1268.42,1297.09 1270.44,1298.27 1272.46,1299.45 1274.48,1300.62 1276.51,1301.78 1278.53,1302.94 1280.55,1304.09 1282.58,1305.23 1284.6,1306.37 1286.62,1307.51 1288.65,1308.63 1290.67,1309.76 1292.69,1310.87 1294.72,1311.98 1296.74,1313.08 1298.76,1314.18 1300.79,1315.27 1302.81,1316.36 1304.83,1317.43 1306.85,1318.5 1308.88,1319.57 1310.9,1320.63 1312.92,1321.68 1314.95,1322.72 1316.97,1323.76 1318.99,1324.79 1321.02,1325.82 1323.04,1326.84 1325.06,1327.85 1327.09,1328.85 1329.11,1329.85 1331.13,1330.84 1333.16,1331.82 1335.18,1332.8 1337.2,1333.77 1339.23,1334.73 1341.25,1335.68 1343.27,1336.63 1345.29,1337.57 1347.32,1338.5 1349.34,1339.43 1351.36,1340.34 1353.39,1341.25 1355.41,1342.16 1357.43,1343.05 1359.46,1343.94 1361.48,1344.82 1363.5,1345.69 1365.53,1346.55 1367.55,1347.41 1369.57,1348.25 1371.6,1349.09 1373.62,1349.93 1375.64,1350.75 1377.66,1351.57 1379.69,1352.37 1381.71,1353.17 1383.73,1353.96 1385.76,1354.75 1387.78,1355.52 1389.8,1356.29 1391.83,1357.04 1393.85,1357.79 1395.87,1358.53 1397.9,1359.27 1399.92,1359.99 1401.94,1360.7 1403.97,1361.41 1405.99,1362.11 1408.01,1362.8 1410.03,1363.48 1412.06,1364.15 1414.08,1364.81 1416.1,1365.46 1418.13,1366.11 1420.15,1366.74 1422.17,1367.37 1424.2,1367.98 1426.22,1368.59 1428.24,1369.19 1430.27,1369.78 1432.29,1370.35 1434.31,1370.92 1436.34,1371.48 1438.36,1372.03 1440.38,1372.58 1442.41,1373.11 1444.43,1373.63 1446.45,1374.14 1448.47,1374.64 1450.5,1375.14 1452.52,1375.62 1454.54,1376.09 1456.57,1376.55 1458.59,1377.01 1460.61,1377.45 1462.64,1377.88 1464.66,1378.31 1466.68,1378.72 1468.71,1379.12 1470.73,1379.51 1472.75,1379.89 1474.78,1380.27 1476.8,1380.63 1478.82,1380.98 1480.84,1381.32 1482.87,1381.65 1484.89,1381.97 1486.91,1382.27 1488.94,1382.57 1490.96,1382.86 1492.98,1383.13 1495.01,1383.4 1497.03,1383.65 1499.05,1383.9 1501.08,1384.13 1503.1,1384.35 1505.12,1384.56 1507.15,1384.76 1509.17,1384.95 1511.19,1385.12 1513.21,1385.29 1515.24,1385.44 1517.26,1385.59 1519.28,1385.72 1521.31,1385.84 1523.33,1385.95 1525.35,1386.04 1527.38,1386.13 1529.4,1386.2 1531.42,1386.26 1533.45,1386.31 1535.47,1386.35 1537.49,1386.38 1539.52,1386.39 1541.54,1386.4 1543.56,1386.39 1545.59,1386.37 1547.61,1386.33 1549.63,1386.29 1551.65,1386.23 1553.68,1386.16 1555.7,1386.08 1557.72,1385.98 1559.75,1385.88 1561.77,1385.76 1563.79,1385.63 1565.82,1385.48 1567.84,1385.33 1569.86,1385.16 1571.89,1384.97 1573.91,1384.78 1575.93,1384.57 1577.96,1384.35 1579.98,1384.12 1582,1383.88 1584.02,1383.62 1586.05,1383.35 1588.07,1383.06 1590.09,1382.76 1592.12,1382.45 1594.14,1382.13 1596.16,1381.79 1598.19,1381.44 1600.21,1381.08 1602.23,1380.7 1604.26,1380.31 1606.28,1379.91 1608.3,1379.49 1610.33,1379.06 1612.35,1378.62 1614.37,1378.16 1616.39,1377.69 1618.42,1377.2 1620.44,1376.7 1622.46,1376.19 1624.49,1375.66 1626.51,1375.12 1628.53,1374.57 1630.56,1374 1632.58,1373.42 1634.6,1372.82 1636.63,1372.21 1638.65,1371.59 1640.67,1370.95 1642.7,1370.29 1644.72,1369.63 1646.74,1368.94 1648.77,1368.25 1650.79,1367.54 1652.81,1366.81 1654.83,1366.07 1656.86,1365.32 1658.88,1364.55 1660.9,1363.76 1662.93,1362.96 1664.95,1362.15 1666.97,1361.32 1669,1360.48 1671.02,1359.62 1673.04,1358.75 1675.07,1357.86 1677.09,1356.96 1679.11,1356.04 1681.14,1355.1 1683.16,1354.15 1685.18,1353.19 1687.2,1352.21 1689.23,1351.22 1691.25,1350.21 1693.27,1349.18 1695.3,1348.14 1697.32,1347.08 1699.34,1346.01 1701.37,1344.92 1703.39,1343.82 1705.41,1342.7 1707.44,1341.56 1709.46,1340.41 1711.48,1339.25 1713.51,1338.06 1715.53,1336.86 1717.55,1335.65 1719.57,1334.42 1721.6,1333.17 1723.62,1331.91 1725.64,1330.63 1727.67,1329.33 1729.69,1328.02 1731.71,1326.69 1733.74,1325.35 1735.76,1323.99 1737.78,1322.61 1739.81,1321.21 1741.83,1319.8 1743.85,1318.38 1745.88,1316.93 1747.9,1315.47 1749.92,1313.99 1751.95,1312.5 1753.97,1310.99 1755.99,1309.46 1758.01,1307.91 1760.04,1306.35 1762.06,1304.77 1764.08,1303.18 1766.11,1301.56 1768.13,1299.93 1770.15,1298.28 1772.18,1296.62 1774.2,1294.94 1776.22,1293.24 1778.25,1291.52 1780.27,1289.78 1782.29,1288.03 1784.32,1286.26 1786.34,1284.47 1788.36,1282.67 1790.38,1280.84 1792.41,1279 1794.43,1277.14 1796.45,1275.27 1798.48,1273.37 1800.5,1271.46 1802.52,1269.53 1804.55,1267.58 1806.57,1265.62 1808.59,1263.63 1810.62,1261.63 1812.64,1259.61 1814.66,1257.57 1816.69,1255.51 1818.71,1253.43 1820.73,1251.34 1822.75,1249.23 1824.78,1247.09 1826.8,1244.94 1828.82,1242.78 1830.85,1240.59 1832.87,1238.38 1834.89,1236.16 1836.92,1233.91 1838.94,1231.65 1840.96,1229.37 1842.99,1227.07 1845.01,1224.75 1847.03,1222.41 1849.06,1220.05 1851.08,1217.68 1853.1,1215.28 1855.12,1212.87 1857.15,1210.43 1859.17,1207.98 1861.19,1205.51 1863.22,1203.01 1865.24,1200.5 1867.26,1197.97 1869.29,1195.42 1871.31,1192.85 1873.33,1190.26 1875.36,1187.65 1877.38,1185.02 1879.4,1182.37 1881.43,1179.7 1883.45,1177.01 1885.47,1174.3 1887.5,1171.57 1889.52,1168.82 1891.54,1166.05 1893.56,1163.26 1895.59,1160.45 1897.61,1157.62 1899.63,1154.77 1901.66,1151.9 1903.68,1149.01 1905.7,1146.1 1907.73,1143.17 1909.75,1140.22 1911.77,1137.25 1913.8,1134.25 1915.82,1131.24 1917.84,1128.2 1919.87,1125.15 1921.89,1122.07 1923.91,1118.98 1925.93,1115.86 1927.96,1112.72 1929.98,1109.56 1932,1106.38 1934.03,1103.18 1936.05,1099.95 1938.07,1096.71 1940.1,1093.44 1942.12,1090.16 1944.14,1086.85 1946.17,1083.52 1948.19,1080.17 1950.21,1076.8 1952.24,1073.4 1954.26,1069.99 1956.28,1066.55 1958.3,1063.09 1960.33,1059.61 1962.35,1056.11 1964.37,1052.59 1966.4,1049.04 1968.42,1045.48 1970.44,1041.89 1972.47,1038.28 1974.49,1034.64 1976.51,1030.99 1978.54,1027.31 1980.56,1023.61 1982.58,1019.89 1984.61,1016.15 1986.63,1012.38 1988.65,1008.59 1990.68,1004.78 1992.7,1000.95 1994.72,997.093 1996.74,993.214 1998.77,989.313 2000.79,985.39 2002.81,981.444 2004.84,977.475 2006.86,973.483 2008.88,969.469 2010.91,965.431 2012.93,961.371 2014.95,957.288 2016.98,953.182 2019,949.053 2021.02,944.9 2023.05,940.725 2025.07,936.526 2027.09,932.304 2029.11,928.059 2031.14,923.791 2033.16,919.499 2035.18,915.183 2037.21,910.845 2039.23,906.482 2041.25,902.096 2043.28,897.687 2045.3,893.254 2047.32,888.797 2049.35,884.316 2051.37,879.812 2053.39,875.284 2055.42,870.731 2057.44,866.155 2059.46,861.555 2061.48,856.931 2063.51,852.283 2065.53,847.61 2067.55,842.914 2069.58,838.193 2071.6,833.448 2073.62,828.679 2075.65,823.885 2077.67,819.067 2079.69,814.224 2081.72,809.357 2083.74,804.465 2085.76,799.549 2087.79,794.608 2089.81,789.643 2091.83,784.652 2093.86,779.637 2095.88,774.597 2097.9,769.532 2099.92,764.442 2101.95,759.328 2103.97,754.188 2105.99,749.023 2108.02,743.833 2110.04,738.618 2112.06,733.377 2114.09,728.111 2116.11,722.82 2118.13,717.504 2120.16,712.162 2122.18,706.795 2124.2,701.402 2126.23,695.984 2128.25,690.54 2130.27,685.071 2132.29,679.575 2134.32,674.055 2136.34,668.508 2138.36,662.935 2140.39,657.337 2142.41,651.713 2144.43,646.062 2146.46,640.386 2148.48,634.683 2150.5,628.955 2152.53,623.2 2154.55,617.419 2156.57,611.612 2158.6,605.779 2160.62,599.919 2162.64,594.033 2164.66,588.12 2166.69,582.181 2168.71,576.215 2170.73,570.223 2172.76,564.204 2174.78,558.159 2176.8,552.087 2178.83,545.988 2180.85,539.862 2182.87,533.709 2184.9,527.529 2186.92,521.323 2188.94,515.089 2190.97,508.828 2192.99,502.541 2195.01,496.226 2197.04,489.884 2199.06,483.514 2201.08,477.118 2203.1,470.694 2205.13,464.242 2207.15,457.763 2209.17,451.257 2211.2,444.723 2213.22,438.162 2215.24,431.573 2217.27,424.956 2219.29,418.312 2221.31,411.639 2223.34,404.939 2225.36,398.212 2227.38,391.456 2229.41,384.672 2231.43,377.861 2233.45,371.021 2235.47,364.153 2237.5,357.257 2239.52,350.333 2241.54,343.38 2243.57,336.4 2245.59,329.391 2247.61,322.353 2249.64,315.288 2251.66,308.193 2253.68,301.07 2255.71,293.919 2257.73,286.739 2259.75,279.53 2261.78,272.293 2263.8,265.027 2265.82,257.732 2267.84,250.408 2269.87,243.056 2271.89,235.674 2273.91,228.264 2275.94,220.824 2277.96,213.355 2279.98,205.858 2282.01,198.331 2284.03,190.774 2286.05,183.189 2288.08,175.574 2290.1,167.93 2292.12,160.256 \"/>\n",
       "<path clip-path=\"url(#clip332)\" d=\"M339.222 898.904 L339.222 930.904 L371.222 930.904 L371.222 898.904 L339.222 898.904 Z\" fill=\"#c271d2\" fill-rule=\"evenodd\" fill-opacity=\"1\" stroke=\"#000000\" stroke-opacity=\"1\" stroke-width=\"3.2\"/>\n",
       "<path clip-path=\"url(#clip332)\" d=\"M928.713 1052.27 L928.713 1084.27 L960.713 1084.27 L960.713 1052.27 L928.713 1052.27 Z\" fill=\"#c271d2\" fill-rule=\"evenodd\" fill-opacity=\"1\" stroke=\"#000000\" stroke-opacity=\"1\" stroke-width=\"3.2\"/>\n",
       "<path clip-path=\"url(#clip332)\" d=\"M1433.99 1359.01 L1433.99 1391.01 L1465.99 1391.01 L1465.99 1359.01 L1433.99 1359.01 Z\" fill=\"#c271d2\" fill-rule=\"evenodd\" fill-opacity=\"1\" stroke=\"#000000\" stroke-opacity=\"1\" stroke-width=\"3.2\"/>\n",
       "<path clip-path=\"url(#clip332)\" d=\"M1939.27 1052.27 L1939.27 1084.27 L1971.27 1084.27 L1971.27 1052.27 L1939.27 1052.27 Z\" fill=\"#c271d2\" fill-rule=\"evenodd\" fill-opacity=\"1\" stroke=\"#000000\" stroke-opacity=\"1\" stroke-width=\"3.2\"/>\n",
       "<path clip-path=\"url(#clip330)\" d=\"M281.788 322.316 L793.525 322.316 L793.525 166.796 L281.788 166.796  Z\" fill=\"#ffffff\" fill-rule=\"evenodd\" fill-opacity=\"1\"/>\n",
       "<polyline clip-path=\"url(#clip330)\" style=\"stroke:#000000; stroke-linecap:round; stroke-linejoin:round; stroke-width:4; stroke-opacity:1; fill:none\" points=\"281.788,322.316 793.525,322.316 793.525,166.796 281.788,166.796 281.788,322.316 \"/>\n",
       "<circle clip-path=\"url(#clip330)\" cx=\"377.005\" cy=\"218.636\" r=\"20.48\" fill=\"#e26f46\" fill-rule=\"evenodd\" fill-opacity=\"1\" stroke=\"#000000\" stroke-opacity=\"1\" stroke-width=\"4.55111\"/>\n",
       "<path clip-path=\"url(#clip330)\" d=\"M476.504 232.027 L476.504 245.777 L472.222 245.777 L472.222 209.99 L476.504 209.99 L476.504 213.925 Q477.847 211.61 479.884 210.499 Q481.944 209.365 484.791 209.365 Q489.514 209.365 492.453 213.115 Q495.416 216.865 495.416 222.976 Q495.416 229.087 492.453 232.837 Q489.514 236.587 484.791 236.587 Q481.944 236.587 479.884 235.476 Q477.847 234.342 476.504 232.027 M490.995 222.976 Q490.995 218.277 489.051 215.615 Q487.129 212.93 483.75 212.93 Q480.37 212.93 478.426 215.615 Q476.504 218.277 476.504 222.976 Q476.504 227.675 478.426 230.36 Q480.37 233.022 483.75 233.022 Q487.129 233.022 489.051 230.36 Q490.995 227.675 490.995 222.976 Z\" fill=\"#000000\" fill-rule=\"nonzero\" fill-opacity=\"1\" /><path clip-path=\"url(#clip330)\" d=\"M512.523 212.976 Q509.097 212.976 507.106 215.661 Q505.115 218.323 505.115 222.976 Q505.115 227.629 507.083 230.314 Q509.074 232.976 512.523 232.976 Q515.926 232.976 517.916 230.291 Q519.907 227.606 519.907 222.976 Q519.907 218.37 517.916 215.684 Q515.926 212.976 512.523 212.976 M512.523 209.365 Q518.078 209.365 521.25 212.976 Q524.421 216.587 524.421 222.976 Q524.421 229.342 521.25 232.976 Q518.078 236.587 512.523 236.587 Q506.944 236.587 503.773 232.976 Q500.625 229.342 500.625 222.976 Q500.625 216.587 503.773 212.976 Q506.944 209.365 512.523 209.365 Z\" fill=\"#000000\" fill-rule=\"nonzero\" fill-opacity=\"1\" /><path clip-path=\"url(#clip330)\" d=\"M531.481 199.897 L535.74 199.897 L535.74 235.916 L531.481 235.916 L531.481 199.897 Z\" fill=\"#000000\" fill-rule=\"nonzero\" fill-opacity=\"1\" /><path clip-path=\"url(#clip330)\" d=\"M555.439 238.323 Q553.634 242.953 551.921 244.365 Q550.208 245.777 547.337 245.777 L543.935 245.777 L543.935 242.212 L546.435 242.212 Q548.194 242.212 549.166 241.379 Q550.138 240.545 551.319 237.443 L552.083 235.499 L541.597 209.99 L546.111 209.99 L554.212 230.268 L562.314 209.99 L566.828 209.99 L555.439 238.323 Z\" fill=\"#000000\" fill-rule=\"nonzero\" fill-opacity=\"1\" /><path clip-path=\"url(#clip330)\" d=\"M594.258 220.268 L594.258 235.916 L589.999 235.916 L589.999 220.407 Q589.999 216.726 588.564 214.897 Q587.129 213.069 584.258 213.069 Q580.809 213.069 578.819 215.268 Q576.828 217.467 576.828 221.263 L576.828 235.916 L572.546 235.916 L572.546 209.99 L576.828 209.99 L576.828 214.018 Q578.356 211.68 580.416 210.522 Q582.499 209.365 585.208 209.365 Q589.675 209.365 591.967 212.143 Q594.258 214.897 594.258 220.268 Z\" fill=\"#000000\" fill-rule=\"nonzero\" fill-opacity=\"1\" /><path clip-path=\"url(#clip330)\" d=\"M612.8 212.976 Q609.374 212.976 607.383 215.661 Q605.393 218.323 605.393 222.976 Q605.393 227.629 607.36 230.314 Q609.351 232.976 612.8 232.976 Q616.203 232.976 618.194 230.291 Q620.184 227.606 620.184 222.976 Q620.184 218.37 618.194 215.684 Q616.203 212.976 612.8 212.976 M612.8 209.365 Q618.356 209.365 621.527 212.976 Q624.698 216.587 624.698 222.976 Q624.698 229.342 621.527 232.976 Q618.356 236.587 612.8 236.587 Q607.221 236.587 604.05 232.976 Q600.902 229.342 600.902 222.976 Q600.902 216.587 604.05 212.976 Q607.221 209.365 612.8 209.365 Z\" fill=\"#000000\" fill-rule=\"nonzero\" fill-opacity=\"1\" /><path clip-path=\"url(#clip330)\" d=\"M651.943 214.967 Q653.541 212.096 655.763 210.731 Q657.985 209.365 660.994 209.365 Q665.045 209.365 667.244 212.212 Q669.443 215.036 669.443 220.268 L669.443 235.916 L665.161 235.916 L665.161 220.407 Q665.161 216.68 663.841 214.874 Q662.522 213.069 659.814 213.069 Q656.503 213.069 654.582 215.268 Q652.661 217.467 652.661 221.263 L652.661 235.916 L648.379 235.916 L648.379 220.407 Q648.379 216.657 647.059 214.874 Q645.74 213.069 642.985 213.069 Q639.721 213.069 637.8 215.291 Q635.879 217.49 635.879 221.263 L635.879 235.916 L631.596 235.916 L631.596 209.99 L635.879 209.99 L635.879 214.018 Q637.337 211.633 639.374 210.499 Q641.411 209.365 644.212 209.365 Q647.036 209.365 649.004 210.8 Q650.994 212.235 651.943 214.967 Z\" fill=\"#000000\" fill-rule=\"nonzero\" fill-opacity=\"1\" /><path clip-path=\"url(#clip330)\" d=\"M677.939 209.99 L682.198 209.99 L682.198 235.916 L677.939 235.916 L677.939 209.99 M677.939 199.897 L682.198 199.897 L682.198 205.291 L677.939 205.291 L677.939 199.897 Z\" fill=\"#000000\" fill-rule=\"nonzero\" fill-opacity=\"1\" /><path clip-path=\"url(#clip330)\" d=\"M702.892 222.883 Q697.73 222.883 695.739 224.064 Q693.749 225.244 693.749 228.092 Q693.749 230.36 695.23 231.703 Q696.735 233.022 699.304 233.022 Q702.846 233.022 704.975 230.522 Q707.128 227.999 707.128 223.832 L707.128 222.883 L702.892 222.883 M711.387 221.124 L711.387 235.916 L707.128 235.916 L707.128 231.981 Q705.67 234.342 703.494 235.476 Q701.318 236.587 698.17 236.587 Q694.188 236.587 691.827 234.365 Q689.489 232.119 689.489 228.369 Q689.489 223.994 692.406 221.772 Q695.346 219.55 701.156 219.55 L707.128 219.55 L707.128 219.133 Q707.128 216.194 705.184 214.596 Q703.262 212.976 699.767 212.976 Q697.545 212.976 695.438 213.508 Q693.332 214.041 691.388 215.106 L691.388 211.17 Q693.726 210.268 695.925 209.828 Q698.124 209.365 700.207 209.365 Q705.832 209.365 708.61 212.282 Q711.387 215.198 711.387 221.124 Z\" fill=\"#000000\" fill-rule=\"nonzero\" fill-opacity=\"1\" /><path clip-path=\"url(#clip330)\" d=\"M720.161 199.897 L724.42 199.897 L724.42 235.916 L720.161 235.916 L720.161 199.897 Z\" fill=\"#000000\" fill-rule=\"nonzero\" fill-opacity=\"1\" /><path clip-path=\"url(#clip330)\" d=\"M749.813 231.981 L757.452 231.981 L757.452 205.615 L749.142 207.282 L749.142 203.022 L757.406 201.356 L762.082 201.356 L762.082 231.981 L769.72 231.981 L769.72 235.916 L749.813 235.916 L749.813 231.981 Z\" fill=\"#000000\" fill-rule=\"nonzero\" fill-opacity=\"1\" /><path clip-path=\"url(#clip330)\" d=\"M354.25 247.72 L354.25 293.231 L399.761 293.231 L399.761 247.72 L354.25 247.72 Z\" fill=\"#c271d2\" fill-rule=\"evenodd\" fill-opacity=\"1\" stroke=\"#000000\" stroke-opacity=\"1\" stroke-width=\"4.55111\"/>\n",
       "<path clip-path=\"url(#clip330)\" d=\"M476.504 283.867 L476.504 297.617 L472.222 297.617 L472.222 261.83 L476.504 261.83 L476.504 265.765 Q477.847 263.45 479.884 262.339 Q481.944 261.205 484.791 261.205 Q489.514 261.205 492.453 264.955 Q495.416 268.705 495.416 274.816 Q495.416 280.927 492.453 284.677 Q489.514 288.427 484.791 288.427 Q481.944 288.427 479.884 287.316 Q477.847 286.182 476.504 283.867 M490.995 274.816 Q490.995 270.117 489.051 267.455 Q487.129 264.77 483.75 264.77 Q480.37 264.77 478.426 267.455 Q476.504 270.117 476.504 274.816 Q476.504 279.515 478.426 282.2 Q480.37 284.862 483.75 284.862 Q487.129 284.862 489.051 282.2 Q490.995 279.515 490.995 274.816 Z\" fill=\"#000000\" fill-rule=\"nonzero\" fill-opacity=\"1\" /><path clip-path=\"url(#clip330)\" d=\"M512.523 264.816 Q509.097 264.816 507.106 267.501 Q505.115 270.163 505.115 274.816 Q505.115 279.469 507.083 282.154 Q509.074 284.816 512.523 284.816 Q515.926 284.816 517.916 282.131 Q519.907 279.446 519.907 274.816 Q519.907 270.21 517.916 267.524 Q515.926 264.816 512.523 264.816 M512.523 261.205 Q518.078 261.205 521.25 264.816 Q524.421 268.427 524.421 274.816 Q524.421 281.182 521.25 284.816 Q518.078 288.427 512.523 288.427 Q506.944 288.427 503.773 284.816 Q500.625 281.182 500.625 274.816 Q500.625 268.427 503.773 264.816 Q506.944 261.205 512.523 261.205 Z\" fill=\"#000000\" fill-rule=\"nonzero\" fill-opacity=\"1\" /><path clip-path=\"url(#clip330)\" d=\"M531.481 251.737 L535.74 251.737 L535.74 287.756 L531.481 287.756 L531.481 251.737 Z\" fill=\"#000000\" fill-rule=\"nonzero\" fill-opacity=\"1\" /><path clip-path=\"url(#clip330)\" d=\"M555.439 290.163 Q553.634 294.793 551.921 296.205 Q550.208 297.617 547.337 297.617 L543.935 297.617 L543.935 294.052 L546.435 294.052 Q548.194 294.052 549.166 293.219 Q550.138 292.385 551.319 289.283 L552.083 287.339 L541.597 261.83 L546.111 261.83 L554.212 282.108 L562.314 261.83 L566.828 261.83 L555.439 290.163 Z\" fill=\"#000000\" fill-rule=\"nonzero\" fill-opacity=\"1\" /><path clip-path=\"url(#clip330)\" d=\"M594.258 272.108 L594.258 287.756 L589.999 287.756 L589.999 272.247 Q589.999 268.566 588.564 266.737 Q587.129 264.909 584.258 264.909 Q580.809 264.909 578.819 267.108 Q576.828 269.307 576.828 273.103 L576.828 287.756 L572.546 287.756 L572.546 261.83 L576.828 261.83 L576.828 265.858 Q578.356 263.52 580.416 262.362 Q582.499 261.205 585.208 261.205 Q589.675 261.205 591.967 263.983 Q594.258 266.737 594.258 272.108 Z\" fill=\"#000000\" fill-rule=\"nonzero\" fill-opacity=\"1\" /><path clip-path=\"url(#clip330)\" d=\"M612.8 264.816 Q609.374 264.816 607.383 267.501 Q605.393 270.163 605.393 274.816 Q605.393 279.469 607.36 282.154 Q609.351 284.816 612.8 284.816 Q616.203 284.816 618.194 282.131 Q620.184 279.446 620.184 274.816 Q620.184 270.21 618.194 267.524 Q616.203 264.816 612.8 264.816 M612.8 261.205 Q618.356 261.205 621.527 264.816 Q624.698 268.427 624.698 274.816 Q624.698 281.182 621.527 284.816 Q618.356 288.427 612.8 288.427 Q607.221 288.427 604.05 284.816 Q600.902 281.182 600.902 274.816 Q600.902 268.427 604.05 264.816 Q607.221 261.205 612.8 261.205 Z\" fill=\"#000000\" fill-rule=\"nonzero\" fill-opacity=\"1\" /><path clip-path=\"url(#clip330)\" d=\"M651.943 266.807 Q653.541 263.936 655.763 262.571 Q657.985 261.205 660.994 261.205 Q665.045 261.205 667.244 264.052 Q669.443 266.876 669.443 272.108 L669.443 287.756 L665.161 287.756 L665.161 272.247 Q665.161 268.52 663.841 266.714 Q662.522 264.909 659.814 264.909 Q656.503 264.909 654.582 267.108 Q652.661 269.307 652.661 273.103 L652.661 287.756 L648.379 287.756 L648.379 272.247 Q648.379 268.497 647.059 266.714 Q645.74 264.909 642.985 264.909 Q639.721 264.909 637.8 267.131 Q635.879 269.33 635.879 273.103 L635.879 287.756 L631.596 287.756 L631.596 261.83 L635.879 261.83 L635.879 265.858 Q637.337 263.473 639.374 262.339 Q641.411 261.205 644.212 261.205 Q647.036 261.205 649.004 262.64 Q650.994 264.075 651.943 266.807 Z\" fill=\"#000000\" fill-rule=\"nonzero\" fill-opacity=\"1\" /><path clip-path=\"url(#clip330)\" d=\"M677.939 261.83 L682.198 261.83 L682.198 287.756 L677.939 287.756 L677.939 261.83 M677.939 251.737 L682.198 251.737 L682.198 257.131 L677.939 257.131 L677.939 251.737 Z\" fill=\"#000000\" fill-rule=\"nonzero\" fill-opacity=\"1\" /><path clip-path=\"url(#clip330)\" d=\"M702.892 274.723 Q697.73 274.723 695.739 275.904 Q693.749 277.084 693.749 279.932 Q693.749 282.2 695.23 283.543 Q696.735 284.862 699.304 284.862 Q702.846 284.862 704.975 282.362 Q707.128 279.839 707.128 275.672 L707.128 274.723 L702.892 274.723 M711.387 272.964 L711.387 287.756 L707.128 287.756 L707.128 283.821 Q705.67 286.182 703.494 287.316 Q701.318 288.427 698.17 288.427 Q694.188 288.427 691.827 286.205 Q689.489 283.959 689.489 280.209 Q689.489 275.834 692.406 273.612 Q695.346 271.39 701.156 271.39 L707.128 271.39 L707.128 270.973 Q707.128 268.034 705.184 266.436 Q703.262 264.816 699.767 264.816 Q697.545 264.816 695.438 265.348 Q693.332 265.881 691.388 266.946 L691.388 263.01 Q693.726 262.108 695.925 261.668 Q698.124 261.205 700.207 261.205 Q705.832 261.205 708.61 264.122 Q711.387 267.038 711.387 272.964 Z\" fill=\"#000000\" fill-rule=\"nonzero\" fill-opacity=\"1\" /><path clip-path=\"url(#clip330)\" d=\"M720.161 251.737 L724.42 251.737 L724.42 287.756 L720.161 287.756 L720.161 251.737 Z\" fill=\"#000000\" fill-rule=\"nonzero\" fill-opacity=\"1\" /><path clip-path=\"url(#clip330)\" d=\"M753.031 283.821 L769.35 283.821 L769.35 287.756 L747.406 287.756 L747.406 283.821 Q750.068 281.066 754.651 276.436 Q759.258 271.784 760.438 270.441 Q762.683 267.918 763.563 266.182 Q764.466 264.423 764.466 262.733 Q764.466 259.978 762.521 258.242 Q760.6 256.506 757.498 256.506 Q755.299 256.506 752.846 257.27 Q750.415 258.034 747.637 259.585 L747.637 254.862 Q750.461 253.728 752.915 253.149 Q755.369 252.571 757.406 252.571 Q762.776 252.571 765.97 255.256 Q769.165 257.941 769.165 262.432 Q769.165 264.561 768.355 266.483 Q767.568 268.381 765.461 270.973 Q764.883 271.645 761.781 274.862 Q758.679 278.057 753.031 283.821 Z\" fill=\"#000000\" fill-rule=\"nonzero\" fill-opacity=\"1\" /></svg>\n"
      ]
     },
     "metadata": {},
     "output_type": "display_data"
    }
   ],
   "source": [
    "using Plots\n",
    "\n",
    "xvalues = linspace(-1.2, 1.2, 1000)\n",
    "yvalues = c[1] .+ c[2]*xvalues + c[3]*xvalues.^2 + c[4]*xvalues.^3\n",
    "b2 = [1, 0, -2, 0]\n",
    "cc = A\\b2\n",
    "y2values = cc[1] .+ cc[2]*xvalues + cc[3]*xvalues.^2 + cc[4]*xvalues.^3\n",
    "\n",
    "plot(xvalues, yvalues, title=\"polynomial interpolation\", label=\"\")\n",
    "scatter!(x, b1, label = \"polynomial 1\")\n",
    "plot!(xvalues, y2values, label=\"\")\n",
    "scatter!(x, b2, label=\"polynomial 2\", marker= :square, xlabel=\"x values\", ylabel=\"y values\")\n"
   ]
  },
  {
   "cell_type": "markdown",
   "metadata": {},
   "source": [
    "# Pseudo-inverse\n",
    "The pseudo inverse of a matrix A is obtained with **inv(A)**\n",
    "\n",
    "We compute the pseudo inverse using the formula $ A^† = R^{-1}Q^T$\n",
    "- where A = QR is the QR factorization of A\n",
    "- The columns of $ A^† $ is computed by back substitution algorithm of $ Rx = Q^T $\n",
    "\n"
   ]
  },
  {
   "cell_type": "code",
   "execution_count": 91,
   "metadata": {},
   "outputs": [
    {
     "data": {
      "text/plain": [
       "3×2 Matrix{Int64}:\n",
       " -3  -4\n",
       "  4   6\n",
       "  1   1"
      ]
     },
     "metadata": {},
     "output_type": "display_data"
    }
   ],
   "source": [
    "A = [-3 -4;\n",
    "      4  6;\n",
    "      1  1]"
   ]
  },
  {
   "cell_type": "code",
   "execution_count": 92,
   "metadata": {},
   "outputs": [
    {
     "data": {
      "text/plain": [
       "2×3 Matrix{Float64}:\n",
       " -1.22222   -1.11111    1.77778\n",
       "  0.777778   0.888889  -1.22222"
      ]
     },
     "metadata": {},
     "output_type": "display_data"
    }
   ],
   "source": [
    "B = pinv(A)"
   ]
  },
  {
   "cell_type": "code",
   "execution_count": 96,
   "metadata": {},
   "outputs": [
    {
     "data": {
      "text/plain": [
       "1.5700924586837751e-15"
      ]
     },
     "metadata": {},
     "output_type": "display_data"
    }
   ],
   "source": [
    "norm(B*A-eye(2))"
   ]
  },
  {
   "cell_type": "code",
   "execution_count": 97,
   "metadata": {},
   "outputs": [
    {
     "data": {
      "text/plain": [
       "3×2 Matrix{Float64}:\n",
       " -0.588348  -0.457604\n",
       "  0.784465  -0.522976\n",
       "  0.196116   0.719092"
      ]
     },
     "metadata": {},
     "output_type": "display_data"
    }
   ],
   "source": [
    "Q, R = qr(A)\n",
    "Q = Matrix(Q)"
   ]
  },
  {
   "cell_type": "code",
   "execution_count": 98,
   "metadata": {},
   "outputs": [
    {
     "data": {
      "text/plain": [
       "2×2 Matrix{Float64}:\n",
       " 5.09902   7.2563\n",
       " 0.0      -0.588348"
      ]
     },
     "metadata": {},
     "output_type": "display_data"
    }
   ],
   "source": [
    "R"
   ]
  },
  {
   "cell_type": "code",
   "execution_count": 101,
   "metadata": {},
   "outputs": [
    {
     "data": {
      "text/plain": [
       "2×3 Matrix{Float64}:\n",
       " -1.22222   -1.11111    1.77778\n",
       "  0.777778   0.888889  -1.22222"
      ]
     },
     "metadata": {},
     "output_type": "display_data"
    }
   ],
   "source": [
    "Adagger = R \\ Q'"
   ]
  },
  {
   "cell_type": "code",
   "execution_count": 102,
   "metadata": {},
   "outputs": [
    {
     "data": {
      "text/plain": [
       "2×3 Matrix{Float64}:\n",
       " -1.22222   -1.11111    1.77778\n",
       "  0.777778   0.888889  -1.22222"
      ]
     },
     "metadata": {},
     "output_type": "display_data"
    }
   ],
   "source": [
    "pinv(A)"
   ]
  },
  {
   "cell_type": "code",
   "execution_count": 103,
   "metadata": {},
   "outputs": [
    {
     "data": {
      "text/plain": [
       "6.137434987378955e-15"
      ]
     },
     "metadata": {},
     "output_type": "display_data"
    }
   ],
   "source": [
    "norm(Adagger*A - eye(2))"
   ]
  }
 ],
 "metadata": {
  "kernelspec": {
   "display_name": "Julia 1.10.4",
   "language": "julia",
   "name": "julia-1.10"
  },
  "language_info": {
   "file_extension": ".jl",
   "mimetype": "application/julia",
   "name": "julia",
   "version": "1.10.4"
  }
 },
 "nbformat": 4,
 "nbformat_minor": 2
}
